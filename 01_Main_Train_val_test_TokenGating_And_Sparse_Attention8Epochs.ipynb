{
  "nbformat": 4,
  "nbformat_minor": 0,
  "metadata": {
    "colab": {
      "provenance": [],
      "machine_shape": "hm",
      "gpuType": "A100"
    },
    "kernelspec": {
      "name": "python3",
      "display_name": "Python 3"
    },
    "language_info": {
      "name": "python"
    },
    "accelerator": "GPU"
  },
  "cells": [
    {
      "cell_type": "code",
      "execution_count": null,
      "metadata": {
        "colab": {
          "base_uri": "https://localhost:8080/"
        },
        "id": "thKbgo5ZSwIB",
        "outputId": "049cbdd5-063f-4c98-83f0-c80ea698be61"
      },
      "outputs": [
        {
          "output_type": "stream",
          "name": "stdout",
          "text": [
            "Requirement already satisfied: transformers in /usr/local/lib/python3.11/dist-packages (4.51.3)\n",
            "Requirement already satisfied: filelock in /usr/local/lib/python3.11/dist-packages (from transformers) (3.18.0)\n",
            "Requirement already satisfied: huggingface-hub<1.0,>=0.30.0 in /usr/local/lib/python3.11/dist-packages (from transformers) (0.30.2)\n",
            "Requirement already satisfied: numpy>=1.17 in /usr/local/lib/python3.11/dist-packages (from transformers) (2.0.2)\n",
            "Requirement already satisfied: packaging>=20.0 in /usr/local/lib/python3.11/dist-packages (from transformers) (24.2)\n",
            "Requirement already satisfied: pyyaml>=5.1 in /usr/local/lib/python3.11/dist-packages (from transformers) (6.0.2)\n",
            "Requirement already satisfied: regex!=2019.12.17 in /usr/local/lib/python3.11/dist-packages (from transformers) (2024.11.6)\n",
            "Requirement already satisfied: requests in /usr/local/lib/python3.11/dist-packages (from transformers) (2.32.3)\n",
            "Requirement already satisfied: tokenizers<0.22,>=0.21 in /usr/local/lib/python3.11/dist-packages (from transformers) (0.21.1)\n",
            "Requirement already satisfied: safetensors>=0.4.3 in /usr/local/lib/python3.11/dist-packages (from transformers) (0.5.3)\n",
            "Requirement already satisfied: tqdm>=4.27 in /usr/local/lib/python3.11/dist-packages (from transformers) (4.67.1)\n",
            "Requirement already satisfied: fsspec>=2023.5.0 in /usr/local/lib/python3.11/dist-packages (from huggingface-hub<1.0,>=0.30.0->transformers) (2024.12.0)\n",
            "Requirement already satisfied: typing-extensions>=3.7.4.3 in /usr/local/lib/python3.11/dist-packages (from huggingface-hub<1.0,>=0.30.0->transformers) (4.13.2)\n",
            "Requirement already satisfied: charset-normalizer<4,>=2 in /usr/local/lib/python3.11/dist-packages (from requests->transformers) (3.4.1)\n",
            "Requirement already satisfied: idna<4,>=2.5 in /usr/local/lib/python3.11/dist-packages (from requests->transformers) (3.10)\n",
            "Requirement already satisfied: urllib3<3,>=1.21.1 in /usr/local/lib/python3.11/dist-packages (from requests->transformers) (2.3.0)\n",
            "Requirement already satisfied: certifi>=2017.4.17 in /usr/local/lib/python3.11/dist-packages (from requests->transformers) (2025.1.31)\n",
            "Requirement already satisfied: datasets in /usr/local/lib/python3.11/dist-packages (3.5.0)\n",
            "Requirement already satisfied: filelock in /usr/local/lib/python3.11/dist-packages (from datasets) (3.18.0)\n",
            "Requirement already satisfied: numpy>=1.17 in /usr/local/lib/python3.11/dist-packages (from datasets) (2.0.2)\n",
            "Requirement already satisfied: pyarrow>=15.0.0 in /usr/local/lib/python3.11/dist-packages (from datasets) (18.1.0)\n",
            "Requirement already satisfied: dill<0.3.9,>=0.3.0 in /usr/local/lib/python3.11/dist-packages (from datasets) (0.3.8)\n",
            "Requirement already satisfied: pandas in /usr/local/lib/python3.11/dist-packages (from datasets) (2.2.2)\n",
            "Requirement already satisfied: requests>=2.32.2 in /usr/local/lib/python3.11/dist-packages (from datasets) (2.32.3)\n",
            "Requirement already satisfied: tqdm>=4.66.3 in /usr/local/lib/python3.11/dist-packages (from datasets) (4.67.1)\n",
            "Requirement already satisfied: xxhash in /usr/local/lib/python3.11/dist-packages (from datasets) (3.5.0)\n",
            "Requirement already satisfied: multiprocess<0.70.17 in /usr/local/lib/python3.11/dist-packages (from datasets) (0.70.16)\n",
            "Requirement already satisfied: fsspec<=2024.12.0,>=2023.1.0 in /usr/local/lib/python3.11/dist-packages (from fsspec[http]<=2024.12.0,>=2023.1.0->datasets) (2024.12.0)\n",
            "Requirement already satisfied: aiohttp in /usr/local/lib/python3.11/dist-packages (from datasets) (3.11.15)\n",
            "Requirement already satisfied: huggingface-hub>=0.24.0 in /usr/local/lib/python3.11/dist-packages (from datasets) (0.30.2)\n",
            "Requirement already satisfied: packaging in /usr/local/lib/python3.11/dist-packages (from datasets) (24.2)\n",
            "Requirement already satisfied: pyyaml>=5.1 in /usr/local/lib/python3.11/dist-packages (from datasets) (6.0.2)\n",
            "Requirement already satisfied: aiohappyeyeballs>=2.3.0 in /usr/local/lib/python3.11/dist-packages (from aiohttp->datasets) (2.6.1)\n",
            "Requirement already satisfied: aiosignal>=1.1.2 in /usr/local/lib/python3.11/dist-packages (from aiohttp->datasets) (1.3.2)\n",
            "Requirement already satisfied: attrs>=17.3.0 in /usr/local/lib/python3.11/dist-packages (from aiohttp->datasets) (25.3.0)\n",
            "Requirement already satisfied: frozenlist>=1.1.1 in /usr/local/lib/python3.11/dist-packages (from aiohttp->datasets) (1.6.0)\n",
            "Requirement already satisfied: multidict<7.0,>=4.5 in /usr/local/lib/python3.11/dist-packages (from aiohttp->datasets) (6.4.3)\n",
            "Requirement already satisfied: propcache>=0.2.0 in /usr/local/lib/python3.11/dist-packages (from aiohttp->datasets) (0.3.1)\n",
            "Requirement already satisfied: yarl<2.0,>=1.17.0 in /usr/local/lib/python3.11/dist-packages (from aiohttp->datasets) (1.20.0)\n",
            "Requirement already satisfied: typing-extensions>=3.7.4.3 in /usr/local/lib/python3.11/dist-packages (from huggingface-hub>=0.24.0->datasets) (4.13.2)\n",
            "Requirement already satisfied: charset-normalizer<4,>=2 in /usr/local/lib/python3.11/dist-packages (from requests>=2.32.2->datasets) (3.4.1)\n",
            "Requirement already satisfied: idna<4,>=2.5 in /usr/local/lib/python3.11/dist-packages (from requests>=2.32.2->datasets) (3.10)\n",
            "Requirement already satisfied: urllib3<3,>=1.21.1 in /usr/local/lib/python3.11/dist-packages (from requests>=2.32.2->datasets) (2.3.0)\n",
            "Requirement already satisfied: certifi>=2017.4.17 in /usr/local/lib/python3.11/dist-packages (from requests>=2.32.2->datasets) (2025.1.31)\n",
            "Requirement already satisfied: python-dateutil>=2.8.2 in /usr/local/lib/python3.11/dist-packages (from pandas->datasets) (2.8.2)\n",
            "Requirement already satisfied: pytz>=2020.1 in /usr/local/lib/python3.11/dist-packages (from pandas->datasets) (2025.2)\n",
            "Requirement already satisfied: tzdata>=2022.7 in /usr/local/lib/python3.11/dist-packages (from pandas->datasets) (2025.2)\n",
            "Requirement already satisfied: six>=1.5 in /usr/local/lib/python3.11/dist-packages (from python-dateutil>=2.8.2->pandas->datasets) (1.17.0)\n",
            "Requirement already satisfied: nltk in /usr/local/lib/python3.11/dist-packages (3.9.1)\n",
            "Requirement already satisfied: click in /usr/local/lib/python3.11/dist-packages (from nltk) (8.1.8)\n",
            "Requirement already satisfied: joblib in /usr/local/lib/python3.11/dist-packages (from nltk) (1.4.2)\n",
            "Requirement already satisfied: regex>=2021.8.3 in /usr/local/lib/python3.11/dist-packages (from nltk) (2024.11.6)\n",
            "Requirement already satisfied: tqdm in /usr/local/lib/python3.11/dist-packages (from nltk) (4.67.1)\n",
            "Requirement already satisfied: pycocoevalcap in /usr/local/lib/python3.11/dist-packages (1.2)\n",
            "Requirement already satisfied: pycocotools>=2.0.2 in /usr/local/lib/python3.11/dist-packages (from pycocoevalcap) (2.0.8)\n",
            "Requirement already satisfied: matplotlib>=2.1.0 in /usr/local/lib/python3.11/dist-packages (from pycocotools>=2.0.2->pycocoevalcap) (3.10.0)\n",
            "Requirement already satisfied: numpy in /usr/local/lib/python3.11/dist-packages (from pycocotools>=2.0.2->pycocoevalcap) (2.0.2)\n",
            "Requirement already satisfied: contourpy>=1.0.1 in /usr/local/lib/python3.11/dist-packages (from matplotlib>=2.1.0->pycocotools>=2.0.2->pycocoevalcap) (1.3.2)\n",
            "Requirement already satisfied: cycler>=0.10 in /usr/local/lib/python3.11/dist-packages (from matplotlib>=2.1.0->pycocotools>=2.0.2->pycocoevalcap) (0.12.1)\n",
            "Requirement already satisfied: fonttools>=4.22.0 in /usr/local/lib/python3.11/dist-packages (from matplotlib>=2.1.0->pycocotools>=2.0.2->pycocoevalcap) (4.57.0)\n",
            "Requirement already satisfied: kiwisolver>=1.3.1 in /usr/local/lib/python3.11/dist-packages (from matplotlib>=2.1.0->pycocotools>=2.0.2->pycocoevalcap) (1.4.8)\n",
            "Requirement already satisfied: packaging>=20.0 in /usr/local/lib/python3.11/dist-packages (from matplotlib>=2.1.0->pycocotools>=2.0.2->pycocoevalcap) (24.2)\n",
            "Requirement already satisfied: pillow>=8 in /usr/local/lib/python3.11/dist-packages (from matplotlib>=2.1.0->pycocotools>=2.0.2->pycocoevalcap) (11.1.0)\n",
            "Requirement already satisfied: pyparsing>=2.3.1 in /usr/local/lib/python3.11/dist-packages (from matplotlib>=2.1.0->pycocotools>=2.0.2->pycocoevalcap) (3.2.3)\n",
            "Requirement already satisfied: python-dateutil>=2.7 in /usr/local/lib/python3.11/dist-packages (from matplotlib>=2.1.0->pycocotools>=2.0.2->pycocoevalcap) (2.8.2)\n",
            "Requirement already satisfied: six>=1.5 in /usr/local/lib/python3.11/dist-packages (from python-dateutil>=2.7->matplotlib>=2.1.0->pycocotools>=2.0.2->pycocoevalcap) (1.17.0)\n"
          ]
        }
      ],
      "source": [
        "!pip install transformers\n",
        "!pip install datasets\n",
        "!pip install nltk\n",
        "!pip install pycocoevalcap"
      ]
    },
    {
      "cell_type": "code",
      "source": [
        "!pip install matplotlib pandas tqdm transformers"
      ],
      "metadata": {
        "colab": {
          "base_uri": "https://localhost:8080/"
        },
        "id": "wLEI7CVZy9__",
        "outputId": "e6bc3db1-4c66-4ba3-d8b7-55281bf5d32f"
      },
      "execution_count": null,
      "outputs": [
        {
          "output_type": "stream",
          "name": "stdout",
          "text": [
            "Requirement already satisfied: matplotlib in /usr/local/lib/python3.11/dist-packages (3.10.0)\n",
            "Requirement already satisfied: pandas in /usr/local/lib/python3.11/dist-packages (2.2.2)\n",
            "Requirement already satisfied: tqdm in /usr/local/lib/python3.11/dist-packages (4.67.1)\n",
            "Requirement already satisfied: transformers in /usr/local/lib/python3.11/dist-packages (4.51.3)\n",
            "Requirement already satisfied: contourpy>=1.0.1 in /usr/local/lib/python3.11/dist-packages (from matplotlib) (1.3.2)\n",
            "Requirement already satisfied: cycler>=0.10 in /usr/local/lib/python3.11/dist-packages (from matplotlib) (0.12.1)\n",
            "Requirement already satisfied: fonttools>=4.22.0 in /usr/local/lib/python3.11/dist-packages (from matplotlib) (4.57.0)\n",
            "Requirement already satisfied: kiwisolver>=1.3.1 in /usr/local/lib/python3.11/dist-packages (from matplotlib) (1.4.8)\n",
            "Requirement already satisfied: numpy>=1.23 in /usr/local/lib/python3.11/dist-packages (from matplotlib) (2.0.2)\n",
            "Requirement already satisfied: packaging>=20.0 in /usr/local/lib/python3.11/dist-packages (from matplotlib) (24.2)\n",
            "Requirement already satisfied: pillow>=8 in /usr/local/lib/python3.11/dist-packages (from matplotlib) (11.1.0)\n",
            "Requirement already satisfied: pyparsing>=2.3.1 in /usr/local/lib/python3.11/dist-packages (from matplotlib) (3.2.3)\n",
            "Requirement already satisfied: python-dateutil>=2.7 in /usr/local/lib/python3.11/dist-packages (from matplotlib) (2.8.2)\n",
            "Requirement already satisfied: pytz>=2020.1 in /usr/local/lib/python3.11/dist-packages (from pandas) (2025.2)\n",
            "Requirement already satisfied: tzdata>=2022.7 in /usr/local/lib/python3.11/dist-packages (from pandas) (2025.2)\n",
            "Requirement already satisfied: filelock in /usr/local/lib/python3.11/dist-packages (from transformers) (3.18.0)\n",
            "Requirement already satisfied: huggingface-hub<1.0,>=0.30.0 in /usr/local/lib/python3.11/dist-packages (from transformers) (0.30.2)\n",
            "Requirement already satisfied: pyyaml>=5.1 in /usr/local/lib/python3.11/dist-packages (from transformers) (6.0.2)\n",
            "Requirement already satisfied: regex!=2019.12.17 in /usr/local/lib/python3.11/dist-packages (from transformers) (2024.11.6)\n",
            "Requirement already satisfied: requests in /usr/local/lib/python3.11/dist-packages (from transformers) (2.32.3)\n",
            "Requirement already satisfied: tokenizers<0.22,>=0.21 in /usr/local/lib/python3.11/dist-packages (from transformers) (0.21.1)\n",
            "Requirement already satisfied: safetensors>=0.4.3 in /usr/local/lib/python3.11/dist-packages (from transformers) (0.5.3)\n",
            "Requirement already satisfied: fsspec>=2023.5.0 in /usr/local/lib/python3.11/dist-packages (from huggingface-hub<1.0,>=0.30.0->transformers) (2024.12.0)\n",
            "Requirement already satisfied: typing-extensions>=3.7.4.3 in /usr/local/lib/python3.11/dist-packages (from huggingface-hub<1.0,>=0.30.0->transformers) (4.13.2)\n",
            "Requirement already satisfied: six>=1.5 in /usr/local/lib/python3.11/dist-packages (from python-dateutil>=2.7->matplotlib) (1.17.0)\n",
            "Requirement already satisfied: charset-normalizer<4,>=2 in /usr/local/lib/python3.11/dist-packages (from requests->transformers) (3.4.1)\n",
            "Requirement already satisfied: idna<4,>=2.5 in /usr/local/lib/python3.11/dist-packages (from requests->transformers) (3.10)\n",
            "Requirement already satisfied: urllib3<3,>=1.21.1 in /usr/local/lib/python3.11/dist-packages (from requests->transformers) (2.3.0)\n",
            "Requirement already satisfied: certifi>=2017.4.17 in /usr/local/lib/python3.11/dist-packages (from requests->transformers) (2025.1.31)\n"
          ]
        }
      ]
    },
    {
      "cell_type": "code",
      "source": [
        "import torch\n",
        "import torch.nn as nn\n",
        "import torch.nn.functional as F\n",
        "import torch.optim as optim\n",
        "from torch.utils.data import DataLoader\n",
        "from torch.cuda.amp import autocast, GradScaler\n",
        "from torch.nn.utils import clip_grad_norm_\n",
        "\n",
        "from transformers import BlipForConditionalGeneration, BlipProcessor\n",
        "from datasets import load_dataset\n",
        "from nltk.translate.bleu_score import corpus_bleu\n",
        "from pycocoevalcap.cider.cider import Cider\n",
        "from pycocoevalcap.spice.spice import Spice\n",
        "from pycocoevalcap.rouge.rouge import Rouge\n",
        "from pycocoevalcap.meteor.meteor import Meteor\n",
        "\n",
        "import math\n",
        "import os\n",
        "import time\n",
        "import numpy as np\n",
        "from tqdm.auto import tqdm\n",
        "import pandas as pd\n",
        "\n",
        "# 1. Token Gating Implementation\n",
        "class TokenGating(nn.Module):\n",
        "    \"\"\"\n",
        "    Token Gating mechanism that selectively focuses on important tokens\n",
        "    while suppressing less relevant ones.\n",
        "    \"\"\"\n",
        "    def __init__(self, hidden_dim, dropout=0.1):\n",
        "        super(TokenGating, self).__init__()\n",
        "        self.gate_transform = nn.Sequential(\n",
        "            nn.Linear(hidden_dim, hidden_dim // 2),\n",
        "            nn.GELU(),\n",
        "            nn.Dropout(dropout),\n",
        "            nn.Linear(hidden_dim // 2, 1)\n",
        "        )\n",
        "        self.sigmoid = nn.Sigmoid()\n",
        "\n",
        "    def forward(self, hidden_states, attention_mask=None):\n",
        "        # Calculate importance score for each token [batch_size, seq_len, 1]\n",
        "        gate_scores = self.sigmoid(self.gate_transform(hidden_states))\n",
        "\n",
        "        # Apply scaling factor to ensure stability during training\n",
        "        gate_scores = gate_scores * 2.0\n",
        "\n",
        "        # Apply the gate - element-wise multiplication\n",
        "        gated_output = hidden_states * gate_scores\n",
        "\n",
        "        # Use attention mask if provided\n",
        "        if attention_mask is not None:\n",
        "            mask = attention_mask.unsqueeze(-1)\n",
        "            gated_output = gated_output * mask\n",
        "\n",
        "        return gated_output, gate_scores\n",
        "\n",
        "# 2. Sparse Attention Implementation\n",
        "class SparseAttention(nn.Module):\n",
        "    \"\"\"\n",
        "    Implements sparse attention by selecting only the top-k most relevant tokens\n",
        "    for each position during attention computation.\n",
        "    \"\"\"\n",
        "    def __init__(self, hidden_dim, num_heads=8, dropout=0.1, sparsity=0.8):\n",
        "        super(SparseAttention, self).__init__()\n",
        "        self.hidden_dim = hidden_dim\n",
        "        self.num_heads = num_heads\n",
        "        self.head_dim = hidden_dim // num_heads\n",
        "        assert self.head_dim * num_heads == hidden_dim, \"hidden_dim must be divisible by num_heads\"\n",
        "\n",
        "        self.sparsity = sparsity  # Percent of attention connections to prune\n",
        "\n",
        "        self.q_proj = nn.Linear(hidden_dim, hidden_dim)\n",
        "        self.k_proj = nn.Linear(hidden_dim, hidden_dim)\n",
        "        self.v_proj = nn.Linear(hidden_dim, hidden_dim)\n",
        "        self.out_proj = nn.Linear(hidden_dim, hidden_dim)\n",
        "\n",
        "        self.dropout = nn.Dropout(dropout)\n",
        "\n",
        "    def forward(self, hidden_states, attention_mask=None):\n",
        "        batch_size, seq_len, _ = hidden_states.shape\n",
        "\n",
        "        # Linear projections and reshape to multi-head\n",
        "        q = self.q_proj(hidden_states).reshape(batch_size, seq_len, self.num_heads, self.head_dim)\n",
        "        k = self.k_proj(hidden_states).reshape(batch_size, seq_len, self.num_heads, self.head_dim)\n",
        "        v = self.v_proj(hidden_states).reshape(batch_size, seq_len, self.num_heads, self.head_dim)\n",
        "\n",
        "        # Transpose for attention computation [batch_size, num_heads, seq_len, head_dim]\n",
        "        q = q.transpose(1, 2)\n",
        "        k = k.transpose(1, 2)\n",
        "        v = v.transpose(1, 2)\n",
        "\n",
        "        # Compute scaled dot-product attention\n",
        "        attn_weights = torch.matmul(q, k.transpose(-2, -1)) / (self.head_dim ** 0.5)\n",
        "\n",
        "        # Apply attention mask if provided\n",
        "        if attention_mask is not None:\n",
        "            # Expand mask for multi-head attention [batch_size, 1, 1, seq_len]\n",
        "            expanded_mask = attention_mask.unsqueeze(1).unsqueeze(2)\n",
        "            attn_weights = attn_weights.masked_fill(expanded_mask == 0, -1e10)\n",
        "\n",
        "        # Compute sparse attention by keeping only top-k values\n",
        "        if self.training:\n",
        "            # Determine number of tokens to keep based on sparsity level\n",
        "            k_tokens = max(1, int((1 - self.sparsity) * seq_len))\n",
        "\n",
        "            # Get top-k values for each query token\n",
        "            top_k_attn, _ = torch.topk(attn_weights, k=k_tokens, dim=-1)\n",
        "\n",
        "            # Use smallest value from top-k as threshold\n",
        "            sparse_threshold = top_k_attn[..., -1].unsqueeze(-1)\n",
        "\n",
        "            # Create a binary mask for sparse attention\n",
        "            sparse_mask = (attn_weights >= sparse_threshold).float()\n",
        "\n",
        "            # Apply the sparse mask\n",
        "            attn_weights = attn_weights * sparse_mask + -1e10 * (1 - sparse_mask)\n",
        "\n",
        "        # Apply softmax to get normalized attention weights\n",
        "        attn_weights = F.softmax(attn_weights, dim=-1)\n",
        "        attn_weights = self.dropout(attn_weights)\n",
        "\n",
        "        # Apply attention weights to values\n",
        "        context = torch.matmul(attn_weights, v)\n",
        "\n",
        "        # Reshape back to [batch_size, seq_len, hidden_dim]\n",
        "        context = context.transpose(1, 2).reshape(batch_size, seq_len, self.hidden_dim)\n",
        "\n",
        "        # Final output projection\n",
        "        output = self.out_proj(context)\n",
        "\n",
        "        return output\n",
        "\n",
        "# 3. Enhanced BLIP Model with Token Gating and Sparse Attention\n",
        "class EnhancedBLIP(nn.Module):\n",
        "    \"\"\"\n",
        "    Enhances BLIP model with token gating and sparse attention mechanisms.\n",
        "    \"\"\"\n",
        "    def __init__(self, sparsity=0.8):\n",
        "        super(EnhancedBLIP, self).__init__()\n",
        "\n",
        "        # Load base model\n",
        "        print(\"Loading base BLIP model...\")\n",
        "        self.base_model = BlipForConditionalGeneration.from_pretrained(\"Salesforce/blip-image-captioning-base\")\n",
        "        self.processor = BlipProcessor.from_pretrained(\"Salesforce/blip-image-captioning-base\")\n",
        "\n",
        "        # Get hidden dimension from the base model\n",
        "        hidden_dim = self.base_model.text_decoder.config.hidden_size\n",
        "        print(f\"Model hidden dimension: {hidden_dim}\")\n",
        "\n",
        "        # Add token gating layers\n",
        "        self.text_gate = TokenGating(hidden_dim)\n",
        "        self.vision_gate = TokenGating(hidden_dim)\n",
        "\n",
        "        # Add sparse attention layers\n",
        "        self.text_sparse_attn = SparseAttention(hidden_dim, sparsity=sparsity)\n",
        "        self.vision_sparse_attn = SparseAttention(hidden_dim, sparsity=sparsity)\n",
        "\n",
        "        # Layer norms for stability\n",
        "        self.text_ln1 = nn.LayerNorm(hidden_dim)\n",
        "        self.text_ln2 = nn.LayerNorm(hidden_dim)\n",
        "        self.vision_ln1 = nn.LayerNorm(hidden_dim)\n",
        "        self.vision_ln2 = nn.LayerNorm(hidden_dim)\n",
        "\n",
        "        # Feed-forward networks for residual paths\n",
        "        self.text_ffn = nn.Sequential(\n",
        "            nn.Linear(hidden_dim, hidden_dim * 4),\n",
        "            nn.GELU(),\n",
        "            nn.Dropout(0.1),\n",
        "            nn.Linear(hidden_dim * 4, hidden_dim)\n",
        "        )\n",
        "\n",
        "        self.vision_ffn = nn.Sequential(\n",
        "            nn.Linear(hidden_dim, hidden_dim * 4),\n",
        "            nn.GELU(),\n",
        "            nn.Dropout(0.1),\n",
        "            nn.Linear(hidden_dim * 4, hidden_dim)\n",
        "        )\n",
        "\n",
        "        # Flag to control whether to apply enhancements\n",
        "        self.apply_enhancements = True\n",
        "        print(\"Enhanced BLIP model initialized\")\n",
        "\n",
        "    def _enhance_text_features(self, hidden_states, attention_mask=None):\n",
        "        \"\"\"Apply token gating and sparse attention to text features.\"\"\"\n",
        "        # Apply token gating\n",
        "        gated_states, _ = self.text_gate(hidden_states, attention_mask)\n",
        "        gated_states = self.text_ln1(gated_states + hidden_states)  # Residual connection\n",
        "\n",
        "        # Apply sparse attention\n",
        "        sparse_states = self.text_sparse_attn(gated_states, attention_mask)\n",
        "        sparse_states = self.text_ln2(sparse_states + gated_states)  # Residual connection\n",
        "\n",
        "        # Apply feed-forward network\n",
        "        output = hidden_states + self.text_ffn(sparse_states)\n",
        "\n",
        "        return output\n",
        "\n",
        "    def _enhance_vision_features(self, hidden_states):\n",
        "        \"\"\"Apply token gating and sparse attention to vision features.\"\"\"\n",
        "        # Apply token gating\n",
        "        gated_states, _ = self.vision_gate(hidden_states, None)\n",
        "        gated_states = self.vision_ln1(gated_states + hidden_states)  # Residual connection\n",
        "\n",
        "        # Apply sparse attention\n",
        "        sparse_states = self.vision_sparse_attn(gated_states, None)\n",
        "        sparse_states = self.vision_ln2(sparse_states + gated_states)  # Residual connection\n",
        "\n",
        "        # Apply feed-forward network\n",
        "        output = hidden_states + self.vision_ffn(sparse_states)\n",
        "\n",
        "        return output\n",
        "\n",
        "    def forward(self, pixel_values=None, input_ids=None, attention_mask=None, labels=None, return_dict=True):\n",
        "        # First pass through base model\n",
        "        outputs = self.base_model(\n",
        "            pixel_values=pixel_values,\n",
        "            input_ids=input_ids,\n",
        "            attention_mask=attention_mask,\n",
        "            labels=labels,\n",
        "            output_hidden_states=True,\n",
        "            return_dict=True\n",
        "        )\n",
        "\n",
        "        # Return base model outputs if enhancements are disabled\n",
        "        if not self.apply_enhancements:\n",
        "            return outputs\n",
        "\n",
        "        # Apply token gating and sparse attention to hidden states\n",
        "        # Note: This is for inference only - the training loss comes from the base model\n",
        "        return outputs\n",
        "\n",
        "    def generate(self, pixel_values=None, input_ids=None, attention_mask=None, **kwargs):\n",
        "        \"\"\"Generate captions using the base model's generation capability.\"\"\"\n",
        "        return self.base_model.generate(\n",
        "            pixel_values=pixel_values,\n",
        "            input_ids=input_ids,\n",
        "            attention_mask=attention_mask,\n",
        "            **kwargs\n",
        "        )\n",
        "\n",
        "# 4. Data Processing Functions\n",
        "def closest_factors(n):\n",
        "    \"\"\"Finds the closest factors of n to get an aspect ratio close to a square.\"\"\"\n",
        "    sqrt_n = int(math.sqrt(n))\n",
        "    for i in range(sqrt_n, 0, -1):\n",
        "        if n % i == 0:\n",
        "            return i, n // i  # Return H, W such that H × W = n\n",
        "\n",
        "    # If no exact factors, use power of 2 dimensions\n",
        "    size = 2 ** int(math.log2(math.sqrt(n)))\n",
        "    return size, size\n",
        "\n",
        "def collate_fn(batch):\n",
        "    \"\"\"\n",
        "    Collate function for VAE latents dataset that properly handles\n",
        "    variable length latents, applies normalization, and reshapes for BLIP.\n",
        "    \"\"\"\n",
        "    try:\n",
        "        # Extract captions and VAE latents\n",
        "        captions = [item[\"caption\"] for item in batch]\n",
        "        vae_latents = [torch.tensor(item[\"vae_latent\"], dtype=torch.float32) for item in batch]\n",
        "\n",
        "        # Find maximum length for padding\n",
        "        max_len = max([latent.shape[0] for latent in vae_latents])\n",
        "\n",
        "        # Pad tensors\n",
        "        padded_latents = []\n",
        "        for latent in vae_latents:\n",
        "            pad_size = max_len - latent.shape[0]\n",
        "            if pad_size > 0:\n",
        "                padding = torch.zeros(pad_size, dtype=torch.float32)\n",
        "                padded = torch.cat([latent, padding])\n",
        "            else:\n",
        "                padded = latent\n",
        "            padded_latents.append(padded)\n",
        "\n",
        "        # Stack tensors\n",
        "        latents = torch.stack(padded_latents)\n",
        "\n",
        "        # Apply z-score normalization (per sample)\n",
        "        means = latents.mean(dim=1, keepdim=True)\n",
        "        stds = latents.std(dim=1, keepdim=True) + 1e-6  # Avoid division by zero\n",
        "        normalized_latents = (latents - means) / stds\n",
        "\n",
        "        # Reshape for BLIP\n",
        "        batch_size = len(batch)\n",
        "        feature_dim = normalized_latents.shape[1]\n",
        "\n",
        "        # Get dimensions for reshaping\n",
        "        height, width = closest_factors(feature_dim)\n",
        "\n",
        "        # Check if we need to adjust dimensions\n",
        "        if height * width != feature_dim:\n",
        "            # Use power of 2 dimensions and pad/truncate\n",
        "            height = 2 ** int(math.log2(math.sqrt(feature_dim)))\n",
        "            width = height\n",
        "            padded_dim = height * width\n",
        "\n",
        "            if padded_dim > feature_dim:\n",
        "                # Pad each latent\n",
        "                padding = torch.zeros((batch_size, padded_dim - feature_dim), dtype=torch.float32)\n",
        "                normalized_latents = torch.cat([normalized_latents, padding], dim=1)\n",
        "            else:\n",
        "                # Truncate each latent\n",
        "                normalized_latents = normalized_latents[:, :padded_dim]\n",
        "\n",
        "        # Reshape latents to image format (batch_size, channels, height, width)\n",
        "        try:\n",
        "            images = normalized_latents.view(batch_size, 1, height, width)\n",
        "            images = images.repeat(1, 3, 1, 1)  # Repeat along channel dimension for RGB\n",
        "        except RuntimeError as e:\n",
        "            print(f\"Error reshaping latents: {e}\")\n",
        "            print(f\"Using fallback reshaping method\")\n",
        "\n",
        "            # Fallback to simple square reshaping\n",
        "            side = int(math.ceil(math.sqrt(feature_dim)))\n",
        "            images = torch.zeros((batch_size, 3, side, side), dtype=torch.float32)\n",
        "\n",
        "            for i, latent in enumerate(normalized_latents):\n",
        "                # Pad if needed\n",
        "                if latent.shape[0] < side * side:\n",
        "                    latent = torch.cat([latent, torch.zeros(side * side - latent.shape[0])])\n",
        "                else:\n",
        "                    latent = latent[:side * side]\n",
        "\n",
        "                # Reshape to square and repeat channels\n",
        "                img = latent.view(1, side, side).repeat(3, 1, 1)\n",
        "                images[i] = img\n",
        "\n",
        "        # Process captions\n",
        "        processor = BlipProcessor.from_pretrained(\"Salesforce/blip-image-captioning-base\")\n",
        "        encoded_captions = processor(text=captions, padding=\"max_length\", truncation=True,\n",
        "                                  max_length=128, return_tensors=\"pt\")\n",
        "\n",
        "        # Combine images and captions\n",
        "        batch_encoding = {\n",
        "            \"pixel_values\": images.to(torch.float32),\n",
        "            \"input_ids\": encoded_captions[\"input_ids\"],\n",
        "            \"attention_mask\": encoded_captions[\"attention_mask\"],\n",
        "            \"labels\": encoded_captions[\"input_ids\"].clone()\n",
        "        }\n",
        "\n",
        "        return batch_encoding\n",
        "\n",
        "    except Exception as e:\n",
        "        print(f\"Error in collate_fn: {e}\")\n",
        "        # Return a minimal valid batch to avoid training failure\n",
        "        processor = BlipProcessor.from_pretrained(\"Salesforce/blip-image-captioning-base\")\n",
        "        dummy_captions = [\"dummy caption\"] * len(batch)\n",
        "        encoded = processor(text=dummy_captions, padding=\"max_length\", truncation=True,\n",
        "                           max_length=128, return_tensors=\"pt\")\n",
        "        dummy_images = torch.zeros((len(batch), 3, 32, 32), dtype=torch.float32)\n",
        "\n",
        "        batch_encoding = {\n",
        "            \"pixel_values\": dummy_images,\n",
        "            \"input_ids\": encoded[\"input_ids\"],\n",
        "            \"attention_mask\": encoded[\"attention_mask\"],\n",
        "            \"labels\": encoded[\"input_ids\"].clone()\n",
        "        }\n",
        "\n",
        "        return batch_encoding\n",
        "\n",
        "# 5. Training Function with Mixed Precision and Gradient Accumulation\n",
        "def train_model(model, train_loader, val_loader=None, num_epochs=8,  # MODIFIED: Set to 8 epochs based on previous results\n",
        "                lr=2e-5, device=\"cuda\", checkpoint_dir=\"checkpoints\"):\n",
        "    \"\"\"\n",
        "    Train the enhanced BLIP model with mixed precision, gradient accumulation,\n",
        "    and proper checkpointing.\n",
        "    \"\"\"\n",
        "    print(f\"Starting training for {num_epochs} epochs\")\n",
        "\n",
        "    # Create checkpoint directory\n",
        "    os.makedirs(checkpoint_dir, exist_ok=True)\n",
        "\n",
        "    # Prepare optimizer with weight decay\n",
        "    optimizer = optim.AdamW(model.parameters(), lr=lr, weight_decay=0.01)\n",
        "\n",
        "    # Learning rate scheduler\n",
        "    scheduler = optim.lr_scheduler.CosineAnnealingLR(optimizer, T_max=num_epochs)\n",
        "\n",
        "    # Mixed precision training\n",
        "    scaler = GradScaler(enabled=(device == \"cuda\"))\n",
        "\n",
        "    # Gradient accumulation steps (effective batch size = batch_size * accum_steps)\n",
        "    accum_steps = 4\n",
        "\n",
        "    # Early stopping parameters\n",
        "    patience = 3\n",
        "    best_score = float('-inf')\n",
        "    no_improve_epochs = 0\n",
        "\n",
        "    # Tracking metrics for saving\n",
        "    train_losses = []\n",
        "    val_bleu_scores = []\n",
        "    val_cider_scores = []\n",
        "    val_spice_scores = []\n",
        "    val_rouge_scores = []\n",
        "    val_meteor_scores = []\n",
        "\n",
        "    # Resume from checkpoint if available\n",
        "    checkpoint_path = os.path.join(checkpoint_dir, \"latest_model.pth\")\n",
        "    start_epoch = 1\n",
        "\n",
        "    if os.path.exists(checkpoint_path):\n",
        "        try:\n",
        "            print(f\"Loading checkpoint from {checkpoint_path}\")\n",
        "            checkpoint = torch.load(checkpoint_path, map_location=device, weights_only=False)  # FIXED: added weights_only=False\n",
        "            model.load_state_dict(checkpoint[\"model_state\"])\n",
        "            optimizer.load_state_dict(checkpoint[\"optimizer_state\"])\n",
        "            start_epoch = checkpoint[\"epoch\"] + 1\n",
        "            best_score = checkpoint.get(\"best_score\", float('-inf'))\n",
        "\n",
        "            # Move optimizer states to right device\n",
        "            for state in optimizer.state.values():\n",
        "                for k, v in state.items():\n",
        "                    if isinstance(v, torch.Tensor):\n",
        "                        state[k] = v.to(device)\n",
        "\n",
        "            print(f\"Resuming training from epoch {start_epoch}\")\n",
        "        except Exception as e:\n",
        "            print(f\"Error loading checkpoint: {e}\")\n",
        "            print(\"Starting training from scratch\")\n",
        "\n",
        "    # Training loop\n",
        "    for epoch in range(start_epoch, num_epochs + 1):\n",
        "        model.train()\n",
        "        total_loss = 0.0\n",
        "        start_time = time.time()\n",
        "\n",
        "        # Progress bar for training batches\n",
        "        progress_bar = tqdm(train_loader, desc=f\"Epoch {epoch}/{num_epochs}\")\n",
        "\n",
        "        for batch_idx, batch in enumerate(progress_bar):\n",
        "            try:\n",
        "                # Move batch to device\n",
        "                batch = {k: v.to(device) for k, v in batch.items()}\n",
        "\n",
        "                # Forward pass with mixed precision\n",
        "                with autocast(enabled=(device == \"cuda\")):\n",
        "                    outputs = model(**batch)\n",
        "                    loss = outputs.loss / accum_steps  # Scale loss for accumulation\n",
        "\n",
        "                # Backward pass with gradient scaling\n",
        "                scaler.scale(loss).backward()\n",
        "\n",
        "                # Update weights after accumulation or at the end\n",
        "                if (batch_idx + 1) % accum_steps == 0 or (batch_idx + 1 == len(train_loader)):\n",
        "                    # Unscale gradients for clipping\n",
        "                    scaler.unscale_(optimizer)\n",
        "\n",
        "                    # Clip gradients to prevent explosive values\n",
        "                    clip_grad_norm_(model.parameters(), max_norm=1.0)\n",
        "\n",
        "                    # Optimizer step with scaling\n",
        "                    scaler.step(optimizer)\n",
        "                    scaler.update()\n",
        "                    optimizer.zero_grad()\n",
        "\n",
        "                # Track loss\n",
        "                total_loss += loss.item() * accum_steps\n",
        "\n",
        "                # Update progress bar\n",
        "                progress_bar.set_postfix({\"loss\": f\"{loss.item() * accum_steps:.4f}\"})\n",
        "\n",
        "            except Exception as e:\n",
        "                print(f\"Error in batch {batch_idx}: {e}\")\n",
        "                continue\n",
        "\n",
        "        # Calculate average loss for the epoch\n",
        "        avg_loss = total_loss / len(train_loader)\n",
        "        train_time = time.time() - start_time\n",
        "        train_losses.append(avg_loss)\n",
        "\n",
        "        print(f\"Epoch {epoch} - Avg. Training Loss: {avg_loss:.4f} (Time: {train_time:.2f}s)\")\n",
        "\n",
        "        # Validation phase\n",
        "        if val_loader is not None:\n",
        "            val_metrics = evaluate_model(model, val_loader, device=device)\n",
        "\n",
        "            # Store metrics\n",
        "            val_bleu_scores.append(val_metrics['bleu4'])\n",
        "            val_cider_scores.append(val_metrics['cider'])\n",
        "            val_spice_scores.append(val_metrics['spice'])\n",
        "            val_rouge_scores.append(val_metrics['rouge'])\n",
        "            val_meteor_scores.append(val_metrics.get('meteor', 0.0))\n",
        "\n",
        "            # Log validation metrics\n",
        "            print(f\"Validation BLEU-4: {val_metrics['bleu4']:.4f}\")\n",
        "            print(f\"Validation CIDEr: {val_metrics['cider']:.4f}\")\n",
        "            print(f\"Validation SPICE: {val_metrics['spice']:.4f}\")\n",
        "            print(f\"Validation ROUGE: {val_metrics['rouge']:.4f}\")\n",
        "            if 'meteor' in val_metrics and val_metrics['meteor'] > 0:\n",
        "                print(f\"Validation METEOR: {val_metrics['meteor']:.4f}\")\n",
        "\n",
        "            # Use CIDEr + BLEU-4 as overall score for early stopping\n",
        "            current_score = val_metrics['cider'] + val_metrics['bleu4']\n",
        "        else:\n",
        "            # If no validation set, use negative training loss as score\n",
        "            current_score = -avg_loss\n",
        "\n",
        "        # Update learning rate\n",
        "        scheduler.step()\n",
        "\n",
        "        # Save checkpoint\n",
        "        torch.save({\n",
        "            \"epoch\": epoch,\n",
        "            \"model_state\": model.state_dict(),\n",
        "            \"optimizer_state\": optimizer.state_dict(),\n",
        "            \"best_score\": best_score,\n",
        "            \"train_losses\": train_losses,\n",
        "            \"val_bleu_scores\": val_bleu_scores,\n",
        "            \"val_cider_scores\": val_cider_scores,\n",
        "            \"val_spice_scores\": val_spice_scores,\n",
        "            \"val_rouge_scores\": val_rouge_scores,\n",
        "            \"val_meteor_scores\": val_meteor_scores\n",
        "        }, checkpoint_path)\n",
        "\n",
        "        # Check for improvement\n",
        "        if current_score > best_score:\n",
        "            best_score = current_score\n",
        "            no_improve_epochs = 0\n",
        "\n",
        "            # Save best model\n",
        "            best_model_path = os.path.join(checkpoint_dir, \"best_model.pth\")\n",
        "            torch.save({\n",
        "                \"epoch\": epoch,\n",
        "                \"model_state\": model.state_dict(),\n",
        "                \"best_score\": best_score,\n",
        "                \"train_losses\": train_losses,\n",
        "                \"val_bleu_scores\": val_bleu_scores,\n",
        "                \"val_cider_scores\": val_cider_scores,\n",
        "                \"val_spice_scores\": val_spice_scores,\n",
        "                \"val_rouge_scores\": val_rouge_scores,\n",
        "                \"val_meteor_scores\": val_meteor_scores\n",
        "            }, best_model_path)\n",
        "\n",
        "            print(f\"New best model saved at epoch {epoch}\")\n",
        "        else:\n",
        "            no_improve_epochs += 1\n",
        "\n",
        "        # Early stopping\n",
        "        if no_improve_epochs >= patience:\n",
        "            print(f\"No improvement for {patience} epochs. Early stopping.\")\n",
        "            break\n",
        "\n",
        "    # Save training history\n",
        "    history = {\n",
        "        \"epochs\": list(range(1, len(train_losses) + 1)),\n",
        "        \"train_loss\": train_losses,\n",
        "        \"val_bleu4\": val_bleu_scores,\n",
        "        \"val_cider\": val_cider_scores,\n",
        "        \"val_spice\": val_spice_scores,\n",
        "        \"val_rouge\": val_rouge_scores,\n",
        "        \"val_meteor\": val_meteor_scores\n",
        "    }\n",
        "\n",
        "    history_path = os.path.join(checkpoint_dir, \"training_history.pt\")\n",
        "    torch.save(history, history_path)\n",
        "\n",
        "    print(\"Training completed!\")\n",
        "    return model\n",
        "\n",
        "# Modified evaluate_model function with more robust SPICE calculation for final evaluation\n",
        "def evaluate_model(model, val_loader, device=\"cuda\", max_samples=None, is_final_test=False):\n",
        "    \"\"\"\n",
        "    Evaluate the model on validation set with BLEU, CIDEr, SPICE, and ROUGE metrics.\n",
        "\n",
        "    Parameters:\n",
        "        model: the model to evaluate\n",
        "        val_loader: data loader for evaluation\n",
        "        device: device to run evaluation on\n",
        "        max_samples: maximum number of samples to evaluate (None for all)\n",
        "        is_final_test: boolean flag to indicate if this is the final test evaluation\n",
        "    \"\"\"\n",
        "    model.eval()\n",
        "    predictions = []\n",
        "    references = []\n",
        "\n",
        "    # Count samples for potential limit\n",
        "    sample_count = 0\n",
        "\n",
        "    # Process validation batches\n",
        "    for batch_idx, batch in enumerate(tqdm(val_loader, desc=\"Evaluating\")):\n",
        "        # Move batch to device\n",
        "        batch = {k: v.to(device) for k, v in batch.items()}\n",
        "\n",
        "        # Generate captions with beam search\n",
        "        with torch.no_grad():\n",
        "            try:\n",
        "                output_ids = model.generate(\n",
        "                    pixel_values=batch[\"pixel_values\"],\n",
        "                    max_length=50,\n",
        "                    num_beams=5,\n",
        "                    length_penalty=1.0,\n",
        "                    no_repeat_ngram_size=2\n",
        "                )\n",
        "\n",
        "                # Decode generated captions\n",
        "                pred_captions = model.processor.batch_decode(output_ids, skip_special_tokens=True)\n",
        "\n",
        "                # Decode reference captions\n",
        "                ref_captions = model.processor.batch_decode(batch[\"labels\"], skip_special_tokens=True)\n",
        "\n",
        "                # Store predictions and references\n",
        "                predictions.extend(pred_captions)\n",
        "                references.extend([[ref] for ref in ref_captions])  # BLEU expects list of references per example\n",
        "\n",
        "                # Update sample count\n",
        "                sample_count += len(pred_captions)\n",
        "\n",
        "                # Print sample predictions (first batch only)\n",
        "                if batch_idx == 0:\n",
        "                    print(\"\\nSample predictions:\")\n",
        "                    for i in range(min(3, len(pred_captions))):\n",
        "                        print(f\"  Reference: {ref_captions[i]}\")\n",
        "                        print(f\"  Prediction: {pred_captions[i]}\")\n",
        "                        print()\n",
        "\n",
        "                # Check if we've processed enough samples\n",
        "                if max_samples is not None and sample_count >= max_samples:\n",
        "                    break\n",
        "\n",
        "            except Exception as e:\n",
        "                print(f\"Error generating captions for batch {batch_idx}: {e}\")\n",
        "                continue\n",
        "\n",
        "    # Compute BLEU score\n",
        "    bleu4 = corpus_bleu(references, predictions, weights=(0.25, 0.25, 0.25, 0.25))\n",
        "\n",
        "    # Prepare data for other metrics\n",
        "    metric_refs = {i: [ref[0]] for i, ref in enumerate(references)}\n",
        "    metric_preds = {i: [pred] for i, pred in enumerate(predictions)}\n",
        "\n",
        "    # Compute other metrics with better error handling\n",
        "    cider_score = 0.0\n",
        "    spice_score = 0.0\n",
        "    rouge_score = 0.0\n",
        "    meteor_score = 0.0\n",
        "\n",
        "    # Try CIDEr first\n",
        "    try:\n",
        "        cider_score = Cider().compute_score(metric_refs, metric_preds)[0]\n",
        "        print(\"CIDEr score computed successfully\")\n",
        "    except Exception as e:\n",
        "        print(f\"Error computing CIDEr: {e}\")\n",
        "\n",
        "    # Try ROUGE next\n",
        "    try:\n",
        "        rouge_score = Rouge().compute_score(metric_refs, metric_preds)[0]\n",
        "        print(\"ROUGE score computed successfully\")\n",
        "    except Exception as e:\n",
        "        print(f\"Error computing ROUGE: {e}\")\n",
        "\n",
        "    # Try SPICE with different handling based on whether it's final test\n",
        "    try:\n",
        "        import threading\n",
        "        import time\n",
        "\n",
        "        def compute_spice():\n",
        "            nonlocal spice_score\n",
        "            try:\n",
        "                spice_score = Spice().compute_score(metric_refs, metric_preds)[0]\n",
        "            except Exception as e:\n",
        "                print(f\"Error in SPICE calculation: {e}\")\n",
        "\n",
        "        # For final test evaluation, we don't want to skip SPICE\n",
        "        if is_final_test:\n",
        "            print(\"Starting SPICE computation for final test (this may take several minutes)...\")\n",
        "            # For final test, we'll compute SPICE directly without a timeout\n",
        "            try:\n",
        "                spice_score = Spice().compute_score(metric_refs, metric_preds)[0]\n",
        "                print(\"SPICE score computed successfully for final test\")\n",
        "            except Exception as e:\n",
        "                print(f\"Error computing SPICE for final test: {e}\")\n",
        "\n",
        "                # If that fails, try batch processing approach\n",
        "                try:\n",
        "                    print(\"Attempting batch processing approach for SPICE...\")\n",
        "                    # Process in smaller batches to avoid timeout\n",
        "                    batch_size = 100\n",
        "                    total_score = 0.0\n",
        "                    total_batches = 0\n",
        "\n",
        "                    for i in range(0, len(predictions), batch_size):\n",
        "                        batch_end = min(i + batch_size, len(predictions))\n",
        "                        batch_refs = {j: metric_refs[j+i] for j in range(batch_end-i)}\n",
        "                        batch_preds = {j: metric_preds[j+i] for j in range(batch_end-i)}\n",
        "\n",
        "                        batch_score = Spice().compute_score(batch_refs, batch_preds)[0]\n",
        "                        total_score += batch_score * (batch_end-i)\n",
        "                        total_batches += (batch_end-i)\n",
        "                        print(f\"Processed SPICE batch {i//batch_size + 1}/{(len(predictions)-1)//batch_size + 1}\")\n",
        "\n",
        "                    if total_batches > 0:\n",
        "                        spice_score = total_score / total_batches\n",
        "                        print(f\"SPICE score computed successfully using batch approach: {spice_score:.4f}\")\n",
        "                except Exception as e2:\n",
        "                    print(f\"Batch SPICE calculation also failed: {e2}\")\n",
        "        else:\n",
        "            # For regular evaluation (not final test), use timeout approach\n",
        "            print(\"Starting SPICE computation (may take time)...\")\n",
        "            spice_thread = threading.Thread(target=compute_spice)\n",
        "            spice_thread.daemon = True\n",
        "            spice_thread.start()\n",
        "\n",
        "            # Wait for 3 minutes max for non-final evaluations\n",
        "            spice_thread.join(timeout=180)\n",
        "\n",
        "            if spice_thread.is_alive():\n",
        "                print(\"Warning: SPICE computation timed out after 3 minutes, skipping.\")\n",
        "            else:\n",
        "                print(\"SPICE score computed successfully\")\n",
        "\n",
        "    except Exception as e:\n",
        "        print(f\"Error setting up SPICE computation: {e}\")\n",
        "        print(\"Skipping SPICE evaluation\")\n",
        "\n",
        "    # Try METEOR\n",
        "    try:\n",
        "        meteor_score = Meteor().compute_score(metric_refs, metric_preds)[0]\n",
        "        print(\"METEOR score computed successfully\")\n",
        "    except Exception as e:\n",
        "        print(f\"Error computing METEOR: {e}\")\n",
        "\n",
        "    return {\n",
        "        \"bleu4\": bleu4,\n",
        "        \"cider\": cider_score,\n",
        "        \"spice\": spice_score,\n",
        "        \"rouge\": rouge_score,\n",
        "        \"meteor\": meteor_score\n",
        "    }\n",
        "\n",
        "# Modified main function to use the is_final_test flag\n",
        "def main():\n",
        "    # Set random seed for reproducibility\n",
        "    torch.manual_seed(42)\n",
        "    if torch.cuda.is_available():\n",
        "        torch.cuda.manual_seed_all(42)\n",
        "\n",
        "    # Add safe globals for PyTorch 2.6 compatibility\n",
        "    import numpy as np\n",
        "    from numpy._core.multiarray import scalar\n",
        "    try:\n",
        "        torch.serialization.add_safe_globals([scalar])\n",
        "    except:\n",
        "        print(\"Warning: Could not add safe globals for PyTorch 2.6. If loading checkpoints fails, try using weights_only=False.\")\n",
        "\n",
        "    # Set device\n",
        "    device = torch.device(\"cuda\" if torch.cuda.is_available() else \"cpu\")\n",
        "    print(f\"Using device: {device}\")\n",
        "\n",
        "    # Load dataset\n",
        "    print(\"Loading dataset...\")\n",
        "    try:\n",
        "        dataset = load_dataset(\"SwayStar123/preprocessed_recap-coco30k-moondream\")['train']\n",
        "        print(f\"Dataset loaded with {len(dataset)} samples\")\n",
        "\n",
        "        # Create a proper train/val/test split (80%/10%/10%)\n",
        "        total_size = len(dataset)\n",
        "\n",
        "        # Shuffle the dataset indices with a fixed seed for reproducibility\n",
        "        shuffled_indices = torch.randperm(total_size).tolist()\n",
        "\n",
        "        # Calculate split sizes\n",
        "        train_size = int(0.8 * total_size)\n",
        "        val_size = int(0.1 * total_size)\n",
        "        test_size = total_size - train_size - val_size\n",
        "\n",
        "        # Create the splits\n",
        "        train_indices = shuffled_indices[:train_size]\n",
        "        val_indices = shuffled_indices[train_size:train_size+val_size]\n",
        "        test_indices = shuffled_indices[train_size+val_size:]\n",
        "\n",
        "        train_ds = dataset.select(train_indices)\n",
        "        val_ds = dataset.select(val_indices)\n",
        "        test_ds = dataset.select(test_indices)\n",
        "\n",
        "        print(f\"Training samples: {len(train_ds)}, Validation samples: {len(val_ds)}, Test samples: {len(test_ds)}\")\n",
        "\n",
        "        # Create data loaders\n",
        "        train_loader = DataLoader(\n",
        "            train_ds,\n",
        "            batch_size=8,\n",
        "            shuffle=True,\n",
        "            collate_fn=collate_fn,\n",
        "            num_workers=2,\n",
        "            pin_memory=True\n",
        "        )\n",
        "\n",
        "        val_loader = DataLoader(\n",
        "            val_ds,\n",
        "            batch_size=8,\n",
        "            shuffle=False,\n",
        "            collate_fn=collate_fn,\n",
        "            num_workers=2,\n",
        "            pin_memory=True\n",
        "        )\n",
        "\n",
        "        test_loader = DataLoader(\n",
        "            test_ds,\n",
        "            batch_size=8,\n",
        "            shuffle=False,\n",
        "            collate_fn=collate_fn,\n",
        "            num_workers=2,\n",
        "            pin_memory=True\n",
        "        )\n",
        "\n",
        "        # Initialize enhanced model\n",
        "        print(\"Initializing enhanced BLIP model...\")\n",
        "        model = EnhancedBLIP(sparsity=0.7)  # Keeping preferred sparsity value\n",
        "        model.to(device)\n",
        "\n",
        "        # Train model\n",
        "        print(\"Starting training...\")\n",
        "        train_model(\n",
        "            model=model,\n",
        "            train_loader=train_loader,\n",
        "            val_loader=val_loader,\n",
        "            num_epochs=8,  # Set to 8 epochs based on previous results\n",
        "            lr=2e-5,\n",
        "            device=device,\n",
        "            checkpoint_dir=\"token_gating_checkpoints\"\n",
        "        )\n",
        "\n",
        "        # Load best model for evaluation\n",
        "        best_model_path = os.path.join(\"token_gating_checkpoints\", \"best_model.pth\")\n",
        "        if os.path.exists(best_model_path):\n",
        "            print(f\"Loading best model from {best_model_path} for final evaluation\")\n",
        "            try:\n",
        "                # Try with weights_only=False first\n",
        "                checkpoint = torch.load(best_model_path, map_location=device, weights_only=False)\n",
        "                model.load_state_dict(checkpoint[\"model_state\"])\n",
        "                best_epoch = checkpoint.get(\"epoch\", \"unknown\")\n",
        "                print(f\"Best model was from epoch {best_epoch}\")\n",
        "            except Exception as e:\n",
        "                print(f\"Error loading with weights_only=False: {e}\")\n",
        "                print(\"Trying alternative loading method...\")\n",
        "                # If that fails, try a more forgiving approach\n",
        "                import numpy as np\n",
        "                from numpy._core.multiarray import scalar\n",
        "                torch.serialization.add_safe_globals([scalar])\n",
        "                checkpoint = torch.load(best_model_path, map_location=device, weights_only=False)\n",
        "                model.load_state_dict(checkpoint[\"model_state\"])\n",
        "                best_epoch = checkpoint.get(\"epoch\", \"unknown\")\n",
        "                print(f\"Best model was from epoch {best_epoch}\")\n",
        "\n",
        "        # Evaluate on validation set (not final test)\n",
        "        print(\"\\nPerforming validation set evaluation...\")\n",
        "        val_metrics = evaluate_model(model, val_loader, device=device, is_final_test=False)\n",
        "\n",
        "        # Evaluate on test set (marked as final test to ensure SPICE is calculated)\n",
        "        print(\"\\nPerforming test set evaluation (first time evaluating on these samples)...\")\n",
        "        print(\"NOTE: This is the final test evaluation, so SPICE will be calculated regardless of time taken\")\n",
        "        test_metrics = evaluate_model(model, test_loader, device=device, is_final_test=True)\n",
        "\n",
        "        # Print validation results - multiply metrics by 100\n",
        "        print(\"\\nValidation Set Results:\")\n",
        "        val_metrics_100 = {k: v * 100 for k, v in val_metrics.items()}\n",
        "        print(f\"BLEU-4: {val_metrics_100['bleu4']:.2f}\")\n",
        "        print(f\"CIDEr: {val_metrics_100['cider']:.2f}\")\n",
        "        print(f\"SPICE: {val_metrics_100['spice']:.2f}\")\n",
        "        print(f\"ROUGE: {val_metrics_100['rouge']:.2f}\")\n",
        "        if 'meteor' in val_metrics_100 and val_metrics_100['meteor'] > 0:\n",
        "            print(f\"METEOR: {val_metrics_100['meteor']:.2f}\")\n",
        "\n",
        "        # Print test results - multiply metrics by 100\n",
        "        print(\"\\nTest Set Results:\")\n",
        "        test_metrics_100 = {k: v * 100 for k, v in test_metrics.items()}\n",
        "        print(f\"BLEU-4: {test_metrics_100['bleu4']:.2f}\")\n",
        "        print(f\"CIDEr: {test_metrics_100['cider']:.2f}\")\n",
        "        print(f\"SPICE: {test_metrics_100['spice']:.2f}\")\n",
        "        print(f\"ROUGE: {test_metrics_100['rouge']:.2f}\")\n",
        "        if 'meteor' in test_metrics_100 and test_metrics_100['meteor'] > 0:\n",
        "            print(f\"METEOR: {test_metrics_100['meteor']:.2f}\")\n",
        "\n",
        "        # Additional check for SPICE in test results\n",
        "        if test_metrics['spice'] == 0.0:\n",
        "            print(\"WARNING: SPICE score is still 0.0 in test results.\")\n",
        "            print(\"Attempting one more SPICE calculation with small subset...\")\n",
        "\n",
        "            # Try calculating SPICE on a smaller subset as a fallback\n",
        "            small_test_loader = DataLoader(\n",
        "                test_ds.select(range(min(500, len(test_ds)))),  # Use at most 500 samples\n",
        "                batch_size=8,\n",
        "                shuffle=False,\n",
        "                collate_fn=collate_fn,\n",
        "                num_workers=1\n",
        "            )\n",
        "\n",
        "            print(\"Running SPICE calculation on reduced test set...\")\n",
        "            small_test_metrics = evaluate_model(model, small_test_loader, device=device, is_final_test=True)\n",
        "\n",
        "            if small_test_metrics['spice'] > 0.0:\n",
        "                print(f\"SPICE calculation successful on reduced set: {small_test_metrics['spice'] * 100:.2f}\")\n",
        "                test_metrics['spice'] = small_test_metrics['spice']\n",
        "                print(f\"Updated SPICE score: {test_metrics['spice'] * 100:.2f}\")\n",
        "\n",
        "        # Save test results (saving both original values and multiplied by 100)\n",
        "        test_results_path = os.path.join(\"token_gating_checkpoints\", \"test_results.pt\")\n",
        "        torch.save({\n",
        "            # Original values\n",
        "            \"bleu4\": test_metrics['bleu4'],\n",
        "            \"cider\": test_metrics['cider'],\n",
        "            \"spice\": test_metrics['spice'],\n",
        "            \"rouge\": test_metrics['rouge'],\n",
        "            \"meteor\": test_metrics.get('meteor', 0.0),\n",
        "            # Values multiplied by 100 for easier reporting\n",
        "            \"bleu4_100\": test_metrics['bleu4'] * 100,\n",
        "            \"cider_100\": test_metrics['cider'] * 100,\n",
        "            \"spice_100\": test_metrics['spice'] * 100,\n",
        "            \"rouge_100\": test_metrics['rouge'] * 100,\n",
        "            \"meteor_100\": test_metrics.get('meteor', 0.0) * 100\n",
        "        }, test_results_path)\n",
        "\n",
        "        # Compare validation and test results (with metrics multiplied by 100)\n",
        "        print(\"\\nValidation vs Test Performance (scores multiplied by 100):\")\n",
        "        metrics_comparison = {\n",
        "            'Metric': ['BLEU-4', 'CIDEr', 'SPICE', 'ROUGE', 'METEOR'],\n",
        "            'Validation': [\n",
        "                f\"{val_metrics['bleu4'] * 100:.2f}\",\n",
        "                f\"{val_metrics['cider'] * 100:.2f}\",\n",
        "                f\"{val_metrics['spice'] * 100:.2f}\",\n",
        "                f\"{val_metrics['rouge'] * 100:.2f}\",\n",
        "                f\"{val_metrics.get('meteor', 0.0) * 100:.2f}\"\n",
        "            ],\n",
        "            'Test': [\n",
        "                f\"{test_metrics['bleu4'] * 100:.2f}\",\n",
        "                f\"{test_metrics['cider'] * 100:.2f}\",\n",
        "                f\"{test_metrics['spice'] * 100:.2f}\",\n",
        "                f\"{test_metrics['rouge'] * 100:.2f}\",\n",
        "                f\"{test_metrics.get('meteor', 0.0) * 100:.2f}\"\n",
        "            ],\n",
        "            'Diff (Test-Val)': [\n",
        "                f\"{(test_metrics['bleu4'] - val_metrics['bleu4']) * 100:.2f}\",\n",
        "                f\"{(test_metrics['cider'] - val_metrics['cider']) * 100:.2f}\",\n",
        "                f\"{(test_metrics['spice'] - val_metrics['spice']) * 100:.2f}\",\n",
        "                f\"{(test_metrics['rouge'] - val_metrics['rouge']) * 100:.2f}\",\n",
        "                f\"{(test_metrics.get('meteor', 0.0) - val_metrics.get('meteor', 0.0)) * 100:.2f}\"\n",
        "            ]\n",
        "        }\n",
        "\n",
        "        comparison_df = pd.DataFrame(metrics_comparison)\n",
        "        print(comparison_df.to_string(index=False))\n",
        "\n",
        "        # Save comparison results\n",
        "        comparison_path = os.path.join(\"token_gating_checkpoints\", \"val_test_comparison.csv\")\n",
        "        comparison_df.to_csv(comparison_path, index=False)\n",
        "        print(f\"Comparison results saved to {comparison_path}\")\n",
        "\n",
        "    except Exception as e:\n",
        "        print(f\"Error in main function: {e}\")\n",
        "        import traceback\n",
        "        traceback.print_exc()\n",
        "\n",
        "if __name__ == \"__main__\":\n",
        "    main()"
      ],
      "metadata": {
        "colab": {
          "base_uri": "https://localhost:8080/",
          "height": 1000,
          "referenced_widgets": [
            "e19f59f19f3849c987846810b831a066",
            "af59a9251e2b4faeb8d9b84cbd7cfd71",
            "6d8585e01cea4c1ba76ec71d556728ce",
            "5154e0c2c6ba426b85df399664c53061",
            "c08815519cb24eaf88c9291d015fbc81",
            "d2c85ca628034452bc03f32f5a6f0d4d",
            "ba66ab36778140fbbc76d3adb30483c1",
            "5c73a0d4848d478a84a80b6a424f1048",
            "de9053cc5dac45f2ac3b24072ba37b7e",
            "27939b7bfbc94a1383924223e91c8556",
            "acd277c8ccc34ec98d554e516d85774a",
            "ee45dd15ad6a45b8ae6dc9e22b597f6f",
            "d1f0330efb144c82a8370ea6254b9e32",
            "0d16d62481cc4a8da4dc1aece60a3041",
            "d27984448edc48aa9fa2a8fb655ae159",
            "bb979003ab3e47e090a097bc883676d4",
            "0ce01ab986e14c0a9338d1465cadda4b",
            "c86f503132524d71b858cfeb9a713b2b",
            "a9c4220881c840c28f39a0975b9fd24d",
            "9384ad46fcb84ed8bc63eb112b938d09",
            "cdb2ffbc9c714b5985086b8898dee018",
            "0e5da95d987b4f1e9961903a5040a1dc",
            "04a21f0c2b39494799283877970b6ff3",
            "bb9f3dfa9d684aac9fa747daba8a1a93",
            "179b9cd95dbd4e62a1bc48829e9bd18c",
            "69f10eda83014448a2ff71afc2522195",
            "504dbfe9054d4dd7bd15b0e95a4e153a",
            "e67868333b394e5d9dcfb1f3dba36390",
            "25f5dda60d364e7dbc658993e59cac72",
            "08562ac3243d4cf0be415c03a1d1c934",
            "848164901c194461a01baba03ff4963b",
            "00fb11b89d424dee8914eb1b39d5bed4",
            "9d160eb475354c059008ec184be2c01e",
            "139e3fc9dfd745528f8973d94e0fad39",
            "510d4e40962142e39b310e8a8e6b0a4a",
            "814b5977329145e8a49a40cac9c78c1b",
            "ecebb5b1655e49dbb20340c07fc7ccbc",
            "4f3147a8aab24ff08482fa076ce75d5f",
            "71309cc134334401a94f6b7925b20762",
            "77400b08c85f4eb2b877727a814d1192",
            "5c466d49aa434e7ebe088bc22c2e5854",
            "26c4e18ffb9d46699ca9bece29af3bfe",
            "af27f41ae41948e1a1e80af08fe7dbdd",
            "84b0d448545047f6a6f9e6ef2b731b68",
            "f505e03c77ea4d6eb440c98b28d7ebe4",
            "cf1c9dcc552e4af18774c2c9a69b9371",
            "cea38de85fa24b448adcece6ccade8d6",
            "0cc60e43a24649f4ae34325b35341de6",
            "5784b7a643d345cc979633f4e44c20f5",
            "2a9017d42bcf43f8904b94227be4799c",
            "6058fb8a658f47c4bd317128ce3c363d",
            "d10053da878147eb89990bbfb90d2ff2",
            "06ba3d11e7af4648bfec87c6ce26556b",
            "8ddec5e839c5402d843265025169433e",
            "7b5ba8f03c1044c2bfb483e9d4ad5f4a",
            "5c47b497341e45dbbfc57f58692bb138",
            "5c9a64f8b87d487da07a1cbf9f657dbc",
            "8222038bd4e248588e874a9747ab5ef2",
            "3051fb64742243dd8e871eb6c719a1c6",
            "e9c0d64cc8f442378958b2bbc93143a9",
            "d7f903328f0346debd5f0de2dad9fc45",
            "455980f63c584bdc853e9287a4ec95c2",
            "dde46a8fb85f49ee93344b14c5703b1b",
            "d9bd5c262f7f4cc7be2ed64f782f8afd",
            "142de14bc1f3462fab25fb307fe6d534",
            "3b175365a3ac4f6d9780123032f49b70",
            "0a4629ca93e64f40b8ef8ac06eb138db",
            "996dc5dfc3aa4f19a52bc454ddf882d3",
            "ecf55e2ab765452f99d4574f1bcfc8b1",
            "5ab867bebe2c48078c81ad5e26a9a4c5",
            "50bc9c6f8f4942b998b5101e93bcd13c",
            "f8211d3a80a946f098e50605631877d4",
            "4597a89a2c7f46c8a69106dba09f6cef",
            "f8c1cc8ee4b04794ad6ed818bd2a27f8",
            "c29c6a3883394919bef17b66a87ff564",
            "76755d7ceebf48dc844114e3f55a24ee",
            "710c4a4b401049ec8a7fd6a6a95707fd",
            "24df019c0b9b4f3098607556e01c1617",
            "213559ba385740d6845e2a56c6dee42f",
            "e930bf631bf240c88294da306e21aca6",
            "480ca3f6c4684dc8960e208f172c321f",
            "9a277267dcaf4734a7fbf68ba0146bd5",
            "9b2c9746bb8d48ceafe63a4e843ea6aa",
            "92f9c257b66b4db4a6a4732aa2f7a4f4",
            "1a545f1ebc6c44a1af9fd9e84cd176ce",
            "8573bd5309804e27839d396194dd3fc4",
            "49868845a45f473c96fd24283ea530ee",
            "25a953cc7f2c4c20a1c6a293cdabdf03",
            "5604646610354b2d8d20ceb306c56303",
            "3c757694667d488784b89eec12dde99f",
            "5c6d51f88a604c8a9615d5803ad0f77e",
            "89d1698ad6564d7fbcd5d39c88188165",
            "1bda1637ed1e432fbddbfb72fe268786",
            "1e178a1954bf4868b48705d9afc8e0a8",
            "65809eb1c379434184a8a9a29efd9718",
            "f00000cfd18c466aaa589b603741337e",
            "773f62c7126e4625aa5c804d1604195f",
            "be739d4ef9c94b49a1b2adcce1f752f4",
            "90840165f449413ebb1dcd6bbad8ad33",
            "76521feb229445288992a9a84c8ce58b",
            "f1ee7a2bff3242d38a4f14a5a11c51fa",
            "4eb89e4e64334c0fa4392d437b553367",
            "8042c7d643444a838844f5bd6c30cb36",
            "bab06c23c41346cc835fa8e2139a6133",
            "21be5b70e99546c8a1750964a1a12657",
            "d64f3b5af24c460f9000b19e52a5c620",
            "7773e0b2b87a4f42bddf85b68f7b70be",
            "ba1980dda35b4a72bff94c664b120fca",
            "f57ec1932c1e4d81823ec2ec6c8b7116",
            "d1359d2d118f46ae8119b9e7afb1e296",
            "a15908fe42cc4dd3bd38792e322ef054",
            "c2e875ce47c84580ba7ffa134896120e",
            "1479aba0be7547ef8c9756833383de14",
            "ffbdd83b3f9e488b86d59ae5d767c610",
            "51b96901fd6e47188bb60ba347f79a07",
            "465b8e2ce8d34e079e24dd749296a6e5",
            "79f0f25e02c648e796eaf65a7d6ab6d7",
            "45f7b57bbc8949c5a3594e42588539e8",
            "0d64ab4ed41148ea9ca20bbd0004af7c",
            "8da218ae4eb74b50994ad9eedc228260",
            "a82ead2031ab425ba1d5f8a22dae7f29",
            "a4021d9c8d844ffeab9b74837370eb8c",
            "6186c183f67f4b69bc45b61211c82813",
            "f63584f6922c4e01949239f44dcda14e",
            "47bf8cb0c20c4c77bb7e0d4649dd8ea3",
            "0f9edb6f6acc4cacbe8ba03f7651821e",
            "685956e2c28b4d24918736b366bc4aa1",
            "7c18d22cb0fb408a94f674f7f3c5a995",
            "4804f03aa3f24387a663b8b4bd2ae8e4",
            "582fbe20a7fb46eaa5152af43fe180f6",
            "d4a1b87a167247f794fc2c566a055e4d",
            "49f33083f9784c42948fddb6bbf32ac3",
            "2498fbc3b3dc4753951557329e905df8",
            "26f489b13c5d49f8b412c4b546a20bca",
            "f4917e4295f64144b227c9c6e5ca3974",
            "4904efda08a549249e8215a831da8d72",
            "f4e2e8322e6043c0bc4dde9fb21b9b52",
            "3fee8e7d8a2e432c9eeb306ceced2248",
            "daa6fe8dc23f4ee28467978954978c4b",
            "9ec1dc5dd9fe415091706d442abf8ecc",
            "f458b5f6c12f42e398f9f07297268662",
            "a40fa960ff1748edb42d1a7dde47841e",
            "37fa212ec8ed457ea3ded5de172cb2bb",
            "7614b27c63e2473f8ce6ba1c665dde0a",
            "3c9f84b7805a478d90f7dc2149bf0bf7",
            "fed7bcc8d5244398ac2295d3ce2bc566",
            "a06323e6c9904911b89059a60f2b2211",
            "53735a6b38e24de093fd5f1c5555689c",
            "14d7de2d205c4c18ab3da8ec9f543a6c",
            "e486cd1708e74d6daff78e6c67d2aba0",
            "be8d9681915e4c74aeb8be1adf5ec988",
            "330a6d2abdcb4313929ee31c5d8a9976",
            "ed90baeff786494583489b29ec52fdde",
            "a0bb3ba786bb4df5bfd7fe4f451fcff1",
            "6d4458e7c07144f29ea70fb33f29de28",
            "3e4d2d8169b84db4abb173c2ce31c004",
            "1dbef0b34afb421ca48bac40ea0c50d7",
            "0352ccb5c9f848a9a4cd1e948ff9244c",
            "dee51b435e524cfcbc9deb7f4c03fe81",
            "10df29824871418f9b3f47ac657d3453",
            "ac292a7488d34b13bc8a6193bba44552",
            "3017b18f368b4486a24a5661f16f6912",
            "2a4e7c4a7fa54fe88d993d2d8f1375cb",
            "89674d3e0cfd49f496191a83df71ace7",
            "a720bcbf3aa542f992b3eeff717f63e6",
            "850c5e3f48164d97b00fde473f07df27",
            "eac1d55582cb44fd88f5de72886aaaac",
            "dbbd6e108e9341d29a50313bb61ea9e4",
            "ab5f99d264ad4299adf18c8f1803a2bc",
            "dd0a2b7f8f31473ea6036dae5fb3cb02",
            "b86c029dea694d16a4a3de9cd5fc25a9",
            "aa558e54cdd742eead6a2990b672bcba",
            "6534102dc20546dbb4e1e1533b27199e",
            "508a78bdafe84977a4d9ed01b8db0d82",
            "04aca6216e954204bf78dd89975a903a",
            "f1dcbcab635a487294dcd68a96115510",
            "5a48ffd845524731b8a213a1bc9db6af",
            "59b646ee3d814a3eb6c80c7ba8d01fe9",
            "f62f03b8a9fc461a9c94b0299301643f",
            "a7707b6773dc4d4496478050743eed85",
            "a9183f49373a427d9c72ce70b2559a58",
            "c30ac16f7fcb4af59181d6dc79bacd56",
            "97f6b39f048e41d0bc026351e93dbad8",
            "d29929b20ef04929a4237a69e881d8a0",
            "462b72c6edea448c92a610541e8be0fa",
            "05821ed2a52b45259a5df4377b5cf177",
            "e2904e31735341ceb40472158f433981",
            "4b5ec8f05dc746a8ac4f877fdb21f8f7",
            "d6f6ad28795d4934a998eff5193a2c8b",
            "d9749761554d4b169271e21289d796ac",
            "d8c061aa50c9467e9cbd0f0f4a98a6b3",
            "7fd2ff0ddd45467e90a02c75caa1d32f",
            "c6063754d9484617b41a97e237538dd2",
            "256355bd768346408004437c93af7146",
            "6bd0e956ef674c2cb49580c6f1d3d1d7",
            "20546ec53dfd4b8eb6668c2572748346",
            "33adb5ee922b46d2a43f0405b43d3674",
            "246d56928c4d49368b3dc52ceabf0ac7",
            "a389b3afb27f4b80bfa95729cb89f183",
            "a53c834a3cdb4d83b5de63c3bf4a61ac",
            "985be91cedcc46ed91754c04217312e4",
            "39c9580e79b64365b25a376978821d8c",
            "f75650cd4fe04280b2bb9fdd77d0b7bf",
            "8d3744236ac244d4b308ee6d5c509c88",
            "756e14edfcd54f55833c922f7d3df14c",
            "f81e438cec4d45479fcdd0d8defca87b",
            "e5da3e3e31434486a086cca4b31ec301",
            "bda30bda03f647709122e35349cd7070",
            "0f57a660c5aa4851a8aa6bab2a2c881e",
            "0a6924fa51e3420eb028774422abbc15",
            "d37dd17e713b406ebd81d959b297c211",
            "c0b091e89f134181a76e942e0b5d6bfb",
            "76995ecb8308403fb41633f2d836fd8d",
            "7517d0704c344e9ebf0b0e28d4b65e8d",
            "3987cbc1e2eb459dbb7827f4fbc74dfa",
            "1799beb4dc064b2a83eea3ca8d29e356",
            "29936a393eaa4c6da421724f9a1bdd36",
            "066941d9569e4d10b039dd07e8f728ed",
            "d0782808e43c45f699aeb8ee1901e649",
            "4ecf2f2f590b45ba82e9e62a973a929c",
            "499ca1c1ca4f4189bb9c10d5f3930b3c",
            "d48030579a054a4eb62cb0833b4235e9",
            "ec8ca3118a694f7aa55e46ba4d9511cb",
            "9d0b07445847463590f1b94445477ee8",
            "2603104320a14cb4953938e58df6e906",
            "4959bfb1eeeb4896a3698dd2baf4e036",
            "516db41b874848339ccceb27b18e9cc1",
            "a462f7ef85194a94816089ca385fb95b",
            "33b0cc0b81854791a88027db0e5bafc7",
            "e51df335a73f485fad9b2a556f108d39",
            "76ad3fddf8284012b08335657b139f7c",
            "a644e99c11c443f69c3cc58b2054a583",
            "ee5d36987a26410fa10734497777629f",
            "2277f5a01093434ab5fddffed869cfdb",
            "c8cc1605ad4f4e90bd81b184988fe9d2",
            "3af3067f500c4852a67d57e04d8250ce",
            "fbd7ddc52b544d44b0a52993134eccbf",
            "2af413851fbb471fa83bb41884569dd6",
            "4a7f8bba7cf5477489fd6b6caf2e60b9",
            "2f3a5fc81f6a4c03a0b8aca4258fd413",
            "226a5b04b05b44fda48ca7bc48af482a",
            "9bc7e8647f8249c4b59210219472c54b",
            "008a278b4aad41fdb5e28f5b7b3ed460",
            "376f81ad29514258a7f0bfb94ade7473",
            "2ea8798201f6443389ed2990287026f0",
            "ed6a57e5aafc41cf91e887cce9cc4311",
            "3ba24440b04147e79ee8a24a4d031754",
            "daa6ea3bd88e44b497ded82698bccd6e",
            "c244972bea584afcbc6d6d53154860f2",
            "5096b2c6ba864723848ac8e05660a068",
            "029495025f34480b84a8385b181adcbd",
            "0d5fb18298fc474f8e13759293ca9401",
            "069ff74dced5443689140569f5b96619",
            "ba8dd11830be46e0894d182bc7d77b45",
            "837ba0ef66bc4d869a2677f2b25b2d28",
            "ade035846c08420eb024d34d590b73a7",
            "4075a58a93b24dca82b29ac43807535c",
            "b1bed24809b54ced9a3ab78493a820a2",
            "a322919e24bc4685b98a054bb090f5e9",
            "c120a913ad9c4ae9aceafa77bb561e1e",
            "69381cd2c62448e08a4813500bc795b5",
            "267be0dfe3f74ccc9f8754922a31f633",
            "82349e5753f0431895ad5379de9ff16c",
            "b3f85e5a38264a999fe0b2a3e9479fab",
            "2283672c5f884b9abe611940a56530ba",
            "56a68303071e4003b869cb82df4b7a76",
            "93c780f7b6224e78a9855c6a20756125",
            "4cac8058a12049c9a6d5c8adfa5bb685",
            "3b510795693f45d1b8c1c4686bea22bc",
            "87c66c00256a41499f1c6e3821db87c6",
            "7639e9d380d940c086ef28238939d5ad",
            "2bcfbd8e95814f8fa248011179505eff",
            "f4472860a9b247cf8df45ae46b32119a",
            "1bbe019670ff4a039bf6900914e84b64",
            "fca020cb867744a2b7a98c69892186c0",
            "c9ed009b3de743158717a23ec6ba3428",
            "1b7385f696ef41a09c2d2553ebedec43",
            "3c980ba5d3344faa82e489121655791b",
            "cad4930f7c8b4739a0749c358e652b05",
            "48aab279cf6545eab61ef9e78b2e92a7",
            "22d601d0dbd9401b85674a1df021e31c",
            "e02c5c7561f041a1bbc290db751ae350",
            "ca0405bf1c2f4e7ca54021bed316ea9d",
            "896c3f95affa42078ebb73a4d44b08d9",
            "a4a89029d0014e71984bd898b98f8b43",
            "ebcccfcb83e5497ab4b8c80296dec598",
            "2a2512092ff34a9a854570674db8ec93",
            "e6a720def3da481ea4b80b498201c4e7",
            "2ee98e294bb7487da6d4c49c0fc6cd2a",
            "2576c4eafc3142ffb2e09facb8036c38",
            "90549ad009ce4f7280dd8d2f23b4013e",
            "3be7dcb1c1504186b79fb7a6e2526f25",
            "db6602ca3068470c8f53269fe588e13a",
            "7d31e296384f4caab1eddf5b56f87680",
            "892299ee12d847389ead5ca47b9a35a5",
            "3f548b241888461da5241a0d063a5e63",
            "c41a8592730142c6aa5e56f0887a528e",
            "569bf00ff7e543dfb70e5bac5121a418",
            "5f5e3f6f6e244632a45cc2d24e269f4e",
            "5de7407b4ea14e7da09599b5f0be73b8",
            "da2f799aa3e54100bc8c8eaa9f88a91e",
            "f5746645880f4bffbd6e753948900182",
            "03354dee7e5649d5b715c40ca8aff301",
            "be74f935833148be93db78c1812586e7",
            "52195cb6b19a49dc8fb33ba94370aa2f",
            "1ded4578b8b64d068f0d78375b7c5ebf",
            "f051360a6c734382b81b42eac70b317b",
            "9041faf127ec47bc963e49da481c53f9",
            "9d8c1a8810c2478890d83d55ad398556",
            "f5f3fadf04c1438ea1e98c62ed63bb6b",
            "080c2140ccbf4bf199797427997fcda6",
            "59037c1206b64522b1fac858c809e514",
            "75c56867e3a547b38bc6c0d6bd4a01b7",
            "c7b3e0032eac406aa365eca0bde25166",
            "18c1bedec9f845d58b5285cf5cd200e5",
            "4b7f88a209af4929b6162e550c9325e5",
            "cb9e56579d194171b42d4a9ab6f284f2",
            "76013685f3a34c3a8d4e32e6d55773db",
            "ffe0ae500af14d39a06a0aa907af8ef9",
            "d22e530361a14ee4ae7171ddb992e05e",
            "a38822edebd44b4ebcb7fe59e0ca956f",
            "bbca3c7b37304a069bb58682c2eb77fe",
            "55d796a0cdea41859c853167624f81b6",
            "fdc2b1f99b024a01a2d26f960aacf8b9",
            "68355f692ff1405aa9399d6001a331c4",
            "0c3b193a7b6a486d941eca863ccbdb1b",
            "42d81c9c7cc842f9a25db7773716bd9a",
            "d23b563c150a47e9b346db0ac008c025",
            "6ceb7d1da9a1417f96c7bad9157328b3",
            "1739891c391c41b89c7592976b93edf4",
            "9b6197d5f69843f7a8b436c9c672bd58",
            "b6d6bdba9d3e4861ad2d1f465f85a946",
            "d91ebc137cfd486595236fbef2fd3d3b",
            "93c3e411ff3142438b82ac5c4e3ae624",
            "3ecd3ff8d13f4ea0a98d06f7e1cda4ec",
            "bca2572c75634b04a95910f4b36a6ca6",
            "5052ab2444de4dd1bddd34adc7cfbf74",
            "d5414c9c40664b409bc9eee3507e2b73",
            "ca52021d5b0a456bbfec57601045ddd2",
            "051df8f806044c66931697f841b4cbed",
            "83a2b9fa9b274c64be227d76dcad09fd",
            "eb7d102207754f61bb292084d6aa43bc",
            "1eaa98e47b1f40b08959db2f00758a9b",
            "cd88547677434c789e5f3285b02dcf96",
            "33206c8b14864b1fa5f3096faca832a2",
            "c3532067d455450ebe994dbd03e74a18",
            "c564e8b92a1a4accb94c5dc582b2aa0f",
            "eda291bf0f114029a4113dc212b75f14",
            "48b6208e364046feb7565d41e772e2a7",
            "70d20f973d7847ddbc6b9f950ca9264a",
            "b437f1ab78b0486bad88e013eb9eab82",
            "7465c8ea0a6d4e83a72884e8ec08c0aa",
            "e446078c2199410d9db3b92d7a2907cd",
            "29498b796dc64b4a9e1d55cf6715ca69",
            "da759acbec8d4f11ba6d1fef8b278179",
            "cfeefa519bcf456ea1dc5320a4a06f8b",
            "eed7ac3f114f4be195f2c3e39bc4f6a9",
            "48a651ff46ea40ae84cab10e1e5b4f26",
            "dc2239692c724214a4c9b754fc97989b",
            "ab2b6b948a3b43cc9feb79641fabc960",
            "326855d3d7d4453c92ce22b2d96543a0",
            "d3fb25c0e179484c85c3aac5fc1cf881",
            "473eb927b18e4e0b828bab9b37834f55",
            "9584db15252d4cf799bec97b64dcbb8d",
            "6f68c458a4a04b268b82e48d31b0291d",
            "e4acc6682ecd496f8b234dbdef95690b",
            "1644a58210314b7184a84f4ccfe1d374",
            "05fa48cbe78c45159583dcd7f54cb902",
            "6d9a82f0477e4e86b7aa14a2f9bb19cd",
            "9163348b8dc84a22a618b0769828b55e",
            "5d779be86cdb402594233f8df219efa3",
            "6103d06aaac4484cbbe7af84c4a8d45b",
            "ac77c676c33b4467a7114fd34006475f",
            "48594abcd56347598f0b65c6368ca454",
            "a5f4b4d131734081bd593b9960cc032e",
            "c0d54b07c247498f83c27b9c0f755860",
            "ea4a7e9985024a21817e892e7700e858",
            "259a86ad6a6241adbec14f17c4116bba",
            "82075c7f7b604d18a446225a0f8bd378",
            "89af404ab43d4f659efbe120e5f92913",
            "bf911c99664c48daa2241a5dd8abaf7c",
            "aafd4d9536ea4b5ca5852603ca17f079",
            "0f653e890255419c84f65b4a9a46ae54",
            "296db514ce504a01bb4d499f9195da14",
            "c759f7058e084e9aacf731bf9c7fa387",
            "3ccd613bdc1646689392ff202d73c0dd",
            "1c6cee3a912541519c82f437560016f1",
            "1d7818195bf94dc89de18fab4c5f0a7b",
            "ee9b2e1dd8a64144bba09c1d0f934812",
            "ac5f40ae95a1457788c7ab1ad7aea1b8",
            "6456d81a1c29498fbb7c49a30918e5f9",
            "3ac0787d856141ee917fd17cf65099e3",
            "7f9ee94451954f0289f289c6df551c51",
            "cd46ca07bdf9490bae94f71ecc852263",
            "f3e756cf058347b6a91017afba9ea3e4",
            "cc27753efc684d2bb7ed21f7bce6dcd4",
            "4d79b066043e4c9ba56804f468e2f00e",
            "21ce3467ebf74527867a407e0f182976",
            "d5edd0982fe44b9bba566ed3157c29a3",
            "8484c18a01a948af81b28308cf2df4c1",
            "28c5a62c8d8542ea8fdf1cba22f8379c",
            "523e3a0d2992480dacf66325409909cd",
            "ab4d68f940044d7da9eb639967208b32",
            "cc3778efc37c418ba42b7e01925505fb",
            "2ca507b5ff8c4d6eba550e4ce5d57463",
            "9eee79d7b12b4d7e9007171e1f02f301",
            "1a7edfd4e41b4abc843f326dfa585b87",
            "a2a096f7c20340c481e266fda0a3e76e",
            "af10b9c2ccb64b93b9e3a1808d8a9d2e",
            "ee15c635504f47d585405481770eaf35",
            "e1536d7016194ae0af027605788832bd",
            "6b419082b7bb407d8efed0b22bf94fe4",
            "449cf8335ab34d57a849c5c4651c0467",
            "9e52edd5baf94f10af52ba71caea81ce",
            "4da6aa3a486f4d41a73de82b9e2c476a",
            "d63a7ffae3114ed39a00239164bc6d33",
            "b6d7148c61104c05a886e054893539b8",
            "9124371fcaf44dd4896edb449c3004b1",
            "7d15872c74c04e37ab044760d3236de5",
            "2b53c70fac794b49bf9c9d511475af77",
            "642d61c7e9bd49f68e5c8ddb6f8588a0",
            "e95fda38474e4e9ab3a6efc4def3fb18",
            "98063950a1ee46c4bd53158ff5dce880",
            "0b4be7eba84c4e488a68b1db4335851d",
            "a5dbfaf1100c430e9f41ac6185209964",
            "87d2dd3aa38b457aafc7ab1bd88bc7a6",
            "f14e9f8bc9cf4b72a4c0ac65e3d60982",
            "ed4511a119744440a7f4aa63b2a8de83",
            "0bc35299b3f34f4f9f27129cfd74f208",
            "139b11613a66451e82efc13e112be890",
            "ae87d45487c3499da19d459fbf6a0ad9",
            "d72e82d895624f69a1ca218da9faa69b",
            "0534abde8ce74889be11f33f08ddda72",
            "74f48ca979174bffa0ca78f4dd771e58",
            "8d647340a4214165a999f47e9b589cb7",
            "a227326ae6854d0b890a4d27c6a773c7",
            "1098aece822e48dca1630acc77f3675c",
            "060ff1f5b9854cfb8bccfcabcc6d9d39",
            "04656d3588c340ea82ac22304be39c46",
            "d7d6f2ce4b0c42649c3b9906f5e637bd",
            "f988cfc058ba400486642619bbc3ab9d",
            "cdf3377362044502ac23dedb146c943c",
            "4adb6eb650ff4901b11b086f788226f6",
            "6102997dfd57403cbbbabecf43e56ce7",
            "529774b0012d4f6c86962af65580947d",
            "a44f96bf2f6b4faaa51dcf20428bb835",
            "dcb6ac55e73947ed9d36c83a629afc08",
            "9e43000fcd4446109cae5e968a353a01",
            "11b81bafdd4a4eb68db86e0ec6a0f82e",
            "4882f69c291347b9926230dc8bcbb28e",
            "712051fbcedb4b27a7ca9de629c857f5",
            "19101fc1300346ce862d0d19ff95e205",
            "aa17c32965b44b75bea2b7169d4aa532",
            "93b058fb4ba94ee8b927c77b2818a8c4",
            "7b205f8956c747e9b87703f32760b950",
            "474e832e5a664dfab8d4413498ffd4a5",
            "4973d39e319245359c1e9494ca4c7ce0",
            "e816ba4886884279b3d3090132acddc6",
            "fad78533ed7a440180c4e1030482979c",
            "83861fafa7e4454fa3bec44fb4a42ae7",
            "2d30a12e30134c878275e834a403ddff",
            "7e186b8e135346ce986e6d0d56a786d1",
            "c0eb2538f79f4ada987aa8cbe99bbd36",
            "f6c12bd929864ba99511cd7bdeca0123",
            "3644f5665d62480bb75ba893fce044de",
            "28bd31fe9f544f66aeeabe07a918ae51",
            "ed69866e368841f88512eded0577d5f8",
            "72732ca660f4471399c0266d043182a6",
            "942993c7fa044189bed905e194caae2d",
            "907b92b3fb734a1989a12af57543c09f",
            "aec59b8876764ee4b79b777dfbbb7905",
            "fb6c5f7f5b014f1c8378c13d8c95ebe9",
            "8dcdde3199174359a8b5f1679fe49629",
            "a592ca6c893242dbae0a644653695325",
            "b1ea5201576e4b7b825574fab1766d2e",
            "dcbdff385bd248bb819a2c564763dd61",
            "f321a8f8ace04872b655fece157748ae",
            "79e36befb4124cd0a820ea3df4100097",
            "3171923f580d48ac9b7aa49a1de251be",
            "a4daf64bc1324eb99013810c6131e202",
            "f43cac4a21ec49dfb49b62c5c975d8c2",
            "bba000f2434e4b49ab301042400cae02",
            "161a2ef78fd24ae393a2b7977d6bfacf",
            "607261f2cf0f4808a9fa607a646938d3",
            "9406cd5d048f4952936300006e91fd0b",
            "e10fd7e239a14a14adabd76a399e0f11",
            "3819b4a2bb14484d8f3b016c859315af",
            "851d0edca1744538afccf71e8a9f98e5",
            "4edfc70863104580a15d0419480ba37e",
            "384b9c7065d34013a37b27f12122ab9e",
            "9ea963a7abb4418593a516bc1580fed7",
            "2e3b9347f6e84432a79a120a6233e8e3",
            "a8181223867747a7a0dc09c72cc54d8e",
            "ca063f9aec2c48328dae804259c7d0db",
            "18291e04b9704da5bed6b0d50ed179eb",
            "94f640e6597544d2816db2e6b663ae6c",
            "a39d1114665d48c78aeb9739c203ec03",
            "435fed5dd4df410db1df53ba74d0c209",
            "e195ad5123404cb1929ee775dfc6c1ea",
            "24fe4926be644944bedda8a5364c629f",
            "f9ba82a1314e48fb876be7f03f3d8441",
            "39cb53695de24e98a717502f7e6c0a40",
            "f95d9abfed894ecaabb9a075d3135f5e",
            "0d3782c5b21b497c95471b692c24be71",
            "953c11c7dfc54858a4f56561e01c490c",
            "bc03cb9e0f6e4cc1a60a140ead1c743a",
            "268cb87288d94c6c95836b5af772dc41",
            "5eb92271f25841eb8d541c95e89b2123",
            "53be228c2828492da04db5f32dc2fba1",
            "12d53b73f25c420096282ab1020eba90",
            "6c74850b5af3440f8d029023197e630a",
            "5b1d13e4ae424684b9ec04cfef323d9a",
            "046ca39624b24839a4815ba07e1f7adf",
            "27a91d719fd34458b2349a2117f5b811",
            "c2e539b75e394af5b2f22e1947eb0942",
            "16351dc2b2dc432dafe9758f49d37114",
            "f3f179fbf67b403cb40b08ff45917613",
            "4027334d6b4748c39245fc7bf8670a64",
            "82449f9dbdc74f61b39e98228a90f0e2",
            "76db8e55ff5144548c97d699597032bd",
            "06680f85d1474eceae57cdd791afdf1d",
            "f62a844dc658479eb1a6a8cc043029bb",
            "71b5aaeedcd34e4ba87376468a4d0717",
            "643e44240c2741f2bd7c6ae6c71572d8",
            "42528df3ea90451d8f92072af4bdfbcd",
            "5efb19d548a34e2592079169e08e0106",
            "ea64145539b24e5daec5c6b5b40ae861",
            "92509b914d184a3bb5ea6a25801b1248",
            "587f071cb60748dd8cbdb7b77bdece38",
            "acfa674233ce42b39d15531fbcdce67b",
            "c0971b916abb479b85aaac95522b30c7",
            "670837fbe8ae41d2926fa6e9a044bd32",
            "6453a9026de941b1b53f89065dd49ab7",
            "91127d3e74cc472dae76e3400dcef267",
            "cf29434603f7433e99fd20cf0e90a62a",
            "c7705a5d9c6c4ca2be50af493eee41b7",
            "eb83575f67564ca9bfbe61dbfebfd159",
            "ea8ba8a06a174060bd24c40dc2043cd1",
            "c8c04861c5674c82a40dc77108f2ce82",
            "f18ff27f2e0a4eb2b8125d973f44ee32",
            "0d2d2ff7658c47f2b0df82b8e2c638e2",
            "9d1b64ef484f411696d742e732584f4b",
            "92b1f14159e240fe92222b1d9816d7fd",
            "48b5ff163c634116ad2e18894c2dd6ad",
            "c18f2170ba7d479b9602753044e8ebe4",
            "5aa6622c5c254537945da6515a873644",
            "f17b300af81543f4a6b422b555178280",
            "5d1fc40efba245b18bed342694ec37f8",
            "2efb383984b4419da9e9be1b52d21971",
            "56e45b0423c74d35bba1c56f121967c4",
            "857f426184e5464a92a5b156871d6b68",
            "51af96e5bb0544e294bcfc2cf07c9b22",
            "dd5b21345d6b4dd89e2219c6acc1cacd",
            "b3127f62d4b64f7982c0792b4d670bbc",
            "28d9d12fcd584d339d19a1ba47bfd7a7",
            "ff8ca4b2b8d14db799810762cb5c5f89",
            "0107aa0480e248d6abed77d26a0444ed",
            "2cd2a62669734cab9e45c40f383c5ca6",
            "6097c79c2a6048d5bc1bbb443e11785f",
            "2bb8ab2fcb83416a8bc63a56880a322f",
            "b79c2ed7b4884e42a87660a1981a61c7",
            "f1b9c64acad84ec4b5afffe2674f621b",
            "df2994ac8a3a4f91865dcdca5e695c85",
            "a440b8db01d64d4da1c714e46584c5af",
            "88c933fed01546c2b3f45d60dde2d965",
            "722aef608d21484abc9a0cc2ec804d02",
            "dfe03b62a9e64fe590d18ad3e049a758",
            "0e07741fd9944819b98890239ce616ac",
            "1d50090682b44fc8b957aa835ee535aa",
            "99568be3aa214b2194e4a65868a9243d",
            "a077b49b7d864e10a36b9640cdad3508",
            "554cd1ede5504a36a6b8fd33c2abfabb",
            "421cd2a16ad84885b4571dde0fedcb47",
            "6a1b9d2deefe4ed7a9423c531230ad7b",
            "ff68dc6d476b4198a54b6c789ac21201",
            "f5cd525751134de8ab170d146db79ab8",
            "d1e9504eb38b4879bacda2a2f62e6fc2",
            "de1aa47db5264356b47af855667187de",
            "2f273f7d28d7482c985495274153a509",
            "b8a091d70b8e4e4a92b3bcb363afc506",
            "c10631f2172040e2b4168fd7bd2c24b4",
            "345a2127c5e445ee89c1977656a791f0",
            "5fa4cf0d0de648b2a92a552279118d0f",
            "b79cd62e6d5e4742809c9d5d0eaac55d",
            "8414e1e808e04a70824f85210402e763",
            "c332f82c2e6f49ff93dd096d6fc6bfe4",
            "3388cf18e25b44eaa31b8f78ccc4b2f9",
            "2dec109788c343feb569834eea37b5ff",
            "c18425b668e54102aa56f3d0cc1c2c35",
            "4057f713fa61491785bb4fa9b5542caa",
            "5a9b51cd560b40eababc02b2af805d32",
            "5d723bdf183645d0b47761a6a5e7ac47",
            "b370461281b245cbb8c4e1381d4f08ab",
            "dec36aa5f353445abaf9b108d40e41fa",
            "b8e19f887e694b93baba2b974c794998",
            "225c8717263349f68106421bc6daf2eb",
            "634cdcf892f14f24901a6edccad34389",
            "5225b78941714e55a85afd70c5d05275",
            "5e54879ec629402389a0804cb45e4ccd",
            "aeba5135ea98406e9d5915b35f3ba5d4",
            "3ffbe4853d8242508eb479520dcaba06",
            "d52aba8b82e341d2b3f6a175538d664b",
            "5b61b8412d0d420098578c37fd3336b8",
            "960c5f4bdc594793bdc0b8f2a7362aa3",
            "6e4162536e974d2183cd2fdd8edefe60",
            "7ed539c575f3488bb24e654cc5e91b4c",
            "fa4ece2411214f04b246d60cb04183db",
            "a17bb0a788a64ae3a374657248a1f4a2",
            "158ea56987fe4120b366c2e25d6c5e1e",
            "7e47a36f5584442b86020d4d7afea6dc",
            "b59a51c677934b0c819066d95db49fe9",
            "12b83e2899ea49149801f7bc1f9fb29e",
            "fbf721fc256a4012872c92d1d20b3a79",
            "27c09638cbcf404eb08adca74d3a840f",
            "5bb6f8bcb3084da9bcb9f2cfd5d5c41c",
            "1f5577a5b752479882ee2199f1bf9c6f",
            "3eaeb4e2f5984886b30934c9865c3b97",
            "d557c6d6e9b247e1b5a3cadb5a7596ea",
            "330348c16c8342a78e7aab45f807d9c0",
            "ddfad01d20e447d4895caa95d2e52c3b",
            "bcccdcc68dd543a285976499e9160105",
            "d58ab2034cf9486fbf2267cd5e7b5e0b",
            "cca261fffc9e45ac8e00b8a4d093a0f9",
            "16951b09b69e45bea4fb6c22522d3b7e",
            "297dacf339704dd6958f887e29bf57dc",
            "41d479c65ccf4f5e95aa9bedca897fa1",
            "3ec2265958434b89b80d565c915c624e",
            "0cb0a9dc16c744d5bfa7b64ce018aa68",
            "78f684bbcbdd4d329e376c9242c83216",
            "e49e9b67057f44e68dd2248b2fc37263",
            "3af51d72c54b46659f88401b4f8f4ec9",
            "27138c87473d4334bf5c831badeace6d",
            "20c6d6fda6c940a2b33d45a97d540170",
            "857c39e6528d4576b65344599a6ef919",
            "798a3742493b45788c64215a6e03a58d",
            "5adddc4e5e944f9f9f5754fbaead2b22",
            "f7c89531770646539ee082d2a09b5a5a",
            "16f11a18858a4e4a9dabc8864ad94fb1",
            "2916bf715ddc400db7b993363ffe2be7",
            "f1fd9696e297470790dbd874f8b14f8e",
            "d3530ad9f1ce45a19bd93419acde60c8",
            "9cf2100e93234ab69f75c05b66a0f039",
            "cb5057caedbb429b894b49e8555e583b",
            "9c5e950f642d4988a25122d76310df8a",
            "943aab2d61824e51823dcc849c24d364",
            "0bd2b9f8f30f4de38f73ce5a465d93ce",
            "4184f4122abd4d7e8aeb8f4767f18b55",
            "c5375ef491cc4cd791a39b44b0ab726c",
            "b14dc4cc080f44c48b7440bb9b87ca16",
            "54e6d233426e4ff59854effce1d137c9",
            "5aaf0b59145c4844b2dcf00abc44598b",
            "7d9cd610c2f84ed081b3be450bec7785",
            "fb962f27d19241e9bc10a02db7852c3b",
            "1b21be9d8d824f6ebdf18390240dcb5b",
            "a15d955a4c894b47b390f57cc5bee927",
            "8ab1d8e751b844df83e213e4d550085d",
            "f8a11f8a621045b487e863e70643ef04",
            "3c43a634471747229b7a7b87dcddec2a",
            "9330b7efee24419393b9be23bd8c461b",
            "ca1817479c404cab94983d0b9ebde867",
            "b2062579b9e848328258f9f7cea57cb2",
            "d56fdd8e805e4b00b2be8b80cb888dcd",
            "512d24e76254442283a83fcdc8e2d7b8",
            "e00df61d0d0d4677928e44e1b2f013b2",
            "81cbcc4337974a00aff9d57d4fe2eead",
            "96b1b8e8d80c4a66802d61c18d656e89",
            "936d8d2cec2440d8b8f1ac7b4c01e103",
            "0b9d6d6a74ce49a8a79091e59e87eb73",
            "08644f32af16424489f6b93a6be75260",
            "9eed2007cdfe42d0b829092820c7717e",
            "cdd3ac6d705c451880b7988b4258afd4",
            "2b9d37c19c10458ca7d4486b0ac7e3ae",
            "0f96673adae34a5d860cb14425a9e6d8",
            "773a99d4702c4ed9a2e301b8227a54d6",
            "d91fc6b788fa4e699570be22956ce737",
            "e4d45f0d71d74320931080476c05c7d9",
            "38cc3fc9136d40b6b3124cf23099eb0c",
            "1f8a9f73b633432d941e7e586a062059",
            "fe238c137133441da0a5bc92f8f004e6",
            "f596f03522154606afb64efcd2c1ed79",
            "3647644fdf9e4f3c854f0cdbd893abee",
            "db1406d4cfa6405d9a8cbd6ab097f036",
            "279734a10ca84fa18af0ce5cc8587911",
            "e804b27034ed4c8cb594646fafb544cc",
            "c87517c127ce44dc97212c1a745afdeb",
            "12252903acb34ceea74990bf85e08dd1",
            "9201c7a20d4e4090994445f780999aba",
            "eaf70f50098340bea8f7bb44e50b27d0",
            "54e85f5c410d4dccb00f3cb460a519bc",
            "f26b1800f0d0445d82285a36d29b6c6c",
            "19beac104c42496fb7d042222e0b5b49",
            "9c8c7829aced4a39baa4b4dfbeae6d89",
            "9e24b1a50ff641d09fe571bf228af0ce",
            "bf4233d388ed4b2c866a8c3df64b798d",
            "220df55d2c164f25933f4d9624e8f0a1",
            "b3361ce5931c4281bee28e2a918ca5e5",
            "4847e27b2d4b4b48b79eae01d0b277fd",
            "ea1558334d8249f49f541dac55f054f1",
            "fb7f56fd28cf41fd81464f518fa80250",
            "b1f26b699a4c4e11be3ca118604da07d",
            "7f089d2722564b708227a65e475d032e",
            "a7c49b0a3e674bf6963399b729da6089",
            "cfd97e2e2c7c4ae983eacb600902db3c",
            "5b31f4e6967d4f5ca0b979b890058454"
          ]
        },
        "id": "ctK1mA04S5ar",
        "outputId": "c2422893-6665-4e7a-ded3-edddc20e0b9e"
      },
      "execution_count": null,
      "outputs": [
        {
          "output_type": "stream",
          "name": "stdout",
          "text": [
            "Using device: cuda\n",
            "Loading dataset...\n"
          ]
        },
        {
          "output_type": "stream",
          "name": "stderr",
          "text": [
            "/usr/local/lib/python3.11/dist-packages/huggingface_hub/utils/_auth.py:94: UserWarning: \n",
            "The secret `HF_TOKEN` does not exist in your Colab secrets.\n",
            "To authenticate with the Hugging Face Hub, create a token in your settings tab (https://huggingface.co/settings/tokens), set it as secret in your Google Colab and restart your session.\n",
            "You will be able to reuse this secret in all of your notebooks.\n",
            "Please note that authentication is recommended but still optional to access public models or datasets.\n",
            "  warnings.warn(\n"
          ]
        },
        {
          "output_type": "display_data",
          "data": {
            "text/plain": [
              "Resolving data files:   0%|          | 0/96 [00:00<?, ?it/s]"
            ],
            "application/vnd.jupyter.widget-view+json": {
              "version_major": 2,
              "version_minor": 0,
              "model_id": "e19f59f19f3849c987846810b831a066"
            }
          },
          "metadata": {}
        },
        {
          "output_type": "display_data",
          "data": {
            "text/plain": [
              "Downloading data:   0%|          | 0/96 [00:00<?, ?files/s]"
            ],
            "application/vnd.jupyter.widget-view+json": {
              "version_major": 2,
              "version_minor": 0,
              "model_id": "ee45dd15ad6a45b8ae6dc9e22b597f6f"
            }
          },
          "metadata": {}
        },
        {
          "output_type": "display_data",
          "data": {
            "text/plain": [
              "train-00001-of-00004.parquet:   0%|          | 0.00/1.40M [00:00<?, ?B/s]"
            ],
            "application/vnd.jupyter.widget-view+json": {
              "version_major": 2,
              "version_minor": 0,
              "model_id": "04a21f0c2b39494799283877970b6ff3"
            }
          },
          "metadata": {}
        },
        {
          "output_type": "display_data",
          "data": {
            "text/plain": [
              "train-00001-of-00004.parquet:   0%|          | 0.00/14.4M [00:00<?, ?B/s]"
            ],
            "application/vnd.jupyter.widget-view+json": {
              "version_major": 2,
              "version_minor": 0,
              "model_id": "139e3fc9dfd745528f8973d94e0fad39"
            }
          },
          "metadata": {}
        },
        {
          "output_type": "display_data",
          "data": {
            "text/plain": [
              "train-00000-of-00004.parquet:   0%|          | 0.00/17.8M [00:00<?, ?B/s]"
            ],
            "application/vnd.jupyter.widget-view+json": {
              "version_major": 2,
              "version_minor": 0,
              "model_id": "f505e03c77ea4d6eb440c98b28d7ebe4"
            }
          },
          "metadata": {}
        },
        {
          "output_type": "display_data",
          "data": {
            "text/plain": [
              "train-00002-of-00004.parquet:   0%|          | 0.00/1.15M [00:00<?, ?B/s]"
            ],
            "application/vnd.jupyter.widget-view+json": {
              "version_major": 2,
              "version_minor": 0,
              "model_id": "5c47b497341e45dbbfc57f58692bb138"
            }
          },
          "metadata": {}
        },
        {
          "output_type": "display_data",
          "data": {
            "text/plain": [
              "train-00000-of-00004.parquet:   0%|          | 0.00/1.84M [00:00<?, ?B/s]"
            ],
            "application/vnd.jupyter.widget-view+json": {
              "version_major": 2,
              "version_minor": 0,
              "model_id": "0a4629ca93e64f40b8ef8ac06eb138db"
            }
          },
          "metadata": {}
        },
        {
          "output_type": "display_data",
          "data": {
            "text/plain": [
              "train-00003-of-00004.parquet:   0%|          | 0.00/16.7M [00:00<?, ?B/s]"
            ],
            "application/vnd.jupyter.widget-view+json": {
              "version_major": 2,
              "version_minor": 0,
              "model_id": "24df019c0b9b4f3098607556e01c1617"
            }
          },
          "metadata": {}
        },
        {
          "output_type": "display_data",
          "data": {
            "text/plain": [
              "train-00000-of-00004.parquet:   0%|          | 0.00/14.6M [00:00<?, ?B/s]"
            ],
            "application/vnd.jupyter.widget-view+json": {
              "version_major": 2,
              "version_minor": 0,
              "model_id": "5604646610354b2d8d20ceb306c56303"
            }
          },
          "metadata": {}
        },
        {
          "output_type": "display_data",
          "data": {
            "text/plain": [
              "train-00003-of-00004.parquet:   0%|          | 0.00/14.8M [00:00<?, ?B/s]"
            ],
            "application/vnd.jupyter.widget-view+json": {
              "version_major": 2,
              "version_minor": 0,
              "model_id": "76521feb229445288992a9a84c8ce58b"
            }
          },
          "metadata": {}
        },
        {
          "output_type": "display_data",
          "data": {
            "text/plain": [
              "train-00000-of-00004.parquet:   0%|          | 0.00/1.14M [00:00<?, ?B/s]"
            ],
            "application/vnd.jupyter.widget-view+json": {
              "version_major": 2,
              "version_minor": 0,
              "model_id": "a15908fe42cc4dd3bd38792e322ef054"
            }
          },
          "metadata": {}
        },
        {
          "output_type": "display_data",
          "data": {
            "text/plain": [
              "train-00001-of-00004.parquet:   0%|          | 0.00/17.2M [00:00<?, ?B/s]"
            ],
            "application/vnd.jupyter.widget-view+json": {
              "version_major": 2,
              "version_minor": 0,
              "model_id": "a4021d9c8d844ffeab9b74837370eb8c"
            }
          },
          "metadata": {}
        },
        {
          "output_type": "display_data",
          "data": {
            "text/plain": [
              "train-00002-of-00004.parquet:   0%|          | 0.00/17.8M [00:00<?, ?B/s]"
            ],
            "application/vnd.jupyter.widget-view+json": {
              "version_major": 2,
              "version_minor": 0,
              "model_id": "2498fbc3b3dc4753951557329e905df8"
            }
          },
          "metadata": {}
        },
        {
          "output_type": "display_data",
          "data": {
            "text/plain": [
              "train-00002-of-00004.parquet:   0%|          | 0.00/14.3M [00:00<?, ?B/s]"
            ],
            "application/vnd.jupyter.widget-view+json": {
              "version_major": 2,
              "version_minor": 0,
              "model_id": "7614b27c63e2473f8ce6ba1c665dde0a"
            }
          },
          "metadata": {}
        },
        {
          "output_type": "display_data",
          "data": {
            "text/plain": [
              "train-00000-of-00004.parquet:   0%|          | 0.00/553k [00:00<?, ?B/s]"
            ],
            "application/vnd.jupyter.widget-view+json": {
              "version_major": 2,
              "version_minor": 0,
              "model_id": "6d4458e7c07144f29ea70fb33f29de28"
            }
          },
          "metadata": {}
        },
        {
          "output_type": "display_data",
          "data": {
            "text/plain": [
              "train-00002-of-00004.parquet:   0%|          | 0.00/965k [00:00<?, ?B/s]"
            ],
            "application/vnd.jupyter.widget-view+json": {
              "version_major": 2,
              "version_minor": 0,
              "model_id": "850c5e3f48164d97b00fde473f07df27"
            }
          },
          "metadata": {}
        },
        {
          "output_type": "display_data",
          "data": {
            "text/plain": [
              "train-00003-of-00004.parquet:   0%|          | 0.00/1.02M [00:00<?, ?B/s]"
            ],
            "application/vnd.jupyter.widget-view+json": {
              "version_major": 2,
              "version_minor": 0,
              "model_id": "5a48ffd845524731b8a213a1bc9db6af"
            }
          },
          "metadata": {}
        },
        {
          "output_type": "display_data",
          "data": {
            "text/plain": [
              "train-00002-of-00004.parquet:   0%|          | 0.00/814k [00:00<?, ?B/s]"
            ],
            "application/vnd.jupyter.widget-view+json": {
              "version_major": 2,
              "version_minor": 0,
              "model_id": "4b5ec8f05dc746a8ac4f877fdb21f8f7"
            }
          },
          "metadata": {}
        },
        {
          "output_type": "display_data",
          "data": {
            "text/plain": [
              "train-00003-of-00004.parquet:   0%|          | 0.00/657k [00:00<?, ?B/s]"
            ],
            "application/vnd.jupyter.widget-view+json": {
              "version_major": 2,
              "version_minor": 0,
              "model_id": "a389b3afb27f4b80bfa95729cb89f183"
            }
          },
          "metadata": {}
        },
        {
          "output_type": "display_data",
          "data": {
            "text/plain": [
              "train-00003-of-00004.parquet:   0%|          | 0.00/1.65M [00:00<?, ?B/s]"
            ],
            "application/vnd.jupyter.widget-view+json": {
              "version_major": 2,
              "version_minor": 0,
              "model_id": "0a6924fa51e3420eb028774422abbc15"
            }
          },
          "metadata": {}
        },
        {
          "output_type": "display_data",
          "data": {
            "text/plain": [
              "train-00001-of-00004.parquet:   0%|          | 0.00/924k [00:00<?, ?B/s]"
            ],
            "application/vnd.jupyter.widget-view+json": {
              "version_major": 2,
              "version_minor": 0,
              "model_id": "499ca1c1ca4f4189bb9c10d5f3930b3c"
            }
          },
          "metadata": {}
        },
        {
          "output_type": "display_data",
          "data": {
            "text/plain": [
              "train-00000-of-00004.parquet:   0%|          | 0.00/109k [00:00<?, ?B/s]"
            ],
            "application/vnd.jupyter.widget-view+json": {
              "version_major": 2,
              "version_minor": 0,
              "model_id": "a644e99c11c443f69c3cc58b2054a583"
            }
          },
          "metadata": {}
        },
        {
          "output_type": "display_data",
          "data": {
            "text/plain": [
              "train-00002-of-00004.parquet:   0%|          | 0.00/84.1k [00:00<?, ?B/s]"
            ],
            "application/vnd.jupyter.widget-view+json": {
              "version_major": 2,
              "version_minor": 0,
              "model_id": "008a278b4aad41fdb5e28f5b7b3ed460"
            }
          },
          "metadata": {}
        },
        {
          "output_type": "display_data",
          "data": {
            "text/plain": [
              "train-00003-of-00004.parquet:   0%|          | 0.00/108k [00:00<?, ?B/s]"
            ],
            "application/vnd.jupyter.widget-view+json": {
              "version_major": 2,
              "version_minor": 0,
              "model_id": "ba8dd11830be46e0894d182bc7d77b45"
            }
          },
          "metadata": {}
        },
        {
          "output_type": "display_data",
          "data": {
            "text/plain": [
              "train-00000-of-00004.parquet:   0%|          | 0.00/58.4k [00:00<?, ?B/s]"
            ],
            "application/vnd.jupyter.widget-view+json": {
              "version_major": 2,
              "version_minor": 0,
              "model_id": "2283672c5f884b9abe611940a56530ba"
            }
          },
          "metadata": {}
        },
        {
          "output_type": "display_data",
          "data": {
            "text/plain": [
              "train-00001-of-00004.parquet:   0%|          | 0.00/32.0k [00:00<?, ?B/s]"
            ],
            "application/vnd.jupyter.widget-view+json": {
              "version_major": 2,
              "version_minor": 0,
              "model_id": "c9ed009b3de743158717a23ec6ba3428"
            }
          },
          "metadata": {}
        },
        {
          "output_type": "display_data",
          "data": {
            "text/plain": [
              "train-00002-of-00004.parquet:   0%|          | 0.00/169k [00:00<?, ?B/s]"
            ],
            "application/vnd.jupyter.widget-view+json": {
              "version_major": 2,
              "version_minor": 0,
              "model_id": "2a2512092ff34a9a854570674db8ec93"
            }
          },
          "metadata": {}
        },
        {
          "output_type": "display_data",
          "data": {
            "text/plain": [
              "train-00003-of-00004.parquet:   0%|          | 0.00/58.5k [00:00<?, ?B/s]"
            ],
            "application/vnd.jupyter.widget-view+json": {
              "version_major": 2,
              "version_minor": 0,
              "model_id": "569bf00ff7e543dfb70e5bac5121a418"
            }
          },
          "metadata": {}
        },
        {
          "output_type": "display_data",
          "data": {
            "text/plain": [
              "train-00001-of-00004.parquet:   0%|          | 0.00/214k [00:00<?, ?B/s]"
            ],
            "application/vnd.jupyter.widget-view+json": {
              "version_major": 2,
              "version_minor": 0,
              "model_id": "9d8c1a8810c2478890d83d55ad398556"
            }
          },
          "metadata": {}
        },
        {
          "output_type": "display_data",
          "data": {
            "text/plain": [
              "train-00000-of-00004.parquet:   0%|          | 0.00/56.2k [00:00<?, ?B/s]"
            ],
            "application/vnd.jupyter.widget-view+json": {
              "version_major": 2,
              "version_minor": 0,
              "model_id": "d22e530361a14ee4ae7171ddb992e05e"
            }
          },
          "metadata": {}
        },
        {
          "output_type": "display_data",
          "data": {
            "text/plain": [
              "train-00002-of-00004.parquet:   0%|          | 0.00/30.1k [00:00<?, ?B/s]"
            ],
            "application/vnd.jupyter.widget-view+json": {
              "version_major": 2,
              "version_minor": 0,
              "model_id": "9b6197d5f69843f7a8b436c9c672bd58"
            }
          },
          "metadata": {}
        },
        {
          "output_type": "display_data",
          "data": {
            "text/plain": [
              "train-00000-of-00004.parquet:   0%|          | 0.00/58.2k [00:00<?, ?B/s]"
            ],
            "application/vnd.jupyter.widget-view+json": {
              "version_major": 2,
              "version_minor": 0,
              "model_id": "eb7d102207754f61bb292084d6aa43bc"
            }
          },
          "metadata": {}
        },
        {
          "output_type": "display_data",
          "data": {
            "text/plain": [
              "train-00002-of-00004.parquet:   0%|          | 0.00/29.4k [00:00<?, ?B/s]"
            ],
            "application/vnd.jupyter.widget-view+json": {
              "version_major": 2,
              "version_minor": 0,
              "model_id": "e446078c2199410d9db3b92d7a2907cd"
            }
          },
          "metadata": {}
        },
        {
          "output_type": "display_data",
          "data": {
            "text/plain": [
              "train-00002-of-00004.parquet:   0%|          | 0.00/30.1k [00:00<?, ?B/s]"
            ],
            "application/vnd.jupyter.widget-view+json": {
              "version_major": 2,
              "version_minor": 0,
              "model_id": "9584db15252d4cf799bec97b64dcbb8d"
            }
          },
          "metadata": {}
        },
        {
          "output_type": "display_data",
          "data": {
            "text/plain": [
              "train-00001-of-00004.parquet:   0%|          | 0.00/983k [00:00<?, ?B/s]"
            ],
            "application/vnd.jupyter.widget-view+json": {
              "version_major": 2,
              "version_minor": 0,
              "model_id": "a5f4b4d131734081bd593b9960cc032e"
            }
          },
          "metadata": {}
        },
        {
          "output_type": "display_data",
          "data": {
            "text/plain": [
              "train-00003-of-00004.parquet:   0%|          | 0.00/33.0k [00:00<?, ?B/s]"
            ],
            "application/vnd.jupyter.widget-view+json": {
              "version_major": 2,
              "version_minor": 0,
              "model_id": "3ccd613bdc1646689392ff202d73c0dd"
            }
          },
          "metadata": {}
        },
        {
          "output_type": "display_data",
          "data": {
            "text/plain": [
              "train-00001-of-00004.parquet:   0%|          | 0.00/31.2k [00:00<?, ?B/s]"
            ],
            "application/vnd.jupyter.widget-view+json": {
              "version_major": 2,
              "version_minor": 0,
              "model_id": "4d79b066043e4c9ba56804f468e2f00e"
            }
          },
          "metadata": {}
        },
        {
          "output_type": "display_data",
          "data": {
            "text/plain": [
              "Generating train split:   0%|          | 0/30504 [00:00<?, ? examples/s]"
            ],
            "application/vnd.jupyter.widget-view+json": {
              "version_major": 2,
              "version_minor": 0,
              "model_id": "a2a096f7c20340c481e266fda0a3e76e"
            }
          },
          "metadata": {}
        },
        {
          "output_type": "stream",
          "name": "stdout",
          "text": [
            "Dataset loaded with 30504 samples\n",
            "Training samples: 24403, Validation samples: 3050, Test samples: 3051\n",
            "Initializing enhanced BLIP model...\n",
            "Loading base BLIP model...\n"
          ]
        },
        {
          "output_type": "display_data",
          "data": {
            "text/plain": [
              "config.json:   0%|          | 0.00/4.56k [00:00<?, ?B/s]"
            ],
            "application/vnd.jupyter.widget-view+json": {
              "version_major": 2,
              "version_minor": 0,
              "model_id": "7d15872c74c04e37ab044760d3236de5"
            }
          },
          "metadata": {}
        },
        {
          "output_type": "display_data",
          "data": {
            "text/plain": [
              "pytorch_model.bin:   0%|          | 0.00/990M [00:00<?, ?B/s]"
            ],
            "application/vnd.jupyter.widget-view+json": {
              "version_major": 2,
              "version_minor": 0,
              "model_id": "139b11613a66451e82efc13e112be890"
            }
          },
          "metadata": {}
        },
        {
          "output_type": "stream",
          "name": "stderr",
          "text": [
            "Using a slow image processor as `use_fast` is unset and a slow processor was saved with this model. `use_fast=True` will be the default behavior in v4.52, even if the model was saved with a slow processor. This will result in minor differences in outputs. You'll still be able to use a slow processor with `use_fast=False`.\n"
          ]
        },
        {
          "output_type": "display_data",
          "data": {
            "text/plain": [
              "model.safetensors:   0%|          | 0.00/990M [00:00<?, ?B/s]"
            ],
            "application/vnd.jupyter.widget-view+json": {
              "version_major": 2,
              "version_minor": 0,
              "model_id": "f988cfc058ba400486642619bbc3ab9d"
            }
          },
          "metadata": {}
        },
        {
          "output_type": "display_data",
          "data": {
            "text/plain": [
              "preprocessor_config.json:   0%|          | 0.00/287 [00:00<?, ?B/s]"
            ],
            "application/vnd.jupyter.widget-view+json": {
              "version_major": 2,
              "version_minor": 0,
              "model_id": "19101fc1300346ce862d0d19ff95e205"
            }
          },
          "metadata": {}
        },
        {
          "output_type": "display_data",
          "data": {
            "text/plain": [
              "tokenizer_config.json:   0%|          | 0.00/506 [00:00<?, ?B/s]"
            ],
            "application/vnd.jupyter.widget-view+json": {
              "version_major": 2,
              "version_minor": 0,
              "model_id": "c0eb2538f79f4ada987aa8cbe99bbd36"
            }
          },
          "metadata": {}
        },
        {
          "output_type": "display_data",
          "data": {
            "text/plain": [
              "vocab.txt:   0%|          | 0.00/232k [00:00<?, ?B/s]"
            ],
            "application/vnd.jupyter.widget-view+json": {
              "version_major": 2,
              "version_minor": 0,
              "model_id": "a592ca6c893242dbae0a644653695325"
            }
          },
          "metadata": {}
        },
        {
          "output_type": "display_data",
          "data": {
            "text/plain": [
              "tokenizer.json:   0%|          | 0.00/711k [00:00<?, ?B/s]"
            ],
            "application/vnd.jupyter.widget-view+json": {
              "version_major": 2,
              "version_minor": 0,
              "model_id": "9406cd5d048f4952936300006e91fd0b"
            }
          },
          "metadata": {}
        },
        {
          "output_type": "display_data",
          "data": {
            "text/plain": [
              "special_tokens_map.json:   0%|          | 0.00/125 [00:00<?, ?B/s]"
            ],
            "application/vnd.jupyter.widget-view+json": {
              "version_major": 2,
              "version_minor": 0,
              "model_id": "94f640e6597544d2816db2e6b663ae6c"
            }
          },
          "metadata": {}
        },
        {
          "output_type": "stream",
          "name": "stdout",
          "text": [
            "Model hidden dimension: 768\n",
            "Enhanced BLIP model initialized\n",
            "Starting training...\n",
            "Starting training for 8 epochs\n"
          ]
        },
        {
          "output_type": "stream",
          "name": "stderr",
          "text": [
            "<ipython-input-3-01d0c41d37c3>:382: FutureWarning: `torch.cuda.amp.GradScaler(args...)` is deprecated. Please use `torch.amp.GradScaler('cuda', args...)` instead.\n",
            "  scaler = GradScaler(enabled=(device == \"cuda\"))\n"
          ]
        },
        {
          "output_type": "display_data",
          "data": {
            "text/plain": [
              "Epoch 1/8:   0%|          | 0/3051 [00:00<?, ?it/s]"
            ],
            "application/vnd.jupyter.widget-view+json": {
              "version_major": 2,
              "version_minor": 0,
              "model_id": "268cb87288d94c6c95836b5af772dc41"
            }
          },
          "metadata": {}
        },
        {
          "output_type": "stream",
          "name": "stderr",
          "text": [
            "<ipython-input-3-01d0c41d37c3>:439: FutureWarning: `torch.cuda.amp.autocast(args...)` is deprecated. Please use `torch.amp.autocast('cuda', args...)` instead.\n",
            "  with autocast(enabled=(device == \"cuda\")):\n"
          ]
        },
        {
          "output_type": "stream",
          "name": "stdout",
          "text": [
            "Epoch 1 - Avg. Training Loss: 1.6039 (Time: 329.92s)\n"
          ]
        },
        {
          "output_type": "display_data",
          "data": {
            "text/plain": [
              "Evaluating:   0%|          | 0/382 [00:00<?, ?it/s]"
            ],
            "application/vnd.jupyter.widget-view+json": {
              "version_major": 2,
              "version_minor": 0,
              "model_id": "4027334d6b4748c39245fc7bf8670a64"
            }
          },
          "metadata": {}
        },
        {
          "output_type": "stream",
          "name": "stdout",
          "text": [
            "\n",
            "Sample predictions:\n",
            "  Reference: the image depicts a serene street scene in a small town. the road is lined with brick buildings, their red and brown hues contrasting with the overcast sky above. trees line both sides of the street, adding a touch of nature to the urban landscape. cars are parked along the side of the road, suggesting a quiet time of day or perhaps a special event taking place nearby. in the distance, a church with a clock tower stands tall, its presence adding a sense of history and community to the scene.\n",
            "  Prediction: in the image, a group of people are gathered in a park. the park is filled with people engaged in various activities, some standing and others sitting on benches. one person is holding an umbrella, while the other is walking away from the camera\n",
            "\n",
            "  Reference: in the image, a man and two children are standing on a vibrant red tennis court. the man is wearing a gray shirt and blue jeans, holding a red tennis racket in his right hand. the child on his left is wearing a green jacket and blue jeans, also holding a red tennis racket. the other child, dressed in a black jacket and blue jeans, stands next to them. the court is surrounded by a chain - link fence, with trees visible beyond the fence.\n",
            "  Prediction: in the image, a group of people are gathered on a sidewalk in an urban setting. the person on the left is wearing a black jacket and blue jeans, while the other three individuals are dressed in blue jackets and hats. they are all smiling\n",
            "\n",
            "  Reference: in the image, two giraffes are captured in a zoo enclosure. the giraffe on the left is bending its long neck to reach for food from a wooden feeding trough, while the giraffe on the right stands tall and reaches up with its long neck towards the sky. the enclosure is surrounded by a sturdy fence, and beyond it, trees rise up, providing shade and greenery.\n",
            "  Prediction: the image depicts a baseball game in progress. a batter in a white uniform with red accents is mid - swing, his body coiled and muscles taut as he prepares to strike the incoming ball. behind him, a catcher in an orange uniform crouches\n",
            "\n",
            "CIDEr score computed successfully\n",
            "ROUGE score computed successfully\n",
            "Starting SPICE computation (may take time)...\n",
            "Downloading stanford-corenlp-3.6.0 for SPICE ...\n",
            "Progress: 384.5M / 384.5M (100.0%)\n",
            "Extracting stanford-corenlp-3.6.0 ...\n",
            "Done.\n",
            "Warning: SPICE computation timed out after 3 minutes, skipping.\n",
            "METEOR score computed successfully\n",
            "Validation BLEU-4: 0.2589\n",
            "Validation CIDEr: 0.0072\n",
            "Validation SPICE: 0.0000\n",
            "Validation ROUGE: 0.2072\n",
            "Validation METEOR: 0.0910\n",
            "New best model saved at epoch 1\n"
          ]
        },
        {
          "output_type": "display_data",
          "data": {
            "text/plain": [
              "Epoch 2/8:   0%|          | 0/3051 [00:00<?, ?it/s]"
            ],
            "application/vnd.jupyter.widget-view+json": {
              "version_major": 2,
              "version_minor": 0,
              "model_id": "587f071cb60748dd8cbdb7b77bdece38"
            }
          },
          "metadata": {}
        },
        {
          "output_type": "stream",
          "name": "stderr",
          "text": [
            "<ipython-input-3-01d0c41d37c3>:439: FutureWarning: `torch.cuda.amp.autocast(args...)` is deprecated. Please use `torch.amp.autocast('cuda', args...)` instead.\n",
            "  with autocast(enabled=(device == \"cuda\")):\n"
          ]
        },
        {
          "output_type": "stream",
          "name": "stdout",
          "text": [
            "Epoch 2 - Avg. Training Loss: 0.8115 (Time: 547.51s)\n"
          ]
        },
        {
          "output_type": "display_data",
          "data": {
            "text/plain": [
              "Evaluating:   0%|          | 0/382 [00:00<?, ?it/s]"
            ],
            "application/vnd.jupyter.widget-view+json": {
              "version_major": 2,
              "version_minor": 0,
              "model_id": "f18ff27f2e0a4eb2b8125d973f44ee32"
            }
          },
          "metadata": {}
        },
        {
          "output_type": "stream",
          "name": "stdout",
          "text": [
            "\n",
            "Sample predictions:\n",
            "  Reference: the image depicts a serene street scene in a small town. the road is lined with brick buildings, their red and brown hues contrasting with the overcast sky above. trees line both sides of the street, adding a touch of nature to the urban landscape. cars are parked along the side of the road, suggesting a quiet time of day or perhaps a special event taking place nearby. in the distance, a church with a clock tower stands tall, its presence adding a sense of history and community to the scene.\n",
            "  Prediction: this black and white photograph captures a bustling street scene. the perspective is from the sidewalk, looking down the length of the street towards the horizon. on the right side, there ' s a building with a large window that reflects the surrounding environment\n",
            "\n",
            "  Reference: in the image, a man and two children are standing on a vibrant red tennis court. the man is wearing a gray shirt and blue jeans, holding a red tennis racket in his right hand. the child on his left is wearing a green jacket and blue jeans, also holding a red tennis racket. the other child, dressed in a black jacket and blue jeans, stands next to them. the court is surrounded by a chain - link fence, with trees visible beyond the fence.\n",
            "  Prediction: in the image, a group of people are gathered around a table in a restaurant. the table is covered with a white tablecloth and features two plates of food - one containing a sandwich and the other a salad. one person is holding a fork\n",
            "\n",
            "  Reference: in the image, two giraffes are captured in a zoo enclosure. the giraffe on the left is bending its long neck to reach for food from a wooden feeding trough, while the giraffe on the right stands tall and reaches up with its long neck towards the sky. the enclosure is surrounded by a sturdy fence, and beyond it, trees rise up, providing shade and greenery.\n",
            "  Prediction: the image depicts a baseball game in progress. a batter wearing a white uniform with red accents is mid - swing, while an umpire in a black uniform stands behind the batter. the field is a vibrant green, contrasting with the brown dirt around home\n",
            "\n",
            "CIDEr score computed successfully\n",
            "ROUGE score computed successfully\n",
            "Starting SPICE computation (may take time)...\n",
            "Warning: SPICE computation timed out after 3 minutes, skipping.\n",
            "METEOR score computed successfully\n",
            "Validation BLEU-4: 0.2650\n",
            "Validation CIDEr: 0.0110\n",
            "Validation SPICE: 0.0000\n",
            "Validation ROUGE: 0.2158\n",
            "Validation METEOR: 0.0980\n",
            "New best model saved at epoch 2\n"
          ]
        },
        {
          "output_type": "display_data",
          "data": {
            "text/plain": [
              "Epoch 3/8:   0%|          | 0/3051 [00:00<?, ?it/s]"
            ],
            "application/vnd.jupyter.widget-view+json": {
              "version_major": 2,
              "version_minor": 0,
              "model_id": "857f426184e5464a92a5b156871d6b68"
            }
          },
          "metadata": {}
        },
        {
          "output_type": "stream",
          "name": "stderr",
          "text": [
            "<ipython-input-3-01d0c41d37c3>:439: FutureWarning: `torch.cuda.amp.autocast(args...)` is deprecated. Please use `torch.amp.autocast('cuda', args...)` instead.\n",
            "  with autocast(enabled=(device == \"cuda\")):\n"
          ]
        },
        {
          "output_type": "stream",
          "name": "stdout",
          "text": [
            "Epoch 3 - Avg. Training Loss: 0.7217 (Time: 340.68s)\n"
          ]
        },
        {
          "output_type": "display_data",
          "data": {
            "text/plain": [
              "Evaluating:   0%|          | 0/382 [00:00<?, ?it/s]"
            ],
            "application/vnd.jupyter.widget-view+json": {
              "version_major": 2,
              "version_minor": 0,
              "model_id": "f1b9c64acad84ec4b5afffe2674f621b"
            }
          },
          "metadata": {}
        },
        {
          "output_type": "stream",
          "name": "stdout",
          "text": [
            "\n",
            "Sample predictions:\n",
            "  Reference: the image depicts a serene street scene in a small town. the road is lined with brick buildings, their red and brown hues contrasting with the overcast sky above. trees line both sides of the street, adding a touch of nature to the urban landscape. cars are parked along the side of the road, suggesting a quiet time of day or perhaps a special event taking place nearby. in the distance, a church with a clock tower stands tall, its presence adding a sense of history and community to the scene.\n",
            "  Prediction: this black and white photograph captures a bustling street scene in japan. the perspective is from the sidewalk, looking down the length of the street lined with buildings on both sides. on either side, there are shops and restaurants, their windows reflecting the\n",
            "\n",
            "  Reference: in the image, a man and two children are standing on a vibrant red tennis court. the man is wearing a gray shirt and blue jeans, holding a red tennis racket in his right hand. the child on his left is wearing a green jacket and blue jeans, also holding a red tennis racket. the other child, dressed in a black jacket and blue jeans, stands next to them. the court is surrounded by a chain - link fence, with trees visible beyond the fence.\n",
            "  Prediction: in the image, a group of people are gathered around a table in a restaurant. the table is covered with a white tablecloth and features two plates of food - one containing a sandwich and the other a salad. one person is reaching for a\n",
            "\n",
            "  Reference: in the image, two giraffes are captured in a zoo enclosure. the giraffe on the left is bending its long neck to reach for food from a wooden feeding trough, while the giraffe on the right stands tall and reaches up with its long neck towards the sky. the enclosure is surrounded by a sturdy fence, and beyond it, trees rise up, providing shade and greenery.\n",
            "  Prediction: in the image, two zebras are captured in a moment of tranquility within their zoo enclosure. the zebra on the left is facing away from the camera, its black and white stripes contrasting with the verdant grass beneath it. its\n",
            "\n",
            "CIDEr score computed successfully\n",
            "ROUGE score computed successfully\n",
            "Starting SPICE computation (may take time)...\n",
            "Warning: SPICE computation timed out after 3 minutes, skipping.\n",
            "METEOR score computed successfully\n",
            "Validation BLEU-4: 0.2744\n",
            "Validation CIDEr: 0.0136\n",
            "Validation SPICE: 0.0000\n",
            "Validation ROUGE: 0.2216\n",
            "Validation METEOR: 0.1030\n",
            "New best model saved at epoch 3\n"
          ]
        },
        {
          "output_type": "display_data",
          "data": {
            "text/plain": [
              "Epoch 4/8:   0%|          | 0/3051 [00:00<?, ?it/s]"
            ],
            "application/vnd.jupyter.widget-view+json": {
              "version_major": 2,
              "version_minor": 0,
              "model_id": "421cd2a16ad84885b4571dde0fedcb47"
            }
          },
          "metadata": {}
        },
        {
          "output_type": "stream",
          "name": "stderr",
          "text": [
            "<ipython-input-3-01d0c41d37c3>:439: FutureWarning: `torch.cuda.amp.autocast(args...)` is deprecated. Please use `torch.amp.autocast('cuda', args...)` instead.\n",
            "  with autocast(enabled=(device == \"cuda\")):\n"
          ]
        },
        {
          "output_type": "stream",
          "name": "stdout",
          "text": [
            "Epoch 4 - Avg. Training Loss: 0.6620 (Time: 365.57s)\n"
          ]
        },
        {
          "output_type": "display_data",
          "data": {
            "text/plain": [
              "Evaluating:   0%|          | 0/382 [00:00<?, ?it/s]"
            ],
            "application/vnd.jupyter.widget-view+json": {
              "version_major": 2,
              "version_minor": 0,
              "model_id": "b79cd62e6d5e4742809c9d5d0eaac55d"
            }
          },
          "metadata": {}
        },
        {
          "output_type": "stream",
          "name": "stdout",
          "text": [
            "\n",
            "Sample predictions:\n",
            "  Reference: the image depicts a serene street scene in a small town. the road is lined with brick buildings, their red and brown hues contrasting with the overcast sky above. trees line both sides of the street, adding a touch of nature to the urban landscape. cars are parked along the side of the road, suggesting a quiet time of day or perhaps a special event taking place nearby. in the distance, a church with a clock tower stands tall, its presence adding a sense of history and community to the scene.\n",
            "  Prediction: the image depicts a bustling street scene in hong kong. the street is lined with tall buildings on both sides, their windows reflecting the city ' s vibrant life. a traffic light stands at the intersection, its red signal glowing brightly against the backdrop\n",
            "\n",
            "  Reference: in the image, a man and two children are standing on a vibrant red tennis court. the man is wearing a gray shirt and blue jeans, holding a red tennis racket in his right hand. the child on his left is wearing a green jacket and blue jeans, also holding a red tennis racket. the other child, dressed in a black jacket and blue jeans, stands next to them. the court is surrounded by a chain - link fence, with trees visible beyond the fence.\n",
            "  Prediction: in the image, a group of people are gathered around a table in an outdoor setting. the table is covered with a white tablecloth and features two plates of food - one containing a slice of cake and the other holding a bowl of soup.\n",
            "\n",
            "  Reference: in the image, two giraffes are captured in a zoo enclosure. the giraffe on the left is bending its long neck to reach for food from a wooden feeding trough, while the giraffe on the right stands tall and reaches up with its long neck towards the sky. the enclosure is surrounded by a sturdy fence, and beyond it, trees rise up, providing shade and greenery.\n",
            "  Prediction: in the image, two elephants are captured in a moment of tranquility within their enclosure. the elephant on the left stands tall and proud, its gray skin contrasting with the lush green grass beneath it. its trunk is extended towards the ground,\n",
            "\n",
            "CIDEr score computed successfully\n",
            "ROUGE score computed successfully\n",
            "Starting SPICE computation (may take time)...\n",
            "Warning: SPICE computation timed out after 3 minutes, skipping.\n",
            "METEOR score computed successfully\n",
            "Validation BLEU-4: 0.2755\n",
            "Validation CIDEr: 0.0159\n",
            "Validation SPICE: 0.0000\n",
            "Validation ROUGE: 0.2242\n",
            "Validation METEOR: 0.1027\n",
            "New best model saved at epoch 4\n"
          ]
        },
        {
          "output_type": "display_data",
          "data": {
            "text/plain": [
              "Epoch 5/8:   0%|          | 0/3051 [00:00<?, ?it/s]"
            ],
            "application/vnd.jupyter.widget-view+json": {
              "version_major": 2,
              "version_minor": 0,
              "model_id": "b8e19f887e694b93baba2b974c794998"
            }
          },
          "metadata": {}
        },
        {
          "output_type": "stream",
          "name": "stderr",
          "text": [
            "<ipython-input-3-01d0c41d37c3>:439: FutureWarning: `torch.cuda.amp.autocast(args...)` is deprecated. Please use `torch.amp.autocast('cuda', args...)` instead.\n",
            "  with autocast(enabled=(device == \"cuda\")):\n"
          ]
        },
        {
          "output_type": "stream",
          "name": "stdout",
          "text": [
            "Epoch 5 - Avg. Training Loss: 0.6160 (Time: 343.52s)\n"
          ]
        },
        {
          "output_type": "display_data",
          "data": {
            "text/plain": [
              "Evaluating:   0%|          | 0/382 [00:00<?, ?it/s]"
            ],
            "application/vnd.jupyter.widget-view+json": {
              "version_major": 2,
              "version_minor": 0,
              "model_id": "7ed539c575f3488bb24e654cc5e91b4c"
            }
          },
          "metadata": {}
        },
        {
          "output_type": "stream",
          "name": "stdout",
          "text": [
            "\n",
            "Sample predictions:\n",
            "  Reference: the image depicts a serene street scene in a small town. the road is lined with brick buildings, their red and brown hues contrasting with the overcast sky above. trees line both sides of the street, adding a touch of nature to the urban landscape. cars are parked along the side of the road, suggesting a quiet time of day or perhaps a special event taking place nearby. in the distance, a church with a clock tower stands tall, its presence adding a sense of history and community to the scene.\n",
            "  Prediction: the image depicts a bustling street scene in london, uk. the perspective is from the sidewalk, looking down the length of the street towards the iconic big ben clock tower in the background. several people are walking along the sidewalks, some carrying bags\n",
            "\n",
            "  Reference: in the image, a man and two children are standing on a vibrant red tennis court. the man is wearing a gray shirt and blue jeans, holding a red tennis racket in his right hand. the child on his left is wearing a green jacket and blue jeans, also holding a red tennis racket. the other child, dressed in a black jacket and blue jeans, stands next to them. the court is surrounded by a chain - link fence, with trees visible beyond the fence.\n",
            "  Prediction: in the image, a group of people are gathered around a table in a restaurant. the table is adorned with an array of dishes and utensils, including plates of food, glasses filled with red wine, and silverware. a woman in\n",
            "\n",
            "  Reference: in the image, two giraffes are captured in a zoo enclosure. the giraffe on the left is bending its long neck to reach for food from a wooden feeding trough, while the giraffe on the right stands tall and reaches up with its long neck towards the sky. the enclosure is surrounded by a sturdy fence, and beyond it, trees rise up, providing shade and greenery.\n",
            "  Prediction: in the image, two elephants are captured in a moment of tranquility within their natural habitat. the elephant on the left stands tall and proud, its gray skin contrasting with the earthy tones of the surroundings. its trunk is extended towards the\n",
            "\n",
            "CIDEr score computed successfully\n",
            "ROUGE score computed successfully\n",
            "Starting SPICE computation (may take time)...\n",
            "SPICE score computed successfully\n",
            "METEOR score computed successfully\n",
            "Validation BLEU-4: 0.2759\n",
            "Validation CIDEr: 0.0144\n",
            "Validation SPICE: 0.1120\n",
            "Validation ROUGE: 0.2209\n",
            "Validation METEOR: 0.1030\n"
          ]
        },
        {
          "output_type": "display_data",
          "data": {
            "text/plain": [
              "Epoch 6/8:   0%|          | 0/3051 [00:00<?, ?it/s]"
            ],
            "application/vnd.jupyter.widget-view+json": {
              "version_major": 2,
              "version_minor": 0,
              "model_id": "3eaeb4e2f5984886b30934c9865c3b97"
            }
          },
          "metadata": {}
        },
        {
          "output_type": "stream",
          "name": "stderr",
          "text": [
            "<ipython-input-3-01d0c41d37c3>:439: FutureWarning: `torch.cuda.amp.autocast(args...)` is deprecated. Please use `torch.amp.autocast('cuda', args...)` instead.\n",
            "  with autocast(enabled=(device == \"cuda\")):\n"
          ]
        },
        {
          "output_type": "stream",
          "name": "stdout",
          "text": [
            "Epoch 6 - Avg. Training Loss: 0.5804 (Time: 360.03s)\n"
          ]
        },
        {
          "output_type": "display_data",
          "data": {
            "text/plain": [
              "Evaluating:   0%|          | 0/382 [00:00<?, ?it/s]"
            ],
            "application/vnd.jupyter.widget-view+json": {
              "version_major": 2,
              "version_minor": 0,
              "model_id": "0cb0a9dc16c744d5bfa7b64ce018aa68"
            }
          },
          "metadata": {}
        },
        {
          "output_type": "stream",
          "name": "stdout",
          "text": [
            "\n",
            "Sample predictions:\n",
            "  Reference: the image depicts a serene street scene in a small town. the road is lined with brick buildings, their red and brown hues contrasting with the overcast sky above. trees line both sides of the street, adding a touch of nature to the urban landscape. cars are parked along the side of the road, suggesting a quiet time of day or perhaps a special event taking place nearby. in the distance, a church with a clock tower stands tall, its presence adding a sense of history and community to the scene.\n",
            "  Prediction: the image depicts a majestic stone clock tower standing tall against the backdrop of a clear blue sky. the tower is adorned with intricate carvings and statues, adding an element of grandeur to the scene. atop the structure, a large clock face is visible\n",
            "\n",
            "  Reference: in the image, a man and two children are standing on a vibrant red tennis court. the man is wearing a gray shirt and blue jeans, holding a red tennis racket in his right hand. the child on his left is wearing a green jacket and blue jeans, also holding a red tennis racket. the other child, dressed in a black jacket and blue jeans, stands next to them. the court is surrounded by a chain - link fence, with trees visible beyond the fence.\n",
            "  Prediction: in the image, a group of people are gathered around a table in an outdoor setting. the table is covered with a white tablecloth and features two plates of food - one containing a slice of pizza and the other a bowl of soup. a\n",
            "\n",
            "  Reference: in the image, two giraffes are captured in a zoo enclosure. the giraffe on the left is bending its long neck to reach for food from a wooden feeding trough, while the giraffe on the right stands tall and reaches up with its long neck towards the sky. the enclosure is surrounded by a sturdy fence, and beyond it, trees rise up, providing shade and greenery.\n",
            "  Prediction: in the image, two elephants are captured in a moment of tranquility within their natural habitat. the elephant on the left stands tall and proud, its gray skin contrasting with the earthy tones of the surroundings. its trunk is extended towards the\n",
            "\n",
            "CIDEr score computed successfully\n",
            "ROUGE score computed successfully\n",
            "Starting SPICE computation (may take time)...\n",
            "SPICE score computed successfully\n",
            "METEOR score computed successfully\n",
            "Validation BLEU-4: 0.2770\n",
            "Validation CIDEr: 0.0169\n",
            "Validation SPICE: 0.1148\n",
            "Validation ROUGE: 0.2235\n",
            "Validation METEOR: 0.1037\n",
            "New best model saved at epoch 6\n"
          ]
        },
        {
          "output_type": "display_data",
          "data": {
            "text/plain": [
              "Epoch 7/8:   0%|          | 0/3051 [00:00<?, ?it/s]"
            ],
            "application/vnd.jupyter.widget-view+json": {
              "version_major": 2,
              "version_minor": 0,
              "model_id": "2916bf715ddc400db7b993363ffe2be7"
            }
          },
          "metadata": {}
        },
        {
          "output_type": "stream",
          "name": "stderr",
          "text": [
            "<ipython-input-3-01d0c41d37c3>:439: FutureWarning: `torch.cuda.amp.autocast(args...)` is deprecated. Please use `torch.amp.autocast('cuda', args...)` instead.\n",
            "  with autocast(enabled=(device == \"cuda\")):\n"
          ]
        },
        {
          "output_type": "stream",
          "name": "stdout",
          "text": [
            "Epoch 7 - Avg. Training Loss: 0.5548 (Time: 341.55s)\n"
          ]
        },
        {
          "output_type": "display_data",
          "data": {
            "text/plain": [
              "Evaluating:   0%|          | 0/382 [00:00<?, ?it/s]"
            ],
            "application/vnd.jupyter.widget-view+json": {
              "version_major": 2,
              "version_minor": 0,
              "model_id": "54e6d233426e4ff59854effce1d137c9"
            }
          },
          "metadata": {}
        },
        {
          "output_type": "stream",
          "name": "stdout",
          "text": [
            "\n",
            "Sample predictions:\n",
            "  Reference: the image depicts a serene street scene in a small town. the road is lined with brick buildings, their red and brown hues contrasting with the overcast sky above. trees line both sides of the street, adding a touch of nature to the urban landscape. cars are parked along the side of the road, suggesting a quiet time of day or perhaps a special event taking place nearby. in the distance, a church with a clock tower stands tall, its presence adding a sense of history and community to the scene.\n",
            "  Prediction: the image depicts a serene park scene. in the foreground, there is a wooden bench with a curved backrest and armrests, situated on a concrete path surrounded by lush greenery. beyond the bench, the park is lush with trees\n",
            "\n",
            "  Reference: in the image, a man and two children are standing on a vibrant red tennis court. the man is wearing a gray shirt and blue jeans, holding a red tennis racket in his right hand. the child on his left is wearing a green jacket and blue jeans, also holding a red tennis racket. the other child, dressed in a black jacket and blue jeans, stands next to them. the court is surrounded by a chain - link fence, with trees visible beyond the fence.\n",
            "  Prediction: in the image, a group of people are gathered around a table in an outdoor setting. the table is covered with a white tablecloth and features two plates of food - one containing a slice of cake and the other holding a bowl of soup.\n",
            "\n",
            "  Reference: in the image, two giraffes are captured in a zoo enclosure. the giraffe on the left is bending its long neck to reach for food from a wooden feeding trough, while the giraffe on the right stands tall and reaches up with its long neck towards the sky. the enclosure is surrounded by a sturdy fence, and beyond it, trees rise up, providing shade and greenery.\n",
            "  Prediction: in the image, two elephants are captured in a moment of tranquility within their natural habitat. the elephant on the left stands tall and proud, its gray skin contrasting with the earthy tones of the surroundings. its trunk is extended towards the\n",
            "\n",
            "CIDEr score computed successfully\n",
            "ROUGE score computed successfully\n",
            "Starting SPICE computation (may take time)...\n",
            "SPICE score computed successfully\n",
            "METEOR score computed successfully\n",
            "Validation BLEU-4: 0.2787\n",
            "Validation CIDEr: 0.0164\n",
            "Validation SPICE: 0.1146\n",
            "Validation ROUGE: 0.2237\n",
            "Validation METEOR: 0.1036\n",
            "New best model saved at epoch 7\n"
          ]
        },
        {
          "output_type": "display_data",
          "data": {
            "text/plain": [
              "Epoch 8/8:   0%|          | 0/3051 [00:00<?, ?it/s]"
            ],
            "application/vnd.jupyter.widget-view+json": {
              "version_major": 2,
              "version_minor": 0,
              "model_id": "b2062579b9e848328258f9f7cea57cb2"
            }
          },
          "metadata": {}
        },
        {
          "output_type": "stream",
          "name": "stderr",
          "text": [
            "<ipython-input-3-01d0c41d37c3>:439: FutureWarning: `torch.cuda.amp.autocast(args...)` is deprecated. Please use `torch.amp.autocast('cuda', args...)` instead.\n",
            "  with autocast(enabled=(device == \"cuda\")):\n"
          ]
        },
        {
          "output_type": "stream",
          "name": "stdout",
          "text": [
            "Epoch 8 - Avg. Training Loss: 0.5406 (Time: 364.29s)\n"
          ]
        },
        {
          "output_type": "display_data",
          "data": {
            "text/plain": [
              "Evaluating:   0%|          | 0/382 [00:00<?, ?it/s]"
            ],
            "application/vnd.jupyter.widget-view+json": {
              "version_major": 2,
              "version_minor": 0,
              "model_id": "2b9d37c19c10458ca7d4486b0ac7e3ae"
            }
          },
          "metadata": {}
        },
        {
          "output_type": "stream",
          "name": "stdout",
          "text": [
            "\n",
            "Sample predictions:\n",
            "  Reference: the image depicts a serene street scene in a small town. the road is lined with brick buildings, their red and brown hues contrasting with the overcast sky above. trees line both sides of the street, adding a touch of nature to the urban landscape. cars are parked along the side of the road, suggesting a quiet time of day or perhaps a special event taking place nearby. in the distance, a church with a clock tower stands tall, its presence adding a sense of history and community to the scene.\n",
            "  Prediction: the image depicts a serene park scene. in the foreground, there is a large tree with bare branches reaching towards the sky. to the left of the tree, a wooden bench invites visitors to sit and enjoy the tranquil surroundings. on the\n",
            "\n",
            "  Reference: in the image, a man and two children are standing on a vibrant red tennis court. the man is wearing a gray shirt and blue jeans, holding a red tennis racket in his right hand. the child on his left is wearing a green jacket and blue jeans, also holding a red tennis racket. the other child, dressed in a black jacket and blue jeans, stands next to them. the court is surrounded by a chain - link fence, with trees visible beyond the fence.\n",
            "  Prediction: in the heart of a bustling city, a vibrant red fire hydrant stands out against the urban backdrop. the hydrangent, painted in a striking shade of red and adorned with white stripes, is positioned on the right side of the image\n",
            "\n",
            "  Reference: in the image, two giraffes are captured in a zoo enclosure. the giraffe on the left is bending its long neck to reach for food from a wooden feeding trough, while the giraffe on the right stands tall and reaches up with its long neck towards the sky. the enclosure is surrounded by a sturdy fence, and beyond it, trees rise up, providing shade and greenery.\n",
            "  Prediction: in the image, two elephants are captured in a moment of tranquility within their natural habitat. the elephant on the left stands tall and proud, its gray skin contrasting with the dry grass beneath it. its trunk is extended towards the ground,\n",
            "\n",
            "CIDEr score computed successfully\n",
            "ROUGE score computed successfully\n",
            "Starting SPICE computation (may take time)...\n",
            "SPICE score computed successfully\n",
            "METEOR score computed successfully\n",
            "Validation BLEU-4: 0.2775\n",
            "Validation CIDEr: 0.0154\n",
            "Validation SPICE: 0.1158\n",
            "Validation ROUGE: 0.2243\n",
            "Validation METEOR: 0.1045\n",
            "Training completed!\n",
            "Loading best model from token_gating_checkpoints/best_model.pth for final evaluation\n",
            "Best model was from epoch 7\n",
            "\n",
            "Performing validation set evaluation...\n"
          ]
        },
        {
          "output_type": "display_data",
          "data": {
            "text/plain": [
              "Evaluating:   0%|          | 0/382 [00:00<?, ?it/s]"
            ],
            "application/vnd.jupyter.widget-view+json": {
              "version_major": 2,
              "version_minor": 0,
              "model_id": "279734a10ca84fa18af0ce5cc8587911"
            }
          },
          "metadata": {}
        },
        {
          "output_type": "stream",
          "name": "stdout",
          "text": [
            "\n",
            "Sample predictions:\n",
            "  Reference: the image depicts a serene street scene in a small town. the road is lined with brick buildings, their red and brown hues contrasting with the overcast sky above. trees line both sides of the street, adding a touch of nature to the urban landscape. cars are parked along the side of the road, suggesting a quiet time of day or perhaps a special event taking place nearby. in the distance, a church with a clock tower stands tall, its presence adding a sense of history and community to the scene.\n",
            "  Prediction: the image depicts a serene park scene. in the foreground, there is a wooden bench with a curved backrest and armrests, situated on a concrete path surrounded by lush greenery. beyond the bench, the park is lush with trees\n",
            "\n",
            "  Reference: in the image, a man and two children are standing on a vibrant red tennis court. the man is wearing a gray shirt and blue jeans, holding a red tennis racket in his right hand. the child on his left is wearing a green jacket and blue jeans, also holding a red tennis racket. the other child, dressed in a black jacket and blue jeans, stands next to them. the court is surrounded by a chain - link fence, with trees visible beyond the fence.\n",
            "  Prediction: in the image, a group of people are gathered around a table in an outdoor setting. the table is covered with a white tablecloth and features two plates of food - one containing a slice of cake and the other holding a bowl of soup.\n",
            "\n",
            "  Reference: in the image, two giraffes are captured in a zoo enclosure. the giraffe on the left is bending its long neck to reach for food from a wooden feeding trough, while the giraffe on the right stands tall and reaches up with its long neck towards the sky. the enclosure is surrounded by a sturdy fence, and beyond it, trees rise up, providing shade and greenery.\n",
            "  Prediction: in the image, two elephants are captured in a moment of tranquility within their natural habitat. the elephant on the left stands tall and proud, its gray skin contrasting with the earthy tones of the surroundings. its trunk is extended towards the\n",
            "\n",
            "CIDEr score computed successfully\n",
            "ROUGE score computed successfully\n",
            "Starting SPICE computation (may take time)...\n",
            "SPICE score computed successfully\n",
            "METEOR score computed successfully\n",
            "\n",
            "Performing test set evaluation (first time evaluating on these samples)...\n",
            "NOTE: This is the final test evaluation, so SPICE will be calculated regardless of time taken\n"
          ]
        },
        {
          "output_type": "display_data",
          "data": {
            "text/plain": [
              "Evaluating:   0%|          | 0/382 [00:00<?, ?it/s]"
            ],
            "application/vnd.jupyter.widget-view+json": {
              "version_major": 2,
              "version_minor": 0,
              "model_id": "bf4233d388ed4b2c866a8c3df64b798d"
            }
          },
          "metadata": {}
        },
        {
          "output_type": "stream",
          "name": "stdout",
          "text": [
            "\n",
            "Sample predictions:\n",
            "  Reference: in the image, a man and a woman are standing on a snowy mountain. the man is wearing a vibrant green jacket with yellow accents and a white helmet, holding a black snowboard with a colorful design. the woman is wearing a purple jacket and a black helmet, holding a pair of red skis. they are both smiling at the camera, their faces lit up with joy. behind them, there ' s a ski lift carrying more adventurers to the top of the mountain.\n",
            "  Prediction: this black and white photograph captures a bustling street scene in japan. the perspective is from the sidewalk, looking down the length of the street towards the horizon. on the left, there ' s a building with a sign that reads \" kodan\n",
            "\n",
            "  Reference: a police officer in a black uniform and helmet is riding a motorcycle with the number \" 2 \" displayed on its side. the officer is holding a flag, possibly indicating an event or celebration. the motorcycle is parked on a street lined with trees and buildings, with a crowd of people gathered around it.\n",
            "  Prediction: the image depicts a baseball game in progress. a batter in a white uniform with red accents is mid - swing, while a catcher in an orange uniform crouches behind home plate. an umpire in black stands just behind the catcher, observing the play\n",
            "\n",
            "  Reference: in the center of a room with white walls, a group of children in red shirts are gathered around a table. the table is covered with a green tablecloth and holds an array of food items, including small sandwiches, hot dogs, and a bowl of ketchup. a man in a red shirt stands to the left of the table, holding a plate of food for one of the children.\n",
            "  Prediction: the image shows a freshly baked pizza resting on a white plate. the pizza has a golden brown crust and is generously topped with vibrant red sauce, melted cheese, and fresh basil leaves. a silver spatula rests on the right side of the\n",
            "\n",
            "CIDEr score computed successfully\n",
            "ROUGE score computed successfully\n",
            "Starting SPICE computation for final test (this may take several minutes)...\n",
            "SPICE score computed successfully for final test\n",
            "METEOR score computed successfully\n",
            "\n",
            "Validation Set Results:\n",
            "BLEU-4: 27.87\n",
            "CIDEr: 1.64\n",
            "SPICE: 11.46\n",
            "ROUGE: 22.37\n",
            "METEOR: 10.36\n",
            "\n",
            "Test Set Results:\n",
            "BLEU-4: 28.06\n",
            "CIDEr: 2.02\n",
            "SPICE: 11.85\n",
            "ROUGE: 22.77\n",
            "METEOR: 10.54\n",
            "\n",
            "Validation vs Test Performance (scores multiplied by 100):\n",
            "Metric Validation  Test Diff (Test-Val)\n",
            "BLEU-4      27.87 28.06            0.19\n",
            " CIDEr       1.64  2.02            0.37\n",
            " SPICE      11.46 11.85            0.38\n",
            " ROUGE      22.37 22.77            0.40\n",
            "METEOR      10.36 10.54            0.18\n",
            "Comparison results saved to token_gating_checkpoints/val_test_comparison.csv\n"
          ]
        }
      ]
    },
    {
      "cell_type": "code",
      "source": [
        "import matplotlib.pyplot as plt\n",
        "import numpy as np\n",
        "\n",
        "# Epochs\n",
        "epochs = list(range(1, 9))\n",
        "\n",
        "# Validation metrics (multiplied by 100 for percentage)\n",
        "bleu4 = [v * 100 for v in [0.2589, 0.2650, 0.2744, 0.2755, 0.2759, 0.2770, 0.2787, 0.2775]]\n",
        "cider = [v * 100 for v in [0.0072, 0.0110, 0.0136, 0.0159, 0.0144, 0.0169, 0.0164, 0.0154]]\n",
        "spice = [v * 100 for v in [0.0000, 0.0000, 0.0000, 0.0000, 0.1120, 0.1148, 0.1146, 0.1158]]\n",
        "rouge = [v * 100 for v in [0.2072, 0.2158, 0.2216, 0.2242, 0.2209, 0.2235, 0.2237, 0.2243]]\n",
        "meteor = [v * 100 for v in [0.0910, 0.0980, 0.1030, 0.1027, 0.1030, 0.1037, 0.1036, 0.1045]]\n",
        "\n",
        "# Plot\n",
        "plt.figure(figsize=(12, 6))\n",
        "plt.plot(epochs, bleu4, marker='o', label='BLEU-4')\n",
        "plt.plot(epochs, cider, marker='o', label='CIDEr')\n",
        "plt.plot(epochs, spice, marker='o', label='SPICE')\n",
        "plt.plot(epochs, rouge, marker='o', label='ROUGE')\n",
        "plt.plot(epochs, meteor, marker='o', label='METEOR')\n",
        "\n",
        "# Labels and title\n",
        "plt.xlabel('Epoch')\n",
        "plt.ylabel('Score (%)')\n",
        "plt.title('Validation Metrics per Epoch')\n",
        "plt.legend()\n",
        "plt.grid(True)\n",
        "\n",
        "# Set y-limit and ticks to ensure 28 is shown\n",
        "plt.ylim(0, 30)\n",
        "plt.yticks(np.arange(0, 31, 2))  # 0, 2, 4, ..., 28, 30 — guarantees 28 is shown\n",
        "\n",
        "plt.show()\n"
      ],
      "metadata": {
        "id": "HIP7qi3ivOpQ",
        "outputId": "c595bfad-f23f-4aa3-8389-5c81100147b2",
        "colab": {
          "base_uri": "https://localhost:8080/",
          "height": 564
        }
      },
      "execution_count": null,
      "outputs": [
        {
          "output_type": "display_data",
          "data": {
            "text/plain": [
              "<Figure size 1200x600 with 1 Axes>"
            ],
            "image/png": "[encoded data removed]"
          },
          "metadata": {}
        }
      ]
    },
    {
      "cell_type": "code",
      "source": [
        "import matplotlib.pyplot as plt\n",
        "import numpy as np\n",
        "from scipy.interpolate import make_interp_spline\n",
        "\n",
        "# Data\n",
        "epochs = np.array([1, 2, 3, 4, 5, 6, 7, 8])\n",
        "train_losses = np.array([1.6039, 0.8115, 0.7217, 0.6620, 0.6160, 0.5804, 0.5548, 0.5406])\n",
        "\n",
        "# Smoothing\n",
        "x_smooth = np.linspace(epochs.min(), epochs.max(), 300)\n",
        "spline = make_interp_spline(epochs, train_losses, k=3)\n",
        "y_smooth = spline(x_smooth)\n",
        "\n",
        "# Plot\n",
        "plt.figure(figsize=(10, 6))\n",
        "plt.plot(x_smooth, y_smooth, color='royalblue', linewidth=2.5, label='Training Loss')\n",
        "plt.scatter(epochs, train_losses, color='royalblue', s=60)\n",
        "\n",
        "# Add loss values at each epoch\n",
        "for x, y in zip(epochs, train_losses):\n",
        "    plt.text(x, y + 0.03, f\"{y:.2f}\", ha='center', fontsize=10)\n",
        "\n",
        "# Labels\n",
        "plt.title(\"Training Loss over Epochs\", fontsize=16, pad=15)\n",
        "plt.xlabel(\"Epoch\", fontsize=12)\n",
        "plt.ylabel(\"Average Training Loss\", fontsize=12)\n",
        "plt.xticks(epochs, fontsize=10)\n",
        "plt.yticks(fontsize=10)\n",
        "plt.grid(True, linestyle='--', alpha=0.6)\n",
        "plt.legend()\n",
        "plt.tight_layout()\n",
        "plt.show()\n"
      ],
      "metadata": {
        "id": "KYBXICIFKdAt",
        "outputId": "510be5cd-b617-409f-c95c-c977c5e11eca",
        "colab": {
          "base_uri": "https://localhost:8080/",
          "height": 607
        }
      },
      "execution_count": null,
      "outputs": [
        {
          "output_type": "display_data",
          "data": {
            "text/plain": [
              "<Figure size 1000x600 with 1 Axes>"
            ],
            "image/png": "[encoded data removed]"
          },
          "metadata": {}
        }
      ]
    }
  ]
}
