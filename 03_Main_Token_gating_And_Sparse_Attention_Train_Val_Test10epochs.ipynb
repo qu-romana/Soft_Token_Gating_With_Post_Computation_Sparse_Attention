{
  "nbformat": 4,
  "nbformat_minor": 0,
  "metadata": {
    "colab": {
      "provenance": [],
      "machine_shape": "hm",
      "gpuType": "A100"
    },
    "kernelspec": {
      "name": "python3",
      "display_name": "Python 3"
    },
    "language_info": {
      "name": "python"
    },
    "accelerator": "GPU"
    },
  "cells": [
    {
      "cell_type": "code",
      "source": [
        "!pip install transformers\n",
        "!pip install datasets\n",
        "!pip install nltk\n",
        "!pip install pycocoevalcap"
      ],
      "metadata": {
        "colab": {
          "base_uri": "https://localhost:8080/"
        },
        "id": "mJ5ahLJF4jd5",
        "outputId": "3e43c8d0-af9e-47e2-fee8-ff32fae79bb3"
      },
      "execution_count": null,
      "outputs": [
        {
          "output_type": "stream",
          "name": "stdout",
          "text": [
            "Requirement already satisfied: transformers in /usr/local/lib/python3.11/dist-packages (4.51.3)\n",
            "Requirement already satisfied: filelock in /usr/local/lib/python3.11/dist-packages (from transformers) (3.18.0)\n",
            "Requirement already satisfied: huggingface-hub<1.0,>=0.30.0 in /usr/local/lib/python3.11/dist-packages (from transformers) (0.30.2)\n",
            "Requirement already satisfied: numpy>=1.17 in /usr/local/lib/python3.11/dist-packages (from transformers) (2.0.2)\n",
            "Requirement already satisfied: packaging>=20.0 in /usr/local/lib/python3.11/dist-packages (from transformers) (24.2)\n",
            "Requirement already satisfied: pyyaml>=5.1 in /usr/local/lib/python3.11/dist-packages (from transformers) (6.0.2)\n",
            "Requirement already satisfied: regex!=2019.12.17 in /usr/local/lib/python3.11/dist-packages (from transformers) (2024.11.6)\n",
            "Requirement already satisfied: requests in /usr/local/lib/python3.11/dist-packages (from transformers) (2.32.3)\n",
            "Requirement already satisfied: tokenizers<0.22,>=0.21 in /usr/local/lib/python3.11/dist-packages (from transformers) (0.21.1)\n",
            "Requirement already satisfied: safetensors>=0.4.3 in /usr/local/lib/python3.11/dist-packages (from transformers) (0.5.3)\n",
            "Requirement already satisfied: tqdm>=4.27 in /usr/local/lib/python3.11/dist-packages (from transformers) (4.67.1)\n",
            "Requirement already satisfied: fsspec>=2023.5.0 in /usr/local/lib/python3.11/dist-packages (from huggingface-hub<1.0,>=0.30.0->transformers) (2025.3.2)\n",
            "Requirement already satisfied: typing-extensions>=3.7.4.3 in /usr/local/lib/python3.11/dist-packages (from huggingface-hub<1.0,>=0.30.0->transformers) (4.13.2)\n",
            "Requirement already satisfied: charset-normalizer<4,>=2 in /usr/local/lib/python3.11/dist-packages (from requests->transformers) (3.4.1)\n",
            "Requirement already satisfied: idna<4,>=2.5 in /usr/local/lib/python3.11/dist-packages (from requests->transformers) (3.10)\n",
            "Requirement already satisfied: urllib3<3,>=1.21.1 in /usr/local/lib/python3.11/dist-packages (from requests->transformers) (2.3.0)\n",
            "Requirement already satisfied: certifi>=2017.4.17 in /usr/local/lib/python3.11/dist-packages (from requests->transformers) (2025.1.31)\n",
            "Collecting datasets\n",
            "  Downloading datasets-3.5.0-py3-none-any.whl.metadata (19 kB)\n",
            "Requirement already satisfied: filelock in /usr/local/lib/python3.11/dist-packages (from datasets) (3.18.0)\n",
            "Requirement already satisfied: numpy>=1.17 in /usr/local/lib/python3.11/dist-packages (from datasets) (2.0.2)\n",
            "Requirement already satisfied: pyarrow>=15.0.0 in /usr/local/lib/python3.11/dist-packages (from datasets) (18.1.0)\n",
            "Collecting dill<0.3.9,>=0.3.0 (from datasets)\n",
            "  Downloading dill-0.3.8-py3-none-any.whl.metadata (10 kB)\n",
            "Requirement already satisfied: pandas in /usr/local/lib/python3.11/dist-packages (from datasets) (2.2.2)\n",
            "Requirement already satisfied: requests>=2.32.2 in /usr/local/lib/python3.11/dist-packages (from datasets) (2.32.3)\n",
            "Requirement already satisfied: tqdm>=4.66.3 in /usr/local/lib/python3.11/dist-packages (from datasets) (4.67.1)\n",
            "Collecting xxhash (from datasets)\n",
            "  Downloading xxhash-3.5.0-cp311-cp311-manylinux_2_17_x86_64.manylinux2014_x86_64.whl.metadata (12 kB)\n",
            "Collecting multiprocess<0.70.17 (from datasets)\n",
            "  Downloading multiprocess-0.70.16-py311-none-any.whl.metadata (7.2 kB)\n",
            "Collecting fsspec<=2024.12.0,>=2023.1.0 (from fsspec[http]<=2024.12.0,>=2023.1.0->datasets)\n",
            "  Downloading fsspec-2024.12.0-py3-none-any.whl.metadata (11 kB)\n",
            "Requirement already satisfied: aiohttp in /usr/local/lib/python3.11/dist-packages (from datasets) (3.11.15)\n",
            "Requirement already satisfied: huggingface-hub>=0.24.0 in /usr/local/lib/python3.11/dist-packages (from datasets) (0.30.2)\n",
            "Requirement already satisfied: packaging in /usr/local/lib/python3.11/dist-packages (from datasets) (24.2)\n",
            "Requirement already satisfied: pyyaml>=5.1 in /usr/local/lib/python3.11/dist-packages (from datasets) (6.0.2)\n",
            "Requirement already satisfied: aiohappyeyeballs>=2.3.0 in /usr/local/lib/python3.11/dist-packages (from aiohttp->datasets) (2.6.1)\n",
            "Requirement already satisfied: aiosignal>=1.1.2 in /usr/local/lib/python3.11/dist-packages (from aiohttp->datasets) (1.3.2)\n",
            "Requirement already satisfied: attrs>=17.3.0 in /usr/local/lib/python3.11/dist-packages (from aiohttp->datasets) (25.3.0)\n",
            "Requirement already satisfied: frozenlist>=1.1.1 in /usr/local/lib/python3.11/dist-packages (from aiohttp->datasets) (1.5.0)\n",
            "Requirement already satisfied: multidict<7.0,>=4.5 in /usr/local/lib/python3.11/dist-packages (from aiohttp->datasets) (6.4.3)\n",
            "Requirement already satisfied: propcache>=0.2.0 in /usr/local/lib/python3.11/dist-packages (from aiohttp->datasets) (0.3.1)\n",
            "Requirement already satisfied: yarl<2.0,>=1.17.0 in /usr/local/lib/python3.11/dist-packages (from aiohttp->datasets) (1.19.0)\n",
            "Requirement already satisfied: typing-extensions>=3.7.4.3 in /usr/local/lib/python3.11/dist-packages (from huggingface-hub>=0.24.0->datasets) (4.13.2)\n",
            "Requirement already satisfied: charset-normalizer<4,>=2 in /usr/local/lib/python3.11/dist-packages (from requests>=2.32.2->datasets) (3.4.1)\n",
            "Requirement already satisfied: idna<4,>=2.5 in /usr/local/lib/python3.11/dist-packages (from requests>=2.32.2->datasets) (3.10)\n",
            "Requirement already satisfied: urllib3<3,>=1.21.1 in /usr/local/lib/python3.11/dist-packages (from requests>=2.32.2->datasets) (2.3.0)\n",
            "Requirement already satisfied: certifi>=2017.4.17 in /usr/local/lib/python3.11/dist-packages (from requests>=2.32.2->datasets) (2025.1.31)\n",
            "Requirement already satisfied: python-dateutil>=2.8.2 in /usr/local/lib/python3.11/dist-packages (from pandas->datasets) (2.8.2)\n",
            "Requirement already satisfied: pytz>=2020.1 in /usr/local/lib/python3.11/dist-packages (from pandas->datasets) (2025.2)\n",
            "Requirement already satisfied: tzdata>=2022.7 in /usr/local/lib/python3.11/dist-packages (from pandas->datasets) (2025.2)\n",
            "Requirement already satisfied: six>=1.5 in /usr/local/lib/python3.11/dist-packages (from python-dateutil>=2.8.2->pandas->datasets) (1.17.0)\n",
            "Downloading datasets-3.5.0-py3-none-any.whl (491 kB)\n",
            "\u001b[2K   \u001b[90m━━━━━━━━━━━━━━━━━━━━━━━━━━━━━━━━━━━━━━━━\u001b[0m \u001b[32m491.2/491.2 kB\u001b[0m \u001b[31m8.7 MB/s\u001b[0m eta \u001b[36m0:00:00\u001b[0m\n",
            "\u001b[?25hDownloading dill-0.3.8-py3-none-any.whl (116 kB)\n",
            "\u001b[2K   \u001b[90m━━━━━━━━━━━━━━━━━━━━━━━━━━━━━━━━━━━━━━━━\u001b[0m \u001b[32m116.3/116.3 kB\u001b[0m \u001b[31m10.0 MB/s\u001b[0m eta \u001b[36m0:00:00\u001b[0m\n",
            "\u001b[?25hDownloading fsspec-2024.12.0-py3-none-any.whl (183 kB)\n",
            "\u001b[2K   \u001b[90m━━━━━━━━━━━━━━━━━━━━━━━━━━━━━━━━━━━━━━━━\u001b[0m \u001b[32m183.9/183.9 kB\u001b[0m \u001b[31m14.6 MB/s\u001b[0m eta \u001b[36m0:00:00\u001b[0m\n",
            "\u001b[?25hDownloading multiprocess-0.70.16-py311-none-any.whl (143 kB)\n",
            "\u001b[2K   \u001b[90m━━━━━━━━━━━━━━━━━━━━━━━━━━━━━━━━━━━━━━━━\u001b[0m \u001b[32m143.5/143.5 kB\u001b[0m \u001b[31m12.6 MB/s\u001b[0m eta \u001b[36m0:00:00\u001b[0m\n",
            "\u001b[?25hDownloading xxhash-3.5.0-cp311-cp311-manylinux_2_17_x86_64.manylinux2014_x86_64.whl (194 kB)\n",
            "\u001b[2K   \u001b[90m━━━━━━━━━━━━━━━━━━━━━━━━━━━━━━━━━━━━━━━━\u001b[0m \u001b[32m194.8/194.8 kB\u001b[0m \u001b[31m17.0 MB/s\u001b[0m eta \u001b[36m0:00:00\u001b[0m\n",
            "\u001b[?25hInstalling collected packages: xxhash, fsspec, dill, multiprocess, datasets\n",
            "  Attempting uninstall: fsspec\n",
            "    Found existing installation: fsspec 2025.3.2\n",
            "    Uninstalling fsspec-2025.3.2:\n",
            "      Successfully uninstalled fsspec-2025.3.2\n",
            "\u001b[31mERROR: pip's dependency resolver does not currently take into account all the packages that are installed. This behaviour is the source of the following dependency conflicts.\n",
            "gcsfs 2025.3.2 requires fsspec==2025.3.2, but you have fsspec 2024.12.0 which is incompatible.\n",
            "torch 2.6.0+cu124 requires nvidia-cublas-cu12==12.4.5.8; platform_system == \"Linux\" and platform_machine == \"x86_64\", but you have nvidia-cublas-cu12 12.5.3.2 which is incompatible.\n",
            "torch 2.6.0+cu124 requires nvidia-cuda-cupti-cu12==12.4.127; platform_system == \"Linux\" and platform_machine == \"x86_64\", but you have nvidia-cuda-cupti-cu12 12.5.82 which is incompatible.\n",
            "torch 2.6.0+cu124 requires nvidia-cuda-nvrtc-cu12==12.4.127; platform_system == \"Linux\" and platform_machine == \"x86_64\", but you have nvidia-cuda-nvrtc-cu12 12.5.82 which is incompatible.\n",
            "torch 2.6.0+cu124 requires nvidia-cuda-runtime-cu12==12.4.127; platform_system == \"Linux\" and platform_machine == \"x86_64\", but you have nvidia-cuda-runtime-cu12 12.5.82 which is incompatible.\n",
            "torch 2.6.0+cu124 requires nvidia-cudnn-cu12==9.1.0.70; platform_system == \"Linux\" and platform_machine == \"x86_64\", but you have nvidia-cudnn-cu12 9.3.0.75 which is incompatible.\n",
            "torch 2.6.0+cu124 requires nvidia-cufft-cu12==11.2.1.3; platform_system == \"Linux\" and platform_machine == \"x86_64\", but you have nvidia-cufft-cu12 11.2.3.61 which is incompatible.\n",
            "torch 2.6.0+cu124 requires nvidia-curand-cu12==10.3.5.147; platform_system == \"Linux\" and platform_machine == \"x86_64\", but you have nvidia-curand-cu12 10.3.6.82 which is incompatible.\n",
            "torch 2.6.0+cu124 requires nvidia-cusolver-cu12==11.6.1.9; platform_system == \"Linux\" and platform_machine == \"x86_64\", but you have nvidia-cusolver-cu12 11.6.3.83 which is incompatible.\n",
            "torch 2.6.0+cu124 requires nvidia-cusparse-cu12==12.3.1.170; platform_system == \"Linux\" and platform_machine == \"x86_64\", but you have nvidia-cusparse-cu12 12.5.1.3 which is incompatible.\n",
            "torch 2.6.0+cu124 requires nvidia-nvjitlink-cu12==12.4.127; platform_system == \"Linux\" and platform_machine == \"x86_64\", but you have nvidia-nvjitlink-cu12 12.5.82 which is incompatible.\u001b[0m\u001b[31m\n",
            "\u001b[0mSuccessfully installed datasets-3.5.0 dill-0.3.8 fsspec-2024.12.0 multiprocess-0.70.16 xxhash-3.5.0\n",
            "Requirement already satisfied: nltk in /usr/local/lib/python3.11/dist-packages (3.9.1)\n",
            "Requirement already satisfied: click in /usr/local/lib/python3.11/dist-packages (from nltk) (8.1.8)\n",
            "Requirement already satisfied: joblib in /usr/local/lib/python3.11/dist-packages (from nltk) (1.4.2)\n",
            "Requirement already satisfied: regex>=2021.8.3 in /usr/local/lib/python3.11/dist-packages (from nltk) (2024.11.6)\n",
            "Requirement already satisfied: tqdm in /usr/local/lib/python3.11/dist-packages (from nltk) (4.67.1)\n",
            "Collecting pycocoevalcap\n",
            "  Downloading pycocoevalcap-1.2-py3-none-any.whl.metadata (3.2 kB)\n",
            "Requirement already satisfied: pycocotools>=2.0.2 in /usr/local/lib/python3.11/dist-packages (from pycocoevalcap) (2.0.8)\n",
            "Requirement already satisfied: matplotlib>=2.1.0 in /usr/local/lib/python3.11/dist-packages (from pycocotools>=2.0.2->pycocoevalcap) (3.10.0)\n",
            "Requirement already satisfied: numpy in /usr/local/lib/python3.11/dist-packages (from pycocotools>=2.0.2->pycocoevalcap) (2.0.2)\n",
            "Requirement already satisfied: contourpy>=1.0.1 in /usr/local/lib/python3.11/dist-packages (from matplotlib>=2.1.0->pycocotools>=2.0.2->pycocoevalcap) (1.3.2)\n",
            "Requirement already satisfied: cycler>=0.10 in /usr/local/lib/python3.11/dist-packages (from matplotlib>=2.1.0->pycocotools>=2.0.2->pycocoevalcap) (0.12.1)\n",
            "Requirement already satisfied: fonttools>=4.22.0 in /usr/local/lib/python3.11/dist-packages (from matplotlib>=2.1.0->pycocotools>=2.0.2->pycocoevalcap) (4.57.0)\n",
            "Requirement already satisfied: kiwisolver>=1.3.1 in /usr/local/lib/python3.11/dist-packages (from matplotlib>=2.1.0->pycocotools>=2.0.2->pycocoevalcap) (1.4.8)\n",
            "Requirement already satisfied: packaging>=20.0 in /usr/local/lib/python3.11/dist-packages (from matplotlib>=2.1.0->pycocotools>=2.0.2->pycocoevalcap) (24.2)\n",
            "Requirement already satisfied: pillow>=8 in /usr/local/lib/python3.11/dist-packages (from matplotlib>=2.1.0->pycocotools>=2.0.2->pycocoevalcap) (11.1.0)\n",
            "Requirement already satisfied: pyparsing>=2.3.1 in /usr/local/lib/python3.11/dist-packages (from matplotlib>=2.1.0->pycocotools>=2.0.2->pycocoevalcap) (3.2.3)\n",
            "Requirement already satisfied: python-dateutil>=2.7 in /usr/local/lib/python3.11/dist-packages (from matplotlib>=2.1.0->pycocotools>=2.0.2->pycocoevalcap) (2.8.2)\n",
            "Requirement already satisfied: six>=1.5 in /usr/local/lib/python3.11/dist-packages (from python-dateutil>=2.7->matplotlib>=2.1.0->pycocotools>=2.0.2->pycocoevalcap) (1.17.0)\n",
            "Downloading pycocoevalcap-1.2-py3-none-any.whl (104.3 MB)\n",
            "\u001b[2K   \u001b[90m━━━━━━━━━━━━━━━━━━━━━━━━━━━━━━━━━━━━━━━━\u001b[0m \u001b[32m104.3/104.3 MB\u001b[0m \u001b[31m22.9 MB/s\u001b[0m eta \u001b[36m0:00:00\u001b[0m\n",
            "\u001b[?25hInstalling collected packages: pycocoevalcap\n",
            "Successfully installed pycocoevalcap-1.2\n"
          ]
        }
      ]
    },
    {
      "cell_type": "code",
      "source": [
        "!pip install matplotlib pandas tqdm transformers"
      ],
      "metadata": {
        "colab": {
          "base_uri": "https://localhost:8080/"
        },
        "id": "m8SGOZt54s0p",
        "outputId": "7bd24ffe-13dd-4247-8415-bd95e3df9a82"
      },
      "execution_count": null,
      "outputs": [
        {
          "output_type": "stream",
          "name": "stdout",
          "text": [
            "Requirement already satisfied: matplotlib in /usr/local/lib/python3.11/dist-packages (3.10.0)\n",
            "Requirement already satisfied: pandas in /usr/local/lib/python3.11/dist-packages (2.2.2)\n",
            "Requirement already satisfied: tqdm in /usr/local/lib/python3.11/dist-packages (4.67.1)\n",
            "Requirement already satisfied: transformers in /usr/local/lib/python3.11/dist-packages (4.51.3)\n",
            "Requirement already satisfied: contourpy>=1.0.1 in /usr/local/lib/python3.11/dist-packages (from matplotlib) (1.3.2)\n",
            "Requirement already satisfied: cycler>=0.10 in /usr/local/lib/python3.11/dist-packages (from matplotlib) (0.12.1)\n",
            "Requirement already satisfied: fonttools>=4.22.0 in /usr/local/lib/python3.11/dist-packages (from matplotlib) (4.57.0)\n",
            "Requirement already satisfied: kiwisolver>=1.3.1 in /usr/local/lib/python3.11/dist-packages (from matplotlib) (1.4.8)\n",
            "Requirement already satisfied: numpy>=1.23 in /usr/local/lib/python3.11/dist-packages (from matplotlib) (2.0.2)\n",
            "Requirement already satisfied: packaging>=20.0 in /usr/local/lib/python3.11/dist-packages (from matplotlib) (24.2)\n",
            "Requirement already satisfied: pillow>=8 in /usr/local/lib/python3.11/dist-packages (from matplotlib) (11.1.0)\n",
            "Requirement already satisfied: pyparsing>=2.3.1 in /usr/local/lib/python3.11/dist-packages (from matplotlib) (3.2.3)\n",
            "Requirement already satisfied: python-dateutil>=2.7 in /usr/local/lib/python3.11/dist-packages (from matplotlib) (2.8.2)\n",
            "Requirement already satisfied: pytz>=2020.1 in /usr/local/lib/python3.11/dist-packages (from pandas) (2025.2)\n",
            "Requirement already satisfied: tzdata>=2022.7 in /usr/local/lib/python3.11/dist-packages (from pandas) (2025.2)\n",
            "Requirement already satisfied: filelock in /usr/local/lib/python3.11/dist-packages (from transformers) (3.18.0)\n",
            "Requirement already satisfied: huggingface-hub<1.0,>=0.30.0 in /usr/local/lib/python3.11/dist-packages (from transformers) (0.30.2)\n",
            "Requirement already satisfied: pyyaml>=5.1 in /usr/local/lib/python3.11/dist-packages (from transformers) (6.0.2)\n",
            "Requirement already satisfied: regex!=2019.12.17 in /usr/local/lib/python3.11/dist-packages (from transformers) (2024.11.6)\n",
            "Requirement already satisfied: requests in /usr/local/lib/python3.11/dist-packages (from transformers) (2.32.3)\n",
            "Requirement already satisfied: tokenizers<0.22,>=0.21 in /usr/local/lib/python3.11/dist-packages (from transformers) (0.21.1)\n",
            "Requirement already satisfied: safetensors>=0.4.3 in /usr/local/lib/python3.11/dist-packages (from transformers) (0.5.3)\n",
            "Requirement already satisfied: fsspec>=2023.5.0 in /usr/local/lib/python3.11/dist-packages (from huggingface-hub<1.0,>=0.30.0->transformers) (2024.12.0)\n",
            "Requirement already satisfied: typing-extensions>=3.7.4.3 in /usr/local/lib/python3.11/dist-packages (from huggingface-hub<1.0,>=0.30.0->transformers) (4.13.2)\n",
            "Requirement already satisfied: six>=1.5 in /usr/local/lib/python3.11/dist-packages (from python-dateutil>=2.7->matplotlib) (1.17.0)\n",
            "Requirement already satisfied: charset-normalizer<4,>=2 in /usr/local/lib/python3.11/dist-packages (from requests->transformers) (3.4.1)\n",
            "Requirement already satisfied: idna<4,>=2.5 in /usr/local/lib/python3.11/dist-packages (from requests->transformers) (3.10)\n",
            "Requirement already satisfied: urllib3<3,>=1.21.1 in /usr/local/lib/python3.11/dist-packages (from requests->transformers) (2.3.0)\n",
            "Requirement already satisfied: certifi>=2017.4.17 in /usr/local/lib/python3.11/dist-packages (from requests->transformers) (2025.1.31)\n"
          ]
        }
      ]
    },
    {
      "cell_type": "code",
      "execution_count": null,
      "metadata": {
        "colab": {
          "base_uri": "https://localhost:8080/",
          "height": 1000,
          "referenced_widgets": [
            "d82ab3bf72b34fa8b7ab33ed4317aca1",
            "f1cbb1c2f01f4f1bb25e96e6b1ab9d7f",
            "2c36fd5ecc8240ca9b2b064e28efec6f",
            "8e9de714284a40f6aba097a45dba5b78",
            "1e82716c9e8d4442822e3b1b1ecec28a",
            "f63dd4ed8a76470289349f0a0334e84b",
            "39cb778ab02b4475b4ba258799aab1f2",
            "9ad6c55ff2654b3db14a6e0219d7d446",
            "94f643873fca4debaf64e70f3372743c",
            "ed93bed53af04ebd9cdcfa5569b10340",
            "12dbf4130dfd4ff785a11e005611e488",
            "7130b53d796342438835d5f4a501fbcf",
            "df66c5e22f684a4f8fbec5bd21fdbd11",
            "01c97a24e6db4b85b8fc655b54c5cda3",
            "a8b8fa1b0c0f4d459a6a9dc78953a828",
            "295beaceedbe4766b523c35041d3f5cc",
            "84905337b77943b89f2a6ae9b78906d9",
            "f951c5afce694866829c697a63d88a97",
            "e27acc2671c749bb867efbbd4d77b44f",
            "f919d3d2078144a0b7496584c03129f7",
            "74da802580c54416a46e8f10c3395a45",
            "28904dc6b2b4428b98787aa6b707501b",
            "fecfda06d57e4b08a0c422ec12ee0b4e",
            "64dba26db4e944749ff90217e038ca65",
            "1ece3173e1144776a1cbc7684b6aca36",
            "d8a2992d2b1343c2b7a7f50a220b1eae",
            "06a456e6565d4abe99f99e3f0d5de1bf",
            "dea4e422acb54ac2a78ee0ad48c10c4b",
            "32df6f2ba16f4179bb36cd698f18b755",
            "b3658cab5bb049c88c166015f35d8933",
            "d940caafbce94d73900ac97862f8e5d0",
            "5101b97c922c4217871ff43d1a086335",
            "a7769c3f4bd24cc6a268d300e4e9b247",
            "96c879dab25d4ffa975ace0b38c16b08",
            "8187dc0b733c4d8ea2fba9ce25967c34",
            "f3abd93b94f242a58e7cc9e03644fded",
            "16ec49f5818545d8838f5320b954d672",
            "c06b55c30b7249a6b1c6faad17c06f7c",
            "ad5321fddbc04f9b9e7c8047d2a9c640",
            "10a87db2a79242acbc9aa2e5d1141f4d",
            "734efbd9edf54abb8440683d0e5c9b46",
            "2780a9d17fc74daa9f2f4b600697c42e",
            "328b2c5cb7cb4bd4b265e26745e6280f",
            "e45631c019d14e4baffdf2baf34c3003",
            "27e1848de87e4ae58d378517becec30e",
            "94b19ddd643f4e8ba886b434a333aea6",
            "45e8119f8b8941dc83ac60a1cea000e0",
            "859c7ad922044f4f9e7733352ddf25a7",
            "9b3629d0586e4495a7d1439ae35bbef7",
            "5cab3b2a75d5487d955ffd0437f28590",
            "71b8b467ecf04d39b97bb350af275d39",
            "12ec933193ec481fa2ede1f455810eca",
            "08d1c622a8104998bc373b3e93a21cb3",
            "7f732677ebd34db081cf4ccf96a2c0b7",
            "8758be03caa64e3aa58dabb21e614d0f",
            "c616730fa94148b1893ee6b8cb9a1c24",
            "e1844e6bf121460698b6d441492afbfa",
            "43a1f10570a042a8bcd62e2c4d8ab27b",
            "c18c4c37624c43459d45ba3cb6f0866b",
            "e80bc39ba7b349638418ae725fd2ab0e",
            "f78b744321e8480cb9c4b8ea259c62dd",
            "906e2ef18dbc4c4b91bd092a8b2d7b65",
            "358f6e0fa4d84d758a1cc16df6ee7daa",
            "eeb6bb4e154f47be91e89d4684083018",
            "a5c2f3641c66414b8c287f65e078e89b",
            "204115bceede43dc982e357c70de05d5",
            "b1dcadeebe8a412dae821036ffa55124",
            "5fe5078ed5a64e42a02dbf7a17c857c3",
            "4b6cb7e95d344f518edd99f045abe5d5",
            "ae7621fb920c4e56a5bd4ff5d34bedf1",
            "30d3132a49294f468c377391dc5b9488",
            "38e0db24c8334780b0666ece4a4926f1",
            "41e24e3858f1450591d791b8746c921c",
            "606bcd34af514e6482a974d6ffceb9c6",
            "bef505c1e0b2457c84b58264227b76c4",
            "6123ef8ce05e48a0b37fd29128e86c7a",
            "053661557632407a9de6ef93ba22feac",
            "1a2fdb9075af469583da2c43053ae027",
            "c343cf67570d4df49ce9d31322bd24f1",
            "e86f369a2ee747e2a62ea4daaf652bce",
            "a01915e4364a4eaebd2de83ba5e92218",
            "92936a32c42f45dfa04e346fac4fb525",
            "237327bea04c4f51a718243dad118c01",
            "44af1e233e0149d5b485bf9c80cdb7bd",
            "a416dec0993c44e1a2ddc2d9d7ab1a9a",
            "ae2f372d2bfd473cb5caedb64e038447",
            "8ef0c2b8522d46bfaea2f576a8323d30",
            "96fe97928ed441eb8eca8a9239b78600",
            "580538e0cd954a7694c362dccf93521b",
            "2f75faa8ff55454bad1d6723b7aee216",
            "a2d06a19600a4f2a804e4d82057e9560",
            "afa7dd8208a5481c98894a247905d703",
            "5c5b98d931ad4a9b9d896893230bcfe3",
            "0fae8f051d73451fa1acb79b3ebba298",
            "a9de7e24c29248598cdcce6a45d8694c",
            "4a8663332bda46e7bf556668823d548b",
            "1c7a3c8f712d4f64a4e826fbef945d73",
            "72cccfec09844c4ca3906791c2a44ba2",
            "dfb061c75a2f41f982bd95a6793b8fa2",
            "c35d811b541a4a75aed955362ccf7a37",
            "9af6d0921d8d4091a6791c272f130618",
            "6472e612ce9f45fca3de4fb420980574",
            "39f6cc49654e43beadf92869b478fdf6",
            "78e696b9610f43e78c1e9c9039695d21",
            "a8631b6932c84c30a56e6d806b11d2a7",
            "cb95a996bdeb4b5783e01fa1544723e8",
            "6b0ff81295694acd936453c7a12c8fb5",
            "227b3039165541e3a1cb3a09a7592347",
            "aee06671550343a6a2e68cf4022fcfda",
            "733dbb5a74f342e78bd1dd9edaf57381",
            "825fb510888449ceaa31360939d548d2",
            "c5b4969e01fd487aa0acef51046d1783",
            "34a7d47a599a4e56928ebd0e632e27b4",
            "b65a9e50742e4557849abaa0edbe4299",
            "8f0d7221506b41d4912dcfda34638335",
            "bae555aa05b242d4b674bf003e9dd3ce",
            "6959c8577e2344b0a80dc745854d2f4b",
            "0454eeb1fac543cf8f542334c84ddda1",
            "2f408080a635472da4e895daff656fdf",
            "d7f3e3f6c3d442e695d8e73529250ef9",
            "d8f9a5ce12e14f9782b46e6f3e0085f4",
            "faae482adcbe454fbaf20b0345260b47",
            "fe79b6f77f3846909531c4f3f271594e",
            "aec8465a70534c33806d63b0ee514f5f",
            "88b1b468d62b4b3e9abaa21e4185d8fc",
            "5a8920d26ad5444190220711f7d91081",
            "0b131dff0f164dc7a9fd2fc9a2783389",
            "781b537ac94d4492bd5bdc49d37e7501",
            "8efa82119cf24c1c808e0dddcf13a8ca",
            "f466797cfa9443a687d026c52d355ee9",
            "2fce88998c4b4c21b573b3fc86e26009",
            "16b95f1351ef40a3834be45eac07f33b",
            "c341571e79d24e979241348c3c488bc4",
            "9d2f3d8ec3004f399a7e97eaea333fb5",
            "c38bc9570bfe486f82ff7c884a63fb79",
            "74f3d0a85387487ba2a90adb1a0f5913",
            "a549e8a076554f8e91caf93ee053a5ed",
            "ced066df74ae471c97457f9824781f12",
            "db8bace7f6c4478184544fbff50f3100",
            "e08e6496346c456eae5d861256b21bdc",
            "8656292a840d4389bbcdb6c99476e14d",
            "53bb80916a4f4220933b1e544ee4bd47",
            "5badd09f50c64c93b83e1cc93c3e61f4",
            "e45cfe58c3f04953a78cfe5fcc0ede8e",
            "2665c7500c0e43a0839beeb1318fc14c",
            "6b3722b44e6d41fab7a8790f6dc8b2f6",
            "181618e77a7d43d295760bf27a9deb3e",
            "8ef3a1868b7247e2b6d21ccb228b13c1",
            "62a6efd26efe470494826ceccd2eb54c",
            "9930bd3cb60c4d78937766a48805cbb5",
            "4c9dc675ad7f4c2fa7652ae89e29c855",
            "f19a65e3fa974c5899fcbbbd8c52df18",
            "4abcb8bdfd8b46a4afa804223161e11c",
            "86c2bc27902b4f30b67edc4fa87f6a41",
            "f6655af066fa4b8e8c928fa3fc9c0169",
            "1e432eed38084633ba309b89614d44dc",
            "6e8b3cc41e804797a22f9e0137f2787b",
            "d140964b29fa4ef5a7a467794f715e63",
            "1b41f6b4f14241ff9614c6613f2cb8ec",
            "7c56eb748e6c4ac0a65b995092cfd858",
            "1a85dcfef603459f8ec862fd7cb8b1ed",
            "186a09586144470f9d368244e0b87e77",
            "40cd1e978ac64347b5974c0acd776965",
            "7c3c508a81504202a6b869d7afd7b3af",
            "c4cebb357be949c3a2b9324f502f7b95",
            "bfaf54a6a84a4cd4989cd2001264b264",
            "792d827e3bbb4ce4b6050de744cb868c",
            "e9d4f9f4db7b450f8afd75eb96ec33fc",
            "d165c416043d44d89b48797274d491af",
            "964fad1a0bc142c4bfa656d2b5b9b72e",
            "d63073e6aa834e0aab83e0b575b17caa",
            "d3bc66f9ec2d4e80b722cf3afa718591",
            "d1e0b10491e14f3bb76e9778b1db3f4b",
            "f9575ea67a494e75b7ab269058cdcd4f",
            "5237212f6a47477e922c6749500e5840",
            "fe5e2b2ff043467f81bcb901bc09ab17",
            "f803fe7f717f42cd974824797b561527",
            "f16ba07e8b3d44199ddae8c3b4169634",
            "ec74f81ecc494fde88d314605cef0d5f",
            "260c61b8380c46c6ad2b81e0a53ab1f3",
            "736b1ce58ac64223bd9546ed2871e836",
            "0a8c97193bd0436ba2d088578f6ece9d",
            "693e7b1c2b5f47e0866a212fafb767ce",
            "fc491fd3352746158d3ff7f0dc88880e",
            "58edc5b5e1e84f449ff0f6aae62571f9",
            "c27ece2063b94b658252772df9f0bb61",
            "879ea16f0dc949569c2544e86bf0bc54",
            "33abb12eb2304f90b7bde89fdb8c69ec",
            "3029b8189d10419ab4ad2726e363f505",
            "d91d425baaec4732b48dadddf686ebb8",
            "a04870bc99644ee9a34ad21fc3b9c4f9",
            "035eb77f5ef14ea295f47f5704063bd6",
            "1d8367c966e047e38a6c348a30514e01",
            "7f7e4ff91de24a37af096479f905e6f6",
            "f9eb51f8d82b484f996570e5e561b27b",
            "4bde6c2b94474023aff8a580e8f5ff05",
            "7a0d3c8aedf544f9b974d099ffcf1378",
            "676974ccf511412da731fa47f9246ef5",
            "2c0b546d9af14423bdc215e5080b6895",
            "77d89c03a98442e0a13c6c5c59ca790d",
            "297b145aa1db4a40a8ac06eaee0b6fb0",
            "2852270a9c3748b2876e38ff997058a6",
            "703b2a679d074719aa69213b4de21725",
            "8aa7939234934bb4b1cbb6a10c50f341",
            "d518be1e066b4da8b7ac5089b2096ef0",
            "e233214795024414ad039e78343b333b",
            "35aa9ff6e1fe47e7b8a25dc9d4349e24",
            "c1b620966c3b4ab1b3a4ddd9b17b847e",
            "e66a7c647ecc4f95ae2b31a61e0b42d3",
            "a0994a7762a5433485dc8d1bd406991f",
            "a7e2fac46bce46e595db3c1c0c7de967",
            "28a6f3ceee7348a69b846a1c0a1dc554",
            "8cf21b8faae440da99ad6adda08d5aec",
            "569f5733e45643818fe77aea28a95e37",
            "2770bc6548114700957285c8644090b6",
            "bfdb0d2684d74ef3852f804fd3e13614",
            "1334e5db74074c488c7dfbdc3befc003",
            "ad2d457c8584476d8518fa748dfdc93c",
            "d0c7739bb0eb4b2690dc8918bd1d9125",
            "0a09e6c5170e43a8927e981b312bf223",
            "fb3cd191e7b94bba8b5a0bef05b06372",
            "5faca4e9a911477a9f0f4a97d1a49a30",
            "0071012617954567979bde6764321203",
            "c1d973ad8b9441449e42c26c6536607e",
            "a688a9aacb124e858ec39bf9ef9ac783",
            "8d7819e640c4408d888548d4b3bc8411",
            "79e0a93e2fe94bdd8131097239489d62",
            "8b7bb61b7aee4f7b8ce216c5be5fee51",
            "cc177ff17c074d19b6c2e7e0e6b6162e",
            "96b9c7ba7b3d40be8ac759ef8ccc28e0",
            "0fc88c41d4444d7db3cea132012abdc5",
            "df706b9afd404b469246a3ccc7fd6f56",
            "8070735bc9e2437384333479ff4e12f5",
            "5b81350d655347c792f554b45610a05f",
            "db77500ad02f4de2843e60097ee455c1",
            "0600b36cbeac4d548372327c10aa9f94",
            "35116fc552bb41e68484c8da6d1e33b9",
            "25db34f648c74034b5f51beae16efeaa",
            "913b13b6ee084b20a8d52165dcad9719",
            "e306558c6bd14a918a1bad90357f5bd6",
            "4f4393a8253b4c0da54652ac51eff8da",
            "91529ba4e87246bba98386ec9db69abf",
            "b3b7947ec64a478ea87a0b47f05790db",
            "d9e4f20c1a5a4cd79cd650cf11cd019d",
            "8e658e7838e3440fb7a6d2d4d34fc67c",
            "4a9e3303454d46a8a91b08a514612d70",
            "df09e2c2641447c18a566e8493c69cfb",
            "15dce115c10647808bf86cfb4510da0c",
            "1454efb76b6e4df98244d89db614d6af",
            "d82b4ae5c02641b8be145366800df5b3",
            "9ab292befd3d42068d252f87e9193c3a",
            "ee5689a98ba64c589fad7b1ca3b69c82",
            "38198337e9aa45959292dbaa8dac031e",
            "6e5d1be3f178491a9299389f91ad614b",
            "5f7045a80a5e4a5d9a5f7710eaca76fb",
            "1cdfa2dc71df466bbc64f068e1260885",
            "3edabf517e464e36b6c590ca299bdc0a",
            "0ad519f2ef864cf69ed9a1bb52113704",
            "4ca40fbe6012438da9a5367fab1caaa3",
            "a0f321a557364ac0bb6557031c5a1f55",
            "ce8862a828af4e11b2e828226bd0f8cd",
            "1b58bb0bdbd44c8cbf00be7ae188ae1e",
            "32669e20ad91422d931bab6ea83ce852",
            "9fc2905ce8a34e29bc5f9eb166482b90",
            "0a1e9456464a452fa0f8bba73de9c0a3",
            "27a0446e22ea4609b3102e1b4115344d",
            "2b261a09f88340f3a680a4b0eefabd2e",
            "059ae3218b654d939dc7e8a2c71aa4c1",
            "9b918719db034588851923161a575774",
            "c7606c8b70d5408ab64d10733d2f789a",
            "e241696488754d48b72cd5758bc6a772",
            "feff53af83354885a16975fcb4ec649e",
            "4e8e087db99e4c36a1ba5f8e3963c924",
            "914f6d0c53cb4c4ebb35b816c16a304b",
            "a2be57f1d0524d8c863d17fb74bb0e03",
            "2bd8b648e899415ca5059886f95021ee",
            "485ecdebfc604599abe1672f387e33e4",
            "e1b3c832556a4e7fb83ed1e750bd7566",
            "45b8da93dd884ddf9e420dd977522bbd",
            "9fc9424b199b44b3bc01038be2262925",
            "0b12e98275dd4ec983581dca5de73a5a",
            "27c51a7213f3413c9581a1ee8ed89fe6",
            "5ae4f41faeff4516a920b96330e6d665",
            "521b6c77d56a441180b45e7e0d6e3322",
            "a5be00d856d14020b702447618da1f6d",
            "60cc92f9b22d425aa30a8fbab9aa1347",
            "d9def390aeb44e56810b26700da5ccb1",
            "63b08567a3e341219dd429f029b5e0bf",
            "fdc9d3103eaa44c2988a643aeabfa8f4",
            "2e5a2c83e2654973beea16b3a736be9f",
            "d3c9f5dc85304229800ff42dd57cf768",
            "bf312e996d0a4173bf4ffe0d1e530e45",
            "0cdb5afb4c604340822c5340cf1f00b3",
            "77613216baa146b5899f74b5c1670784",
            "6f1b959c6782476a8ea00f6f637558b5",
            "6785c3850f504d5498625d1a1905d4e3",
            "a8ba3ab2fbd04c27a2048f3d29efd9a2",
            "4bd61d6222124f379e6f9b5706b876cf",
            "013ee61dfd6f451590c314a281651578",
            "1ed8cac1312a4958a6dc6cd8ae5f941a",
            "4a3f0245a76e424aa3666f1aabdc1da4",
            "b9a611801a29496691f56b86a86c3b08",
            "cf91a6bc29c44f128c2eb314998a6969",
            "760fd370d8e445e293f752e1f6684dbc",
            "19dbf7ce6caa4726a5a59a40360feee6",
            "7230655e7d1741859f81dbe126a8cc21",
            "e6cc948be0bf486d91ab7c2f833661e2",
            "2baadfb13b914ea099c1c905fe4a6eb5",
            "b28e64c062b7442ca3fb66c813b5fb19",
            "3ab040c834f34df9876b61e7783cde5e",
            "5a40fb242ae44a11885649804b15aaf9",
            "8e29ee13f35c4aacbba0a3276caa68cf",
            "f4fc925f802f46c49258a2d4e420777a",
            "f2c733126c774504b5094476279ac873",
            "e653c00f9c3d475c86a534b41514cdd7",
            "8922ba8fc1e5482692f170d70534e975",
            "506bf7b061f141ba8215dc49ba6de952",
            "78e81a49664c4ee39fb02b29bf1a4337",
            "34d35c0d9f6740a9b3a3b3423df38c06",
            "7e357733e2084cf5a97815b6e4038a79",
            "0be6ceeded264b0f8380a76e984e9c01",
            "41171cdc5fbe432d93abdc99d5fb8486",
            "350aaa7e0b68419083870ac962329429",
            "bc598e40d5ec43bd82d078a3cfb2e69f",
            "059c96da6d504a77be264dc194dbb597",
            "b4482cf7654e46a39634a5c0b6850a76",
            "ce61f9418127418e98a8550a57b088f8",
            "00b2e9fe7ae440f8818ea3310a197a0e",
            "6321e2e4948e4fc1a4b7f4256abcb5ed",
            "1d8258aeb61f4c0fb9022eb6625e4d5f",
            "5a8da694356e47dbada4c9f1a3c4ceaa",
            "6cd8b492b6124c0c81d14f40cade8411",
            "f9e639192e214611afa09454fea12f7a",
            "40b89c646571480b82ce1286faa34e8e",
            "aab030ac94194710b2f07665384e2bd2",
            "f0cd097e551c45f5b01ed117550e96fd",
            "7f7ab94babca488791c3f8f08ce1901a",
            "fa7be6fcf4394738a32b76b01176dee6",
            "92f93e9617124a47aaccf60154533a24",
            "c6a9ccab088f4fce8145779f7eace5ac",
            "b821d4c722a7409bb404260c6888b90c",
            "67660414ecc74464baa0d98c39f7c544",
            "ad0fdbe443cd4842b8d14dbc9ad3e4d2",
            "29d28f87a4f74cc7825cbbb62a0c11f1",
            "4224833069714d02832c8490ff249b0d",
            "f952ca11f42d485da85dc9805f3e1d41",
            "1f365dc8a3ad4f37977e921bc60878f2",
            "07093ad54b4245c99f1a8cacf1677804",
            "a8119549d9934561af53c1bccb104251",
            "5a019a1b1bc3419e8792bc9a092222fe",
            "dd0367fa6d8e40f68353af4f2f8673a1",
            "85dfaef5c7e848d79b4945d9281cd5f6",
            "6440455cfec64ae08cf1844114b63108",
            "c057cb0c8a824b4b97152219abe6e9d8",
            "4224d62b7e7b4af29d6b241c212fea60",
            "78d02cc23f2b4008af8f32c97fc4edae",
            "1a2664f8e44746a6bd3e36f52c161398",
            "22d42e85cdd3442a8f8f50b18d5cc04e",
            "b2a17bfc0bb14226835a9d89cab5fbda",
            "53cbbd70559b471d8319e056363c24db",
            "4a25ed9391664838ac435015c0189900",
            "5a106a8ffc44486b900c36ea7c22fdac",
            "d9245a4fdb6948ad9e2331f7dbc7482f",
            "946133e35d2d4714bfff68fb92bc240f",
            "65ff3f61394e4cdd8efa782a0cbe44f9",
            "f63ba8a9f24244d3946412bf7d711698",
            "7eeba1db0ca64cc490f3e17dbf3a6fa0",
            "dab0f395fab64407acb05f3ed65289ea",
            "bd6cbee381ee44bcb76d8117ad5a4076",
            "5698cef4468a47be83f66b005cf1055a",
            "97ad96affaa041588a8b821af153fb6a",
            "bc6e930793414afcad019d7b03bd840b",
            "e2ba9bc4276d43d8a144de0174f1d2af",
            "dcc44c9983524263ab1f5fcc6300c364",
            "aee2cd8e10b2465c8bbb86569b9072ad",
            "d392898d2c3740b1ac4991cdd5b9f66e",
            "b21e4cd67ac642198421600b026d5e1d",
            "f5e5fe1891424e8ca7f7da567d2a40b2",
            "4c02bd0052ce4e178f18471ff9b5bafa",
            "34b6824f10e2418e88c4d52bcbe05543",
            "343fab43ee51484aa72983e4a0056eb3",
            "a3acb159ab80459d8cfd46a1faaca40d",
            "2093c94b2a694381a75bf2b8aec6be61",
            "e4df0dc651bd42c286d940ecd886e13c",
            "62548b8e94e74e0dad9b1df47a8c2cdd",
            "1236f82345694ee3b939606d64ccd971",
            "96ec4ec27b1e44b096a5c7018686cdef",
            "0e9e1cb05c094ce898fd67075e063d18",
            "4e8239ef8c7e4590bcb4e4f2edee8e14",
            "8b7699ea8e2e4f8ca3cc58a9c678c279",
            "1564afa3d53a4bb0bf22972ca2058ce0",
            "5189e0c4e406469092e19b37f2a14286",
            "a347d0f6c99743619ad931df1aeb2af3",
            "2dcab2b5a7f3468e8d1d85dbb517cef8",
            "e0383bd27cd74721ac8376595bc7aadd",
            "78522e074e8a41288706ddea6da167fc",
            "9d561dd4934a4d8682cfd30bb8f53601",
            "14c46b34b97c495383e61bfc396252b4",
            "e02fb3c4879f47f98197d661d4285ef1",
            "9f9f0812b3334311892e6a8c18e2a94e",
            "73952ad98f2940539fa92de6ecded9fd",
            "ebc8b1a8b74f4ace8c44083d53c33c2d",
            "e651bfcab51044a2a31268e0052f756d",
            "47480e528cbc489d9ac05118e1c11ba5",
            "354bf18d689d454698bec8eff9126773",
            "4ee268adf9db49faa505007340774765",
            "95a5838b08034e08aa72a0b6ec71a3e5",
            "3d6efc51301d4e42822f965671ddb12c",
            "47fb33f4cf9847bfbf6e60d02f124e1b",
            "7a37e2ec4ef444b3a80e897ffc789ecb",
            "54def40b9c4a4128a32c8cd9ee97d0b8",
            "b2a8e0e0617746cba53dafbd00ba249a",
            "43097bc69ef64651bb0de93132305745",
            "84e8351c820f41db9b2c9ad076782ee6",
            "9d9838dd65cb4371832352c625eebbbb",
            "71874cef22414e14adb4711e892d2a9b",
            "da562b871dc04c159c014cf6ceccdccd",
            "113905e028404ad795b1dfc32a0c740c",
            "f59fe0f1c936458d9200618f5c5b4a39",
            "b3d3093af23c444fab57d4d9c6ec89f2",
            "7177d3a8d5fb451289e137e409679f17",
            "2b679d1c54ff41bf825e6d87d9da530f",
            "15d292894f094816a83c2b6924e54587",
            "b74723b8dc7943779e2d840a5d4ac9c6",
            "f8d9d7afd2834f52b9a02aecfc92c8ca",
            "c44190a14d5b42cb9c89d164724221bd",
            "ee038017971046e082f0742f511184f5",
            "b5041be19afe498ab7622dadc59fb6ed",
            "900822658843431f8135ee85af1cc4ff",
            "d64c337211c54b9a99ead6212b8c4791",
            "997859852d0d40cea16415c4f8e058d2",
            "8df1081b4b0c459b9ba283cf1da7197c",
            "a45584d900d34828bc718e11c73d4ac0",
            "539a642406e34384b0104573eebf13b0",
            "3d310c00e46544e4b413cf1a45f3b90b",
            "7c5b3dbcf5ea445fad334ed14e8d3fc3",
            "64fbfbc7136f4ce6b18fbac41c409dfa",
            "e6ab6136a57641cb80cd51a1d3dce7b6",
            "e7f3c6c453bd458bb5f953d80df80a05",
            "35c11981941147d3b341921786560803",
            "93ae62150ce54fc5905f23c3eb7248ce",
            "a5ff8a172fbe45ed81bbe6d81c55a3c2",
            "3dd3daac25134f01bed52db7c13b4282",
            "5dc5d1b68df04fe1a9460e10b5e12407",
            "221623782dca4635a951b6e43e2ffa09",
            "c5e0969e7d3d47f7aeed9ad4088a0cb5",
            "a0e60cc6df98485d8e63ffbbf0ed1db3",
            "7eb0095fe7f145e3aa81299af1573250",
            "ba39cabe54d84df7b154902d81f7654d",
            "da5f2d0f93724ae7b0e2756c59964d9b",
            "48a69f47bb86478baeff2d92494d3a79",
            "d0b551ff3cc84dc8b9fbf26881c2fb8c",
            "ce772de62bc241fcb345695966aa73fe",
            "698415f3afa14a04975544c23f9f4d73",
            "49a963d0ba0e43d1933404b5907fec39",
            "0ea78af2914d4e9cb368237bcdfbf7e3",
            "5951065f9b1d4da6a036a1a660803cd2",
            "1619d0397c4f4c25be151e1d67c234e0",
            "b40925be6ff84321a9dab584e217ab88",
            "71edaebd640f4fedbc1cc2959d7187a8",
            "97e9cf87eb434229942bc7e97435768a",
            "4dfe656db4d442aa9cad72bada254783",
            "6631a4f0362d4cf69c8c3fde41f5084f",
            "d82a817410fc458e8fbbde5b5cb074a9",
            "dba317a6cdba4f7a92a6796020d50a86",
            "1e1005a3e4944ae9a5d5fb31b0bd833d",
            "fa339b6ad75744cabe39ea64d3b2bd99",
            "66a6007a42c546bfb98ce4ee7a468cf4",
            "6985938a02a444628e30926da51b9c3e",
            "a4f4bbc2c3ce4b1897fc496fa436daea",
            "ef15f1ded22942d3a89e2233a2d1f69b",
            "dd9d96aa381d4c2d93d697e11656bc0a",
            "9d0e2a07b1bc4191a94bba8a52e3c1ba",
            "b11aed266a5b4972b24e58c598ee4921",
            "b5aca1345a4945fea1c8d2add980b21a",
            "bbd4f97bfb764fa5ae28ed184c8a3c91",
            "8ab796edfc5e42509aa02d8db1c01f8d",
            "e00844b2c9fa4faa980b3e72c4d9f9f0",
            "b305947a42a0459fbca140bd3fa635d0",
            "2cf2f31f0d514aed8895254bdb1751ac",
            "dd19d44593424e4dbbb75760055371a1",
            "22d5b0c9442647b49c2012ebf144f216",
            "84f287311396413ba39f78ae877c20dc",
            "973f5fa17f1f47b4b0c46ae4e13cfdb9",
            "b37756aaa1254cd3a93be37c4d890659",
            "adf1fef1c70e44c9912bb4ecf5d408ce",
            "058245fba28f497b8cfef6f8b69da9fd",
            "6ab47b3a32244857b404c3d2c57ffb51",
            "a30941393db44c6da82066c676aee8ab",
            "fd76aaaeb20e4d3c96961027a7e56c0d",
            "2ae97bda678f47aba15978f106cce733",
            "b3bf77a569374b73b10b4bcd581a011b",
            "b798439322584c279130be134529fa10",
            "9f0b77dff8d2497481a6422da65795ae",
            "52da0bd17a0a4d149c40afeec182c7f9",
            "727cedd40ea64048b54f0efb5fdace86",
            "a71241d7c698445982103477b7e830f6",
            "b109cd2b571c47ecbb4e3b5196de21bd",
            "41ca8d773ba44889982e4f288f5f87b7",
            "73035eba93f04a128c7b815538a11db1",
            "878795a8d7514920bfda6bc368c5587c",
            "ba2dcff3735d4322b7360f1050b4d568",
            "c636c7fbaebb495cab47b32926bce259",
            "6b62914405a94cf6bfdf3c85791c77c4",
            "bc31b0e8fcda4b6d985f41d2e5758a10",
            "39c5ff69f3c44d8c8bf47b43cfc6765a",
            "d4e9a696e75b4c5c88a62e886600d85b",
            "088c47c52295463bbf806f17b217cc61",
            "9dc9b6be8acf423a819a00d5c09c8aac",
            "7ed1d1811c58498bb5022633fea3836c",
            "926dc77c0547494592dc30d8134c380e",
            "a16d7d1f756a40b59fd19fa7e4bfcde3",
            "77360c3bd45f427f9e74875de422aecf",
            "3dad11fed5fc42ef88b5ced4698984db",
            "bdf65c4234f342cf94f8f7432ba92ce0",
            "19af5499d4324c9486eea7ded4def0a1",
            "f8e0fe6d12cd44ab83045c758b1a6f3e",
            "0fa49dde5d0a4c7ba4675da049062a1f",
            "f2218a53a50d4355b8d51033b5faa031",
            "92bca34941f84b02ad18877b89824c4e",
            "8a5bef1f26224d75949ffef07d5b0d38",
            "2a077efdef064225995f56944de67b17",
            "9e65aa21736c41b29b3b4ef02d4f5010",
            "04098110c531401488acaaeedadd5eda",
            "abeb36be12c942a19b0121bad47e8be6",
            "fb298a4241fd4150881027aae9839027",
            "08f9191769714d2a960c842f0cafc5fe",
            "f26c63af50434e79aff2652468441afa",
            "f18db35626234cc4a24e0eaf543ab9ca",
            "da262a6f04374820aadfd965018defe4",
            "e10f3df67102438186e492210974da96",
            "b3f01740a04c4a4fa5a60fe188d89c21",
            "cc0e3d9410c1411e97d1713a131cf3d0",
            "8919f1297151485e9fdb49a0c865f189",
            "7c70059304e04854b4847905d78de9a7",
            "e5a70d206fec4a299d46d2ceba5d553d",
            "9f2baf05427d40dc83a0f2fed5550328",
            "e7b63977b752442483f4a3651a852ca6",
            "7ef67c6d5865412ab2c69ef9a2f1090c",
            "649c1b09641943f592babf14eaeda79d",
            "5e0a856cc5b946c78c5f5e2d0286751d",
            "0f9b694304154522a5806eec003c49a7",
            "5458505e0d574baaa91a4369a46287f6",
            "757012e49a684e41bf56d53a988f0a11",
            "c47d24ee3183465ab9c9f01fb2af2404",
            "4c036bfee290432394a77e71989c801b",
            "d45f125a3fec4b0fbc5c45a01feb6a44",
            "59e80733ba534adabfb0642940f13e43",
            "d38bc14cdb6a46f9a85ba7cb1d31ee49",
            "3363b62ca3de4bf1af09b0b71393a8d0",
            "ad2fcdc4d25944609307d1310467d26e",
            "c6f72c0330ef46c684c95f180d188a8f",
            "2cfdf56984444d20881bb4a31c8ba025",
            "41edeb384ab14a98b53655618feddd87",
            "f9af90b18b004e0ea89d7d44918a7616",
            "794faadffbbd49bf831b96ebc967c372",
            "ccc7a535057344c289a0b1f42ab83c2b",
            "04aa89dd72654dd6873cefad76324f28",
            "660f08ad9c9345cfba18914511e1653e",
            "34cb736c637045fa84c94a3450e74a2a",
            "af95583178864f84b80ddf5d8d3266ba",
            "545d7e2368424c388d50fc92be62f94f",
            "1338ef33e4614c0db1227ebf141b934e",
            "f4321687380844e09fa71306d1a6401e",
            "8194130702de45d2abfb94fc68b92c12",
            "9b0dc8fb951b47eea562cbd35978df4a",
            "4d23d48641574a8fa040b23fbb6b6372",
            "2a58415033934e90b99e95578db07718",
            "447cbd852d65453b92a5f47579af72bd",
            "7b77a6d5abb442ebb128ad0fc9b624bc",
            "57227e1ee3cd4e2ebac1c8cf4692688f",
            "b5a2e24cfb8549629dcd90da10668103",
            "2104ca4d2d6047edac3d08d1c800771b",
            "f80cf9c06a294030be1e9feab57535e9",
            "7d0ab053361f4863a4c58175ec62e099",
            "5d7650986f7b40aab99d22545124c9a9",
            "4f97d305d71c4f2cb76c9faedbf5430f",
            "a23a5dcfec6f4e2893849dec538820c0",
            "ceeb2cff68004b0da7f2cacce0f91150",
            "1743529182a44e98b583aee18b4d05f7",
            "c240085e08cb474ab7c57875f6a9bdaa",
            "f46f09e808b948f19132a9663717966b",
            "0d295efce3be4c08a39af9c1f8e3e31c",
            "3fad81aadae44aabae8569a63307354b",
            "2a0acf84282444dcafe3bc49c058cf58",
            "f26f6a3be8834694bee70ca8c3d87d30",
            "7b479b2484204e35bdc8c7eb90eaf62b",
            "d068a9a0d454468dbaf329d1d17e580e",
            "9b00b613e43b480baaf02748ac962d7a",
            "5ef8a62be3544697aa5a412349209ce7",
            "4efa25293c4941ea9ff5f6e2137c4ec7",
            "3bc5746c593d4ea6ae5aa93c96268a4e",
            "077c4607bdf945e3a51dbd842d7d9674",
            "b4ee467a179342db9d22b573c7222d1f",
            "bcda7d9b59a04eb4bd627a10cd9076e6",
            "f5d102e6917b4c708c1d182d14bc2591",
            "5b19ba9e45724bfc99349df677d8ae0a",
            "6eb3d5c4c5af4a1b9aab9ef29c5e701a",
            "652cd263e9c2415fa824c3f85ed2ff67",
            "b785cb8a1fd645f6b554a7cd7770ce9e",
            "b4fa2b91a6274b09b99ca1966ff0ae7b",
            "894f7fa835b64cc192962b6deb56414c",
            "362d85788a50429a961a14d44cf66dd8",
            "bcef6f299bed4d078b62f809d490f684",
            "dcc241efdbfd43d9ac21330e8b27cc6f",
            "eeabddc437a144debee87e6e57f5df36",
            "a3e75c95a6de4d159ec3f80c5f8f46c3",
            "91d3df001c8b419db7be16dd6705bc02",
            "9c88415d994c4e25b6259749fd310e1f",
            "8ad244db33784aa4932b81a3e99df14f",
            "2e689e9becdd4e0295c78b970b31f270",
            "ff81a759d53e43f9b656468fe7ec7e4d",
            "a761740e33904a65b69f227961c20a5b",
            "c7640ec471f04ae4a553b38f068311da",
            "c9f00f9ca33c4e13a1128df2c6213174",
            "6ede16a4ade44f15a77bfafec3b0fa0d",
            "3fbcdefe4aef47a4aede7aac26148c2e",
            "8ac5f79eca114a56ba439fca8f510b7c",
            "b22ff707046844dc914f1318daf655ed",
            "4ba4e1cd1ae745fb9e47247545cd22e5",
            "9a1206f88044418c991c25aba3a602c2",
            "c98a296330894f46bff50129c9bb20ee",
            "a596ce07526a48f8843ee4a7496282f0",
            "a4918cec6dc341cfa68b8200c3d6102e",
            "389d43b4dbff4a7e9da36c5478a5dd87",
            "873520260d664b19aea711a2ac6c2736",
            "cdb9e97dcac6421faffaf427c5485386",
            "552f864b357e4c578294858ed89b5228",
            "03d6a86dd55e41049bb11ab28d79231f",
            "d9fec73d95dc424bbd620062eb0a8ea8",
            "40c2d2a176e34ea5829d5bddbadbcd5f",
            "a1181afe32fd4c88913c2128b3636a7f",
            "fffc95cb23ce43f2bca371df9bee6394",
            "4ca753c9b33340e588aa85ba4a1b7aad",
            "e8cfd7e3bf1e4719827344afd4e651ec",
            "68e3bb7340404b39a19ca7d2c6124e49",
            "52c4d85a91614e61a1cb67ddb46f5b63",
            "643bed935dbb4b22944b7ba7c4ab6211",
            "2a096d8246aa43a8a16443519fd12549",
            "a41986afa2d34718bd5203b7ee36ad3a",
            "b906a1c765c44be2b643b788acfa1813",
            "c17648b6efdd4f8c9fffd8ec8618a659",
            "61d004dc2b5043d1b7a245803208a853",
            "5966e48fdbc6409295d1aad8085b6811",
            "c80adc698392497c95c770f2668e7519",
            "87ba612f80d3476ba50f1ce7d3866498",
            "86fb00f2577143abbf18837f28356417",
            "2c2cf11ffc174088a79201fb1acea33c",
            "b594804819594561b3a210c5899594cd",
            "09ce00489f9f4fb899275f4ef14eee0a",
            "f56166f4f98048eda5e8455c071e1ce9",
            "c549b3f3bf6d4a4c8e1f14ac0846d20b",
            "57d6462e92c54463a9bbac2e41e0e41b",
            "b13febe2f17b40e4800682e7bec5ec33",
            "92289c832fe74d3eb211e396cbace413",
            "1587d0f694504c0c88fcdaba225214a1",
            "96625ab4a84348b6beb333e8e9a305e3",
            "930d489a698f4fcf8a04ba4ccf691cb4",
            "868e00b78fc341b08548fac8134ead73",
            "2376f8c1b1984f9f8911a4f2cfb0a6eb",
            "266020b4592149248f960c3380d053e3",
            "332b82dcee9947f4925ae686173def49",
            "8bed7b734b5747c9bcfefe59f24ffc6f",
            "11e17419dd1f45568cdec04a2d9dd098",
            "8e407079b47246ed81622a797e5b439d",
            "6344b7a9f77242689d51bfdd20de38fe",
            "5fae660b0288412c9c2d6026428ef8e2",
            "2a4f1ad2e0af4fe4a2807a97a164c638",
            "b4c7f110e45b41a0ac109ed3244ce315",
            "c906e99f22e44c6f94c46cfbe272785f",
            "3a722c9d2d8b445580942e534b66d8db",
            "010cbdeed2a64482836cc24f8d5ac8c2",
            "457e5ca5585445f1ad8eb8b21a825c5b",
            "07a877f760aa4681a708a3b2d7407215",
            "dc5708ef2b6d482db2ea95fc063c20a9",
            "659086a9da0c41f68ecc3a2802c0bc4d",
            "29a1ad4c78c149d2b0f2a750bb3c5348",
            "7a09ab24b8404ae7ae690645e9596d06",
            "9bdc7bb305434cc4b760a4998ae83ad2",
            "bd420d16e6f749e69e029a9d5fce1da1",
            "b3248712327c48a894e23139fb2c2f7d",
            "5ecff024a82c45b3b374c17305bd68db",
            "951c169003c24227aa140b87137141cb",
            "3c9643e86e6645259710ce8edded52e9",
            "426f2056f7e84f8484e8198036dfb843",
            "8e06d19a6b13459a8840931a4d2a8f8d",
            "2fe4426876904116b626a5782c6af511",
            "4fa7a84c05764b48b32e077947c966ef",
            "a80fb1ce39cf4e3ba3d4ce3375df81a3",
            "755b415f53de4936bdc809b24cf3c092",
            "44e3977a82bf479a842270f917c7b0b0",
            "cb854fd73ced49b6ae75ba24a4d6ecb6",
            "a4116ce10ed24203b8466381ccde20af",
            "b3ecdfbabfdf405b9255b66e4edc7a92",
            "00a0a0601d0c47b6a4215a959044eb3e",
            "5fa8f96530704293b8e43301e024fda1",
            "fb89ed1f137a4516b73dcd6f8c7da6e3",
            "0f3b09d448ff4efa8080df00fc17a843",
            "cd01ddb0605441c7814fdc1759550d60",
            "fee5642d675e447bb83f52a0e1a801ff",
            "4c00b183a68e469e8a013d8bb9550830",
            "3e16f0a81738469cb1db4007b2fef593",
            "78411caab81743748910e687471fc612",
            "ffb87d98d1514c02bb617cc8846ecf63",
            "8a15a9437b4a4c78981040a34d7f518c",
            "e4c0563477c348268b5d36b824ea2f34",
            "8fe4b53448dc42849813f80df4938850",
            "69050fb6380e4b3bb3526beede06c6b7",
            "2dd41f5743944b339b3ebbbae404e59e",
            "23eea2df94b548859013b77cf7bf2a88",
            "6c024ba960ee45dfae62415db9068a9f",
            "c1a6651588744883bf2515defba393dd",
            "33fddb5a15f14a4d9a97b98e28624afd",
            "6563824608884a6b9542a45e6697ca46",
            "fd628347e63945069bb6c6a1799f0019",
            "8a6f337d43ed4d42b1c4c57b3772a5f7",
            "691b29a14bc84124aa010bf8bcbec9a2",
            "f2ec012395394ce281fe9af9bbdc68ae",
            "08444550a61748788481e5f210a7c15e",
            "d2f352264d724bd284149a508cab333f",
            "8a61264cb1324b2a84a5ddca6bd25781",
            "bbbdb1ad86b5479ebe3391b27bda773f",
            "4f952f4db77842b197e40e17df7d7961",
            "c83f7b50a3cd4a1094e361db6a937297",
            "604213f1f79c4624b6d5b4692ab78e16",
            "659dccf191ab477d965d8fb1377db5cd",
            "e81f68f18edf4de290490accfb11d324",
            "82fd9ea8bccd479bbb0b6393d6e46fc8",
            "c0fea0ef622043739dcd576e13da8c50",
            "e7d0abf02b274cbba0f9e45c424c9efc",
            "0861e651f57548f8b1f30da2cfe68531",
            "d846f266630b44ed8ee9c8a4d7cb801c",
            "79a440535f8742a98c7b978143a70130",
            "e550f03ccc284edd976f9de74c2ac474",
            "7f6bc84e0e4043b49e3c152adc9aa1b8",
            "c9c171d84c614258ae8ce4052b1ab67d",
            "b5b0275f106e4d86a8c4d838c946784a",
            "65043661e48c4b1eb89fa1a48f0a11fc",
            "7ad536ca73e2411ea82bf57ea6236573",
            "1f60153a70784617a23ef6ce16dfd5e2",
            "7bc42ac837d54af4b4c891c5e0415f12",
            "326be156694a42dabe22d4b421f79294",
            "e4b0f755aecb439fb2f292b5b1eef355",
            "62c177a83ec3474890e0398baaffbc16",
            "c7b4bfabcefa41829fed5498cf341af8",
            "4921885d4d75437dbfaa610c136bcc07",
            "1cbb8e7f54304197856a81fa07a38e6e",
            "75f3015a43b94bd6b18e7dc8af8215ac",
            "e5190dc8897147c89a1b47f3178fd6e2",
            "512798fafd2b4592ab52d357470b8203",
            "fbcd1827f0cd48a298a894838bdc188f",
            "4ccd175ce08c4aec8a2dec9f457d2e53",
            "a181c5759cc84cdcb7d2c7514e1822d0",
            "f17cde0538ca41b9823a7a70f5833f11",
            "64d1d139b8c441c895660d771ae01fb6",
            "1ec54cd845d3426cbdcfc6327816b1e6",
            "855053e12aca4d65a6e60d1e959dbdfa",
            "d9e0c534f6c2431f84ea08b9185e3ece",
            "f9dda165a99f4e6391f2a0330f94af31",
            "60a51ca282424b2b8f2a480645855009",
            "7e22646230274a3a933dbd704693c76f",
            "5466f269b4094675b49369b0045ff78c",
            "45cb4c922f974954a9aa7e526adac0d3",
            "4958639ac31d4d1eb61834e8b0841bb1",
            "76c1f73b51b645cf9a6ae189636f5cf9",
            "eb07b8048ee9476c8127217c5e57bc44",
            "89beb7032e7c4743a8915724358d4175",
            "c13c99ae71d645808eda157aec9cb7d9",
            "9bc2f5818e13455380b057af92dec016",
            "d0b3cf9beed3414486ac15fcfb347991",
            "3506dfdf8385438283e0782c71b02627",
            "c7ac9d0b6c854932a465621a63c5d9a0",
            "bb2dc145d7e24a4db02e7eaebea71bf7",
            "01c666cb9cea4e5e9e56fcc9a7219711",
            "5c18720c998845e98669618f1d16212c",
            "0913caeb3b9c43af94f071fceb6fe15f",
            "f2e76e7f2eaa4469b2194f6c684eb44d",
            "436edfe188504e96b0756584aa8c661f",
            "a6813506884c45ca9ec91b6bdc4d2ec7",
            "f741bf0a975b42639b0e890d1fd75438",
            "81c529489ca946a7a953e92770b181c0",
            "19e44508d5a14a17a74cff43e0d0b9a5",
            "8aadc14e851d4a8e8263d72e71f26572",
            "2ad00ee2b00c4ddd919d4da57fa510bd",
            "deda9098b83d482b908e97854c86bacb",
            "c28054afc9404266800f9525cc98a67b",
            "379d114afcc64f4c9db4de893aacffd7",
            "c0fbef5230a34f208a2f04b057e65cd0",
            "d4cbb63412b94876980e91e7d26422a6",
            "d814e3dc16b445669412daabd96f63bb",
            "25bcded3fdd24d61a5d48d85980b8698",
            "641ed9acba324e238e926a35d6a4df4d",
            "9d19fb1b3fbe4829801751c895758e02",
            "ce02c44bcea04bc792aad974874af8e6",
            "57ca20ed61b04e02847a1f3a4b931761",
            "95cf671e51a446c2b329357267e47995",
            "2f1bafc493204f8b9add7984b454352a",
            "21e825355cac4875b4c247c13f776adc",
            "caf77d8402844a0fab6eee468dca672d",
            "780fbb4bc1594c78a6b4994b97166a6c",
            "cd39fcf0ba9545d5b39609531aa6865b",
            "81d8c9ce716746ad8cfaa3e75a3214a5",
            "ac565c94d5dc49509a618d51136684ff",
            "b8cf2dc96f754a0abd9df534032971a5",
            "2db11280659d49b497cef89a13fa5638",
            "4e73025bcd4045b7a9f9f798845adf05",
            "a4820f8f350549649defab57e5a30624",
            "80fc186d03774d0cb636080c0a08244a",
            "c0003403e60d4fcfa22a4c8fd65ecaad",
            "50fbfb927846441f84ea657f2ad306ff",
            "2f78c12d9e344d54acdd5c6588751823",
            "a567969f4d12475fa227775d8147b5c2",
            "96bb75329cf54d9ebb947819e92cb124",
            "c47aa449ef314be399d5ff585414fd06",
            "755fcbc4719145cba95cec82924c3b55",
            "d1f85178b72641cc98b56e6288c99949",
            "c478101da0144a06b3fcc2c843697fde",
            "7c20e1f8572c4346b27ef3590f4fd699",
            "903a84f4f3564465b8089bbb00514a96",
            "45b32e6f1af448a2be7acdb1e500d82d",
            "bbe538fbc83a4ce1a31a89679a35b876",
            "9bbda717c79d4046b7a53132dff39a7f",
            "08a386daa87f4f0bbea2b47d38b4dcbb",
            "309102d524e04c018a6499ad43b126a3",
            "af8c7053f42a4935b66665a03835bf60",
            "db57dd4b270e4f0da6cb77e925c72543",
            "7dd8b96f4efd4fac983076b40fffc52c",
            "cb72284e1d324e42be4627b09ebde389",
            "17a1d730bbe6425eac2e0253198c8a6f",
            "52394bb911f849d8a12bb9180256bf14",
            "8166fc07aff94778afa0a596f20618a9",
            "fb00e52e20b14fc694512333e598241a",
            "145a74392c7548f891b5335495a230ee",
            "5a1872d20b734d3d82a2558f3a3f40fd",
            "f0bacda6caf241418e0178c0703582f1",
            "f63c72f2ca0c44d0bd07f734da5ce02f",
            "e407cdb91c7f4e6cb3cad7f61f4f5d34",
            "e5cb10674df54ced9ff91eeac8ca1f5a",
            "1caa5a7201a9477c849c0eef7dc2b7e5",
            "4b6e008cc05d482a90f1ab5e8ad31699",
            "043ec3175cfb4cc4be062dc286b2e257",
            "5b036218ea6041abaf7ee4b5dfff274d",
            "34065064d4d8465ea426e2aa42df13f4",
            "90acfc9a56b04ae9a950967717f4f149",
            "7c500565616d483688fab27e405fcbc9",
            "8b7f0e9aeb7245709f24fd899ba060ae",
            "5df052c831ad4f1d9769f55ee4fd6824",
            "270a6c50f8ef4b69bc9d9bd40115efb8",
            "f084e6dced8441e4b6802a1eb02cc400",
            "510fb58da6fb4c38b98d52813e534d71",
            "28a9ef6d0339491ea21b50b7787261a4",
            "e2ffb353c37e44698c81ea0e7ff668b8",
            "80b37c38a66f46708e843be00e90ffbe",
            "ae5fbb29939a473e91308eb1e5d77bda",
            "59d3e3c525d3426d9788787fccbdc397",
            "ef374deb94714b02b2f5292947808ad9",
            "96a55c8a88104be8813d94daad97ff52",
            "d3327c5c878d4b5fa27946656f4ebd42",
            "24109adb059b45e4b55deb7670035c74",
            "ef1e4f1a2ad54760ad22d8ca96fd946a",
            "23a1632af06d480c8847b0b89212dbc1",
            "c08d1bdd7862459ab15e110c1c700345",
            "1172952ff2684d489b29d38d4e59375b",
            "a0d93fd6c161479aa500c8a394099be8",
            "21a3c428d60f4570a0e3642007ad8805",
            "6737ccbb4db646389cc0640f4c22aab0",
            "97f943559ac64fd8aa7002d544b8e69d",
            "308a64aaa57e4cb9ad682b5a26accf76",
            "afc5a9e8f185495786760eaa0f69a51a",
            "b85608015571431b8c5903e4653b797a",
            "06edbd423937416885d513fe8f6344f9",
            "6fb158bc14f94c95b5d49001e7371cac",
            "08bb3093897c4deb84ebcb8dfb1bd916",
            "34d2f93bdd984af6a96ff7d48bfe56e9",
            "eb13ddd0973a4371ba4e90d2139e0c1b",
            "bc05815045cd480fb54a4643dd9f6081",
            "42572c6ca10b4a14bc08b0351880d28c",
            "0f2eaacb0c6f485897f5cabbc12e6a5d",
            "8ed00fd52e3c4cbca04af1b53db7e645",
            "39ffa369edbf4df68b59ce2fae791e69",
            "4dbf0956505b4dffb30873873759fe6e",
            "732d7c2e86c447c0bc825780f43eee27",
            "8cfbdd38e6ba4e3da573c3e0bf35b459",
            "fe9eae88e6a541289cfaf83c7ea39700",
            "0c2d7d0d6a6a48b7bbbf494fb853ab36",
            "441377a5315744a0bdbb238405efa5db",
            "511bd6cc84c74a3db0393abc68b44864",
            "92383cbdb2194e7f9d397b0ae5dfb3f7",
            "ca108c153cb54388949b7dab2bd42dca",
            "19c585c0a3f84eb783c85fc83afc6486",
            "209ca13365b543b2933153b0a3417a1f",
            "a91000d97bca40b6ac55e4f1ed75c6b6",
            "90c379c5a24842d5a106daebd8d49b46",
            "4bd6b6154a4341608d003aea7ee4dea7",
            "f98a6283f46b4d22b1c06cb6a908572f",
            "b6ff426d9d184e3486afba2234746ca4",
            "4a1a5df77c3945a9880dbd47024bb7e0",
            "365a07d0a93e4d1793c56b79aa4b08bd",
            "49b1acff30f24827af1e0d54207d5801",
            "75d9b2a6c5324bf9a2c4ad8054038cb1",
            "df42f1f543604056a979c5d5cc90996e",
            "c6a56c5f43f343ecb1b8984533bf2bef",
            "c099d8f34bdc44f3bc8f696bb742f060",
            "b1422c5922514b9fa88d5e5f42cb109d",
            "0de49f47d7fb48d7a4f0c1271418e5c6",
            "d4d98939ab2b4c0ca9e2c38261fc95a0",
            "8635ddc9fcb54ad8b08561a4e2c8ed03",
            "ad1261956a42462e8503ed880a14fadc",
            "5660a59c43ff4a89a7417633ac90e4dd",
            "db1f842ca936430e9a9b37641236a32f",
            "78d14bd4088f4a02bb53bbc52d2097ac",
            "eaf19a13115245f181a16f84362baebd",
            "1b6321314df149da8667d2f9a5e20e83",
            "7b74c5b83e994804a3942935dcdb60ab",
            "81f8c2d5388f42e69a2284ba4bc931dc",
            "afb2dc85f9654ad986e9a8007b331b59",
            "c4431bb4ca5d4624acd8e5592422cd89",
            "b9f5c88b313545d884e6bf909db6a691",
            "c698c84da25e4898acdfb1b15fe05c0a",
            "7dd7d001e84c4ee7ab41520c9e90c83b",
            "cf1e698c1caf4570944a8afc25ca0d1f",
            "7e4b7e57e6004a92b49c3cbd60dffa5f",
            "6251bf2764a14ac389b20def3b29c40b",
            "fe18a5dc36914849adbf44d8719eae98",
            "b641cab1b1eb448b9b881529e0956e05",
            "2c83f71698c249d0a463f2ca91887823",
            "58df93bd2b00495c8ec2c8371ff4c565",
            "c8bfd5702e194f04ab9517e7a629ab62",
            "65485369e34b4169811afc8e28f64c8a",
            "5a1bfaa8e6b345a4997dd55d33dcf897",
            "5cda0a486345458185ca55ca3cdf01ba",
            "895595ea02cb4f289292543c5c17408c",
            "6d6b81752a314bdca94a5e7040871d2b",
            "4fd5fbd86ff0400b9bceb0d6c330c918",
            "b6fb3e251c71429191ff361e9c74638a",
            "5be8149912894921b9390a9da8f5f602",
            "8ce2c6dc0a8245d5933dae91b69497c0",
            "e0770c3e22dd4df0aab237027a3f528d",
            "ce0e889d50c5466eb0924d94000c6f0b",
            "74b543b0b3304778b7f5d9ca00fa7ee7",
            "e2a0437ae5b645af9c5bce9ebdd94416",
            "b79d127ddbcb49b4b5dfa87645e3172b",
            "714d2b72f10442fbb2bd90ff73603b89",
            "c8733705374d47f9af36591fb34fee51",
            "be0d8d79df914fc29b23061b7fa6edb1",
            "e0eee6d558c345c0be8200061132654b",
            "292de1acf7d94a53a4174d9bfb86e046",
            "7bebcb5e8cbf4bd2a2d9a777e7dd6d58",
            "2297c6aff35a455696e1cddfbc3f1be9",
            "cca45886d088403ab099c3029686f58c",
            "827ed6c655f144e6a2ec74d98693382e",
            "352ccddca1e5404fbce3ada7cbccf1e4",
            "8528126ead2b443191ce47a3604bb460",
            "47d3d0ac54ec48629a7d3975f6a16753",
            "227797140a0245be8168f3f01d054bba",
            "e1ccdbd171a84979b9f5e9995d29543e",
            "8a5e3efb41a54c5f81c19ea74ce93e37",
            "ace7106fe678402f993c455e82ac8218",
            "e0cfc18d54c74a89959e576c5f4fc411",
            "90e55e67eeff4c3f9072242c05324117",
            "64bb10ad02dd4a31823acb0863b2107f",
            "d160475e73af489abb0579483d4d7b61",
            "9845131ce3114e42bdbe194305f7d139",
            "667687951cd14d34af0288a9157a4fbf",
            "13b8bb2a8c16482b82fafd7a198ea0b9",
            "1193694589e54a35ba378b09caef31ef",
            "6d728a169a0143e7858df88be661e019",
            "edef85b803b349669aa071643d6f30cd",
            "66c735bfbb094bcf968c758be37eb0ed",
            "10ce3be20ef04e27b539f707164ff85a",
            "f685ba65e8994340951f52abd580e6d5",
            "8053dc0a29b145248da945aca60b9fef",
            "7507cb939b1d4fb5a000928b08b8d60f",
            "14b6a2a398b14792aa29973c04c953a3",
            "f45cec6764034bf1821ad1412d813172",
            "34819e24ff2c4eb78c7152695c8f88b0",
            "eb09a5d0e296442bb163e4f6ac4a0a1a",
            "ed5b9d00b5374900bbf348867dfcaf6a",
            "11b277aeb3d14519af73f16b365a5bca",
            "8ba589500b614a06a160277e5a3b2847",
            "6af13798bf834eca958e017063f096af",
            "5b3ba5bcbd5e4e5a8d1c88abe7acb94b",
            "1882896d2e574456b8d55e5945777158",
            "24a1d78bf3d84a31af043b8a66a83b3b",
            "3010c18889c143a2bd30a9a48cc10fa8",
            "9be1f257ff7b40179615ca4ca14fb5ae",
            "93692d9a221f4488b495e06f27541be8",
            "219ea3f12dd44fcba5bcb49528ab2a97",
            "80c8ea0ff53b4f07ab368744f09653a7",
            "d3a5e709b49e4b2bbb760abecbe7dc53",
            "b925b297f0bd4b829e615d7ae2b84f97",
            "70a08beb6532474c98b0a765f5a11416",
            "592582d3d3aa4d488f54cd5f7295de70",
            "b23c32dd0c184722bf37feddb2c4960d",
            "16ec1351a81b4b799209c00cfb9571db",
            "fb3480e991e14d12b01c020a1f59a1d3",
            "c87d585d3a424168826d2a8d7ad13217",
            "4ab7163872684770b176317a2f547a36",
            "a1fb8e30cc2f4ddaa7376707f7123330",
            "4597b8c9126b4137a49944c4e414e3d1",
            "79a59849dbf445c5b9951f336c7ebe3e",
            "6bb31151e0f54259888e83b94bb3cd24",
            "8cdebce1239e4cc98f8dfbe642212630",
            "256730da11f445908b5d2c174b13582c",
            "b27c7269d1d54d37bd2a6677ebd7afc9",
            "02f6b99b13c04ad086b8928671867526",
            "7aa830181c0f406c881c2a7dcd38d29c",
            "5db157db93994c619741d579a9197643",
            "1583dc8a04554594aacbd69741fe8d27",
            "c38e564ff23d435f9ac086d5db0b033a",
            "3961d9fb60b94de685059058a375de2b",
            "9e00bf52530143518c2f6afb0bf174e3",
            "6e8798588a8447a1a5430a8802ca5afc",
            "63be0e0da0724e539a47a4653691a26d",
            "1843b5806c5341219551738dae3035be",
            "0c13008300f547f5a2c3dde5a6061955",
            "40d06728806147ce84772b8ad5b1a40a",
            "063a1b1636cd44378871fbf2d90ef44a",
            "3f78ca135cca48e684d43aab746803a9",
            "eade85382e1b481d8913d940f057f9c8",
            "1f6ba1f1302444178283d46370bdebad",
            "ea0bb64a8c4a456a8cfc6f692dadaf30",
            "8e03de2ec33e4a17b2b7f0e4ba665510",
            "4e79a127c0b841949b47e157dfaa288b",
            "cfe2207acc6f443c90b760597242f384",
            "ad80c27d51494f4eaf75a66c3f1993f5",
            "210375a575d84bf4b51fbfb01f52e156",
            "f525b38eb489464db5d937cbe63fa3d6",
            "5a80cfe7e78e4cc3ab2cd4566c2f3c77",
            "5bf34a732c1c428dab95c9f1367b46d5",
            "a33a89071d5f48fda9e704f4739d2f52",
            "fe03f98ed48e470482b84dab8109e369",
            "9dd1b80b6b3c4cb0996d57a9acff4b6b",
            "d07df5c9194a4504afc3d53dfcdde342",
            "6b680509b8344e7a8d74179ca4e8ca8e",
            "01fba30d700d483aaa3ce522b39d725f",
            "82c071f206664ed1808487fe07707534",
            "0cfc7d41efb041d2b4522ea08cd842ac",
            "e487186bf073459d90d9c7edb5cbfc0e",
            "e50bbd6e71f44000b3a24589204963c7",
            "06cd200bfc344b1eb2c7c34190b691c0",
            "cc5c8c4f99f24efd9cf633b84f0ebe21",
            "15cd2e363d29400aa9bc888087172179",
            "aa36ef48f52e4c948d582762ab18bd19",
            "b5ea6462ec9d4043b41207558b31a986",
            "3f086caa4ad4449eaaf0fd2c70adcbe5",
            "d846dcdbea214d07ba32f980a7c2c38d",
            "2721919f212e488db95740989b7d57d8",
            "06205bcf7ea94efe975c3c875f4757c8",
            "c7c0026da4cb443d8178317d863d962e",
            "43127cfac83e43829630736deea15776",
            "ed8142140d3c40f58e9c54b939a7ce2d",
            "4b1246571cf44402bbc0fc90e0570b78",
            "d2247b93e4cd4ed0bdefa60e7e6a0df4",
            "1cb6fbc0c1e74c9cabc3567cd6584320",
            "2c706db723a84d58bf9512d177fe8de1",
            "94437645f39546c797971a4b83946775",
            "434d75e58d8843208eab2a745a4f7684",
            "66a87257aec4439f8530ee8dbdbed959",
            "540ee97878934f20ad6be843abcde95d",
            "97898e3da3a34671b63ca18c91ba295b",
            "4fba96ca52a840179025d4db9450bc25",
            "3c6ea14d3c4a4ec1a4959aee7e6d4f0a",
            "4f7685a8057040d8b3f574f8c019a7ea",
            "cfe050e2d4404290907fb5dcb4ad0a8e",
            "485273365bdc408f9c3738a5ce925c06",
            "d60a475a3a53414b9efce122e379f6eb",
            "fe27a29b2cd5445db7bd033389b880d9",
            "0c0fc9244e07402090b85cd015fb7d9a",
            "21c340d46d31422c9acebb3f137d6fcf",
            "c33b31a75f1c43f8b220f0fcbc531f29",
            "58f421f6680d4f329e19c62500e41510",
            "51366f35af744dc582b96df63722096a",
            "2b213fa24ab64d92a003dbe1400178d1",
            "f104ec7277c24680894f08aa7d3c71c5",
            "482c25220e4b4a5da56c8543c42e9c22",
            "c44e305f658c42a6a1744c8f071af588",
            "8628634f93904f5dbe9f09104c17d5e9",
            "0bcd0b0844fd46e5ae049a77cc8442fb",
            "81e3dd7ef533449f829912d64972c086",
            "4c51f2405aaa4f1da59005bcb6d9cde8",
            "272639b10d8e44ca9a7968e173914b81",
            "a815c6e45b0d48dbb9b829655125e9f4",
            "57b6e5a9c2d441e8bb5fdef2bca51e8c",
            "78aae619e5e147e48c8f64c51de0798b",
            "c738779cf6444865bfdd281b845a0957",
            "2e570c17b56640eeadee720d26243e5e",
            "2a6b1e066c70462590f3c85c0db4e935",
            "c6e66898a1af4bfebc2943f09c10dc2a",
            "c228144f3dd44d3fb69d84921ca81e01",
            "7d921a3ad6fd4ec69071dfce96de72e9",
            "162252b3aba14d81b9b1057942383fae",
            "d19ba07dc6a04ad98f9f2ecbbdf8481e",
            "d253e121f7aa4347a62f5188c046eeab",
            "354b76143ea5449385c41cad779e575b",
            "737462f1c84b46429a4c85c36b4bcfcb",
            "728cae6a359643fdb5a1109280c5b1d2",
            "9a9988ee50324a78a8558d6f2f4c55dd",
            "49be833530d64e448f2e7cd241f58694",
            "0cdc2d4d9a714cf8af529c9ade42e1b9",
            "3c251fdbbdfb46ffbc7558432590321c",
            "f7aa8d209b84400dbae7c1de571cb7b6",
            "e05b11b88b7a41c886b671ac3d767657",
            "d294eac1ab6548f5b4e92dc2ac89fd1d",
            "e9fdbfda114a41028b6c1c0c51cdc01e",
            "6ee14e3c510740b9b1775a9c8d6ab17f",
            "a89f7abd44ad4f81877b1bdf6b3b8340",
            "fb6e2abbd49b4a11899be42d1b0e1fd9",
            "072e463449674c40aca4d68b72cf1b7c",
            "84ec22662f7f401a9a8d6428ed9b4834",
            "2926873500b04d7e9ec3b3cc75515765",
            "482285b030ed4572ae2af25775d941be",
            "ccddf5020df64fa6b18fe9f5260353df",
            "136a70f7efb2441dbcec802d72112682",
            "a070a741ff0a4a16b56f5fb1ff49eb57",
            "47356f605cef40ac898550b1d3234c98",
            "b5d78394e9a4462e8281ba8287b921d3",
            "c421731fa2184a9b9faf2bfab84afcd3",
            "74b03459898f48918d8c288eff35d436",
            "65770ad70d6b45aea7b524442c5a6c13",
            "b968c93584d940a796c821499655e865",
            "4f43725becfb49c280f2d1181b87d839",
            "e4f34b8e62b24bfaa14e10638c7d5961",
            "28dec8488cbc49ef816221c79920675c",
            "ad0260927d79404fae260eec57ecd16a",
            "f3f46daa84164f3cbc2e8f5a48a53b3a",
            "8afb078b5edb4af1bc7ca21dc308f7a9",
            "01b5da8a540c478ea5c290625a0d4200",
            "98ed6a0c12cf4383a526db35668a3dbd",
            "f4387067b44b427b9c01de5c803646e7",
            "b189c250a64e46878d4a5f48cd941bc9",
            "38bffc43220442d6b37e730e71d966c8",
            "4d58d7d0f80f45bf99ac34d62428b2c9",
            "28f7ccc1b25e42e2b2e876bf169e0887",
            "e478741f178b4d389b9e0d480e7767ea",
            "405893f8bcd74add82b17005d6cc91d6",
            "776e12aa1fa14cbe895ad45f45aef165",
            "392e370cfcc847cdb19895b7e8e02ab0",
            "cbdb786e615443148d9e17b94960356e",
            "1e7a4b0adc964522961f39fca45721d6",
            "e2ca3adc889f423490b18b48d472e4a2",
            "a32633d7ed5d47ff895254718564dbb1",
            "f1abea8866bf4ab7a7a833e5dfbe6a99",
            "fbb3cb0670ba4c85ae1854391d241004",
            "64b9d39e3db94689a6436a3c91aec22a",
            "a19a6383c3d34e9d9abd660705e32c0c",
            "ac95ce3c4a394372862bf5177417644b",
            "f349c761d43a4e07bb1f64e9da85d026",
            "36bbad7e6b554c22bbec0c428e20cf23",
            "77100e2e66e748fdb384ba35adcb3b5c",
            "eb0c96f506ea4dc681db695173070541",
            "f18af77b716e434ba244c77489874ff2",
            "c378c6c383ee4e5f82c7a3038fef17d9",
            "e8433e180e314ca7bfd8fc83e33885da",
            "bdbdfc68dfa94f34a4ec87a79f6cd313",
            "8dfbb6302e354b5a8e97e69cd681c570",
            "ca6d35613820461897a4d241bc7efcf1",
            "09a9dbc87c334792ab2af469acf31662",
            "b739de3595e34ee080fb1fefd9af7dac",
            "9cf69f4792454f6ba57ceaf3bf31ab42",
            "25b3a5d4960f40019c1dd2b989618a66",
            "bec3827661a64e658068abb9de0b7b64",
            "832e182fbe5145a0b56947a09ba3905a",
            "83085457ef2d4f3081f60c043f255066",
            "dd4587416fa74e39a27930df03e7d9fc",
            "76934dc03eac41a192eefe3aebde8266",
            "88f8f5bd79bf43c8beaa4e00f2b9bc02",
            "761607d806e845de91bb74c9162c2834",
            "07aa50572f9e4be78d9cea3bed2858e3",
            "ecd59c9d2c0d414db8bb4c70012bc3ea",
            "468529bee27741fd8be53293ebfcc04c",
            "fc6cb166c9c14646a3bbdad8bba10692",
            "cbeb60c9357a4901bd0e8050ea52fd9c",
            "b5c66da38f70465db9afda538e1749de",
            "590db8ddee89473ea5ef91246d0310d3",
            "de011935d12f4ac7a2cef3f7796c87ea",
            "b04f5462fd184a24b5830717bfd99751",
            "1741fcd832dc4376af97d611b035193d",
            "0f98a15105ae4ab9b2d463c4b0a9292c",
            "d2e76af2c5e647b6a7b6200a3b54a35f",
            "898800e29a924730bf54a2bc9e93cb18",
            "9aa61843307a41e89204b756c9541200",
            "1e018b731e944e9d9c225b3f2284b691",
            "a0e233a7336d4775b436f443799e6867",
            "5405cda92bad4c258efac488ca80b665",
            "a79291be371c4263b8152da5fb0f3b03",
            "149bc5b7e4004435805770bd3749865d",
            "1365f06a908e4a46812418cc73f426f4",
            "5e8e6de2b94246c49f8c18bb44c08da3",
            "90c4d49166fe41aca62dd91f7e2cd2ef",
            "ed97a09128324cad981248f48ac782ca",
            "da361ce1615b4225aaba41d245cf2c76",
            "e49b9c39fe4241f491c21a935c47d55a",
            "3932bca8fbba444b9ee1b75cae0af000",
            "da48e646f00b40d680e81b12c10d084f",
            "434894b094044763a4ec9d336aec7af2",
            "0b167cacdc724944b553e84da08659df",
            "1ef26ca22d294096b9524fae65fa2949",
            "fcb2a4f42a024846bd03525a6b94cce1",
            "15223e0462a24a8fa8b995e165586b48",
            "a263ae343306418994b75703ba3367ef",
            "65e86ed8d2ec4fdea48893887294eadb",
            "795ce42efc7745ca98a08bf4feccf2c9",
            "bde00a865d0d470cbb97451cd620e668",
            "e7adf6ce9a4046449c051ef256cd9668",
            "558f57921dea4d9ca13efb5a5f848057",
            "a135770acdaf40ddb33c10a0aba0597d",
            "f7d14c5ab1ee4c46bb9391ea98357b33",
            "d344ddf3f36e48d5be32314691dd127a",
            "9641e19b880d4c6aaae2573659e06ff2",
            "ae83f4217ec54a808bceeb4616c6c36f",
            "82cc790a76c14cbc9bd2181037d453f1",
            "e50030da2c974e4b84b3a5a2edd92391",
            "a89485c4fcb6436598b8135e2939f1a4",
            "802840a361184072950bacebfde90fb7",
            "2024f11cc4f249d38da7a390e2b6cff7",
            "5ea9e7142c0a49058108a49d572e0cbe",
            "16674eaacc5e4ada924c650920f86a1f",
            "cbc32f647f744b168cac94cde455ecf4",
            "1c84207ff95f49c293d8eb0f54bc510f",
            "5c12ecd68e7644ea9b60dd19a0a1c6c0",
            "165dba1ca2ff43f595352ba17384fec0",
            "c0e0a2e54ba048e7b98b67522a408c51",
            "7d51d5d95682467f8106434187747a3d",
            "98c30793321c46a6b8c8dca714a2dab2",
            "d07d9c1268c84e1ebc005ac54b808f51",
            "8e23ae18314040d6b9191e94820f18d1",
            "18a0fba6ed9d43bfbeb1fae3a564115c",
            "581080e935eb476c84622368c80f5a52",
            "c7351c7ceb3e4378b3e6f05b943b06f7",
            "ab0f70fbe51f40d8b3964b93e5f9d9d4",
            "8785b8d4b9db409b920778bb27ed3a8d",
            "95b53dc08df746328fe2c90da23f9a75",
            "e8fd334fd22d4cebb3a18c9fc2ddd185",
            "d581a6bb600d49b9bdf8a14a495dbb88",
            "80fa045efb2d4e4cb339a8e240d06862",
            "90d5caa825c34b34a7993c3fa57bff29",
            "810bde2277f04ed286a8277292b68661",
            "6b970f702005469dbc1ed8038c9d3f03",
            "a8086b7c834d4c2db38adcd6c034f57f",
            "3bcfff52efb44caeb00201ace54ff0c8",
            "e283caeedeab45eb93132f9cd7dcdea7",
            "2767ae66bebc4294a4a341f3b4521c55",
            "9ab1e42491b648c7acdb8bbf9da9b4b1",
            "f48d36bcf1264396a08ae123a16baa68",
            "ebb73dd8797b4411938cc800628f65e5",
            "1e9a54f720934112916b4c8c661766c2",
            "3ad1d1efc708490b947b03a0fbea841c",
            "e781240212244c56b337283e45051832",
            "153377f211e0475a9594f8336cef6654",
            "17308738088c45dab652adca669978bb",
            "19c125a0cd41470e9078307412b2b57f",
            "2e752fdadd5c44eca7d8b24c49bc0f51",
            "6ed17578074748a1949ea934e5fcf837",
            "88be90eb371841e786c0478279d3e9f3",
            "8ebc9cc5490045a5bc07c8219f785675",
            "4bfb52560eb548208d64f03ae601c815",
            "ffa489229a524baab40d925449bc981c",
            "45071847a6564782a2ba3cf559ea321a",
            "aea210b36f0a47eb9ecd81bcce207afc",
            "3db1d6f5041a4e1c8706f249a9e5b640",
            "5bbea1fda4fe48e2a2b0c5bcd2ba71a8",
            "1722f9d921514125aa0b78410e2ea9f4",
            "93e8e357cbbd45399d72569412dbc00e",
            "b5c056426eea4a41978977e60dc773e6",
            "f767e1dbd9884d3ab5b2a963851b30b2",
            "c5728a0e709e4cf3a9dfe42485ea2584",
            "d27cef0f2b574913b921ec7a5cde1b1e",
            "9e1d86e97d014fd995752055ea8a7d8c",
            "f3c4c9bb76ed4a04b91f535b955dc005",
            "88680acc109449a1ae92ab8fbe9a8458",
            "1d663fd28aa844d0b99b0f488e3399c9",
            "7e08265ebabf47c5bb7e55030053db7c",
            "31d20489203e40b69a0b36e622e32296",
            "1043ce365d7b4e8ca6dac725e707e28c",
            "70801d9d191047e8b9ab3a796576e0e3",
            "96d3d1a44b5e4534bf380a42b4123085",
            "1709ce46d54f42de8ef6380ab69f7574",
            "3d54627defcf468b9a07a16f6b561c45",
            "164dae29e4d64d00aa8d054248f76b5b",
            "7f7d6ed21f1c47359c7d79747cbc9363",
            "3587cb41928c44ccb25236d1ba4cb436",
            "24846d0c6b4a4f7799e65c2fd7500a57",
            "71be4503d9714613bcb0e0cef63e0f51",
            "65a4a4793a7f47e8a74d5022fcd43b9f",
            "d695f56eb7fe47649002986bb88ca8cd",
            "ad30c040cb894528960cf8e08d8ec34b",
            "467bd7652601473db31a1ba92b2ed2cc",
            "98c2de595cb84c788a3a3e5a5b93b8fc",
            "405ef19bb4b442aca0f0bc679dd6a429",
            "552902ad9c794811a4fd87f87fbc256a",
            "3b881ce3e89d4b8fa32817957960e79d",
            "8c4bc0bbf2f94a118fe2cd14387e75ad",
            "b0420a0ad5e14933ada63c01809db4e6",
            "79385f16511040c8be3c856558f87244",
            "4fc4a0f64ef147f5b6255d1561bf68ee",
            "1161c5e15ac04f2fb3f0f09b8a68d169",
            "9bf301df04114b2881f7bec246fe72b2",
            "1ecdb85559584687885c14bf2cd591b1",
            "27d8b4406a464bc4bd060ab7f889a61c",
            "820d284b6d1d424c93c2fba78636087c",
            "6f6b2ded69444f69b485af66b5366dc9",
            "32a1d967593546539cbb17b8a4d1f2fa",
            "cd04033e8b444133b4e35958868cd4d5",
            "2a17e1dcf2a34798ae3691f8c300bb18",
            "b391d900ec3e41e280128c665bcf402d",
            "d58d75ca9a294eec8d8818e6be35d74a",
            "47844648a05d4dceaa3464780b0ba9b5",
            "f586d55a57cd4c2183c0e7d008c07e72",
            "d65c07702b7f4ab1adfeda1e2837e509",
            "848334fb337c44be8ba4912403060cfc",
            "fcf19f8f9c934e5787d4de779aca3656",
            "ad15ee42623e4ecc9b1aa4acf6a4a497",
            "d072a6c9333944fc8e0117f976362be5",
            "57eb4c061acb4f1488a0afc55c334f53",
            "139280b1b90b46b3bfa849a3f817eeb3",
            "45a942b1583944ac826ec39a9d24f555",
            "48dea3bf1b2346238c34ef8dbad2abc1",
            "c00871808c2249e6a01591fc46cd455e",
            "fb1f1f53faf44456a38aeed9e9704ea0",
            "ea10bbfa720246a2b04aa56cbe020f19",
            "3132e8277dbd4ff6b9f3caf890a672f5",
            "6db7fe6e74494be6ba16d44db581ad87",
            "a491f0422c4e4bd5be757244d558c9f1",
            "a5bb1e6548fe41bab3ed4782a8bdf95a",
            "7301a7772ae44657a0ba143539bce292",
            "77d255345f4b4e3e82e7e988da02ca94",
            "2b4bae0b39d74bdebec0351a19fa11de",
            "c28b6437432b420aaadb99c6ff6c3077",
            "92d6e176f95149d68e6d9b4a99ee30cf",
            "d8772522173c4597aead1e58150f2295",
            "34bef27ef30b4e76aaf787d4fb3df4fe",
            "6de28d1bf2014d51824d16eb4b4a410f",
            "e49862e65ebb4e2e8762d7b40658e40d",
            "8613a6d9cd814e3c92217312718b97d4",
            "c51432bfec3046e0bcfe231dced76a2c",
            "03523076139f49a3b27f1925a5077fae",
            "418c48836eab4f91ba02d97bca24cdff",
            "b17d3429deac40508521999a569d5ba5",
            "4b858d1b2fa243939fe6a40c4e137c7c",
            "0f43b7ba8e6d48afbf60fcf3a12f64c1",
            "23a14e694f084941a796c004462d8519",
            "b05b34eb7cc3455f915d3121bd5f9d4a",
            "99c08a5c80174d66ae7aaebe96a2ae50",
            "41918cac575341e184def53a3b2c9a32",
            "b8615a3e63864ee391ff615512bebb57",
            "192bba65867c4a738f680c27f77d08f3",
            "8510b1212ac54f099cf170014cbc9ef2",
            "e9007a3bda8c49a39f62f37e05723311",
            "69d19e4428d14719ba6314da538f17d9",
            "eec84885e9ba44d7a57ca2f02c116aee",
            "6da574842eff4e5f963f7fa3cefcd88a",
            "0f8c6f6b3fef463198d1b9935257a875",
            "ba1a95eb430d489d82e60055855336b6",
            "944a49a3bbf0424c9d9c5e89c6f89932",
            "b40085ecccfd4f9e96039abb78cea638",
            "3ee93ee6c1104b8ba131f4f1f58dd435",
            "0267aa52e312457cab7aad6081f71ef9",
            "dfc1edf98dda4da39fce112882448631",
            "2db3a46c484341348320742248bbe29a",
            "085e45e3817f40ebb20e5cf898edc6b4",
            "ca2a52d684fc4d3eb5fa4b8425d4047a",
            "023002664c4a4b24a78737d71b88ecd1",
            "afcc01aa6bdd480fbeab0fa106d14419",
            "5db3b1c28cd045f28a70ccd4edae4608",
            "fd9010671b784f3aa546d5873a85e5cd",
            "da52f0389cc2419f8a484a5b5759b0a3",
            "60700eebe50b45e4b1f0a8e46b3dbb8c",
            "c27750717a2946c1b64cbda011278ee9",
            "dafb62346fcd44ac991a54101eb023d6",
            "189b7a23dd834138b4d627809161cdcb",
            "5e1012fbc4754008a0f4d9190c57091d",
            "a69a5aa48f8e41c69941cf5452f76c34",
            "e91ab3852e0040d9aa372d3fa5c97984",
            "346a2d62ae6f491ab2781bc7e8fd024d",
            "beacfa34dc764a718480da2ba015a2b3",
            "ec54372131b34221a67a10336e61a9d3",
            "c6285c0359124e0990bc0ba22c727270",
            "80f872f7b61c4e0186048f8b31e3028f",
            "779ea306368a4af5948454a32ef8b46d",
            "a761e0369d4047cfba8b01d2d219b2e3",
            "c25d79c5ae8246d2b1fe6ba938d98b14",
            "4248f2051d4144bc89e38ce67d1ae794",
            "d64e3dbd144146e9963c9e5188080a68",
            "07d4a520c53b4e27bfb6eca37e822016",
            "4f3b65f400714f94a48e343b8db24425",
            "6efaee20b43840c68efff91119ddffad",
            "6fe1e4fb43844b68b23234d7d7d94869",
            "c9abda8f12a6496dbdf9503307ba7243",
            "a733755d056d44738c5d48c0b59dac2e",
            "ff38a9227a064e97b394047c0df35655",
            "2c9d8b27543841f18c91505a49de994e",
            "70aec2f3ea7f437ba25e50001681eeeb",
            "07f95a78ae274072bd7a546a79039992",
            "a10b248c5d2b4ccd882bf5274e107868",
            "f097034c19d74d8cb90dc85831f68cff",
            "dad5acc1f9b8442d8d8d0c7d75195afc"
          ]
        },
        "id": "_drdctuB3W6L",
        "outputId": "4788effe-03bc-4f28-f6cf-0f2f70f6d931"
      },
      "outputs": [
        {
          "output_type": "stream",
          "name": "stdout",
          "text": [
            "Using device: cuda\n",
            "Loading dataset...\n"
          ]
        },
        {
          "output_type": "stream",
          "name": "stderr",
          "text": [
            "/usr/local/lib/python3.11/dist-packages/huggingface_hub/utils/_auth.py:94: UserWarning: \n",
            "The secret `HF_TOKEN` does not exist in your Colab secrets.\n",
            "To authenticate with the Hugging Face Hub, create a token in your settings tab (https://huggingface.co/settings/tokens), set it as secret in your Google Colab and restart your session.\n",
            "You will be able to reuse this secret in all of your notebooks.\n",
            "Please note that authentication is recommended but still optional to access public models or datasets.\n",
            "  warnings.warn(\n"
          ]
        },
        {
          "output_type": "display_data",
          "data": {
            "text/plain": [
              "Resolving data files:   0%|          | 0/96 [00:00<?, ?it/s]"
            ],
            "application/vnd.jupyter.widget-view+json": {
              "version_major": 2,
              "version_minor": 0,
              "model_id": "d82ab3bf72b34fa8b7ab33ed4317aca1"
            }
          },
          "metadata": {}
        },
        {
          "output_type": "display_data",
          "data": {
            "text/plain": [
              "Downloading data:   0%|          | 0/96 [00:00<?, ?files/s]"
            ],
            "application/vnd.jupyter.widget-view+json": {
              "version_major": 2,
              "version_minor": 0,
              "model_id": "7130b53d796342438835d5f4a501fbcf"
            }
          },
          "metadata": {}
        },
        {
          "output_type": "display_data",
          "data": {
            "text/plain": [
              "train-00003-of-00004.parquet:   0%|          | 0.00/32.2k [00:00<?, ?B/s]"
            ],
            "application/vnd.jupyter.widget-view+json": {
              "version_major": 2,
              "version_minor": 0,
              "model_id": "fecfda06d57e4b08a0c422ec12ee0b4e"
            }
          },
          "metadata": {}
        },
        {
          "output_type": "display_data",
          "data": {
            "text/plain": [
              "train-00001-of-00004.parquet:   0%|          | 0.00/30.1k [00:00<?, ?B/s]"
            ],
            "application/vnd.jupyter.widget-view+json": {
              "version_major": 2,
              "version_minor": 0,
              "model_id": "96c879dab25d4ffa975ace0b38c16b08"
            }
          },
          "metadata": {}
        },
        {
          "output_type": "display_data",
          "data": {
            "text/plain": [
              "train-00000-of-00004.parquet:   0%|          | 0.00/287k [00:00<?, ?B/s]"
            ],
            "application/vnd.jupyter.widget-view+json": {
              "version_major": 2,
              "version_minor": 0,
              "model_id": "27e1848de87e4ae58d378517becec30e"
            }
          },
          "metadata": {}
        },
        {
          "output_type": "display_data",
          "data": {
            "text/plain": [
              "train-00001-of-00004.parquet:   0%|          | 0.00/105k [00:00<?, ?B/s]"
            ],
            "application/vnd.jupyter.widget-view+json": {
              "version_major": 2,
              "version_minor": 0,
              "model_id": "c616730fa94148b1893ee6b8cb9a1c24"
            }
          },
          "metadata": {}
        },
        {
          "output_type": "display_data",
          "data": {
            "text/plain": [
              "train-00000-of-00004.parquet:   0%|          | 0.00/30.5k [00:00<?, ?B/s]"
            ],
            "application/vnd.jupyter.widget-view+json": {
              "version_major": 2,
              "version_minor": 0,
              "model_id": "b1dcadeebe8a412dae821036ffa55124"
            }
          },
          "metadata": {}
        },
        {
          "output_type": "display_data",
          "data": {
            "text/plain": [
              "train-00002-of-00004.parquet:   0%|          | 0.00/55.9k [00:00<?, ?B/s]"
            ],
            "application/vnd.jupyter.widget-view+json": {
              "version_major": 2,
              "version_minor": 0,
              "model_id": "1a2fdb9075af469583da2c43053ae027"
            }
          },
          "metadata": {}
        },
        {
          "output_type": "display_data",
          "data": {
            "text/plain": [
              "train-00001-of-00004.parquet:   0%|          | 0.00/107k [00:00<?, ?B/s]"
            ],
            "application/vnd.jupyter.widget-view+json": {
              "version_major": 2,
              "version_minor": 0,
              "model_id": "580538e0cd954a7694c362dccf93521b"
            }
          },
          "metadata": {}
        },
        {
          "output_type": "display_data",
          "data": {
            "text/plain": [
              "train-00000-of-00004.parquet:   0%|          | 0.00/31.5k [00:00<?, ?B/s]"
            ],
            "application/vnd.jupyter.widget-view+json": {
              "version_major": 2,
              "version_minor": 0,
              "model_id": "c35d811b541a4a75aed955362ccf7a37"
            }
          },
          "metadata": {}
        },
        {
          "output_type": "display_data",
          "data": {
            "text/plain": [
              "train-00002-of-00004.parquet:   0%|          | 0.00/185k [00:00<?, ?B/s]"
            ],
            "application/vnd.jupyter.widget-view+json": {
              "version_major": 2,
              "version_minor": 0,
              "model_id": "825fb510888449ceaa31360939d548d2"
            }
          },
          "metadata": {}
        },
        {
          "output_type": "display_data",
          "data": {
            "text/plain": [
              "train-00001-of-00004.parquet:   0%|          | 0.00/30.2k [00:00<?, ?B/s]"
            ],
            "application/vnd.jupyter.widget-view+json": {
              "version_major": 2,
              "version_minor": 0,
              "model_id": "faae482adcbe454fbaf20b0345260b47"
            }
          },
          "metadata": {}
        },
        {
          "output_type": "display_data",
          "data": {
            "text/plain": [
              "train-00002-of-00004.parquet:   0%|          | 0.00/86.4k [00:00<?, ?B/s]"
            ],
            "application/vnd.jupyter.widget-view+json": {
              "version_major": 2,
              "version_minor": 0,
              "model_id": "c341571e79d24e979241348c3c488bc4"
            }
          },
          "metadata": {}
        },
        {
          "output_type": "display_data",
          "data": {
            "text/plain": [
              "train-00002-of-00004.parquet:   0%|          | 0.00/107k [00:00<?, ?B/s]"
            ],
            "application/vnd.jupyter.widget-view+json": {
              "version_major": 2,
              "version_minor": 0,
              "model_id": "e45cfe58c3f04953a78cfe5fcc0ede8e"
            }
          },
          "metadata": {}
        },
        {
          "output_type": "display_data",
          "data": {
            "text/plain": [
              "train-00003-of-00004.parquet:   0%|          | 0.00/158k [00:00<?, ?B/s]"
            ],
            "application/vnd.jupyter.widget-view+json": {
              "version_major": 2,
              "version_minor": 0,
              "model_id": "f6655af066fa4b8e8c928fa3fc9c0169"
            }
          },
          "metadata": {}
        },
        {
          "output_type": "display_data",
          "data": {
            "text/plain": [
              "train-00003-of-00004.parquet:   0%|          | 0.00/58.4k [00:00<?, ?B/s]"
            ],
            "application/vnd.jupyter.widget-view+json": {
              "version_major": 2,
              "version_minor": 0,
              "model_id": "bfaf54a6a84a4cd4989cd2001264b264"
            }
          },
          "metadata": {}
        },
        {
          "output_type": "display_data",
          "data": {
            "text/plain": [
              "train-00001-of-00004.parquet:   0%|          | 0.00/31.3k [00:00<?, ?B/s]"
            ],
            "application/vnd.jupyter.widget-view+json": {
              "version_major": 2,
              "version_minor": 0,
              "model_id": "f803fe7f717f42cd974824797b561527"
            }
          },
          "metadata": {}
        },
        {
          "output_type": "display_data",
          "data": {
            "text/plain": [
              "train-00003-of-00004.parquet:   0%|          | 0.00/56.1k [00:00<?, ?B/s]"
            ],
            "application/vnd.jupyter.widget-view+json": {
              "version_major": 2,
              "version_minor": 0,
              "model_id": "33abb12eb2304f90b7bde89fdb8c69ec"
            }
          },
          "metadata": {}
        },
        {
          "output_type": "display_data",
          "data": {
            "text/plain": [
              "train-00000-of-00004.parquet:   0%|          | 0.00/168k [00:00<?, ?B/s]"
            ],
            "application/vnd.jupyter.widget-view+json": {
              "version_major": 2,
              "version_minor": 0,
              "model_id": "2c0b546d9af14423bdc215e5080b6895"
            }
          },
          "metadata": {}
        },
        {
          "output_type": "display_data",
          "data": {
            "text/plain": [
              "train-00000-of-00004.parquet:   0%|          | 0.00/267k [00:00<?, ?B/s]"
            ],
            "application/vnd.jupyter.widget-view+json": {
              "version_major": 2,
              "version_minor": 0,
              "model_id": "a0994a7762a5433485dc8d1bd406991f"
            }
          },
          "metadata": {}
        },
        {
          "output_type": "display_data",
          "data": {
            "text/plain": [
              "train-00000-of-00004.parquet:   0%|          | 0.00/163k [00:00<?, ?B/s]"
            ],
            "application/vnd.jupyter.widget-view+json": {
              "version_major": 2,
              "version_minor": 0,
              "model_id": "fb3cd191e7b94bba8b5a0bef05b06372"
            }
          },
          "metadata": {}
        },
        {
          "output_type": "display_data",
          "data": {
            "text/plain": [
              "train-00001-of-00004.parquet:   0%|          | 0.00/396k [00:00<?, ?B/s]"
            ],
            "application/vnd.jupyter.widget-view+json": {
              "version_major": 2,
              "version_minor": 0,
              "model_id": "df706b9afd404b469246a3ccc7fd6f56"
            }
          },
          "metadata": {}
        },
        {
          "output_type": "display_data",
          "data": {
            "text/plain": [
              "train-00003-of-00004.parquet:   0%|          | 0.00/29.7k [00:00<?, ?B/s]"
            ],
            "application/vnd.jupyter.widget-view+json": {
              "version_major": 2,
              "version_minor": 0,
              "model_id": "b3b7947ec64a478ea87a0b47f05790db"
            }
          },
          "metadata": {}
        },
        {
          "output_type": "display_data",
          "data": {
            "text/plain": [
              "train-00000-of-00004.parquet:   0%|          | 0.00/251k [00:00<?, ?B/s]"
            ],
            "application/vnd.jupyter.widget-view+json": {
              "version_major": 2,
              "version_minor": 0,
              "model_id": "6e5d1be3f178491a9299389f91ad614b"
            }
          },
          "metadata": {}
        },
        {
          "output_type": "display_data",
          "data": {
            "text/plain": [
              "train-00003-of-00004.parquet:   0%|          | 0.00/162k [00:00<?, ?B/s]"
            ],
            "application/vnd.jupyter.widget-view+json": {
              "version_major": 2,
              "version_minor": 0,
              "model_id": "0a1e9456464a452fa0f8bba73de9c0a3"
            }
          },
          "metadata": {}
        },
        {
          "output_type": "display_data",
          "data": {
            "text/plain": [
              "train-00002-of-00004.parquet:   0%|          | 0.00/250k [00:00<?, ?B/s]"
            ],
            "application/vnd.jupyter.widget-view+json": {
              "version_major": 2,
              "version_minor": 0,
              "model_id": "2bd8b648e899415ca5059886f95021ee"
            }
          },
          "metadata": {}
        },
        {
          "output_type": "display_data",
          "data": {
            "text/plain": [
              "train-00001-of-00004.parquet:   0%|          | 0.00/276k [00:00<?, ?B/s]"
            ],
            "application/vnd.jupyter.widget-view+json": {
              "version_major": 2,
              "version_minor": 0,
              "model_id": "d9def390aeb44e56810b26700da5ccb1"
            }
          },
          "metadata": {}
        },
        {
          "output_type": "display_data",
          "data": {
            "text/plain": [
              "train-00002-of-00004.parquet:   0%|          | 0.00/86.0k [00:00<?, ?B/s]"
            ],
            "application/vnd.jupyter.widget-view+json": {
              "version_major": 2,
              "version_minor": 0,
              "model_id": "4bd61d6222124f379e6f9b5706b876cf"
            }
          },
          "metadata": {}
        },
        {
          "output_type": "display_data",
          "data": {
            "text/plain": [
              "train-00001-of-00004.parquet:   0%|          | 0.00/1.04M [00:00<?, ?B/s]"
            ],
            "application/vnd.jupyter.widget-view+json": {
              "version_major": 2,
              "version_minor": 0,
              "model_id": "b28e64c062b7442ca3fb66c813b5fb19"
            }
          },
          "metadata": {}
        },
        {
          "output_type": "display_data",
          "data": {
            "text/plain": [
              "train-00000-of-00004.parquet:   0%|          | 0.00/632k [00:00<?, ?B/s]"
            ],
            "application/vnd.jupyter.widget-view+json": {
              "version_major": 2,
              "version_minor": 0,
              "model_id": "7e357733e2084cf5a97815b6e4038a79"
            }
          },
          "metadata": {}
        },
        {
          "output_type": "display_data",
          "data": {
            "text/plain": [
              "train-00002-of-00004.parquet:   0%|          | 0.00/396k [00:00<?, ?B/s]"
            ],
            "application/vnd.jupyter.widget-view+json": {
              "version_major": 2,
              "version_minor": 0,
              "model_id": "5a8da694356e47dbada4c9f1a3c4ceaa"
            }
          },
          "metadata": {}
        },
        {
          "output_type": "display_data",
          "data": {
            "text/plain": [
              "train-00003-of-00004.parquet:   0%|          | 0.00/221k [00:00<?, ?B/s]"
            ],
            "application/vnd.jupyter.widget-view+json": {
              "version_major": 2,
              "version_minor": 0,
              "model_id": "67660414ecc74464baa0d98c39f7c544"
            }
          },
          "metadata": {}
        },
        {
          "output_type": "display_data",
          "data": {
            "text/plain": [
              "train-00000-of-00004.parquet:   0%|          | 0.00/1.19M [00:00<?, ?B/s]"
            ],
            "application/vnd.jupyter.widget-view+json": {
              "version_major": 2,
              "version_minor": 0,
              "model_id": "6440455cfec64ae08cf1844114b63108"
            }
          },
          "metadata": {}
        },
        {
          "output_type": "display_data",
          "data": {
            "text/plain": [
              "train-00003-of-00004.parquet:   0%|          | 0.00/1.14M [00:00<?, ?B/s]"
            ],
            "application/vnd.jupyter.widget-view+json": {
              "version_major": 2,
              "version_minor": 0,
              "model_id": "946133e35d2d4714bfff68fb92bc240f"
            }
          },
          "metadata": {}
        },
        {
          "output_type": "display_data",
          "data": {
            "text/plain": [
              "train-00002-of-00004.parquet:   0%|          | 0.00/1.10M [00:00<?, ?B/s]"
            ],
            "application/vnd.jupyter.widget-view+json": {
              "version_major": 2,
              "version_minor": 0,
              "model_id": "aee2cd8e10b2465c8bbb86569b9072ad"
            }
          },
          "metadata": {}
        },
        {
          "output_type": "display_data",
          "data": {
            "text/plain": [
              "train-00001-of-00004.parquet:   0%|          | 0.00/631k [00:00<?, ?B/s]"
            ],
            "application/vnd.jupyter.widget-view+json": {
              "version_major": 2,
              "version_minor": 0,
              "model_id": "1236f82345694ee3b939606d64ccd971"
            }
          },
          "metadata": {}
        },
        {
          "output_type": "display_data",
          "data": {
            "text/plain": [
              "train-00001-of-00004.parquet:   0%|          | 0.00/3.53M [00:00<?, ?B/s]"
            ],
            "application/vnd.jupyter.widget-view+json": {
              "version_major": 2,
              "version_minor": 0,
              "model_id": "9d561dd4934a4d8682cfd30bb8f53601"
            }
          },
          "metadata": {}
        },
        {
          "output_type": "display_data",
          "data": {
            "text/plain": [
              "train-00000-of-00004.parquet:   0%|          | 0.00/2.99M [00:00<?, ?B/s]"
            ],
            "application/vnd.jupyter.widget-view+json": {
              "version_major": 2,
              "version_minor": 0,
              "model_id": "3d6efc51301d4e42822f965671ddb12c"
            }
          },
          "metadata": {}
        },
        {
          "output_type": "display_data",
          "data": {
            "text/plain": [
              "train-00003-of-00004.parquet:   0%|          | 0.00/3.30M [00:00<?, ?B/s]"
            ],
            "application/vnd.jupyter.widget-view+json": {
              "version_major": 2,
              "version_minor": 0,
              "model_id": "f59fe0f1c936458d9200618f5c5b4a39"
            }
          },
          "metadata": {}
        },
        {
          "output_type": "display_data",
          "data": {
            "text/plain": [
              "train-00002-of-00004.parquet:   0%|          | 0.00/605k [00:00<?, ?B/s]"
            ],
            "application/vnd.jupyter.widget-view+json": {
              "version_major": 2,
              "version_minor": 0,
              "model_id": "d64c337211c54b9a99ead6212b8c4791"
            }
          },
          "metadata": {}
        },
        {
          "output_type": "display_data",
          "data": {
            "text/plain": [
              "train-00000-of-00004.parquet:   0%|          | 0.00/4.18M [00:00<?, ?B/s]"
            ],
            "application/vnd.jupyter.widget-view+json": {
              "version_major": 2,
              "version_minor": 0,
              "model_id": "93ae62150ce54fc5905f23c3eb7248ce"
            }
          },
          "metadata": {}
        },
        {
          "output_type": "display_data",
          "data": {
            "text/plain": [
              "train-00001-of-00004.parquet:   0%|          | 0.00/4.53M [00:00<?, ?B/s]"
            ],
            "application/vnd.jupyter.widget-view+json": {
              "version_major": 2,
              "version_minor": 0,
              "model_id": "d0b551ff3cc84dc8b9fbf26881c2fb8c"
            }
          },
          "metadata": {}
        },
        {
          "output_type": "display_data",
          "data": {
            "text/plain": [
              "train-00003-of-00004.parquet:   0%|          | 0.00/4.62M [00:00<?, ?B/s]"
            ],
            "application/vnd.jupyter.widget-view+json": {
              "version_major": 2,
              "version_minor": 0,
              "model_id": "6631a4f0362d4cf69c8c3fde41f5084f"
            }
          },
          "metadata": {}
        },
        {
          "output_type": "display_data",
          "data": {
            "text/plain": [
              "train-00000-of-00004.parquet:   0%|          | 0.00/46.5M [00:00<?, ?B/s]"
            ],
            "application/vnd.jupyter.widget-view+json": {
              "version_major": 2,
              "version_minor": 0,
              "model_id": "b11aed266a5b4972b24e58c598ee4921"
            }
          },
          "metadata": {}
        },
        {
          "output_type": "display_data",
          "data": {
            "text/plain": [
              "train-00001-of-00004.parquet:   0%|          | 0.00/45.2M [00:00<?, ?B/s]"
            ],
            "application/vnd.jupyter.widget-view+json": {
              "version_major": 2,
              "version_minor": 0,
              "model_id": "b37756aaa1254cd3a93be37c4d890659"
            }
          },
          "metadata": {}
        },
        {
          "output_type": "display_data",
          "data": {
            "text/plain": [
              "train-00000-of-00004.parquet:   0%|          | 0.00/44.5M [00:00<?, ?B/s]"
            ],
            "application/vnd.jupyter.widget-view+json": {
              "version_major": 2,
              "version_minor": 0,
              "model_id": "727cedd40ea64048b54f0efb5fdace86"
            }
          },
          "metadata": {}
        },
        {
          "output_type": "display_data",
          "data": {
            "text/plain": [
              "train-00002-of-00004.parquet:   0%|          | 0.00/46.1M [00:00<?, ?B/s]"
            ],
            "application/vnd.jupyter.widget-view+json": {
              "version_major": 2,
              "version_minor": 0,
              "model_id": "d4e9a696e75b4c5c88a62e886600d85b"
            }
          },
          "metadata": {}
        },
        {
          "output_type": "display_data",
          "data": {
            "text/plain": [
              "train-00003-of-00004.parquet:   0%|          | 0.00/44.3M [00:00<?, ?B/s]"
            ],
            "application/vnd.jupyter.widget-view+json": {
              "version_major": 2,
              "version_minor": 0,
              "model_id": "0fa49dde5d0a4c7ba4675da049062a1f"
            }
          },
          "metadata": {}
        },
        {
          "output_type": "display_data",
          "data": {
            "text/plain": [
              "train-00002-of-00004.parquet:   0%|          | 0.00/4.48M [00:00<?, ?B/s]"
            ],
            "application/vnd.jupyter.widget-view+json": {
              "version_major": 2,
              "version_minor": 0,
              "model_id": "f18db35626234cc4a24e0eaf543ab9ca"
            }
          },
          "metadata": {}
        },
        {
          "output_type": "display_data",
          "data": {
            "text/plain": [
              "train-00002-of-00004.parquet:   0%|          | 0.00/3.71M [00:00<?, ?B/s]"
            ],
            "application/vnd.jupyter.widget-view+json": {
              "version_major": 2,
              "version_minor": 0,
              "model_id": "649c1b09641943f592babf14eaeda79d"
            }
          },
          "metadata": {}
        },
        {
          "output_type": "display_data",
          "data": {
            "text/plain": [
              "train-00001-of-00004.parquet:   0%|          | 0.00/45.2M [00:00<?, ?B/s]"
            ],
            "application/vnd.jupyter.widget-view+json": {
              "version_major": 2,
              "version_minor": 0,
              "model_id": "ad2fcdc4d25944609307d1310467d26e"
            }
          },
          "metadata": {}
        },
        {
          "output_type": "display_data",
          "data": {
            "text/plain": [
              "train-00002-of-00004.parquet:   0%|          | 0.00/44.8M [00:00<?, ?B/s]"
            ],
            "application/vnd.jupyter.widget-view+json": {
              "version_major": 2,
              "version_minor": 0,
              "model_id": "545d7e2368424c388d50fc92be62f94f"
            }
          },
          "metadata": {}
        },
        {
          "output_type": "display_data",
          "data": {
            "text/plain": [
              "train-00003-of-00004.parquet:   0%|          | 0.00/47.3M [00:00<?, ?B/s]"
            ],
            "application/vnd.jupyter.widget-view+json": {
              "version_major": 2,
              "version_minor": 0,
              "model_id": "2104ca4d2d6047edac3d08d1c800771b"
            }
          },
          "metadata": {}
        },
        {
          "output_type": "display_data",
          "data": {
            "text/plain": [
              "train-00000-of-00004.parquet:   0%|          | 0.00/2.03M [00:00<?, ?B/s]"
            ],
            "application/vnd.jupyter.widget-view+json": {
              "version_major": 2,
              "version_minor": 0,
              "model_id": "3fad81aadae44aabae8569a63307354b"
            }
          },
          "metadata": {}
        },
        {
          "output_type": "display_data",
          "data": {
            "text/plain": [
              "train-00003-of-00004.parquet:   0%|          | 0.00/785k [00:00<?, ?B/s]"
            ],
            "application/vnd.jupyter.widget-view+json": {
              "version_major": 2,
              "version_minor": 0,
              "model_id": "bcda7d9b59a04eb4bd627a10cd9076e6"
            }
          },
          "metadata": {}
        },
        {
          "output_type": "display_data",
          "data": {
            "text/plain": [
              "train-00001-of-00004.parquet:   0%|          | 0.00/2.35M [00:00<?, ?B/s]"
            ],
            "application/vnd.jupyter.widget-view+json": {
              "version_major": 2,
              "version_minor": 0,
              "model_id": "eeabddc437a144debee87e6e57f5df36"
            }
          },
          "metadata": {}
        },
        {
          "output_type": "display_data",
          "data": {
            "text/plain": [
              "train-00002-of-00004.parquet:   0%|          | 0.00/2.21M [00:00<?, ?B/s]"
            ],
            "application/vnd.jupyter.widget-view+json": {
              "version_major": 2,
              "version_minor": 0,
              "model_id": "3fbcdefe4aef47a4aede7aac26148c2e"
            }
          },
          "metadata": {}
        },
        {
          "output_type": "display_data",
          "data": {
            "text/plain": [
              "train-00001-of-00004.parquet:   0%|          | 0.00/56.6k [00:00<?, ?B/s]"
            ],
            "application/vnd.jupyter.widget-view+json": {
              "version_major": 2,
              "version_minor": 0,
              "model_id": "552f864b357e4c578294858ed89b5228"
            }
          },
          "metadata": {}
        },
        {
          "output_type": "display_data",
          "data": {
            "text/plain": [
              "train-00000-of-00004.parquet:   0%|          | 0.00/7.50M [00:00<?, ?B/s]"
            ],
            "application/vnd.jupyter.widget-view+json": {
              "version_major": 2,
              "version_minor": 0,
              "model_id": "2a096d8246aa43a8a16443519fd12549"
            }
          },
          "metadata": {}
        },
        {
          "output_type": "display_data",
          "data": {
            "text/plain": [
              "train-00003-of-00004.parquet:   0%|          | 0.00/2.44M [00:00<?, ?B/s]"
            ],
            "application/vnd.jupyter.widget-view+json": {
              "version_major": 2,
              "version_minor": 0,
              "model_id": "09ce00489f9f4fb899275f4ef14eee0a"
            }
          },
          "metadata": {}
        },
        {
          "output_type": "display_data",
          "data": {
            "text/plain": [
              "train-00001-of-00004.parquet:   0%|          | 0.00/8.10M [00:00<?, ?B/s]"
            ],
            "application/vnd.jupyter.widget-view+json": {
              "version_major": 2,
              "version_minor": 0,
              "model_id": "266020b4592149248f960c3380d053e3"
            }
          },
          "metadata": {}
        },
        {
          "output_type": "display_data",
          "data": {
            "text/plain": [
              "train-00003-of-00004.parquet:   0%|          | 0.00/7.12M [00:00<?, ?B/s]"
            ],
            "application/vnd.jupyter.widget-view+json": {
              "version_major": 2,
              "version_minor": 0,
              "model_id": "010cbdeed2a64482836cc24f8d5ac8c2"
            }
          },
          "metadata": {}
        },
        {
          "output_type": "display_data",
          "data": {
            "text/plain": [
              "train-00000-of-00004.parquet:   0%|          | 0.00/1.84M [00:00<?, ?B/s]"
            ],
            "application/vnd.jupyter.widget-view+json": {
              "version_major": 2,
              "version_minor": 0,
              "model_id": "951c169003c24227aa140b87137141cb"
            }
          },
          "metadata": {}
        },
        {
          "output_type": "display_data",
          "data": {
            "text/plain": [
              "train-00001-of-00004.parquet:   0%|          | 0.00/1.40M [00:00<?, ?B/s]"
            ],
            "application/vnd.jupyter.widget-view+json": {
              "version_major": 2,
              "version_minor": 0,
              "model_id": "b3ecdfbabfdf405b9255b66e4edc7a92"
            }
          },
          "metadata": {}
        },
        {
          "output_type": "display_data",
          "data": {
            "text/plain": [
              "train-00002-of-00004.parquet:   0%|          | 0.00/1.15M [00:00<?, ?B/s]"
            ],
            "application/vnd.jupyter.widget-view+json": {
              "version_major": 2,
              "version_minor": 0,
              "model_id": "8a15a9437b4a4c78981040a34d7f518c"
            }
          },
          "metadata": {}
        },
        {
          "output_type": "display_data",
          "data": {
            "text/plain": [
              "train-00003-of-00004.parquet:   0%|          | 0.00/1.65M [00:00<?, ?B/s]"
            ],
            "application/vnd.jupyter.widget-view+json": {
              "version_major": 2,
              "version_minor": 0,
              "model_id": "8a6f337d43ed4d42b1c4c57b3772a5f7"
            }
          },
          "metadata": {}
        },
        {
          "output_type": "display_data",
          "data": {
            "text/plain": [
              "train-00000-of-00004.parquet:   0%|          | 0.00/17.8M [00:00<?, ?B/s]"
            ],
            "application/vnd.jupyter.widget-view+json": {
              "version_major": 2,
              "version_minor": 0,
              "model_id": "e81f68f18edf4de290490accfb11d324"
            }
          },
          "metadata": {}
        },
        {
          "output_type": "display_data",
          "data": {
            "text/plain": [
              "train-00001-of-00004.parquet:   0%|          | 0.00/17.2M [00:00<?, ?B/s]"
            ],
            "application/vnd.jupyter.widget-view+json": {
              "version_major": 2,
              "version_minor": 0,
              "model_id": "65043661e48c4b1eb89fa1a48f0a11fc"
            }
          },
          "metadata": {}
        },
        {
          "output_type": "display_data",
          "data": {
            "text/plain": [
              "train-00002-of-00004.parquet:   0%|          | 0.00/17.8M [00:00<?, ?B/s]"
            ],
            "application/vnd.jupyter.widget-view+json": {
              "version_major": 2,
              "version_minor": 0,
              "model_id": "e5190dc8897147c89a1b47f3178fd6e2"
            }
          },
          "metadata": {}
        },
        {
          "output_type": "display_data",
          "data": {
            "text/plain": [
              "train-00000-of-00004.parquet:   0%|          | 0.00/14.6M [00:00<?, ?B/s]"
            ],
            "application/vnd.jupyter.widget-view+json": {
              "version_major": 2,
              "version_minor": 0,
              "model_id": "60a51ca282424b2b8f2a480645855009"
            }
          },
          "metadata": {}
        },
        {
          "output_type": "display_data",
          "data": {
            "text/plain": [
              "train-00001-of-00004.parquet:   0%|          | 0.00/14.4M [00:00<?, ?B/s]"
            ],
            "application/vnd.jupyter.widget-view+json": {
              "version_major": 2,
              "version_minor": 0,
              "model_id": "3506dfdf8385438283e0782c71b02627"
            }
          },
          "metadata": {}
        },
        {
          "output_type": "display_data",
          "data": {
            "text/plain": [
              "train-00002-of-00004.parquet:   0%|          | 0.00/14.3M [00:00<?, ?B/s]"
            ],
            "application/vnd.jupyter.widget-view+json": {
              "version_major": 2,
              "version_minor": 0,
              "model_id": "19e44508d5a14a17a74cff43e0d0b9a5"
            }
          },
          "metadata": {}
        },
        {
          "output_type": "display_data",
          "data": {
            "text/plain": [
              "train-00002-of-00004.parquet:   0%|          | 0.00/7.28M [00:00<?, ?B/s]"
            ],
            "application/vnd.jupyter.widget-view+json": {
              "version_major": 2,
              "version_minor": 0,
              "model_id": "9d19fb1b3fbe4829801751c895758e02"
            }
          },
          "metadata": {}
        },
        {
          "output_type": "display_data",
          "data": {
            "text/plain": [
              "train-00003-of-00004.parquet:   0%|          | 0.00/16.7M [00:00<?, ?B/s]"
            ],
            "application/vnd.jupyter.widget-view+json": {
              "version_major": 2,
              "version_minor": 0,
              "model_id": "b8cf2dc96f754a0abd9df534032971a5"
            }
          },
          "metadata": {}
        },
        {
          "output_type": "display_data",
          "data": {
            "text/plain": [
              "train-00003-of-00004.parquet:   0%|          | 0.00/14.8M [00:00<?, ?B/s]"
            ],
            "application/vnd.jupyter.widget-view+json": {
              "version_major": 2,
              "version_minor": 0,
              "model_id": "755fcbc4719145cba95cec82924c3b55"
            }
          },
          "metadata": {}
        },
        {
          "output_type": "display_data",
          "data": {
            "text/plain": [
              "train-00000-of-00004.parquet:   0%|          | 0.00/1.14M [00:00<?, ?B/s]"
            ],
            "application/vnd.jupyter.widget-view+json": {
              "version_major": 2,
              "version_minor": 0,
              "model_id": "db57dd4b270e4f0da6cb77e925c72543"
            }
          },
          "metadata": {}
        },
        {
          "output_type": "display_data",
          "data": {
            "text/plain": [
              "train-00001-of-00004.parquet:   0%|          | 0.00/924k [00:00<?, ?B/s]"
            ],
            "application/vnd.jupyter.widget-view+json": {
              "version_major": 2,
              "version_minor": 0,
              "model_id": "e407cdb91c7f4e6cb3cad7f61f4f5d34"
            }
          },
          "metadata": {}
        },
        {
          "output_type": "display_data",
          "data": {
            "text/plain": [
              "train-00002-of-00004.parquet:   0%|          | 0.00/965k [00:00<?, ?B/s]"
            ],
            "application/vnd.jupyter.widget-view+json": {
              "version_major": 2,
              "version_minor": 0,
              "model_id": "270a6c50f8ef4b69bc9d9bd40115efb8"
            }
          },
          "metadata": {}
        },
        {
          "output_type": "display_data",
          "data": {
            "text/plain": [
              "train-00003-of-00004.parquet:   0%|          | 0.00/1.02M [00:00<?, ?B/s]"
            ],
            "application/vnd.jupyter.widget-view+json": {
              "version_major": 2,
              "version_minor": 0,
              "model_id": "24109adb059b45e4b55deb7670035c74"
            }
          },
          "metadata": {}
        },
        {
          "output_type": "display_data",
          "data": {
            "text/plain": [
              "train-00001-of-00004.parquet:   0%|          | 0.00/983k [00:00<?, ?B/s]"
            ],
            "application/vnd.jupyter.widget-view+json": {
              "version_major": 2,
              "version_minor": 0,
              "model_id": "b85608015571431b8c5903e4653b797a"
            }
          },
          "metadata": {}
        },
        {
          "output_type": "display_data",
          "data": {
            "text/plain": [
              "train-00000-of-00004.parquet:   0%|          | 0.00/553k [00:00<?, ?B/s]"
            ],
            "application/vnd.jupyter.widget-view+json": {
              "version_major": 2,
              "version_minor": 0,
              "model_id": "4dbf0956505b4dffb30873873759fe6e"
            }
          },
          "metadata": {}
        },
        {
          "output_type": "display_data",
          "data": {
            "text/plain": [
              "train-00002-of-00004.parquet:   0%|          | 0.00/814k [00:00<?, ?B/s]"
            ],
            "application/vnd.jupyter.widget-view+json": {
              "version_major": 2,
              "version_minor": 0,
              "model_id": "a91000d97bca40b6ac55e4f1ed75c6b6"
            }
          },
          "metadata": {}
        },
        {
          "output_type": "display_data",
          "data": {
            "text/plain": [
              "train-00003-of-00004.parquet:   0%|          | 0.00/657k [00:00<?, ?B/s]"
            ],
            "application/vnd.jupyter.widget-view+json": {
              "version_major": 2,
              "version_minor": 0,
              "model_id": "c099d8f34bdc44f3bc8f696bb742f060"
            }
          },
          "metadata": {}
        },
        {
          "output_type": "display_data",
          "data": {
            "text/plain": [
              "train-00001-of-00004.parquet:   0%|          | 0.00/214k [00:00<?, ?B/s]"
            ],
            "application/vnd.jupyter.widget-view+json": {
              "version_major": 2,
              "version_minor": 0,
              "model_id": "7b74c5b83e994804a3942935dcdb60ab"
            }
          },
          "metadata": {}
        },
        {
          "output_type": "display_data",
          "data": {
            "text/plain": [
              "train-00000-of-00004.parquet:   0%|          | 0.00/109k [00:00<?, ?B/s]"
            ],
            "application/vnd.jupyter.widget-view+json": {
              "version_major": 2,
              "version_minor": 0,
              "model_id": "b641cab1b1eb448b9b881529e0956e05"
            }
          },
          "metadata": {}
        },
        {
          "output_type": "display_data",
          "data": {
            "text/plain": [
              "train-00002-of-00004.parquet:   0%|          | 0.00/84.1k [00:00<?, ?B/s]"
            ],
            "application/vnd.jupyter.widget-view+json": {
              "version_major": 2,
              "version_minor": 0,
              "model_id": "5be8149912894921b9390a9da8f5f602"
            }
          },
          "metadata": {}
        },
        {
          "output_type": "display_data",
          "data": {
            "text/plain": [
              "train-00003-of-00004.parquet:   0%|          | 0.00/108k [00:00<?, ?B/s]"
            ],
            "application/vnd.jupyter.widget-view+json": {
              "version_major": 2,
              "version_minor": 0,
              "model_id": "292de1acf7d94a53a4174d9bfb86e046"
            }
          },
          "metadata": {}
        },
        {
          "output_type": "display_data",
          "data": {
            "text/plain": [
              "train-00002-of-00004.parquet:   0%|          | 0.00/169k [00:00<?, ?B/s]"
            ],
            "application/vnd.jupyter.widget-view+json": {
              "version_major": 2,
              "version_minor": 0,
              "model_id": "ace7106fe678402f993c455e82ac8218"
            }
          },
          "metadata": {}
        },
        {
          "output_type": "display_data",
          "data": {
            "text/plain": [
              "train-00001-of-00004.parquet:   0%|          | 0.00/32.0k [00:00<?, ?B/s]"
            ],
            "application/vnd.jupyter.widget-view+json": {
              "version_major": 2,
              "version_minor": 0,
              "model_id": "66c735bfbb094bcf968c758be37eb0ed"
            }
          },
          "metadata": {}
        },
        {
          "output_type": "display_data",
          "data": {
            "text/plain": [
              "train-00000-of-00004.parquet:   0%|          | 0.00/56.2k [00:00<?, ?B/s]"
            ],
            "application/vnd.jupyter.widget-view+json": {
              "version_major": 2,
              "version_minor": 0,
              "model_id": "8ba589500b614a06a160277e5a3b2847"
            }
          },
          "metadata": {}
        },
        {
          "output_type": "display_data",
          "data": {
            "text/plain": [
              "train-00003-of-00004.parquet:   0%|          | 0.00/58.5k [00:00<?, ?B/s]"
            ],
            "application/vnd.jupyter.widget-view+json": {
              "version_major": 2,
              "version_minor": 0,
              "model_id": "b925b297f0bd4b829e615d7ae2b84f97"
            }
          },
          "metadata": {}
        },
        {
          "output_type": "display_data",
          "data": {
            "text/plain": [
              "train-00000-of-00004.parquet:   0%|          | 0.00/58.4k [00:00<?, ?B/s]"
            ],
            "application/vnd.jupyter.widget-view+json": {
              "version_major": 2,
              "version_minor": 0,
              "model_id": "6bb31151e0f54259888e83b94bb3cd24"
            }
          },
          "metadata": {}
        },
        {
          "output_type": "display_data",
          "data": {
            "text/plain": [
              "train-00002-of-00004.parquet:   0%|          | 0.00/29.4k [00:00<?, ?B/s]"
            ],
            "application/vnd.jupyter.widget-view+json": {
              "version_major": 2,
              "version_minor": 0,
              "model_id": "6e8798588a8447a1a5430a8802ca5afc"
            }
          },
          "metadata": {}
        },
        {
          "output_type": "display_data",
          "data": {
            "text/plain": [
              "train-00000-of-00004.parquet:   0%|          | 0.00/58.2k [00:00<?, ?B/s]"
            ],
            "application/vnd.jupyter.widget-view+json": {
              "version_major": 2,
              "version_minor": 0,
              "model_id": "4e79a127c0b841949b47e157dfaa288b"
            }
          },
          "metadata": {}
        },
        {
          "output_type": "display_data",
          "data": {
            "text/plain": [
              "train-00001-of-00004.parquet:   0%|          | 0.00/31.2k [00:00<?, ?B/s]"
            ],
            "application/vnd.jupyter.widget-view+json": {
              "version_major": 2,
              "version_minor": 0,
              "model_id": "6b680509b8344e7a8d74179ca4e8ca8e"
            }
          },
          "metadata": {}
        },
        {
          "output_type": "display_data",
          "data": {
            "text/plain": [
              "train-00002-of-00004.parquet:   0%|          | 0.00/30.1k [00:00<?, ?B/s]"
            ],
            "application/vnd.jupyter.widget-view+json": {
              "version_major": 2,
              "version_minor": 0,
              "model_id": "3f086caa4ad4449eaaf0fd2c70adcbe5"
            }
          },
          "metadata": {}
        },
        {
          "output_type": "display_data",
          "data": {
            "text/plain": [
              "train-00002-of-00004.parquet:   0%|          | 0.00/30.1k [00:00<?, ?B/s]"
            ],
            "application/vnd.jupyter.widget-view+json": {
              "version_major": 2,
              "version_minor": 0,
              "model_id": "94437645f39546c797971a4b83946775"
            }
          },
          "metadata": {}
        },
        {
          "output_type": "display_data",
          "data": {
            "text/plain": [
              "train-00003-of-00004.parquet:   0%|          | 0.00/33.0k [00:00<?, ?B/s]"
            ],
            "application/vnd.jupyter.widget-view+json": {
              "version_major": 2,
              "version_minor": 0,
              "model_id": "fe27a29b2cd5445db7bd033389b880d9"
            }
          },
          "metadata": {}
        },
        {
          "output_type": "display_data",
          "data": {
            "text/plain": [
              "Generating train split:   0%|          | 0/30504 [00:00<?, ? examples/s]"
            ],
            "application/vnd.jupyter.widget-view+json": {
              "version_major": 2,
              "version_minor": 0,
              "model_id": "0bcd0b0844fd46e5ae049a77cc8442fb"
            }
          },
          "metadata": {}
        },
        {
          "output_type": "stream",
          "name": "stdout",
          "text": [
            "Dataset loaded with 30504 samples\n",
            "Training samples: 24403, Validation samples: 3050, Test samples: 3051\n",
            "Initializing enhanced BLIP model...\n",
            "Loading base BLIP model...\n"
          ]
        },
        {
          "output_type": "display_data",
          "data": {
            "text/plain": [
              "config.json:   0%|          | 0.00/4.56k [00:00<?, ?B/s]"
            ],
            "application/vnd.jupyter.widget-view+json": {
              "version_major": 2,
              "version_minor": 0,
              "model_id": "c228144f3dd44d3fb69d84921ca81e01"
            }
          },
          "metadata": {}
        },
        {
          "output_type": "display_data",
          "data": {
            "text/plain": [
              "pytorch_model.bin:   0%|          | 0.00/990M [00:00<?, ?B/s]"
            ],
            "application/vnd.jupyter.widget-view+json": {
              "version_major": 2,
              "version_minor": 0,
              "model_id": "3c251fdbbdfb46ffbc7558432590321c"
            }
          },
          "metadata": {}
        },
        {
          "output_type": "display_data",
          "data": {
            "text/plain": [
              "model.safetensors:   0%|          | 0.00/990M [00:00<?, ?B/s]"
            ],
            "application/vnd.jupyter.widget-view+json": {
              "version_major": 2,
              "version_minor": 0,
              "model_id": "482285b030ed4572ae2af25775d941be"
            }
          },
          "metadata": {}
        },
        {
          "output_type": "stream",
          "name": "stderr",
          "text": [
            "Using a slow image processor as `use_fast` is unset and a slow processor was saved with this model. `use_fast=True` will be the default behavior in v4.52, even if the model was saved with a slow processor. This will result in minor differences in outputs. You'll still be able to use a slow processor with `use_fast=False`.\n"
          ]
        },
        {
          "output_type": "display_data",
          "data": {
            "text/plain": [
              "preprocessor_config.json:   0%|          | 0.00/287 [00:00<?, ?B/s]"
            ],
            "application/vnd.jupyter.widget-view+json": {
              "version_major": 2,
              "version_minor": 0,
              "model_id": "e4f34b8e62b24bfaa14e10638c7d5961"
            }
          },
          "metadata": {}
        },
        {
          "output_type": "display_data",
          "data": {
            "text/plain": [
              "tokenizer_config.json:   0%|          | 0.00/506 [00:00<?, ?B/s]"
            ],
            "application/vnd.jupyter.widget-view+json": {
              "version_major": 2,
              "version_minor": 0,
              "model_id": "28f7ccc1b25e42e2b2e876bf169e0887"
            }
          },
          "metadata": {}
        },
        {
          "output_type": "display_data",
          "data": {
            "text/plain": [
              "vocab.txt:   0%|          | 0.00/232k [00:00<?, ?B/s]"
            ],
            "application/vnd.jupyter.widget-view+json": {
              "version_major": 2,
              "version_minor": 0,
              "model_id": "64b9d39e3db94689a6436a3c91aec22a"
            }
          },
          "metadata": {}
        },
        {
          "output_type": "display_data",
          "data": {
            "text/plain": [
              "tokenizer.json:   0%|          | 0.00/711k [00:00<?, ?B/s]"
            ],
            "application/vnd.jupyter.widget-view+json": {
              "version_major": 2,
              "version_minor": 0,
              "model_id": "8dfbb6302e354b5a8e97e69cd681c570"
            }
          },
          "metadata": {}
        },
        {
          "output_type": "display_data",
          "data": {
            "text/plain": [
              "special_tokens_map.json:   0%|          | 0.00/125 [00:00<?, ?B/s]"
            ],
            "application/vnd.jupyter.widget-view+json": {
              "version_major": 2,
              "version_minor": 0,
              "model_id": "88f8f5bd79bf43c8beaa4e00f2b9bc02"
            }
          },
          "metadata": {}
        },
        {
          "output_type": "stream",
          "name": "stdout",
          "text": [
            "Model hidden dimension: 768\n",
            "Enhanced BLIP model initialized\n",
            "Starting training...\n",
            "Starting training for 10 epochs\n"
          ]
        },
        {
          "output_type": "stream",
          "name": "stderr",
          "text": [
            "<ipython-input-3-ca70ac862cd6>:382: FutureWarning: `torch.cuda.amp.GradScaler(args...)` is deprecated. Please use `torch.amp.GradScaler('cuda', args...)` instead.\n",
            "  scaler = GradScaler(enabled=(device == \"cuda\"))\n"
          ]
        },
        {
          "output_type": "display_data",
          "data": {
            "text/plain": [
              "Epoch 1/10:   0%|          | 0/3051 [00:00<?, ?it/s]"
            ],
            "application/vnd.jupyter.widget-view+json": {
              "version_major": 2,
              "version_minor": 0,
              "model_id": "1741fcd832dc4376af97d611b035193d"
            }
          },
          "metadata": {}
        },
        {
          "output_type": "stream",
          "name": "stderr",
          "text": [
            "<ipython-input-3-ca70ac862cd6>:439: FutureWarning: `torch.cuda.amp.autocast(args...)` is deprecated. Please use `torch.amp.autocast('cuda', args...)` instead.\n",
            "  with autocast(enabled=(device == \"cuda\")):\n"
          ]
        },
        {
          "output_type": "stream",
          "name": "stdout",
          "text": [
            "Epoch 1 - Avg. Training Loss: 1.6039 (Time: 305.83s)\n"
          ]
        },
        {
          "output_type": "display_data",
          "data": {
            "text/plain": [
              "Evaluating:   0%|          | 0/382 [00:00<?, ?it/s]"
            ],
            "application/vnd.jupyter.widget-view+json": {
              "version_major": 2,
              "version_minor": 0,
              "model_id": "5e8e6de2b94246c49f8c18bb44c08da3"
            }
          },
          "metadata": {}
        },
        {
          "output_type": "stream",
          "name": "stdout",
          "text": [
            "\n",
            "Sample predictions:\n",
            "  Reference: the image depicts a serene street scene in a small town. the road is lined with brick buildings, their red and brown hues contrasting with the overcast sky above. trees line both sides of the street, adding a touch of nature to the urban landscape. cars are parked along the side of the road, suggesting a quiet time of day or perhaps a special event taking place nearby. in the distance, a church with a clock tower stands tall, its presence adding a sense of history and community to the scene.\n",
            "  Prediction: in the image, a group of people are gathered in a park. the park is filled with people engaged in various activities, some standing and others sitting on benches. one person is holding an umbrella, while the other is walking away from the camera\n",
            "\n",
            "  Reference: in the image, a man and two children are standing on a vibrant red tennis court. the man is wearing a gray shirt and blue jeans, holding a red tennis racket in his right hand. the child on his left is wearing a green jacket and blue jeans, also holding a red tennis racket. the other child, dressed in a black jacket and blue jeans, stands next to them. the court is surrounded by a chain - link fence, with trees visible beyond the fence.\n",
            "  Prediction: in the image, a group of people are gathered on a sidewalk in an urban setting. the person on the left is wearing a black jacket and blue jeans, while the other three individuals are dressed in blue jackets and hats. they are all smiling\n",
            "\n",
            "  Reference: in the image, two giraffes are captured in a zoo enclosure. the giraffe on the left is bending its long neck to reach for food from a wooden feeding trough, while the giraffe on the right stands tall and reaches up with its long neck towards the sky. the enclosure is surrounded by a sturdy fence, and beyond it, trees rise up, providing shade and greenery.\n",
            "  Prediction: the image depicts a baseball game in progress. a batter in a white uniform with red accents is mid - swing, his body coiled and muscles taut as he prepares to strike the incoming ball. behind him, a catcher in an orange uniform crouches\n",
            "\n",
            "CIDEr score computed successfully\n",
            "ROUGE score computed successfully\n",
            "Starting SPICE computation (may take time)...\n",
            "Downloading stanford-corenlp-3.6.0 for SPICE ...\n",
            "Progress: 384.5M / 384.5M (100.0%)\n",
            "Extracting stanford-corenlp-3.6.0 ...\n",
            "Done.\n",
            "Warning: SPICE computation timed out after 3 minutes, skipping.\n",
            "METEOR score computed successfully\n",
            "Validation BLEU-4: 0.2589\n",
            "Validation CIDEr: 0.0072\n",
            "Validation SPICE: 0.0000\n",
            "Validation ROUGE: 0.2072\n",
            "Validation METEOR: 0.0910\n",
            "New best model saved at epoch 1\n"
          ]
        },
        {
          "output_type": "display_data",
          "data": {
            "text/plain": [
              "Epoch 2/10:   0%|          | 0/3051 [00:00<?, ?it/s]"
            ],
            "application/vnd.jupyter.widget-view+json": {
              "version_major": 2,
              "version_minor": 0,
              "model_id": "15223e0462a24a8fa8b995e165586b48"
            }
          },
          "metadata": {}
        },
        {
          "output_type": "stream",
          "name": "stderr",
          "text": [
            "<ipython-input-3-ca70ac862cd6>:439: FutureWarning: `torch.cuda.amp.autocast(args...)` is deprecated. Please use `torch.amp.autocast('cuda', args...)` instead.\n",
            "  with autocast(enabled=(device == \"cuda\")):\n"
          ]
        },
        {
          "output_type": "stream",
          "name": "stdout",
          "text": [
            "Epoch 2 - Avg. Training Loss: 0.8118 (Time: 559.33s)\n"
          ]
        },
        {
          "output_type": "display_data",
          "data": {
            "text/plain": [
              "Evaluating:   0%|          | 0/382 [00:00<?, ?it/s]"
            ],
            "application/vnd.jupyter.widget-view+json": {
              "version_major": 2,
              "version_minor": 0,
              "model_id": "ae83f4217ec54a808bceeb4616c6c36f"
            }
          },
          "metadata": {}
        },
        {
          "output_type": "stream",
          "name": "stdout",
          "text": [
            "\n",
            "Sample predictions:\n",
            "  Reference: the image depicts a serene street scene in a small town. the road is lined with brick buildings, their red and brown hues contrasting with the overcast sky above. trees line both sides of the street, adding a touch of nature to the urban landscape. cars are parked along the side of the road, suggesting a quiet time of day or perhaps a special event taking place nearby. in the distance, a church with a clock tower stands tall, its presence adding a sense of history and community to the scene.\n",
            "  Prediction: in the image, a group of people are gathered in a room with white walls and a wooden floor. the room is bathed in soft light filtering through a window on the left side of the frame. a man stands next to the window, holding\n",
            "\n",
            "  Reference: in the image, a man and two children are standing on a vibrant red tennis court. the man is wearing a gray shirt and blue jeans, holding a red tennis racket in his right hand. the child on his left is wearing a green jacket and blue jeans, also holding a red tennis racket. the other child, dressed in a black jacket and blue jeans, stands next to them. the court is surrounded by a chain - link fence, with trees visible beyond the fence.\n",
            "  Prediction: a young man is captured in the midst of a powerful tennis swing on a vibrant red clay court. he is dressed casually in a white t - shirt and black shorts, with his right hand gripping a yellow tennis racket as he prepares to strike\n",
            "\n",
            "  Reference: in the image, two giraffes are captured in a zoo enclosure. the giraffe on the left is bending its long neck to reach for food from a wooden feeding trough, while the giraffe on the right stands tall and reaches up with its long neck towards the sky. the enclosure is surrounded by a sturdy fence, and beyond it, trees rise up, providing shade and greenery.\n",
            "  Prediction: a zebra stands majestically in a verdant field, its black and white stripes contrasting with the lush green grass beneath it. the zebra ' s head is turned to the left, as if observing something off - camera. in the distance,\n",
            "\n",
            "CIDEr score computed successfully\n",
            "ROUGE score computed successfully\n",
            "Starting SPICE computation (may take time)...\n",
            "Warning: SPICE computation timed out after 3 minutes, skipping.\n",
            "METEOR score computed successfully\n",
            "Validation BLEU-4: 0.2641\n",
            "Validation CIDEr: 0.0105\n",
            "Validation SPICE: 0.0000\n",
            "Validation ROUGE: 0.2149\n",
            "Validation METEOR: 0.0977\n",
            "New best model saved at epoch 2\n"
          ]
        },
        {
          "output_type": "display_data",
          "data": {
            "text/plain": [
              "Epoch 3/10:   0%|          | 0/3051 [00:00<?, ?it/s]"
            ],
            "application/vnd.jupyter.widget-view+json": {
              "version_major": 2,
              "version_minor": 0,
              "model_id": "165dba1ca2ff43f595352ba17384fec0"
            }
          },
          "metadata": {}
        },
        {
          "output_type": "stream",
          "name": "stderr",
          "text": [
            "<ipython-input-3-ca70ac862cd6>:439: FutureWarning: `torch.cuda.amp.autocast(args...)` is deprecated. Please use `torch.amp.autocast('cuda', args...)` instead.\n",
            "  with autocast(enabled=(device == \"cuda\")):\n"
          ]
        },
        {
          "output_type": "stream",
          "name": "stdout",
          "text": [
            "Epoch 3 - Avg. Training Loss: 0.7213 (Time: 330.34s)\n"
          ]
        },
        {
          "output_type": "display_data",
          "data": {
            "text/plain": [
              "Evaluating:   0%|          | 0/382 [00:00<?, ?it/s]"
            ],
            "application/vnd.jupyter.widget-view+json": {
              "version_major": 2,
              "version_minor": 0,
              "model_id": "95b53dc08df746328fe2c90da23f9a75"
            }
          },
          "metadata": {}
        },
        {
          "output_type": "stream",
          "name": "stdout",
          "text": [
            "\n",
            "Sample predictions:\n",
            "  Reference: the image depicts a serene street scene in a small town. the road is lined with brick buildings, their red and brown hues contrasting with the overcast sky above. trees line both sides of the street, adding a touch of nature to the urban landscape. cars are parked along the side of the road, suggesting a quiet time of day or perhaps a special event taking place nearby. in the distance, a church with a clock tower stands tall, its presence adding a sense of history and community to the scene.\n",
            "  Prediction: this black and white photograph captures a bustling street scene in japan. the perspective is from the sidewalk, looking down the length of the street towards the horizon. on the right side, there are two buildings, one with a sign that reads \"\n",
            "\n",
            "  Reference: in the image, a man and two children are standing on a vibrant red tennis court. the man is wearing a gray shirt and blue jeans, holding a red tennis racket in his right hand. the child on his left is wearing a green jacket and blue jeans, also holding a red tennis racket. the other child, dressed in a black jacket and blue jeans, stands next to them. the court is surrounded by a chain - link fence, with trees visible beyond the fence.\n",
            "  Prediction: in the image, a group of people are gathered around a table in a restaurant. the table is covered with a white tablecloth and features two plates of food - one containing a sandwich and the other a salad. one person is reaching for a\n",
            "\n",
            "  Reference: in the image, two giraffes are captured in a zoo enclosure. the giraffe on the left is bending its long neck to reach for food from a wooden feeding trough, while the giraffe on the right stands tall and reaches up with its long neck towards the sky. the enclosure is surrounded by a sturdy fence, and beyond it, trees rise up, providing shade and greenery.\n",
            "  Prediction: in the image, two zebras are captured in a moment of tranquility within their zoo enclosure. the zebra on the left is facing away from the camera, its black and white stripes contrasting with the verdant grass beneath it. its\n",
            "\n",
            "CIDEr score computed successfully\n",
            "ROUGE score computed successfully\n",
            "Starting SPICE computation (may take time)...\n",
            "Warning: SPICE computation timed out after 3 minutes, skipping.\n",
            "METEOR score computed successfully\n",
            "Validation BLEU-4: 0.2738\n",
            "Validation CIDEr: 0.0121\n",
            "Validation SPICE: 0.0000\n",
            "Validation ROUGE: 0.2219\n",
            "Validation METEOR: 0.1023\n",
            "New best model saved at epoch 3\n"
          ]
        },
        {
          "output_type": "display_data",
          "data": {
            "text/plain": [
              "Epoch 4/10:   0%|          | 0/3051 [00:00<?, ?it/s]"
            ],
            "application/vnd.jupyter.widget-view+json": {
              "version_major": 2,
              "version_minor": 0,
              "model_id": "9ab1e42491b648c7acdb8bbf9da9b4b1"
            }
          },
          "metadata": {}
        },
        {
          "output_type": "stream",
          "name": "stderr",
          "text": [
            "<ipython-input-3-ca70ac862cd6>:439: FutureWarning: `torch.cuda.amp.autocast(args...)` is deprecated. Please use `torch.amp.autocast('cuda', args...)` instead.\n",
            "  with autocast(enabled=(device == \"cuda\")):\n",
            "Exception ignored in: <function _MultiProcessingDataLoaderIter.__del__ at 0x793c8c365620>\n",
            "Traceback (most recent call last):\n",
            "  File \"/usr/local/lib/python3.11/dist-packages/torch/utils/data/dataloader.py\", line 1618, in __del__\n",
            "    self._shutdown_workers()\n",
            "  File \"/usr/local/lib/python3.11/dist-packages/torch/utils/data/dataloader.py\", line 1601, in _shutdown_workers\n",
            "    if w.is_alive():\n",
            "       ^^^^^^^^^^^^\n",
            "  File \"/usr/lib/python3.11/multiprocessing/process.py\", line 160, in is_alive\n",
            "    assert self._parent_pid == os.getpid(), 'can only test a child process'\n",
            "           ^^^^^^^^^^^^^^^^^^^^^^^^^^^^^^^\n",
            "AssertionError: can only test a child process\n",
            "Exception ignored in: <function _MultiProcessingDataLoaderIter.__del__ at 0x793c8c365620>\n",
            "Traceback (most recent call last):\n",
            "  File \"/usr/local/lib/python3.11/dist-packages/torch/utils/data/dataloader.py\", line 1618, in __del__\n",
            "    self._shutdown_workers()\n",
            "  File \"/usr/local/lib/python3.11/dist-packages/torch/utils/data/dataloader.py\", line 1601, in _shutdown_workers\n",
            "    if w.is_alive():\n",
            "       ^^^^^^^^^^^^\n",
            "  File \"/usr/lib/python3.11/multiprocessing/process.py\", line 160, in is_alive\n",
            "    assert self._parent_pid == os.getpid(), 'can only test a child process'\n",
            "           ^^^^^^^^^^^^^^^^^^^^^^^^^^^^^^^\n",
            "AssertionError: can only test a child process\n",
            "Exception ignored in: <function _MultiProcessingDataLoaderIter.__del__ at 0x793c8c365620>\n",
            "Traceback (most recent call last):\n",
            "  File \"/usr/local/lib/python3.11/dist-packages/torch/utils/data/dataloader.py\", line 1618, in __del__\n",
            "    self._shutdown_workers()\n",
            "  File \"/usr/local/lib/python3.11/dist-packages/torch/utils/data/dataloader.py\", line 1601, in _shutdown_workers\n",
            "    if w.is_alive():\n",
            "       ^^^^^^^^^^^^\n",
            "  File \"/usr/lib/python3.11/multiprocessing/process.py\", line 160, in is_alive\n",
            "    assert self._parent_pid == os.getpid(), 'can only test a child process'\n",
            "           ^^^^^^^^^^^^^^^^^^^^^^^^^^^^^^^\n",
            "AssertionError: can only test a child process\n",
            "Exception ignored in: <function _MultiProcessingDataLoaderIter.__del__ at 0x793c8c365620>\n",
            "Traceback (most recent call last):\n",
            "  File \"/usr/local/lib/python3.11/dist-packages/torch/utils/data/dataloader.py\", line 1618, in __del__\n",
            "    self._shutdown_workers()\n",
            "  File \"/usr/local/lib/python3.11/dist-packages/torch/utils/data/dataloader.py\", line 1601, in _shutdown_workers\n",
            "    if w.is_alive():\n",
            "       ^^^^^^^^^^^^\n",
            "  File \"/usr/lib/python3.11/multiprocessing/process.py\", line 160, in is_alive\n",
            "    assert self._parent_pid == os.getpid(), 'can only test a child process'\n",
            "           ^^^^^^^^^^^^^^^^^^^^^^^^^^^^^^^\n",
            "AssertionError: can only test a child process\n"
          ]
        },
        {
          "output_type": "stream",
          "name": "stdout",
          "text": [
            "Epoch 4 - Avg. Training Loss: 0.6606 (Time: 346.45s)\n"
          ]
        },
        {
          "output_type": "display_data",
          "data": {
            "text/plain": [
              "Evaluating:   0%|          | 0/382 [00:00<?, ?it/s]"
            ],
            "application/vnd.jupyter.widget-view+json": {
              "version_major": 2,
              "version_minor": 0,
              "model_id": "88be90eb371841e786c0478279d3e9f3"
            }
          },
          "metadata": {}
        },
        {
          "output_type": "stream",
          "name": "stdout",
          "text": [
            "\n",
            "Sample predictions:\n",
            "  Reference: the image depicts a serene street scene in a small town. the road is lined with brick buildings, their red and brown hues contrasting with the overcast sky above. trees line both sides of the street, adding a touch of nature to the urban landscape. cars are parked along the side of the road, suggesting a quiet time of day or perhaps a special event taking place nearby. in the distance, a church with a clock tower stands tall, its presence adding a sense of history and community to the scene.\n",
            "  Prediction: a majestic giraffe stands tall in a verdant landscape, its long neck reaching towards the sky. its coat is a beautiful mosaic of brown and white spots that blend harmoniously with the surrounding greenery. the gife ' s head\n",
            "\n",
            "  Reference: in the image, a man and two children are standing on a vibrant red tennis court. the man is wearing a gray shirt and blue jeans, holding a red tennis racket in his right hand. the child on his left is wearing a green jacket and blue jeans, also holding a red tennis racket. the other child, dressed in a black jacket and blue jeans, stands next to them. the court is surrounded by a chain - link fence, with trees visible beyond the fence.\n",
            "  Prediction: in the image, a group of people are gathered around a table in an outdoor setting. the table is covered with a white tablecloth and features two plates of food - one containing a slice of cake and the other holding a bowl of soup.\n",
            "\n",
            "  Reference: in the image, two giraffes are captured in a zoo enclosure. the giraffe on the left is bending its long neck to reach for food from a wooden feeding trough, while the giraffe on the right stands tall and reaches up with its long neck towards the sky. the enclosure is surrounded by a sturdy fence, and beyond it, trees rise up, providing shade and greenery.\n",
            "  Prediction: a majestic giraffe stands tall in a verdant landscape, its long neck stretched upwards as it reaches for the lush green leaves of a tree. its coat is a beautiful mosaic of brown spots that blend harmoniously with the surrounding greenery\n",
            "\n",
            "CIDEr score computed successfully\n",
            "ROUGE score computed successfully\n",
            "Starting SPICE computation (may take time)...\n",
            "Warning: SPICE computation timed out after 3 minutes, skipping.\n",
            "METEOR score computed successfully\n",
            "Validation BLEU-4: 0.2736\n",
            "Validation CIDEr: 0.0161\n",
            "Validation SPICE: 0.0000\n",
            "Validation ROUGE: 0.2227\n",
            "Validation METEOR: 0.1016\n",
            "New best model saved at epoch 4\n"
          ]
        },
        {
          "output_type": "display_data",
          "data": {
            "text/plain": [
              "Epoch 5/10:   0%|          | 0/3051 [00:00<?, ?it/s]"
            ],
            "application/vnd.jupyter.widget-view+json": {
              "version_major": 2,
              "version_minor": 0,
              "model_id": "f767e1dbd9884d3ab5b2a963851b30b2"
            }
          },
          "metadata": {}
        },
        {
          "output_type": "stream",
          "name": "stderr",
          "text": [
            "<ipython-input-3-ca70ac862cd6>:439: FutureWarning: `torch.cuda.amp.autocast(args...)` is deprecated. Please use `torch.amp.autocast('cuda', args...)` instead.\n",
            "  with autocast(enabled=(device == \"cuda\")):\n"
          ]
        },
        {
          "output_type": "stream",
          "name": "stdout",
          "text": [
            "Epoch 5 - Avg. Training Loss: 0.6126 (Time: 316.04s)\n"
          ]
        },
        {
          "output_type": "display_data",
          "data": {
            "text/plain": [
              "Evaluating:   0%|          | 0/382 [00:00<?, ?it/s]"
            ],
            "application/vnd.jupyter.widget-view+json": {
              "version_major": 2,
              "version_minor": 0,
              "model_id": "96d3d1a44b5e4534bf380a42b4123085"
            }
          },
          "metadata": {}
        },
        {
          "output_type": "stream",
          "name": "stdout",
          "text": [
            "\n",
            "Sample predictions:\n",
            "  Reference: the image depicts a serene street scene in a small town. the road is lined with brick buildings, their red and brown hues contrasting with the overcast sky above. trees line both sides of the street, adding a touch of nature to the urban landscape. cars are parked along the side of the road, suggesting a quiet time of day or perhaps a special event taking place nearby. in the distance, a church with a clock tower stands tall, its presence adding a sense of history and community to the scene.\n",
            "  Prediction: a majestic giraffe stands tall in the center of a verdant landscape, its long neck reaching towards the sky. its coat is a beautiful mosaic of brown and white spots, contrasting with the lush greenery that surrounds it. the gi\n",
            "\n",
            "  Reference: in the image, a man and two children are standing on a vibrant red tennis court. the man is wearing a gray shirt and blue jeans, holding a red tennis racket in his right hand. the child on his left is wearing a green jacket and blue jeans, also holding a red tennis racket. the other child, dressed in a black jacket and blue jeans, stands next to them. the court is surrounded by a chain - link fence, with trees visible beyond the fence.\n",
            "  Prediction: in the image, a vibrant red fire hydrant stands on a sidewalk in front of a brick building. the building is adorned with a blue and white striped awning that adds a pop of color to the scene. a tree stands tall behind the\n",
            "\n",
            "  Reference: in the image, two giraffes are captured in a zoo enclosure. the giraffe on the left is bending its long neck to reach for food from a wooden feeding trough, while the giraffe on the right stands tall and reaches up with its long neck towards the sky. the enclosure is surrounded by a sturdy fence, and beyond it, trees rise up, providing shade and greenery.\n",
            "  Prediction: in a verdant landscape, two majestic giraffes stand tall and proud. their bodies are adorned with a pattern of brown spots that contrasts beautifully against the lush greenery around them. they are positioned on the left side of the image\n",
            "\n",
            "CIDEr score computed successfully\n",
            "ROUGE score computed successfully\n",
            "Starting SPICE computation (may take time)...\n",
            "Warning: SPICE computation timed out after 3 minutes, skipping.\n",
            "METEOR score computed successfully\n",
            "Validation BLEU-4: 0.2762\n",
            "Validation CIDEr: 0.0148\n",
            "Validation SPICE: 0.1116\n",
            "Validation ROUGE: 0.2213\n",
            "Validation METEOR: 0.1033\n",
            "New best model saved at epoch 5\n"
          ]
        },
        {
          "output_type": "display_data",
          "data": {
            "text/plain": [
              "Epoch 6/10:   0%|          | 0/3051 [00:00<?, ?it/s]"
            ],
            "application/vnd.jupyter.widget-view+json": {
              "version_major": 2,
              "version_minor": 0,
              "model_id": "467bd7652601473db31a1ba92b2ed2cc"
            }
          },
          "metadata": {}
        },
        {
          "output_type": "stream",
          "name": "stderr",
          "text": [
            "<ipython-input-3-ca70ac862cd6>:439: FutureWarning: `torch.cuda.amp.autocast(args...)` is deprecated. Please use `torch.amp.autocast('cuda', args...)` instead.\n",
            "  with autocast(enabled=(device == \"cuda\")):\n",
            "Exception ignored in: <function _MultiProcessingDataLoaderIter.__del__ at 0x793c8c365620>\n",
            "Traceback (most recent call last):\n",
            "  File \"/usr/local/lib/python3.11/dist-packages/torch/utils/data/dataloader.py\", line 1618, in __del__\n",
            "  File \"/usr/local/lib/python3.11/dist-packages/torch/utils/data/dataloader.py\", line 1601, in _shutdown_workers\n",
            "  File \"/usr/lib/python3.11/multiprocessing/process.py\", line 160, in is_alive\n",
            "AssertionError: can only test a child process\n",
            "Exception ignored in: <function _MultiProcessingDataLoaderIter.__del__ at 0x793c8c365620>\n",
            "Traceback (most recent call last):\n",
            "  File \"/usr/local/lib/python3.11/dist-packages/torch/utils/data/dataloader.py\", line 1618, in __del__\n",
            "  File \"/usr/local/lib/python3.11/dist-packages/torch/utils/data/dataloader.py\", line 1601, in _shutdown_workers\n",
            "  File \"/usr/lib/python3.11/multiprocessing/process.py\", line 160, in is_alive\n",
            "AssertionError: can only test a child process\n",
            "Exception ignored in: <function _MultiProcessingDataLoaderIter.__del__ at 0x793c8c365620>\n",
            "Traceback (most recent call last):\n",
            "  File \"/usr/local/lib/python3.11/dist-packages/torch/utils/data/dataloader.py\", line 1618, in __del__\n",
            "    self._shutdown_workers()\n",
            "  File \"/usr/local/lib/python3.11/dist-packages/torch/utils/data/dataloader.py\", line 1601, in _shutdown_workers\n",
            "    if w.is_alive():\n",
            "       ^^^^^^^^^^^^\n",
            "  File \"/usr/lib/python3.11/multiprocessing/process.py\", line 160, in is_alive\n",
            "    assert self._parent_pid == os.getpid(), 'can only test a child process'\n",
            "           ^^^^^^^^^^^^^^^^^^^^^^^^^^^^^^^\n",
            "AssertionError: can only test a child process\n",
            "Exception ignored in: <function _MultiProcessingDataLoaderIter.__del__ at 0x793c8c365620>\n",
            "Traceback (most recent call last):\n",
            "  File \"/usr/local/lib/python3.11/dist-packages/torch/utils/data/dataloader.py\", line 1618, in __del__\n",
            "    self._shutdown_workers()\n",
            "  File \"/usr/local/lib/python3.11/dist-packages/torch/utils/data/dataloader.py\", line 1601, in _shutdown_workers\n",
            "    if w.is_alive():\n",
            "       ^^^^^^^^^^^^\n",
            "  File \"/usr/lib/python3.11/multiprocessing/process.py\", line 160, in is_alive\n",
            "    assert self._parent_pid == os.getpid(), 'can only test a child process'\n",
            "           ^^^^^^^^^^^^^^^^^^^^^^^^^^^^^^^\n",
            "AssertionError: can only test a child process\n"
          ]
        },
        {
          "output_type": "stream",
          "name": "stdout",
          "text": [
            "Epoch 6 - Avg. Training Loss: 0.5720 (Time: 336.68s)\n"
          ]
        },
        {
          "output_type": "display_data",
          "data": {
            "text/plain": [
              "Evaluating:   0%|          | 0/382 [00:00<?, ?it/s]"
            ],
            "application/vnd.jupyter.widget-view+json": {
              "version_major": 2,
              "version_minor": 0,
              "model_id": "1ecdb85559584687885c14bf2cd591b1"
            }
          },
          "metadata": {}
        },
        {
          "output_type": "stream",
          "name": "stdout",
          "text": [
            "\n",
            "Sample predictions:\n",
            "  Reference: the image depicts a serene street scene in a small town. the road is lined with brick buildings, their red and brown hues contrasting with the overcast sky above. trees line both sides of the street, adding a touch of nature to the urban landscape. cars are parked along the side of the road, suggesting a quiet time of day or perhaps a special event taking place nearby. in the distance, a church with a clock tower stands tall, its presence adding a sense of history and community to the scene.\n",
            "  Prediction: the image depicts a majestic clock tower standing tall against the backdrop of a clear blue sky. the tower is constructed from light - colored stone and features a large clock face with black numbers and hands, flanked by two smaller clocks on either side. atop\n",
            "\n",
            "  Reference: in the image, a man and two children are standing on a vibrant red tennis court. the man is wearing a gray shirt and blue jeans, holding a red tennis racket in his right hand. the child on his left is wearing a green jacket and blue jeans, also holding a red tennis racket. the other child, dressed in a black jacket and blue jeans, stands next to them. the court is surrounded by a chain - link fence, with trees visible beyond the fence.\n",
            "  Prediction: in the image, a group of people are gathered around a table in an outdoor setting. the table is covered with a white tablecloth and features two plates of food - one containing a slice of pizza and the other a bowl of soup. a\n",
            "\n",
            "  Reference: in the image, two giraffes are captured in a zoo enclosure. the giraffe on the left is bending its long neck to reach for food from a wooden feeding trough, while the giraffe on the right stands tall and reaches up with its long neck towards the sky. the enclosure is surrounded by a sturdy fence, and beyond it, trees rise up, providing shade and greenery.\n",
            "  Prediction: in a grassy field, three elephants are present. the largest elephant on the left is walking towards the right side of the image, its gray skin contrasting with the green grass beneath it. two smaller elephants can be seen in the background, one closer\n",
            "\n",
            "CIDEr score computed successfully\n",
            "ROUGE score computed successfully\n",
            "Starting SPICE computation (may take time)...\n",
            "Warning: SPICE computation timed out after 3 minutes, skipping.\n",
            "METEOR score computed successfully\n",
            "Validation BLEU-4: 0.2752\n",
            "Validation CIDEr: 0.0133\n",
            "Validation SPICE: 0.1150\n",
            "Validation ROUGE: 0.2222\n",
            "Validation METEOR: 0.1035\n"
          ]
        },
        {
          "output_type": "display_data",
          "data": {
            "text/plain": [
              "Epoch 7/10:   0%|          | 0/3051 [00:00<?, ?it/s]"
            ],
            "application/vnd.jupyter.widget-view+json": {
              "version_major": 2,
              "version_minor": 0,
              "model_id": "d65c07702b7f4ab1adfeda1e2837e509"
            }
          },
          "metadata": {}
        },
        {
          "output_type": "stream",
          "name": "stderr",
          "text": [
            "<ipython-input-3-ca70ac862cd6>:439: FutureWarning: `torch.cuda.amp.autocast(args...)` is deprecated. Please use `torch.amp.autocast('cuda', args...)` instead.\n",
            "  with autocast(enabled=(device == \"cuda\")):\n"
          ]
        },
        {
          "output_type": "stream",
          "name": "stdout",
          "text": [
            "Epoch 7 - Avg. Training Loss: 0.5379 (Time: 319.29s)\n"
          ]
        },
        {
          "output_type": "display_data",
          "data": {
            "text/plain": [
              "Evaluating:   0%|          | 0/382 [00:00<?, ?it/s]"
            ],
            "application/vnd.jupyter.widget-view+json": {
              "version_major": 2,
              "version_minor": 0,
              "model_id": "ea10bbfa720246a2b04aa56cbe020f19"
            }
          },
          "metadata": {}
        },
        {
          "output_type": "stream",
          "name": "stdout",
          "text": [
            "\n",
            "Sample predictions:\n",
            "  Reference: the image depicts a serene street scene in a small town. the road is lined with brick buildings, their red and brown hues contrasting with the overcast sky above. trees line both sides of the street, adding a touch of nature to the urban landscape. cars are parked along the side of the road, suggesting a quiet time of day or perhaps a special event taking place nearby. in the distance, a church with a clock tower stands tall, its presence adding a sense of history and community to the scene.\n",
            "  Prediction: the image depicts a serene park scene. in the foreground, there is a large tree with bare branches reaching towards the sky. to the left of the tree, a wooden bench invites visitors to sit and enjoy the view. on the right side\n",
            "\n",
            "  Reference: in the image, a man and two children are standing on a vibrant red tennis court. the man is wearing a gray shirt and blue jeans, holding a red tennis racket in his right hand. the child on his left is wearing a green jacket and blue jeans, also holding a red tennis racket. the other child, dressed in a black jacket and blue jeans, stands next to them. the court is surrounded by a chain - link fence, with trees visible beyond the fence.\n",
            "  Prediction: in the image, a group of people are gathered around a table in an outdoor setting. the table is covered with a white tablecloth and features two plates of food - one containing a slice of cake and the other holding a bowl of soup.\n",
            "\n",
            "  Reference: in the image, two giraffes are captured in a zoo enclosure. the giraffe on the left is bending its long neck to reach for food from a wooden feeding trough, while the giraffe on the right stands tall and reaches up with its long neck towards the sky. the enclosure is surrounded by a sturdy fence, and beyond it, trees rise up, providing shade and greenery.\n",
            "  Prediction: in the image, two elephants are captured in a moment of tranquility within their natural habitat. the elephant on the left stands tall and proud, its gray skin contrasting with the dry grass beneath it. its trunk is extended towards the ground,\n",
            "\n",
            "CIDEr score computed successfully\n",
            "ROUGE score computed successfully\n",
            "Starting SPICE computation (may take time)...\n",
            "SPICE score computed successfully\n",
            "METEOR score computed successfully\n",
            "Validation BLEU-4: 0.2806\n",
            "Validation CIDEr: 0.0150\n",
            "Validation SPICE: 0.1158\n",
            "Validation ROUGE: 0.2255\n",
            "Validation METEOR: 0.1050\n",
            "New best model saved at epoch 7\n"
          ]
        },
        {
          "output_type": "display_data",
          "data": {
            "text/plain": [
              "Epoch 8/10:   0%|          | 0/3051 [00:00<?, ?it/s]"
            ],
            "application/vnd.jupyter.widget-view+json": {
              "version_major": 2,
              "version_minor": 0,
              "model_id": "34bef27ef30b4e76aaf787d4fb3df4fe"
            }
          },
          "metadata": {}
        },
        {
          "output_type": "stream",
          "name": "stderr",
          "text": [
            "<ipython-input-3-ca70ac862cd6>:439: FutureWarning: `torch.cuda.amp.autocast(args...)` is deprecated. Please use `torch.amp.autocast('cuda', args...)` instead.\n",
            "  with autocast(enabled=(device == \"cuda\")):\n"
          ]
        },
        {
          "output_type": "stream",
          "name": "stdout",
          "text": [
            "Epoch 8 - Avg. Training Loss: 0.5112 (Time: 340.53s)\n"
          ]
        },
        {
          "output_type": "display_data",
          "data": {
            "text/plain": [
              "Evaluating:   0%|          | 0/382 [00:00<?, ?it/s]"
            ],
            "application/vnd.jupyter.widget-view+json": {
              "version_major": 2,
              "version_minor": 0,
              "model_id": "b05b34eb7cc3455f915d3121bd5f9d4a"
            }
          },
          "metadata": {}
        },
        {
          "output_type": "stream",
          "name": "stdout",
          "text": [
            "\n",
            "Sample predictions:\n",
            "  Reference: the image depicts a serene street scene in a small town. the road is lined with brick buildings, their red and brown hues contrasting with the overcast sky above. trees line both sides of the street, adding a touch of nature to the urban landscape. cars are parked along the side of the road, suggesting a quiet time of day or perhaps a special event taking place nearby. in the distance, a church with a clock tower stands tall, its presence adding a sense of history and community to the scene.\n",
            "  Prediction: the image depicts a majestic clock tower standing tall against the backdrop of a clear blue sky. the tower is constructed from light - colored stone and features a large clock face with black numbers and hands, indicating the time as 12 : 30. atop the\n",
            "\n",
            "  Reference: in the image, a man and two children are standing on a vibrant red tennis court. the man is wearing a gray shirt and blue jeans, holding a red tennis racket in his right hand. the child on his left is wearing a green jacket and blue jeans, also holding a red tennis racket. the other child, dressed in a black jacket and blue jeans, stands next to them. the court is surrounded by a chain - link fence, with trees visible beyond the fence.\n",
            "  Prediction: in the image, a group of people are gathered around a table in an outdoor setting. the table is covered with a white tablecloth and features two plates of food - one containing a slice of cake and the other holding a bowl of soup.\n",
            "\n",
            "  Reference: in the image, two giraffes are captured in a zoo enclosure. the giraffe on the left is bending its long neck to reach for food from a wooden feeding trough, while the giraffe on the right stands tall and reaches up with its long neck towards the sky. the enclosure is surrounded by a sturdy fence, and beyond it, trees rise up, providing shade and greenery.\n",
            "  Prediction: in the image, two elephants are captured in a moment of tranquility within their natural habitat. the elephant on the left stands tall and proud, its gray skin contrasting with the dry grass beneath it. its trunk is extended towards the ground,\n",
            "\n",
            "CIDEr score computed successfully\n",
            "ROUGE score computed successfully\n",
            "Starting SPICE computation (may take time)...\n",
            "SPICE score computed successfully\n",
            "METEOR score computed successfully\n",
            "Validation BLEU-4: 0.2778\n",
            "Validation CIDEr: 0.0166\n",
            "Validation SPICE: 0.1149\n",
            "Validation ROUGE: 0.2246\n",
            "Validation METEOR: 0.1044\n"
          ]
        },
        {
          "output_type": "display_data",
          "data": {
            "text/plain": [
              "Epoch 9/10:   0%|          | 0/3051 [00:00<?, ?it/s]"
            ],
            "application/vnd.jupyter.widget-view+json": {
              "version_major": 2,
              "version_minor": 0,
              "model_id": "ba1a95eb430d489d82e60055855336b6"
            }
          },
          "metadata": {}
        },
        {
          "output_type": "stream",
          "name": "stderr",
          "text": [
            "<ipython-input-3-ca70ac862cd6>:439: FutureWarning: `torch.cuda.amp.autocast(args...)` is deprecated. Please use `torch.amp.autocast('cuda', args...)` instead.\n",
            "  with autocast(enabled=(device == \"cuda\")):\n"
          ]
        },
        {
          "output_type": "stream",
          "name": "stdout",
          "text": [
            "Epoch 9 - Avg. Training Loss: 0.4922 (Time: 325.56s)\n"
          ]
        },
        {
          "output_type": "display_data",
          "data": {
            "text/plain": [
              "Evaluating:   0%|          | 0/382 [00:00<?, ?it/s]"
            ],
            "application/vnd.jupyter.widget-view+json": {
              "version_major": 2,
              "version_minor": 0,
              "model_id": "5db3b1c28cd045f28a70ccd4edae4608"
            }
          },
          "metadata": {}
        },
        {
          "output_type": "stream",
          "name": "stdout",
          "text": [
            "\n",
            "Sample predictions:\n",
            "  Reference: the image depicts a serene street scene in a small town. the road is lined with brick buildings, their red and brown hues contrasting with the overcast sky above. trees line both sides of the street, adding a touch of nature to the urban landscape. cars are parked along the side of the road, suggesting a quiet time of day or perhaps a special event taking place nearby. in the distance, a church with a clock tower stands tall, its presence adding a sense of history and community to the scene.\n",
            "  Prediction: the image depicts a majestic clock tower standing tall against the backdrop of a clear blue sky. the tower is constructed from light - colored stone and features a large clock face with black numbers and hands, indicating the time as 12 : 30. atop the\n",
            "\n",
            "  Reference: in the image, a man and two children are standing on a vibrant red tennis court. the man is wearing a gray shirt and blue jeans, holding a red tennis racket in his right hand. the child on his left is wearing a green jacket and blue jeans, also holding a red tennis racket. the other child, dressed in a black jacket and blue jeans, stands next to them. the court is surrounded by a chain - link fence, with trees visible beyond the fence.\n",
            "  Prediction: in the image, a group of people are gathered around a table in an outdoor setting. the table is covered with a white tablecloth and features two plates of food - one containing a slice of cake and the other holding a bowl of soup.\n",
            "\n",
            "  Reference: in the image, two giraffes are captured in a zoo enclosure. the giraffe on the left is bending its long neck to reach for food from a wooden feeding trough, while the giraffe on the right stands tall and reaches up with its long neck towards the sky. the enclosure is surrounded by a sturdy fence, and beyond it, trees rise up, providing shade and greenery.\n",
            "  Prediction: in the image, two elephants are captured in a moment of tranquility within their enclosure. the elephant on the left stands tall and proud, its gray skin contrasting with the dirt ground beneath it. its trunk is extended towards the ground, perhaps\n",
            "\n",
            "CIDEr score computed successfully\n",
            "ROUGE score computed successfully\n",
            "Starting SPICE computation (may take time)...\n",
            "SPICE score computed successfully\n",
            "METEOR score computed successfully\n",
            "Validation BLEU-4: 0.2790\n",
            "Validation CIDEr: 0.0147\n",
            "Validation SPICE: 0.1169\n",
            "Validation ROUGE: 0.2245\n",
            "Validation METEOR: 0.1052\n"
          ]
        },
        {
          "output_type": "display_data",
          "data": {
            "text/plain": [
              "Epoch 10/10:   0%|          | 0/3051 [00:00<?, ?it/s]"
            ],
            "application/vnd.jupyter.widget-view+json": {
              "version_major": 2,
              "version_minor": 0,
              "model_id": "beacfa34dc764a718480da2ba015a2b3"
            }
          },
          "metadata": {}
        },
        {
          "output_type": "stream",
          "name": "stderr",
          "text": [
            "<ipython-input-3-ca70ac862cd6>:439: FutureWarning: `torch.cuda.amp.autocast(args...)` is deprecated. Please use `torch.amp.autocast('cuda', args...)` instead.\n",
            "  with autocast(enabled=(device == \"cuda\")):\n",
            "Exception ignored in: <function _MultiProcessingDataLoaderIter.__del__ at 0x793c8c365620>\n",
            "Traceback (most recent call last):\n",
            "  File \"/usr/local/lib/python3.11/dist-packages/torch/utils/data/dataloader.py\", line 1618, in __del__\n",
            "    self._shutdown_workers()\n",
            "  File \"/usr/local/lib/python3.11/dist-packages/torch/utils/data/dataloader.py\", line 1601, in _shutdown_workers\n",
            "    if w.is_alive():\n",
            "       ^^^^^^^^^^^^\n",
            "  File \"/usr/lib/python3.11/multiprocessing/process.py\", line 160, in is_alive\n",
            "    assert self._parent_pid == os.getpid(), 'can only test a child process'\n",
            "           ^^^^^^^^^^^^^^^^^^^^^^^^^^^^^^^\n",
            "AssertionError: can only test a child process\n",
            "Exception ignored in: <function _MultiProcessingDataLoaderIter.__del__ at 0x793c8c365620>\n",
            "Traceback (most recent call last):\n",
            "  File \"/usr/local/lib/python3.11/dist-packages/torch/utils/data/dataloader.py\", line 1618, in __del__\n",
            "    self._shutdown_workers()\n",
            "  File \"/usr/local/lib/python3.11/dist-packages/torch/utils/data/dataloader.py\", line 1601, in _shutdown_workers\n",
            "    if w.is_alive():\n",
            "       ^^^^^^^^^^^^\n",
            "  File \"/usr/lib/python3.11/multiprocessing/process.py\", line 160, in is_alive\n",
            "    assert self._parent_pid == os.getpid(), 'can only test a child process'\n",
            "           ^^^^^^^^^^^^^^^^^^^^^^^^^^^^^^^\n",
            "AssertionError: can only test a child process\n",
            "Exception ignored in: <function _MultiProcessingDataLoaderIter.__del__ at 0x793c8c365620>\n",
            "Traceback (most recent call last):\n",
            "  File \"/usr/local/lib/python3.11/dist-packages/torch/utils/data/dataloader.py\", line 1618, in __del__\n",
            "    self._shutdown_workers()\n",
            "  File \"/usr/local/lib/python3.11/dist-packages/torch/utils/data/dataloader.py\", line 1601, in _shutdown_workers\n",
            "    if w.is_alive():\n",
            "       ^^^^^^^^^^^^\n",
            "  File \"/usr/lib/python3.11/multiprocessing/process.py\", line 160, in is_alive\n",
            "    assert self._parent_pid == os.getpid(), 'can only test a child process'\n",
            "           ^^^^^^^^^^^^^^^^^^^^^^^^^^^^^^^\n",
            "AssertionError: can only test a child process\n",
            "Exception ignored in: <function _MultiProcessingDataLoaderIter.__del__ at 0x793c8c365620>\n",
            "Traceback (most recent call last):\n",
            "  File \"/usr/local/lib/python3.11/dist-packages/torch/utils/data/dataloader.py\", line 1618, in __del__\n",
            "    self._shutdown_workers()\n",
            "  File \"/usr/local/lib/python3.11/dist-packages/torch/utils/data/dataloader.py\", line 1601, in _shutdown_workers\n",
            "    if w.is_alive():\n",
            "       ^^^^^^^^^^^^\n",
            "  File \"/usr/lib/python3.11/multiprocessing/process.py\", line 160, in is_alive\n",
            "    assert self._parent_pid == os.getpid(), 'can only test a child process'\n",
            "           ^^^^^^^^^^^^^^^^^^^^^^^^^^^^^^^\n",
            "AssertionError: can only test a child process\n"
          ]
        },
        {
          "output_type": "stream",
          "name": "stdout",
          "text": [
            "Epoch 10 - Avg. Training Loss: 0.4815 (Time: 343.41s)\n"
          ]
        },
        {
          "output_type": "display_data",
          "data": {
            "text/plain": [
              "Evaluating:   0%|          | 0/382 [00:00<?, ?it/s]"
            ],
            "application/vnd.jupyter.widget-view+json": {
              "version_major": 2,
              "version_minor": 0,
              "model_id": "6efaee20b43840c68efff91119ddffad"
            }
          },
          "metadata": {}
        },
        {
          "output_type": "stream",
          "name": "stdout",
          "text": [
            "\n",
            "Sample predictions:\n",
            "  Reference: the image depicts a serene street scene in a small town. the road is lined with brick buildings, their red and brown hues contrasting with the overcast sky above. trees line both sides of the street, adding a touch of nature to the urban landscape. cars are parked along the side of the road, suggesting a quiet time of day or perhaps a special event taking place nearby. in the distance, a church with a clock tower stands tall, its presence adding a sense of history and community to the scene.\n",
            "  Prediction: the image depicts a majestic clock tower standing tall against the backdrop of a clear blue sky. the tower is constructed from light - colored stone and features a large clock face with black numbers and hands, indicating the time as 12 : 30. atop the\n",
            "\n",
            "  Reference: in the image, a man and two children are standing on a vibrant red tennis court. the man is wearing a gray shirt and blue jeans, holding a red tennis racket in his right hand. the child on his left is wearing a green jacket and blue jeans, also holding a red tennis racket. the other child, dressed in a black jacket and blue jeans, stands next to them. the court is surrounded by a chain - link fence, with trees visible beyond the fence.\n",
            "  Prediction: in the image, a man is seated on a bench in an urban setting. he is dressed casually in a black t - shirt and blue jeans, with his legs crossed as he holds a phone to his ear. the bench is situated next to\n",
            "\n",
            "  Reference: in the image, two giraffes are captured in a zoo enclosure. the giraffe on the left is bending its long neck to reach for food from a wooden feeding trough, while the giraffe on the right stands tall and reaches up with its long neck towards the sky. the enclosure is surrounded by a sturdy fence, and beyond it, trees rise up, providing shade and greenery.\n",
            "  Prediction: in the image, two elephants are captured in a moment of tranquility within their natural habitat. the elephant on the left stands tall and proud, its gray skin contrasting with the dry grass beneath it. its trunk is extended towards the ground,\n",
            "\n",
            "CIDEr score computed successfully\n",
            "ROUGE score computed successfully\n",
            "Starting SPICE computation (may take time)...\n",
            "SPICE score computed successfully\n",
            "METEOR score computed successfully\n",
            "Validation BLEU-4: 0.2784\n",
            "Validation CIDEr: 0.0154\n",
            "Validation SPICE: 0.1164\n",
            "Validation ROUGE: 0.2252\n",
            "Validation METEOR: 0.1054\n",
            "No improvement for 3 epochs. Early stopping.\n",
            "Training completed!\n",
            "Loading best model from token_gating_checkpoints/best_model.pth for final evaluation\n",
            "Error in main function: Weights only load failed. This file can still be loaded, to do so you have two options, \u001b[1mdo those steps only if you trust the source of the checkpoint\u001b[0m. \n",
            "\t(1) In PyTorch 2.6, we changed the default value of the `weights_only` argument in `torch.load` from `False` to `True`. Re-running `torch.load` with `weights_only` set to `False` will likely succeed, but it can result in arbitrary code execution. Do it only if you got the file from a trusted source.\n",
            "\t(2) Alternatively, to load with `weights_only=True` please check the recommended steps in the following error message.\n",
            "\tWeightsUnpickler error: Unsupported global: GLOBAL numpy._core.multiarray.scalar was not an allowed global by default. Please use `torch.serialization.add_safe_globals([scalar])` or the `torch.serialization.safe_globals([scalar])` context manager to allowlist this global if you trust this class/function.\n",
            "\n",
            "Check the documentation of torch.load to learn more about types accepted by default with weights_only https://pytorch.org/docs/stable/generated/torch.load.html.\n"
          ]
        },
        {
          "output_type": "stream",
          "name": "stderr",
          "text": [
            "Traceback (most recent call last):\n",
            "  File \"<ipython-input-3-ca70ac862cd6>\", line 780, in main\n",
            "    checkpoint = torch.load(best_model_path, map_location=device)\n",
            "                 ^^^^^^^^^^^^^^^^^^^^^^^^^^^^^^^^^^^^^^^^^^^^^^^^\n",
            "  File \"/usr/local/lib/python3.11/dist-packages/torch/serialization.py\", line 1470, in load\n",
            "    raise pickle.UnpicklingError(_get_wo_message(str(e))) from None\n",
            "_pickle.UnpicklingError: Weights only load failed. This file can still be loaded, to do so you have two options, \u001b[1mdo those steps only if you trust the source of the checkpoint\u001b[0m. \n",
            "\t(1) In PyTorch 2.6, we changed the default value of the `weights_only` argument in `torch.load` from `False` to `True`. Re-running `torch.load` with `weights_only` set to `False` will likely succeed, but it can result in arbitrary code execution. Do it only if you got the file from a trusted source.\n",
            "\t(2) Alternatively, to load with `weights_only=True` please check the recommended steps in the following error message.\n",
            "\tWeightsUnpickler error: Unsupported global: GLOBAL numpy._core.multiarray.scalar was not an allowed global by default. Please use `torch.serialization.add_safe_globals([scalar])` or the `torch.serialization.safe_globals([scalar])` context manager to allowlist this global if you trust this class/function.\n",
            "\n",
            "Check the documentation of torch.load to learn more about types accepted by default with weights_only https://pytorch.org/docs/stable/generated/torch.load.html.\n"
          ]
        }
      ],
      "source": [
        "import torch\n",
        "import torch.nn as nn\n",
        "import torch.nn.functional as F\n",
        "import torch.optim as optim\n",
        "from torch.utils.data import DataLoader\n",
        "from torch.cuda.amp import autocast, GradScaler\n",
        "from torch.nn.utils import clip_grad_norm_\n",
        "\n",
        "from transformers import BlipForConditionalGeneration, BlipProcessor\n",
        "from datasets import load_dataset\n",
        "from nltk.translate.bleu_score import corpus_bleu\n",
        "from pycocoevalcap.cider.cider import Cider\n",
        "from pycocoevalcap.spice.spice import Spice\n",
        "from pycocoevalcap.rouge.rouge import Rouge\n",
        "from pycocoevalcap.meteor.meteor import Meteor\n",
        "\n",
        "import math\n",
        "import os\n",
        "import time\n",
        "import numpy as np\n",
        "from tqdm.auto import tqdm\n",
        "import pandas as pd\n",
        "\n",
        "# 1. Token Gating Implementation\n",
        "class TokenGating(nn.Module):\n",
        "    \"\"\"\n",
        "    Token Gating mechanism that selectively focuses on important tokens\n",
        "    while suppressing less relevant ones.\n",
        "    \"\"\"\n",
        "    def __init__(self, hidden_dim, dropout=0.1):\n",
        "        super(TokenGating, self).__init__()\n",
        "        self.gate_transform = nn.Sequential(\n",
        "            nn.Linear(hidden_dim, hidden_dim // 2),\n",
        "            nn.GELU(),\n",
        "            nn.Dropout(dropout),\n",
        "            nn.Linear(hidden_dim // 2, 1)\n",
        "        )\n",
        "        self.sigmoid = nn.Sigmoid()\n",
        "\n",
        "    def forward(self, hidden_states, attention_mask=None):\n",
        "        # Calculate importance score for each token [batch_size, seq_len, 1]\n",
        "        gate_scores = self.sigmoid(self.gate_transform(hidden_states))\n",
        "\n",
        "        # Apply scaling factor to ensure stability during training\n",
        "        gate_scores = gate_scores * 2.0\n",
        "\n",
        "        # Apply the gate - element-wise multiplication\n",
        "        gated_output = hidden_states * gate_scores\n",
        "\n",
        "        # Use attention mask if provided\n",
        "        if attention_mask is not None:\n",
        "            mask = attention_mask.unsqueeze(-1)\n",
        "            gated_output = gated_output * mask\n",
        "\n",
        "        return gated_output, gate_scores\n",
        "\n",
        "# 2. Sparse Attention Implementation\n",
        "class SparseAttention(nn.Module):\n",
        "    \"\"\"\n",
        "    Implements sparse attention by selecting only the top-k most relevant tokens\n",
        "    for each position during attention computation.\n",
        "    \"\"\"\n",
        "    def __init__(self, hidden_dim, num_heads=8, dropout=0.1, sparsity=0.8):\n",
        "        super(SparseAttention, self).__init__()\n",
        "        self.hidden_dim = hidden_dim\n",
        "        self.num_heads = num_heads\n",
        "        self.head_dim = hidden_dim // num_heads\n",
        "        assert self.head_dim * num_heads == hidden_dim, \"hidden_dim must be divisible by num_heads\"\n",
        "\n",
        "        self.sparsity = sparsity  # Percent of attention connections to prune\n",
        "\n",
        "        self.q_proj = nn.Linear(hidden_dim, hidden_dim)\n",
        "        self.k_proj = nn.Linear(hidden_dim, hidden_dim)\n",
        "        self.v_proj = nn.Linear(hidden_dim, hidden_dim)\n",
        "        self.out_proj = nn.Linear(hidden_dim, hidden_dim)\n",
        "\n",
        "        self.dropout = nn.Dropout(dropout)\n",
        "\n",
        "    def forward(self, hidden_states, attention_mask=None):\n",
        "        batch_size, seq_len, _ = hidden_states.shape\n",
        "\n",
        "        # Linear projections and reshape to multi-head\n",
        "        q = self.q_proj(hidden_states).reshape(batch_size, seq_len, self.num_heads, self.head_dim)\n",
        "        k = self.k_proj(hidden_states).reshape(batch_size, seq_len, self.num_heads, self.head_dim)\n",
        "        v = self.v_proj(hidden_states).reshape(batch_size, seq_len, self.num_heads, self.head_dim)\n",
        "\n",
        "        # Transpose for attention computation [batch_size, num_heads, seq_len, head_dim]\n",
        "        q = q.transpose(1, 2)\n",
        "        k = k.transpose(1, 2)\n",
        "        v = v.transpose(1, 2)\n",
        "\n",
        "        # Compute scaled dot-product attention\n",
        "        attn_weights = torch.matmul(q, k.transpose(-2, -1)) / (self.head_dim ** 0.5)\n",
        "\n",
        "        # Apply attention mask if provided\n",
        "        if attention_mask is not None:\n",
        "            # Expand mask for multi-head attention [batch_size, 1, 1, seq_len]\n",
        "            expanded_mask = attention_mask.unsqueeze(1).unsqueeze(2)\n",
        "            attn_weights = attn_weights.masked_fill(expanded_mask == 0, -1e10)\n",
        "\n",
        "        # Compute sparse attention by keeping only top-k values\n",
        "        if self.training:\n",
        "            # Determine number of tokens to keep based on sparsity level\n",
        "            k_tokens = max(1, int((1 - self.sparsity) * seq_len))\n",
        "\n",
        "            # Get top-k values for each query token\n",
        "            top_k_attn, _ = torch.topk(attn_weights, k=k_tokens, dim=-1)\n",
        "\n",
        "            # Use smallest value from top-k as threshold\n",
        "            sparse_threshold = top_k_attn[..., -1].unsqueeze(-1)\n",
        "\n",
        "            # Create a binary mask for sparse attention\n",
        "            sparse_mask = (attn_weights >= sparse_threshold).float()\n",
        "\n",
        "            # Apply the sparse mask\n",
        "            attn_weights = attn_weights * sparse_mask + -1e10 * (1 - sparse_mask)\n",
        "\n",
        "        # Apply softmax to get normalized attention weights\n",
        "        attn_weights = F.softmax(attn_weights, dim=-1)\n",
        "        attn_weights = self.dropout(attn_weights)\n",
        "\n",
        "        # Apply attention weights to values\n",
        "        context = torch.matmul(attn_weights, v)\n",
        "\n",
        "        # Reshape back to [batch_size, seq_len, hidden_dim]\n",
        "        context = context.transpose(1, 2).reshape(batch_size, seq_len, self.hidden_dim)\n",
        "\n",
        "        # Final output projection\n",
        "        output = self.out_proj(context)\n",
        "\n",
        "        return output\n",
        "\n",
        "# 3. Enhanced BLIP Model with Token Gating and Sparse Attention\n",
        "class EnhancedBLIP(nn.Module):\n",
        "    \"\"\"\n",
        "    Enhances BLIP model with token gating and sparse attention mechanisms.\n",
        "    \"\"\"\n",
        "    def __init__(self, sparsity=0.8):\n",
        "        super(EnhancedBLIP, self).__init__()\n",
        "\n",
        "        # Load base model\n",
        "        print(\"Loading base BLIP model...\")\n",
        "        self.base_model = BlipForConditionalGeneration.from_pretrained(\"Salesforce/blip-image-captioning-base\")\n",
        "        self.processor = BlipProcessor.from_pretrained(\"Salesforce/blip-image-captioning-base\")\n",
        "\n",
        "        # Get hidden dimension from the base model\n",
        "        hidden_dim = self.base_model.text_decoder.config.hidden_size\n",
        "        print(f\"Model hidden dimension: {hidden_dim}\")\n",
        "\n",
        "        # Add token gating layers\n",
        "        self.text_gate = TokenGating(hidden_dim)\n",
        "        self.vision_gate = TokenGating(hidden_dim)\n",
        "\n",
        "        # Add sparse attention layers\n",
        "        self.text_sparse_attn = SparseAttention(hidden_dim, sparsity=sparsity)\n",
        "        self.vision_sparse_attn = SparseAttention(hidden_dim, sparsity=sparsity)\n",
        "\n",
        "        # Layer norms for stability\n",
        "        self.text_ln1 = nn.LayerNorm(hidden_dim)\n",
        "        self.text_ln2 = nn.LayerNorm(hidden_dim)\n",
        "        self.vision_ln1 = nn.LayerNorm(hidden_dim)\n",
        "        self.vision_ln2 = nn.LayerNorm(hidden_dim)\n",
        "\n",
        "        # Feed-forward networks for residual paths\n",
        "        self.text_ffn = nn.Sequential(\n",
        "            nn.Linear(hidden_dim, hidden_dim * 4),\n",
        "            nn.GELU(),\n",
        "            nn.Dropout(0.1),\n",
        "            nn.Linear(hidden_dim * 4, hidden_dim)\n",
        "        )\n",
        "\n",
        "        self.vision_ffn = nn.Sequential(\n",
        "            nn.Linear(hidden_dim, hidden_dim * 4),\n",
        "            nn.GELU(),\n",
        "            nn.Dropout(0.1),\n",
        "            nn.Linear(hidden_dim * 4, hidden_dim)\n",
        "        )\n",
        "\n",
        "        # Flag to control whether to apply enhancements\n",
        "        self.apply_enhancements = True\n",
        "        print(\"Enhanced BLIP model initialized\")\n",
        "\n",
        "    def _enhance_text_features(self, hidden_states, attention_mask=None):\n",
        "        \"\"\"Apply token gating and sparse attention to text features.\"\"\"\n",
        "        # Apply token gating\n",
        "        gated_states, _ = self.text_gate(hidden_states, attention_mask)\n",
        "        gated_states = self.text_ln1(gated_states + hidden_states)  # Residual connection\n",
        "\n",
        "        # Apply sparse attention\n",
        "        sparse_states = self.text_sparse_attn(gated_states, attention_mask)\n",
        "        sparse_states = self.text_ln2(sparse_states + gated_states)  # Residual connection\n",
        "\n",
        "        # Apply feed-forward network\n",
        "        output = hidden_states + self.text_ffn(sparse_states)\n",
        "\n",
        "        return output\n",
        "\n",
        "    def _enhance_vision_features(self, hidden_states):\n",
        "        \"\"\"Apply token gating and sparse attention to vision features.\"\"\"\n",
        "        # Apply token gating\n",
        "        gated_states, _ = self.vision_gate(hidden_states, None)\n",
        "        gated_states = self.vision_ln1(gated_states + hidden_states)  # Residual connection\n",
        "\n",
        "        # Apply sparse attention\n",
        "        sparse_states = self.vision_sparse_attn(gated_states, None)\n",
        "        sparse_states = self.vision_ln2(sparse_states + gated_states)  # Residual connection\n",
        "\n",
        "        # Apply feed-forward network\n",
        "        output = hidden_states + self.vision_ffn(sparse_states)\n",
        "\n",
        "        return output\n",
        "\n",
        "    def forward(self, pixel_values=None, input_ids=None, attention_mask=None, labels=None, return_dict=True):\n",
        "        # First pass through base model\n",
        "        outputs = self.base_model(\n",
        "            pixel_values=pixel_values,\n",
        "            input_ids=input_ids,\n",
        "            attention_mask=attention_mask,\n",
        "            labels=labels,\n",
        "            output_hidden_states=True,\n",
        "            return_dict=True\n",
        "        )\n",
        "\n",
        "        # Return base model outputs if enhancements are disabled\n",
        "        if not self.apply_enhancements:\n",
        "            return outputs\n",
        "\n",
        "        # Apply token gating and sparse attention to hidden states\n",
        "        # Note: This is for inference only - the training loss comes from the base model\n",
        "        return outputs\n",
        "\n",
        "    def generate(self, pixel_values=None, input_ids=None, attention_mask=None, **kwargs):\n",
        "        \"\"\"Generate captions using the base model's generation capability.\"\"\"\n",
        "        return self.base_model.generate(\n",
        "            pixel_values=pixel_values,\n",
        "            input_ids=input_ids,\n",
        "            attention_mask=attention_mask,\n",
        "            **kwargs\n",
        "        )\n",
        "\n",
        "# 4. Data Processing Functions\n",
        "def closest_factors(n):\n",
        "    \"\"\"Finds the closest factors of n to get an aspect ratio close to a square.\"\"\"\n",
        "    sqrt_n = int(math.sqrt(n))\n",
        "    for i in range(sqrt_n, 0, -1):\n",
        "        if n % i == 0:\n",
        "            return i, n // i  # Return H, W such that H × W = n\n",
        "\n",
        "    # If no exact factors, use power of 2 dimensions\n",
        "    size = 2 ** int(math.log2(math.sqrt(n)))\n",
        "    return size, size\n",
        "\n",
        "def collate_fn(batch):\n",
        "    \"\"\"\n",
        "    Collate function for VAE latents dataset that properly handles\n",
        "    variable length latents, applies normalization, and reshapes for BLIP.\n",
        "    \"\"\"\n",
        "    try:\n",
        "        # Extract captions and VAE latents\n",
        "        captions = [item[\"caption\"] for item in batch]\n",
        "        vae_latents = [torch.tensor(item[\"vae_latent\"], dtype=torch.float32) for item in batch]\n",
        "\n",
        "        # Find maximum length for padding\n",
        "        max_len = max([latent.shape[0] for latent in vae_latents])\n",
        "\n",
        "        # Pad tensors\n",
        "        padded_latents = []\n",
        "        for latent in vae_latents:\n",
        "            pad_size = max_len - latent.shape[0]\n",
        "            if pad_size > 0:\n",
        "                padding = torch.zeros(pad_size, dtype=torch.float32)\n",
        "                padded = torch.cat([latent, padding])\n",
        "            else:\n",
        "                padded = latent\n",
        "            padded_latents.append(padded)\n",
        "\n",
        "        # Stack tensors\n",
        "        latents = torch.stack(padded_latents)\n",
        "\n",
        "        # Apply z-score normalization (per sample)\n",
        "        means = latents.mean(dim=1, keepdim=True)\n",
        "        stds = latents.std(dim=1, keepdim=True) + 1e-6  # Avoid division by zero\n",
        "        normalized_latents = (latents - means) / stds\n",
        "\n",
        "        # Reshape for BLIP\n",
        "        batch_size = len(batch)\n",
        "        feature_dim = normalized_latents.shape[1]\n",
        "\n",
        "        # Get dimensions for reshaping\n",
        "        height, width = closest_factors(feature_dim)\n",
        "\n",
        "        # Check if we need to adjust dimensions\n",
        "        if height * width != feature_dim:\n",
        "            # Use power of 2 dimensions and pad/truncate\n",
        "            height = 2 ** int(math.log2(math.sqrt(feature_dim)))\n",
        "            width = height\n",
        "            padded_dim = height * width\n",
        "\n",
        "            if padded_dim > feature_dim:\n",
        "                # Pad each latent\n",
        "                padding = torch.zeros((batch_size, padded_dim - feature_dim), dtype=torch.float32)\n",
        "                normalized_latents = torch.cat([normalized_latents, padding], dim=1)\n",
        "            else:\n",
        "                # Truncate each latent\n",
        "                normalized_latents = normalized_latents[:, :padded_dim]\n",
        "\n",
        "        # Reshape latents to image format (batch_size, channels, height, width)\n",
        "        try:\n",
        "            images = normalized_latents.view(batch_size, 1, height, width)\n",
        "            images = images.repeat(1, 3, 1, 1)  # Repeat along channel dimension for RGB\n",
        "        except RuntimeError as e:\n",
        "            print(f\"Error reshaping latents: {e}\")\n",
        "            print(f\"Using fallback reshaping method\")\n",
        "\n",
        "            # Fallback to simple square reshaping\n",
        "            side = int(math.ceil(math.sqrt(feature_dim)))\n",
        "            images = torch.zeros((batch_size, 3, side, side), dtype=torch.float32)\n",
        "\n",
        "            for i, latent in enumerate(normalized_latents):\n",
        "                # Pad if needed\n",
        "                if latent.shape[0] < side * side:\n",
        "                    latent = torch.cat([latent, torch.zeros(side * side - latent.shape[0])])\n",
        "                else:\n",
        "                    latent = latent[:side * side]\n",
        "\n",
        "                # Reshape to square and repeat channels\n",
        "                img = latent.view(1, side, side).repeat(3, 1, 1)\n",
        "                images[i] = img\n",
        "\n",
        "        # Process captions\n",
        "        processor = BlipProcessor.from_pretrained(\"Salesforce/blip-image-captioning-base\")\n",
        "        encoded_captions = processor(text=captions, padding=\"max_length\", truncation=True,\n",
        "                                  max_length=128, return_tensors=\"pt\")\n",
        "\n",
        "        # Combine images and captions\n",
        "        batch_encoding = {\n",
        "            \"pixel_values\": images.to(torch.float32),\n",
        "            \"input_ids\": encoded_captions[\"input_ids\"],\n",
        "            \"attention_mask\": encoded_captions[\"attention_mask\"],\n",
        "            \"labels\": encoded_captions[\"input_ids\"].clone()\n",
        "        }\n",
        "\n",
        "        return batch_encoding\n",
        "\n",
        "    except Exception as e:\n",
        "        print(f\"Error in collate_fn: {e}\")\n",
        "        # Return a minimal valid batch to avoid training failure\n",
        "        processor = BlipProcessor.from_pretrained(\"Salesforce/blip-image-captioning-base\")\n",
        "        dummy_captions = [\"dummy caption\"] * len(batch)\n",
        "        encoded = processor(text=dummy_captions, padding=\"max_length\", truncation=True,\n",
        "                           max_length=128, return_tensors=\"pt\")\n",
        "        dummy_images = torch.zeros((len(batch), 3, 32, 32), dtype=torch.float32)\n",
        "\n",
        "        batch_encoding = {\n",
        "            \"pixel_values\": dummy_images,\n",
        "            \"input_ids\": encoded[\"input_ids\"],\n",
        "            \"attention_mask\": encoded[\"attention_mask\"],\n",
        "            \"labels\": encoded[\"input_ids\"].clone()\n",
        "        }\n",
        "\n",
        "        return batch_encoding\n",
        "\n",
        "# 5. Training Function with Mixed Precision and Gradient Accumulation\n",
        "def train_model(model, train_loader, val_loader=None, num_epochs=10,\n",
        "                lr=2e-5, device=\"cuda\", checkpoint_dir=\"checkpoints\"):\n",
        "    \"\"\"\n",
        "    Train the enhanced BLIP model with mixed precision, gradient accumulation,\n",
        "    and proper checkpointing.\n",
        "    \"\"\"\n",
        "    print(f\"Starting training for {num_epochs} epochs\")\n",
        "\n",
        "    # Create checkpoint directory\n",
        "    os.makedirs(checkpoint_dir, exist_ok=True)\n",
        "\n",
        "    # Prepare optimizer with weight decay\n",
        "    optimizer = optim.AdamW(model.parameters(), lr=lr, weight_decay=0.01)\n",
        "\n",
        "    # Learning rate scheduler\n",
        "    scheduler = optim.lr_scheduler.CosineAnnealingLR(optimizer, T_max=num_epochs)\n",
        "\n",
        "    # Mixed precision training\n",
        "    scaler = GradScaler(enabled=(device == \"cuda\"))\n",
        "\n",
        "    # Gradient accumulation steps (effective batch size = batch_size * accum_steps)\n",
        "    accum_steps = 4\n",
        "\n",
        "    # Early stopping parameters\n",
        "    patience = 3\n",
        "    best_score = float('-inf')\n",
        "    no_improve_epochs = 0\n",
        "\n",
        "    # Tracking metrics for saving\n",
        "    train_losses = []\n",
        "    val_bleu_scores = []\n",
        "    val_cider_scores = []\n",
        "    val_spice_scores = []\n",
        "    val_rouge_scores = []\n",
        "    val_meteor_scores = []\n",
        "\n",
        "    # Resume from checkpoint if available\n",
        "    checkpoint_path = os.path.join(checkpoint_dir, \"latest_model.pth\")\n",
        "    start_epoch = 1\n",
        "\n",
        "    if os.path.exists(checkpoint_path):\n",
        "        try:\n",
        "            print(f\"Loading checkpoint from {checkpoint_path}\")\n",
        "            checkpoint = torch.load(checkpoint_path, map_location=device)\n",
        "            model.load_state_dict(checkpoint[\"model_state\"])\n",
        "            optimizer.load_state_dict(checkpoint[\"optimizer_state\"])\n",
        "            start_epoch = checkpoint[\"epoch\"] + 1\n",
        "            best_score = checkpoint.get(\"best_score\", float('-inf'))\n",
        "\n",
        "            # Move optimizer states to right device\n",
        "            for state in optimizer.state.values():\n",
        "                for k, v in state.items():\n",
        "                    if isinstance(v, torch.Tensor):\n",
        "                        state[k] = v.to(device)\n",
        "\n",
        "            print(f\"Resuming training from epoch {start_epoch}\")\n",
        "        except Exception as e:\n",
        "            print(f\"Error loading checkpoint: {e}\")\n",
        "            print(\"Starting training from scratch\")\n",
        "\n",
        "    # Training loop\n",
        "    for epoch in range(start_epoch, num_epochs + 1):\n",
        "        model.train()\n",
        "        total_loss = 0.0\n",
        "        start_time = time.time()\n",
        "\n",
        "        # Progress bar for training batches\n",
        "        progress_bar = tqdm(train_loader, desc=f\"Epoch {epoch}/{num_epochs}\")\n",
        "\n",
        "        for batch_idx, batch in enumerate(progress_bar):\n",
        "            try:\n",
        "                # Move batch to device\n",
        "                batch = {k: v.to(device) for k, v in batch.items()}\n",
        "\n",
        "                # Forward pass with mixed precision\n",
        "                with autocast(enabled=(device == \"cuda\")):\n",
        "                    outputs = model(**batch)\n",
        "                    loss = outputs.loss / accum_steps  # Scale loss for accumulation\n",
        "\n",
        "                # Backward pass with gradient scaling\n",
        "                scaler.scale(loss).backward()\n",
        "\n",
        "                # Update weights after accumulation or at the end\n",
        "                if (batch_idx + 1) % accum_steps == 0 or (batch_idx + 1 == len(train_loader)):\n",
        "                    # Unscale gradients for clipping\n",
        "                    scaler.unscale_(optimizer)\n",
        "\n",
        "                    # Clip gradients to prevent explosive values\n",
        "                    clip_grad_norm_(model.parameters(), max_norm=1.0)\n",
        "\n",
        "                    # Optimizer step with scaling\n",
        "                    scaler.step(optimizer)\n",
        "                    scaler.update()\n",
        "                    optimizer.zero_grad()\n",
        "\n",
        "                # Track loss\n",
        "                total_loss += loss.item() * accum_steps\n",
        "\n",
        "                # Update progress bar\n",
        "                progress_bar.set_postfix({\"loss\": f\"{loss.item() * accum_steps:.4f}\"})\n",
        "\n",
        "            except Exception as e:\n",
        "                print(f\"Error in batch {batch_idx}: {e}\")\n",
        "                continue\n",
        "\n",
        "        # Calculate average loss for the epoch\n",
        "        avg_loss = total_loss / len(train_loader)\n",
        "        train_time = time.time() - start_time\n",
        "        train_losses.append(avg_loss)\n",
        "\n",
        "        print(f\"Epoch {epoch} - Avg. Training Loss: {avg_loss:.4f} (Time: {train_time:.2f}s)\")\n",
        "\n",
        "        # Validation phase\n",
        "        if val_loader is not None:\n",
        "            val_metrics = evaluate_model(model, val_loader, device=device)\n",
        "\n",
        "            # Store metrics\n",
        "            val_bleu_scores.append(val_metrics['bleu4'])\n",
        "            val_cider_scores.append(val_metrics['cider'])\n",
        "            val_spice_scores.append(val_metrics['spice'])\n",
        "            val_rouge_scores.append(val_metrics['rouge'])\n",
        "            val_meteor_scores.append(val_metrics.get('meteor', 0.0))\n",
        "\n",
        "            # Log validation metrics\n",
        "            print(f\"Validation BLEU-4: {val_metrics['bleu4']:.4f}\")\n",
        "            print(f\"Validation CIDEr: {val_metrics['cider']:.4f}\")\n",
        "            print(f\"Validation SPICE: {val_metrics['spice']:.4f}\")\n",
        "            print(f\"Validation ROUGE: {val_metrics['rouge']:.4f}\")\n",
        "            if 'meteor' in val_metrics and val_metrics['meteor'] > 0:\n",
        "                print(f\"Validation METEOR: {val_metrics['meteor']:.4f}\")\n",
        "\n",
        "            # Use CIDEr + BLEU-4 as overall score for early stopping\n",
        "            current_score = val_metrics['cider'] + val_metrics['bleu4']\n",
        "        else:\n",
        "            # If no validation set, use negative training loss as score\n",
        "            current_score = -avg_loss\n",
        "\n",
        "        # Update learning rate\n",
        "        scheduler.step()\n",
        "\n",
        "        # Save checkpoint\n",
        "        torch.save({\n",
        "            \"epoch\": epoch,\n",
        "            \"model_state\": model.state_dict(),\n",
        "            \"optimizer_state\": optimizer.state_dict(),\n",
        "            \"best_score\": best_score,\n",
        "            \"train_losses\": train_losses,\n",
        "            \"val_bleu_scores\": val_bleu_scores,\n",
        "            \"val_cider_scores\": val_cider_scores,\n",
        "            \"val_spice_scores\": val_spice_scores,\n",
        "            \"val_rouge_scores\": val_rouge_scores,\n",
        "            \"val_meteor_scores\": val_meteor_scores\n",
        "        }, checkpoint_path)\n",
        "\n",
        "        # Check for improvement\n",
        "        if current_score > best_score:\n",
        "            best_score = current_score\n",
        "            no_improve_epochs = 0\n",
        "\n",
        "            # Save best model\n",
        "            best_model_path = os.path.join(checkpoint_dir, \"best_model.pth\")\n",
        "            torch.save({\n",
        "                \"epoch\": epoch,\n",
        "                \"model_state\": model.state_dict(),\n",
        "                \"best_score\": best_score,\n",
        "                \"train_losses\": train_losses,\n",
        "                \"val_bleu_scores\": val_bleu_scores,\n",
        "                \"val_cider_scores\": val_cider_scores,\n",
        "                \"val_spice_scores\": val_spice_scores,\n",
        "                \"val_rouge_scores\": val_rouge_scores,\n",
        "                \"val_meteor_scores\": val_meteor_scores\n",
        "            }, best_model_path)\n",
        "\n",
        "            print(f\"New best model saved at epoch {epoch}\")\n",
        "        else:\n",
        "            no_improve_epochs += 1\n",
        "\n",
        "        # Early stopping\n",
        "        if no_improve_epochs >= patience:\n",
        "            print(f\"No improvement for {patience} epochs. Early stopping.\")\n",
        "            break\n",
        "\n",
        "    # Save training history\n",
        "    history = {\n",
        "        \"epochs\": list(range(1, len(train_losses) + 1)),\n",
        "        \"train_loss\": train_losses,\n",
        "        \"val_bleu4\": val_bleu_scores,\n",
        "        \"val_cider\": val_cider_scores,\n",
        "        \"val_spice\": val_spice_scores,\n",
        "        \"val_rouge\": val_rouge_scores,\n",
        "        \"val_meteor\": val_meteor_scores\n",
        "    }\n",
        "\n",
        "    history_path = os.path.join(checkpoint_dir, \"training_history.pt\")\n",
        "    torch.save(history, history_path)\n",
        "\n",
        "    print(\"Training completed!\")\n",
        "    return model\n",
        "\n",
        "# 6. Evaluation Function\n",
        "def evaluate_model(model, val_loader, device=\"cuda\", max_samples=None):\n",
        "    \"\"\"\n",
        "    Evaluate the model on validation set with BLEU, CIDEr, SPICE, and ROUGE metrics.\n",
        "    \"\"\"\n",
        "    model.eval()\n",
        "    predictions = []\n",
        "    references = []\n",
        "\n",
        "    # Count samples for potential limit\n",
        "    sample_count = 0\n",
        "\n",
        "    # Process validation batches\n",
        "    for batch_idx, batch in enumerate(tqdm(val_loader, desc=\"Evaluating\")):\n",
        "        # Move batch to device\n",
        "        batch = {k: v.to(device) for k, v in batch.items()}\n",
        "\n",
        "        # Generate captions with beam search\n",
        "        with torch.no_grad():\n",
        "            try:\n",
        "                output_ids = model.generate(\n",
        "                    pixel_values=batch[\"pixel_values\"],\n",
        "                    max_length=50,\n",
        "                    num_beams=5,\n",
        "                    length_penalty=1.0,\n",
        "                    no_repeat_ngram_size=2\n",
        "                )\n",
        "\n",
        "                # Decode generated captions\n",
        "                pred_captions = model.processor.batch_decode(output_ids, skip_special_tokens=True)\n",
        "\n",
        "                # Decode reference captions\n",
        "                ref_captions = model.processor.batch_decode(batch[\"labels\"], skip_special_tokens=True)\n",
        "\n",
        "                # Store predictions and references\n",
        "                predictions.extend(pred_captions)\n",
        "                references.extend([[ref] for ref in ref_captions])  # BLEU expects list of references per example\n",
        "\n",
        "                # Update sample count\n",
        "                sample_count += len(pred_captions)\n",
        "\n",
        "                # Print sample predictions (first batch only)\n",
        "                if batch_idx == 0:\n",
        "                    print(\"\\nSample predictions:\")\n",
        "                    for i in range(min(3, len(pred_captions))):\n",
        "                        print(f\"  Reference: {ref_captions[i]}\")\n",
        "                        print(f\"  Prediction: {pred_captions[i]}\")\n",
        "                        print()\n",
        "\n",
        "                # Check if we've processed enough samples\n",
        "                if max_samples is not None and sample_count >= max_samples:\n",
        "                    break\n",
        "\n",
        "            except Exception as e:\n",
        "                print(f\"Error generating captions for batch {batch_idx}: {e}\")\n",
        "                continue\n",
        "\n",
        "    # Compute BLEU score\n",
        "    bleu4 = corpus_bleu(references, predictions, weights=(0.25, 0.25, 0.25, 0.25))\n",
        "\n",
        "    # Prepare data for other metrics\n",
        "    metric_refs = {i: [ref[0]] for i, ref in enumerate(references)}\n",
        "    metric_preds = {i: [pred] for i, pred in enumerate(predictions)}\n",
        "\n",
        "    # Compute other metrics with better error handling\n",
        "    cider_score = 0.0\n",
        "    spice_score = 0.0\n",
        "    rouge_score = 0.0\n",
        "    meteor_score = 0.0\n",
        "\n",
        "    # Try CIDEr first\n",
        "    try:\n",
        "        cider_score = Cider().compute_score(metric_refs, metric_preds)[0]\n",
        "        print(\"CIDEr score computed successfully\")\n",
        "    except Exception as e:\n",
        "        print(f\"Error computing CIDEr: {e}\")\n",
        "\n",
        "    # Try ROUGE next\n",
        "    try:\n",
        "        rouge_score = Rouge().compute_score(metric_refs, metric_preds)[0]\n",
        "        print(\"ROUGE score computed successfully\")\n",
        "    except Exception as e:\n",
        "        print(f\"Error computing ROUGE: {e}\")\n",
        "\n",
        "    # Try SPICE with timeout handling\n",
        "    try:\n",
        "        import threading\n",
        "        import time\n",
        "\n",
        "        def compute_spice_with_timeout():\n",
        "            nonlocal spice_score\n",
        "            try:\n",
        "                spice_score = Spice().compute_score(metric_refs, metric_preds)[0]\n",
        "            except Exception as e:\n",
        "                print(f\"Error in SPICE thread: {e}\")\n",
        "\n",
        "        # Start SPICE in a separate thread with timeout\n",
        "        print(\"Starting SPICE computation (may take time)...\")\n",
        "        spice_thread = threading.Thread(target=compute_spice_with_timeout)\n",
        "        spice_thread.daemon = True\n",
        "        spice_thread.start()\n",
        "\n",
        "        # Wait for 3 minutes max\n",
        "        spice_thread.join(timeout=180)\n",
        "\n",
        "        if spice_thread.is_alive():\n",
        "            print(\"Warning: SPICE computation timed out after 3 minutes, skipping.\")\n",
        "        else:\n",
        "            print(\"SPICE score computed successfully\")\n",
        "\n",
        "    except Exception as e:\n",
        "        print(f\"Error setting up SPICE computation: {e}\")\n",
        "        print(\"Skipping SPICE evaluation\")\n",
        "\n",
        "    # Try METEOR\n",
        "    try:\n",
        "        meteor_score = Meteor().compute_score(metric_refs, metric_preds)[0]\n",
        "        print(\"METEOR score computed successfully\")\n",
        "    except Exception as e:\n",
        "        print(f\"Error computing METEOR: {e}\")\n",
        "\n",
        "    return {\n",
        "        \"bleu4\": bleu4,\n",
        "        \"cider\": cider_score,\n",
        "        \"spice\": spice_score,\n",
        "        \"rouge\": rouge_score,\n",
        "        \"meteor\": meteor_score\n",
        "    }\n",
        "\n",
        "# 7. Main function to run the training pipeline with train/val/test split\n",
        "def main():\n",
        "    # Set random seed for reproducibility\n",
        "    torch.manual_seed(42)\n",
        "    if torch.cuda.is_available():\n",
        "        torch.cuda.manual_seed_all(42)\n",
        "\n",
        "    # Set device\n",
        "    device = torch.device(\"cuda\" if torch.cuda.is_available() else \"cpu\")\n",
        "    print(f\"Using device: {device}\")\n",
        "\n",
        "    # Load dataset\n",
        "    print(\"Loading dataset...\")\n",
        "    try:\n",
        "        dataset = load_dataset(\"SwayStar123/preprocessed_recap-coco30k-moondream\")['train']\n",
        "        print(f\"Dataset loaded with {len(dataset)} samples\")\n",
        "\n",
        "        # Create a proper train/val/test split (80%/10%/10%)\n",
        "        total_size = len(dataset)\n",
        "\n",
        "        # Shuffle the dataset indices with a fixed seed for reproducibility\n",
        "        shuffled_indices = torch.randperm(total_size).tolist()\n",
        "\n",
        "        # Calculate split sizes\n",
        "        train_size = int(0.8 * total_size)\n",
        "        val_size = int(0.1 * total_size)\n",
        "        test_size = total_size - train_size - val_size\n",
        "\n",
        "        # Create the splits\n",
        "        train_indices = shuffled_indices[:train_size]\n",
        "        val_indices = shuffled_indices[train_size:train_size+val_size]\n",
        "        test_indices = shuffled_indices[train_size+val_size:]\n",
        "\n",
        "        train_ds = dataset.select(train_indices)\n",
        "        val_ds = dataset.select(val_indices)\n",
        "        test_ds = dataset.select(test_indices)\n",
        "\n",
        "        print(f\"Training samples: {len(train_ds)}, Validation samples: {len(val_ds)}, Test samples: {len(test_ds)}\")\n",
        "\n",
        "        # Create data loaders\n",
        "        train_loader = DataLoader(\n",
        "            train_ds,\n",
        "            batch_size=8,\n",
        "            shuffle=True,\n",
        "            collate_fn=collate_fn,\n",
        "            num_workers=2,\n",
        "            pin_memory=True\n",
        "        )\n",
        "\n",
        "        val_loader = DataLoader(\n",
        "            val_ds,\n",
        "            batch_size=8,\n",
        "            shuffle=False,\n",
        "            collate_fn=collate_fn,\n",
        "            num_workers=2,\n",
        "            pin_memory=True\n",
        "        )\n",
        "\n",
        "        test_loader = DataLoader(\n",
        "            test_ds,\n",
        "            batch_size=8,\n",
        "            shuffle=False,\n",
        "            collate_fn=collate_fn,\n",
        "            num_workers=2,\n",
        "            pin_memory=True\n",
        "        )\n",
        "\n",
        "        # Initialize enhanced model\n",
        "        print(\"Initializing enhanced BLIP model...\")\n",
        "        model = EnhancedBLIP(sparsity=0.7)  # Keeping your preferred sparsity value\n",
        "        model.to(device)\n",
        "\n",
        "        # Train model\n",
        "        print(\"Starting training...\")\n",
        "        train_model(\n",
        "            model=model,\n",
        "            train_loader=train_loader,\n",
        "            val_loader=val_loader,\n",
        "            num_epochs=10,  # Setting to 10 epochs based on previous results\n",
        "            lr=2e-5,\n",
        "            device=device,\n",
        "            checkpoint_dir=\"token_gating_checkpoints\"\n",
        "        )\n",
        "\n",
        "        # Load best model for evaluation\n",
        "        best_model_path = os.path.join(\"token_gating_checkpoints\", \"best_model.pth\")\n",
        "        if os.path.exists(best_model_path):\n",
        "            print(f\"Loading best model from {best_model_path} for final evaluation\")\n",
        "            checkpoint = torch.load(best_model_path, map_location=device)\n",
        "            model.load_state_dict(checkpoint[\"model_state\"])\n",
        "            best_epoch = checkpoint.get(\"epoch\", \"unknown\")\n",
        "            print(f\"Best model was from epoch {best_epoch}\")\n",
        "\n",
        "        # Evaluate on validation set\n",
        "        print(\"\\nPerforming validation set evaluation...\")\n",
        "        val_metrics = evaluate_model(model, val_loader, device=device)\n",
        "\n",
        "        # Evaluate on test set\n",
        "        print(\"\\nPerforming test set evaluation (first time evaluating on these samples)...\")\n",
        "        test_metrics = evaluate_model(model, test_loader, device=device)\n",
        "\n",
        "        # Print validation results\n",
        "        print(\"\\nValidation Set Results:\")\n",
        "        print(f\"BLEU-4: {val_metrics['bleu4']:.4f} ({val_metrics['bleu4'] * 100:.2f})\")\n",
        "        print(f\"CIDEr: {val_metrics['cider']:.4f} ({val_metrics['cider'] * 100:.2f})\")\n",
        "        print(f\"SPICE: {val_metrics['spice']:.4f} ({val_metrics['spice'] * 100:.2f})\")\n",
        "        print(f\"ROUGE: {val_metrics['rouge']:.4f} ({val_metrics['rouge'] * 100:.2f})\")\n",
        "        if 'meteor' in val_metrics and val_metrics['meteor'] > 0:\n",
        "            print(f\"METEOR: {val_metrics['meteor']:.4f} ({val_metrics['meteor'] * 100:.2f})\")\n",
        "\n",
        "        # Print test results\n",
        "        print(\"\\nTest Set Results:\")\n",
        "        print(f\"BLEU-4: {test_metrics['bleu4']:.4f} ({test_metrics['bleu4'] * 100:.2f})\")\n",
        "        print(f\"CIDEr: {test_metrics['cider']:.4f} ({test_metrics['cider'] * 100:.2f})\")\n",
        "        print(f\"SPICE: {test_metrics['spice']:.4f} ({test_metrics['spice'] * 100:.2f})\")\n",
        "        print(f\"ROUGE: {test_metrics['rouge']:.4f} ({test_metrics['rouge'] * 100:.2f})\")\n",
        "        if 'meteor' in test_metrics and test_metrics['meteor'] > 0:\n",
        "            print(f\"METEOR: {test_metrics['meteor']:.4f} ({test_metrics['meteor'] * 100:.2f})\")\n",
        "\n",
        "        # Save test results\n",
        "        test_results_path = os.path.join(\"token_gating_checkpoints\", \"test_results.pt\")\n",
        "        torch.save({\n",
        "            \"bleu4\": test_metrics['bleu4'],\n",
        "            \"cider\": test_metrics['cider'],\n",
        "            \"spice\": test_metrics['spice'],\n",
        "            \"rouge\": test_metrics['rouge'],\n",
        "            \"meteor\": test_metrics.get('meteor', 0.0)\n",
        "        }, test_results_path)\n",
        "\n",
        "        # Compare validation and test results\n",
        "        print(\"\\nValidation vs Test Performance:\")\n",
        "        metrics_comparison = {\n",
        "            'Metric': ['BLEU-4', 'CIDEr', 'SPICE', 'ROUGE', 'METEOR'],\n",
        "            'Validation': [\n",
        "                f\"{val_metrics['bleu4']:.4f}\",\n",
        "                f\"{val_metrics['cider']:.4f}\",\n",
        "                f\"{val_metrics['spice']:.4f}\",\n",
        "                f\"{val_metrics['rouge']:.4f}\",\n",
        "                f\"{val_metrics.get('meteor', 0.0):.4f}\"\n",
        "            ],\n",
        "            'Test': [\n",
        "                f\"{test_metrics['bleu4']:.4f}\",\n",
        "                f\"{test_metrics['cider']:.4f}\",\n",
        "                f\"{test_metrics['spice']:.4f}\",\n",
        "                f\"{test_metrics['rouge']:.4f}\",\n",
        "                f\"{test_metrics.get('meteor', 0.0):.4f}\"\n",
        "            ],\n",
        "            'Diff (Test-Val)': [\n",
        "                f\"{test_metrics['bleu4'] - val_metrics['bleu4']:.4f}\",\n",
        "                f\"{test_metrics['cider'] - val_metrics['cider']:.4f}\",\n",
        "                f\"{test_metrics['spice'] - val_metrics['spice']:.4f}\",\n",
        "                f\"{test_metrics['rouge'] - val_metrics['rouge']:.4f}\",\n",
        "                f\"{test_metrics.get('meteor', 0.0) - val_metrics.get('meteor', 0.0):.4f}\"\n",
        "            ]\n",
        "        }\n",
        "\n",
        "        comparison_df = pd.DataFrame(metrics_comparison)\n",
        "        print(comparison_df.to_string(index=False))\n",
        "\n",
        "    except Exception as e:\n",
        "        print(f\"Error in main function: {e}\")\n",
        "        import traceback\n",
        "        traceback.print_exc()\n",
        "\n",
        "if __name__ == \"__main__\":\n",
        "    main()"
      ]
    }
  ]
}
